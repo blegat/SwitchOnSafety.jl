{
 "cells": [
  {
   "cell_type": "markdown",
   "source": [
    "# Example 5.4 of [AJPR14]"
   ],
   "metadata": {}
  },
  {
   "cell_type": "markdown",
   "source": [
    "**Contributed by**: Benoît Legat"
   ],
   "metadata": {}
  },
  {
   "cell_type": "markdown",
   "source": [
    "The JSR is 3.917384715148.\n",
    "\n",
    "[AJPR14] A. Ahmadi, R. Jungers, P. Parrilo and M. Roozbehani,\n",
    "*Joint spectral radius and path-complete graph Lyapunov functions.*\n",
    "SIAM J. CONTROL OPTIM 52(1), 687-717, **2014**."
   ],
   "metadata": {}
  },
  {
   "outputs": [
    {
     "output_type": "execute_result",
     "data": {
      "text/plain": "Hybrid System with automaton OneStateAutomaton(2)"
     },
     "metadata": {},
     "execution_count": 1
    }
   ],
   "cell_type": "code",
   "source": [
    "using SwitchOnSafety\n",
    "A1 = [-1 -1\n",
    "      -4 0]\n",
    "A2 = [ 3 3\n",
    "      -2 1]\n",
    "s = discreteswitchedsystem([A1, A2])"
   ],
   "metadata": {},
   "execution_count": 1
  },
  {
   "cell_type": "markdown",
   "source": [
    "Pick an SDP solver from [this list](http://jump.dev/JuMP.jl/v0.21.3/installation/#Getting-Solvers-1)."
   ],
   "metadata": {}
  },
  {
   "outputs": [],
   "cell_type": "code",
   "source": [
    "import CSDP\n",
    "optimizer_constructor = optimizer_with_attributes(CSDP.Optimizer, MOI.Silent() => true);"
   ],
   "metadata": {},
   "execution_count": 2
  },
  {
   "cell_type": "markdown",
   "source": [
    "We first try with CQLF..."
   ],
   "metadata": {}
  },
  {
   "outputs": [
    {
     "output_type": "execute_result",
     "data": {
      "text/plain": "(2.814546661042929, 3.9806130099015324)"
     },
     "metadata": {},
     "execution_count": 3
    }
   ],
   "cell_type": "code",
   "source": [
    "soslyapb(s, 1, optimizer_constructor=optimizer_constructor, tol=1e-4)"
   ],
   "metadata": {},
   "execution_count": 3
  },
  {
   "cell_type": "markdown",
   "source": [
    "... and try to find an smp from the infeasibility certificate of the SDP."
   ],
   "metadata": {}
  },
  {
   "outputs": [
    {
     "output_type": "execute_result",
     "data": {
      "text/plain": "PSW(3.9173847151482413, [1, 2])"
     },
     "metadata": {},
     "execution_count": 4
    }
   ],
   "cell_type": "code",
   "source": [
    "seq = sosbuildsequence(s, 1, p_0=:Primal)\n",
    "psw = findsmp(seq)"
   ],
   "metadata": {},
   "execution_count": 4
  },
  {
   "cell_type": "markdown",
   "source": [
    "Now with quartic forms the upper bound get closer."
   ],
   "metadata": {}
  },
  {
   "outputs": [
    {
     "output_type": "execute_result",
     "data": {
      "text/plain": "(3.2995477734220344, 3.9240851882884455)"
     },
     "metadata": {},
     "execution_count": 5
    }
   ],
   "cell_type": "code",
   "source": [
    "soslyapb(s, 2, optimizer_constructor=optimizer_constructor, tol=1e-4)"
   ],
   "metadata": {},
   "execution_count": 5
  },
  {
   "cell_type": "markdown",
   "source": [
    "The lower bound is the same."
   ],
   "metadata": {}
  },
  {
   "outputs": [
    {
     "output_type": "execute_result",
     "data": {
      "text/plain": "PSW(3.9173847151482413, [1, 2])"
     },
     "metadata": {},
     "execution_count": 6
    }
   ],
   "cell_type": "code",
   "source": [
    "seq = sosbuildsequence(s, 2, p_0=:Primal)\n",
    "psw = findsmp(seq)"
   ],
   "metadata": {},
   "execution_count": 6
  },
  {
   "cell_type": "markdown",
   "source": [
    "---\n",
    "\n",
    "*This notebook was generated using [Literate.jl](https://github.com/fredrikekre/Literate.jl).*"
   ],
   "metadata": {}
  }
 ],
 "nbformat_minor": 3,
 "metadata": {
  "language_info": {
   "file_extension": ".jl",
   "mimetype": "application/julia",
   "name": "julia",
   "version": "1.0.5"
  },
  "kernelspec": {
   "name": "julia-1.0",
   "display_name": "Julia 1.0.5",
   "language": "julia"
  }
 },
 "nbformat": 4
}
