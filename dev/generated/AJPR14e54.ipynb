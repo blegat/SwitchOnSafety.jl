{
 "cells": [
  {
   "cell_type": "markdown",
   "source": [
    "# Example 5.4 of [AJPR14]"
   ],
   "metadata": {}
  },
  {
   "cell_type": "markdown",
   "source": [
    "**Contributed by**: Benoît Legat"
   ],
   "metadata": {}
  },
  {
   "cell_type": "markdown",
   "source": [
    "In the Example 5.4 of [AJPR14], the authors study the following system whose JSR is 3.917384715148.\n",
    "In this example, we reproduce their numerical results.\n",
    "The system is characterized by the matrices $\\mathcal{A} = \\{A_1, A_2\\}$ where the matrices are given below:\n",
    "\n",
    "[AJPR14] A. Ahmadi, R. Jungers, P. Parrilo and M. Roozbehani,\n",
    "*Joint spectral radius and path-complete graph Lyapunov functions.*\n",
    "SIAM J. CONTROL OPTIM 52(1), 687-717, **2014**."
   ],
   "metadata": {}
  },
  {
   "outputs": [
    {
     "output_type": "execute_result",
     "data": {
      "text/plain": "Hybrid System with automaton OneStateAutomaton(2)"
     },
     "metadata": {},
     "execution_count": 1
    }
   ],
   "cell_type": "code",
   "source": [
    "using SwitchOnSafety\n",
    "A1 = [-1 -1\n",
    "      -4  0]\n",
    "A2 = [ 3  3\n",
    "      -2  1]\n",
    "s = discreteswitchedsystem([A1, A2])"
   ],
   "metadata": {},
   "execution_count": 1
  },
  {
   "cell_type": "markdown",
   "source": [
    "Pick an SDP solver from [this list](https://jump.dev/JuMP.jl/stable/installation/#Supported-solvers)."
   ],
   "metadata": {}
  },
  {
   "outputs": [],
   "cell_type": "code",
   "source": [
    "import CSDP\n",
    "optimizer_constructor = optimizer_with_attributes(CSDP.Optimizer, MOI.Silent() => true);"
   ],
   "metadata": {},
   "execution_count": 2
  },
  {
   "cell_type": "markdown",
   "source": [
    "We first try with a Common Quadratic Lyapunov Function (CQLF) and obtain $\\rho_{\\mathcal{V}^2}(\\mathcal{A}) \\approx 3.980613$ and the corresponding lower bound $\\rho_{\\mathcal{V}^2}(\\mathcal{A}) / \\sqrt{2} ≈ 2.814547$."
   ],
   "metadata": {}
  },
  {
   "outputs": [
    {
     "name": "stdout",
     "output_type": "stream",
     "text": [
      "Lower bound: 3.980491533086616\n",
      "Upper bound: 3.9804953291809677\n",
      "Log-diff   : 9.5367431640625e-7 ≤ 1.0e-6\n"
     ]
    },
    {
     "output_type": "execute_result",
     "data": {
      "text/plain": "(2.814632555501183, 3.9804953291809677)"
     },
     "metadata": {},
     "execution_count": 3
    }
   ],
   "cell_type": "code",
   "source": [
    "lb, ub = soslyapb(s, 1, optimizer_constructor=optimizer_constructor, tol=1e-6, verbose=1)"
   ],
   "metadata": {},
   "execution_count": 3
  },
  {
   "cell_type": "markdown",
   "source": [
    "From the infeasibility certificate of the last infeasible SemiDefinite Program (SDP) solved by in order to obtain the upper bound, we find the lower bound $\\rho(A_2A_1)^{1/2} \\approx 3.917384715148$."
   ],
   "metadata": {}
  },
  {
   "outputs": [
    {
     "output_type": "execute_result",
     "data": {
      "text/plain": "PSW(3.9173847151482413, [1, 2])"
     },
     "metadata": {},
     "execution_count": 4
    }
   ],
   "cell_type": "code",
   "source": [
    "seq = sosbuildsequence(s, 1, p_0=:Primal)\n",
    "psw = findsmp(seq)"
   ],
   "metadata": {},
   "execution_count": 4
  },
  {
   "cell_type": "markdown",
   "source": [
    "Now with a quartic lyapunov function, we get the tighter upper bound\n",
    "$\\rho_{\\mathcal{V}^{\\text{SOS},4}}(\\mathcal{A}) \\approx 3.9241$."
   ],
   "metadata": {}
  },
  {
   "outputs": [
    {
     "name": "stdout",
     "output_type": "stream",
     "text": [
      "Lower bound: 3.924077703697064\n",
      "Upper bound: 3.92408144599097\n",
      "Log-diff   : 9.536743161842054e-7 ≤ 1.0e-6\n"
     ]
    },
    {
     "output_type": "execute_result",
     "data": {
      "text/plain": "(3.299742874215889, 3.92408144599097)"
     },
     "metadata": {},
     "execution_count": 5
    }
   ],
   "cell_type": "code",
   "source": [
    "lb, ub = soslyapb(s, 2, optimizer_constructor=optimizer_constructor, tol=1e-6, verbose=1)"
   ],
   "metadata": {},
   "execution_count": 5
  },
  {
   "cell_type": "markdown",
   "source": [
    "We find the same lower bound from the infeasibility certificate."
   ],
   "metadata": {}
  },
  {
   "outputs": [
    {
     "output_type": "execute_result",
     "data": {
      "text/plain": "PSW(3.9173847151482413, [1, 2])"
     },
     "metadata": {},
     "execution_count": 6
    }
   ],
   "cell_type": "code",
   "source": [
    "seq = sosbuildsequence(s, 2, p_0=:Primal)\n",
    "psw = findsmp(seq)"
   ],
   "metadata": {},
   "execution_count": 6
  },
  {
   "cell_type": "markdown",
   "source": [
    "This upper bound is further improved by computing quadratic lyapunov functions\n",
    "for the the system obtained with the graph $G_1$ of [Fig. 3.1, AJPR14]."
   ],
   "metadata": {}
  },
  {
   "outputs": [
    {
     "name": "stdout",
     "output_type": "stream",
     "text": [
      "Lower bound: 3.92235416207331\n",
      "Upper bound: 3.9223579027235176\n",
      "Log-diff   : 9.5367431640625e-7 ≤ 1.0e-6\n"
     ]
    },
    {
     "output_type": "execute_result",
     "data": {
      "text/plain": "(2.7735232262173155, 3.9223579027235176)"
     },
     "metadata": {},
     "execution_count": 7
    }
   ],
   "cell_type": "code",
   "source": [
    "G1 = mdependentlift(s, 1, false)\n",
    "lb, ub = soslyapb(G1, 1, optimizer_constructor=optimizer_constructor, tol=1e-6, verbose=1)"
   ],
   "metadata": {},
   "execution_count": 7
  },
  {
   "cell_type": "markdown",
   "source": [
    "We again find the same lower bound from the infeasibility certificate."
   ],
   "metadata": {}
  },
  {
   "outputs": [
    {
     "output_type": "execute_result",
     "data": {
      "text/plain": "PSW(3.9173847151482413, [1, 2])"
     },
     "metadata": {},
     "execution_count": 8
    }
   ],
   "cell_type": "code",
   "source": [
    "seq = sosbuildsequence(s, 2, p_0=:Primal)\n",
    "psw = findsmp(seq)"
   ],
   "metadata": {},
   "execution_count": 8
  },
  {
   "cell_type": "markdown",
   "source": [
    "---\n",
    "\n",
    "*This notebook was generated using [Literate.jl](https://github.com/fredrikekre/Literate.jl).*"
   ],
   "metadata": {}
  }
 ],
 "nbformat_minor": 3,
 "metadata": {
  "language_info": {
   "file_extension": ".jl",
   "mimetype": "application/julia",
   "name": "julia",
   "version": "1.10.0"
  },
  "kernelspec": {
   "name": "julia-1.10",
   "display_name": "Julia 1.10.0",
   "language": "julia"
  }
 },
 "nbformat": 4
}
