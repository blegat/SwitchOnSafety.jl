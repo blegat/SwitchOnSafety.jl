{
 "cells": [
  {
   "cell_type": "markdown",
   "source": [
    "# Example 5.4 of [PJ08]"
   ],
   "metadata": {}
  },
  {
   "cell_type": "markdown",
   "source": [
    "**Contributed by**: Benoît Legat"
   ],
   "metadata": {}
  },
  {
   "cell_type": "markdown",
   "source": [
    "Example 5.4 of [PJ08]. The JSR is conjectured to be equal to $8.9149 = \\sqrt{\\rho(A_1 A_3)}$ in [PJ08] by noticing that $\\rho_{\\text{SOS-}4} \\approx \\rho_{\\text{SOS-}6} \\approx 8.92$.\n",
    "\n",
    "In this notebook, we see that the technique developped in [LPJ17] finds the cycle $(1, 3)$ for degrees 1, 2, 3 already with $l = 1$.\n",
    "The upper bound is computed with Mosek v8.1.0.61 with an log-accuracy of `4e-7` (i.e. the different of the logarithms is smaller than $4 \\times 10^{-7}$).\n",
    "We see that $\\rho_{\\text{SOS-}2} > \\sqrt{\\rho(A_1 A_3)}$ as already shown in [PJ08] but we show that $\\rho_{\\text{SOS-}4} > \\sqrt{\\rho(A_1 A_3)}$ and that $\\rho_{\\text{SOS-}6} - \\sqrt{\\rho(A_1 A_3)} < 1.53 \\times 10^{-7}$ hence conjecture that they are equal.\n",
    "\n",
    "[PJ08] P. Parrilo and A. Jadbabaie,\n",
    "*Approximation of the joint spectral radius using sum of squares*.\n",
    "Linear Algebra and its Applications, Elsevier, **2008**, 428, 2385-2402\n",
    "\n",
    "[LPJ17] Legat, B., Parrilo, P. A., & Jungers, R. M.\n",
    "*Certifying unstability of Switched Systems using Sum of Squares Programming*.\n",
    "arXiv preprint arXiv:1710.01814, **2017**."
   ],
   "metadata": {}
  },
  {
   "outputs": [
    {
     "output_type": "execute_result",
     "data": {
      "text/plain": "Hybrid System with automaton OneStateAutomaton(3)"
     },
     "metadata": {},
     "execution_count": 1
    }
   ],
   "cell_type": "code",
   "source": [
    "using SwitchOnSafety\n",
    "A1 = [ 0  1  7  4;\n",
    "       1  6 -2 -3;\n",
    "      -1 -1 -2 -6;\n",
    "       3  0  9  1]\n",
    "A2 = [-3  3  0 -2;\n",
    "      -2  1  4  9;\n",
    "       4 -3  1  1;\n",
    "       1 -5 -1 -2]\n",
    "A3 = [ 1  4  5 10;\n",
    "       0  5  1 -4;\n",
    "       0 -1  4  6;\n",
    "      -1  5  0  1]\n",
    "s = discreteswitchedsystem([A1, A2, A3])"
   ],
   "metadata": {},
   "execution_count": 1
  },
  {
   "cell_type": "markdown",
   "source": [
    "We first apply Gripenberg"
   ],
   "metadata": {}
  },
  {
   "outputs": [
    {
     "name": "stdout",
     "output_type": "stream",
     "text": [
      "ρ evaluations   : 840 < 10000 = max_ρ_eval.\n",
      "norm evaluations: 840 < 10000 = max_norm_eval.\n",
      "switch length   : 21 < 50 = max_length.\n",
      "  1.167754 seconds (2.80 M allocations: 168.010 MiB, 5.70% gc time, 97.89% compilation time)\n"
     ]
    },
    {
     "output_type": "execute_result",
     "data": {
      "text/plain": "(PSW(8.914964143716158, [1, 3]), 8.924964143716158)"
     },
     "metadata": {},
     "execution_count": 2
    }
   ],
   "cell_type": "code",
   "source": [
    "@time psw, ub = gripenberg(s)"
   ],
   "metadata": {},
   "execution_count": 2
  },
  {
   "cell_type": "markdown",
   "source": [
    "Pick an SDP solver from [this list](https://jump.dev/JuMP.jl/stable/installation/#Supported-solvers)."
   ],
   "metadata": {}
  },
  {
   "outputs": [
    {
     "name": "stdout",
     "output_type": "stream",
     "text": [
      "Lower bound: 9.760672679071362\n",
      "Upper bound: 9.76067500619735\n",
      "Log-diff   : 2.384185791015625e-7 ≤ 4.0e-7\n",
      "  0.491836 seconds (715.31 k allocations: 42.068 MiB, 60.15% compilation time)\n"
     ]
    },
    {
     "output_type": "execute_result",
     "data": {
      "text/plain": "(5.635326998733677, 9.76067500619735)"
     },
     "metadata": {},
     "execution_count": 3
    }
   ],
   "cell_type": "code",
   "source": [
    "import CSDP\n",
    "optimizer_constructor = optimizer_with_attributes(CSDP.Optimizer, MOI.Silent() => true);\n",
    "\n",
    "sosdata(s).lb = 0.0\n",
    "@time lb2, ub2 = soslyapb(s, 1, optimizer_constructor=optimizer_constructor, tol=4e-7, step=0.5, verbose=1)"
   ],
   "metadata": {},
   "execution_count": 3
  },
  {
   "cell_type": "markdown",
   "source": [
    "From the infeasibility certificate of the last infeasible SemiDefinite Program (SDP) solved by in order to obtain the upper bound, we find the lower bound $\\rho(A_1A_3)^{1/2} \\approx 8.914964$."
   ],
   "metadata": {}
  },
  {
   "outputs": [
    {
     "output_type": "execute_result",
     "data": {
      "text/plain": "PSW(8.914964143716158, [1, 3])"
     },
     "metadata": {},
     "execution_count": 4
    }
   ],
   "cell_type": "code",
   "source": [
    "seq = sosbuildsequence(s, 1)\n",
    "psw = findsmp(seq)"
   ],
   "metadata": {},
   "execution_count": 4
  },
  {
   "cell_type": "markdown",
   "source": [
    "We see below that $\\rho_{\\text{SOS-}4} > 8.919 > \\sqrt{\\rho(A_1 A_3)}$."
   ],
   "metadata": {}
  },
  {
   "outputs": [
    {
     "name": "stdout",
     "output_type": "stream",
     "text": [
      "Lower bound: 8.919818289286479\n",
      "Upper bound: 8.919820415937135\n",
      "Log-diff   : 2.384185791015625e-7 ≤ 4.0e-7\n",
      "  4.912187 seconds (1.38 M allocations: 159.133 MiB, 1.21% gc time)\n"
     ]
    },
    {
     "output_type": "execute_result",
     "data": {
      "text/plain": "(6.777596245727607, 8.919820415937135)"
     },
     "metadata": {},
     "execution_count": 5
    }
   ],
   "cell_type": "code",
   "source": [
    "sosdata(s).lb = 0.0\n",
    "@time lb4, ub4 = soslyapb(s, 2, optimizer_constructor=optimizer_constructor, tol=4e-7, step=0.5, verbose=1)"
   ],
   "metadata": {},
   "execution_count": 5
  },
  {
   "cell_type": "markdown",
   "source": [
    "We now try to round the infeasibility certificate to get a lower bound."
   ],
   "metadata": {}
  },
  {
   "outputs": [
    {
     "output_type": "execute_result",
     "data": {
      "text/plain": "PSW(8.914964143716158, [1, 3])"
     },
     "metadata": {},
     "execution_count": 6
    }
   ],
   "cell_type": "code",
   "source": [
    "seq = sosbuildsequence(s, 2)\n",
    "psw = findsmp(seq)"
   ],
   "metadata": {},
   "execution_count": 6
  },
  {
   "cell_type": "markdown",
   "source": [
    "We now compute $\\rho_{\\text{SOS-}6}$."
   ],
   "metadata": {}
  },
  {
   "outputs": [
    {
     "name": "stdout",
     "output_type": "stream",
     "text": [
      "Lower bound: 8.914962342035714\n",
      "Upper bound: 8.914964467528621\n",
      "Log-diff   : 2.384185791015625e-7 ≤ 4.0e-7\n",
      " 30.096536 seconds (14.32 M allocations: 1.807 GiB, 1.51% gc time)\n"
     ]
    },
    {
     "output_type": "execute_result",
     "data": {
      "text/plain": "(7.423339171646347, 8.914964467528621)"
     },
     "metadata": {},
     "execution_count": 7
    }
   ],
   "cell_type": "code",
   "source": [
    "sosdata(s).lb = 0.0\n",
    "@time lb6, ub6 = soslyapb(s, 3, optimizer_constructor=optimizer_constructor, tol=4e-7, step=0.5, verbose=1)"
   ],
   "metadata": {},
   "execution_count": 7
  },
  {
   "cell_type": "markdown",
   "source": [
    "To see how good is the upper bound, we use rounding to get a lower bound."
   ],
   "metadata": {}
  },
  {
   "outputs": [
    {
     "output_type": "execute_result",
     "data": {
      "text/plain": "PSW(8.914964143716158, [1, 3])"
     },
     "metadata": {},
     "execution_count": 8
    }
   ],
   "cell_type": "code",
   "source": [
    "seq = sosbuildsequence(s, 3)\n",
    "psw = findsmp(seq)"
   ],
   "metadata": {},
   "execution_count": 8
  },
  {
   "cell_type": "markdown",
   "source": [
    "We see below that $\\rho_{\\text{SOS-}6} - \\sqrt{\\rho(A_1 A_3)} < 1.53 \\times 10^{-7}$"
   ],
   "metadata": {}
  },
  {
   "outputs": [
    {
     "output_type": "execute_result",
     "data": {
      "text/plain": "3.2381246306556477e-7"
     },
     "metadata": {},
     "execution_count": 9
    }
   ],
   "cell_type": "code",
   "source": [
    "ub6 - psw.growthrate"
   ],
   "metadata": {},
   "execution_count": 9
  },
  {
   "cell_type": "markdown",
   "source": [
    "---\n",
    "\n",
    "*This notebook was generated using [Literate.jl](https://github.com/fredrikekre/Literate.jl).*"
   ],
   "metadata": {}
  }
 ],
 "nbformat_minor": 3,
 "metadata": {
  "language_info": {
   "file_extension": ".jl",
   "mimetype": "application/julia",
   "name": "julia",
   "version": "1.8.3"
  },
  "kernelspec": {
   "name": "julia-1.8",
   "display_name": "Julia 1.8.3",
   "language": "julia"
  }
 },
 "nbformat": 4
}
