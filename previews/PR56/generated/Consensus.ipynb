{
 "cells": [
  {
   "cell_type": "markdown",
   "source": [
    "# Consensus"
   ],
   "metadata": {}
  },
  {
   "cell_type": "markdown",
   "source": [
    "**Contributed by**: Benoît Legat"
   ],
   "metadata": {}
  },
  {
   "cell_type": "markdown",
   "source": [
    "In this notebook, we show how to apply the JSR theory to compute the rate of convergence of agents to consensus.\n",
    "This example is [Example 2.52, P17].\n",
    "\n",
    "[P17] M. Philippe.\n",
    "*Path-Complete Methods and Analysis of Constrained Switching Systems*\n",
    "Doctoral dissertation, UCLouvain, **2017**"
   ],
   "metadata": {}
  },
  {
   "outputs": [
    {
     "name": "stdout",
     "output_type": "stream",
     "text": [
      "P' * ones(5) = [0.0, 0.0, 0.0, 0.0]\n"
     ]
    },
    {
     "output_type": "execute_result",
     "data": {
      "text/plain": "4×4 Matrix{Float64}:\n 1.0   0.0   0.0   0.0\n 0.0   1.0   0.0  -0.0\n 0.0   0.0   1.0  -0.0\n 0.0  -0.0  -0.0   1.0"
     },
     "metadata": {},
     "execution_count": 1
    }
   ],
   "cell_type": "code",
   "source": [
    "using LinearAlgebra\n",
    "P = [ 1.0  0.0  1.0  2.0\n",
    "     -1.0  0.0  1.0  2.0\n",
    "      0.0  1.0  0.0 -3.0\n",
    "      0.0 -1.0  0.0 -3.0\n",
    "      0.0  0.0 -2.0  2.0]\n",
    "for i in 1:4\n",
    "    P[:, i] /= norm(P[:, i])\n",
    "end\n",
    "@show P' * ones(5)\n",
    "round.(P' * P, digits=16)"
   ],
   "metadata": {},
   "execution_count": 1
  },
  {
   "cell_type": "markdown",
   "source": [
    "We build the switched system as follows:"
   ],
   "metadata": {}
  },
  {
   "outputs": [
    {
     "output_type": "execute_result",
     "data": {
      "text/plain": "ss (generic function with 1 method)"
     },
     "metadata": {},
     "execution_count": 2
    }
   ],
   "cell_type": "code",
   "source": [
    "using SwitchOnSafety\n",
    "H1 = [0.2 0.8 0   0   0\n",
    "      0   0.2 0.8 0   0\n",
    "      0   0   0.2 0.8 0\n",
    "      0   0   0   0.2 0.8\n",
    "      0.2 0   0   0   0.8]\n",
    "A1 = P' * H1 * P\n",
    "H2 = [1   0   0   0   0\n",
    "      0.8 0.2 0   0   0\n",
    "      0   0   1   0   0\n",
    "      0   0   0.8 0.2 0\n",
    "      0   0   0   0   1]\n",
    "A2 = P' * H2 * P\n",
    "H3 = [1   0   0   0   0\n",
    "      0   1   0   0   0\n",
    "      0   0.8 0.2 0   0\n",
    "      0   0   0   1   0\n",
    "      0   0   0   0.2 0.8]\n",
    "A3 = P' * H3 * P\n",
    "function automaton(N)\n",
    "    a = GraphAutomaton(N) # See [P17, Figure 2.17] for what automaton(3) should be\n",
    "    add_transition!(a, 1, 1, 1) # Node i means, H1 was used i-1 steps ago\n",
    "    for i in 2:N\n",
    "        add_transition!(a, i-1, i, 2)\n",
    "        add_transition!(a, i-1, i, 3)\n",
    "        add_transition!(a, i, 1, 1)\n",
    "    end\n",
    "    return a\n",
    "end\n",
    "ss(N) = discreteswitchedsystem([A1, A2, A3], automaton(N))"
   ],
   "metadata": {},
   "execution_count": 2
  },
  {
   "cell_type": "markdown",
   "source": [
    "Pick an SDP solver from [this list](https://jump.dev/JuMP.jl/stable/installation/#Supported-solvers)."
   ],
   "metadata": {}
  },
  {
   "outputs": [],
   "cell_type": "code",
   "source": [
    "import CSDP\n",
    "optimizer_constructor = optimizer_with_attributes(CSDP.Optimizer, MOI.Silent() => true);"
   ],
   "metadata": {},
   "execution_count": 3
  },
  {
   "cell_type": "markdown",
   "source": [
    "# $N = 1$\n",
    "\n",
    "With $N = 1$, the system is not switched, there is only one matrix and the JSR is approximately $0.7273$."
   ],
   "metadata": {}
  },
  {
   "outputs": [
    {
     "output_type": "execute_result",
     "data": {
      "text/plain": "0.7273364816948454"
     },
     "metadata": {},
     "execution_count": 4
    }
   ],
   "cell_type": "code",
   "source": [
    "ρ(A1)"
   ],
   "metadata": {},
   "execution_count": 4
  },
  {
   "cell_type": "markdown",
   "source": [
    "With common quadratic Lyapunov functions, we get:"
   ],
   "metadata": {}
  },
  {
   "outputs": [
    {
     "name": "stdout",
     "output_type": "stream",
     "text": [
      "┌ Warning: Solver returned with status : (MathOptInterface.ALMOST_OPTIMAL, MathOptInterface.NEARLY_FEASIBLE_POINT, MathOptInterface.NEARLY_FEASIBLE_POINT, \"Problem solved to near optimality.\") for γ=0.7273334531829795, (MathOptInterface.ALMOST_OPTIMAL, MathOptInterface.NEARLY_FEASIBLE_POINT, MathOptInterface.NEARLY_FEASIBLE_POINT, \"Problem solved to near optimality.\") for γ=0.7273344936425743 and (MathOptInterface.ALMOST_OPTIMAL, MathOptInterface.NEARLY_FEASIBLE_POINT, MathOptInterface.NEARLY_FEASIBLE_POINT, \"Problem solved to near optimality.\") for γ=0.7273355341036575. Stopping bisection with 5.722045898381989e-6 > 1.0e-7 (= tol)\n",
      "└ @ SwitchOnSafety ~/work/SwitchOnSafety.jl/SwitchOnSafety.jl/src/sos.jl:234\n"
     ]
    },
    {
     "output_type": "execute_result",
     "data": {
      "text/plain": "(0.727332412724873, 0.7273365745662291)"
     },
     "metadata": {},
     "execution_count": 5
    }
   ],
   "cell_type": "code",
   "source": [
    "soslyapb(ss(1), 1; optimizer_constructor=optimizer_constructor, tol=1e-7, verbose=1)"
   ],
   "metadata": {},
   "execution_count": 5
  },
  {
   "cell_type": "markdown",
   "source": [
    "# $N = 2$"
   ],
   "metadata": {}
  },
  {
   "outputs": [],
   "cell_type": "code",
   "source": [
    "ss2 = ss(2);"
   ],
   "metadata": {},
   "execution_count": 6
  },
  {
   "cell_type": "markdown",
   "source": [
    "We start with CQLF (Common Quadratic Lyapunov Function)"
   ],
   "metadata": {}
  },
  {
   "outputs": [
    {
     "name": "stdout",
     "output_type": "stream",
     "text": [
      "Lower bound: 0.9871584096980368\n",
      "Upper bound: 0.9871584685372649\n",
      "Log-diff   : 5.9604644719879474e-8 ≤ 1.0e-7\n"
     ]
    },
    {
     "output_type": "execute_result",
     "data": {
      "text/plain": "(0.7760559438489385, 0.9871584685372649)"
     },
     "metadata": {},
     "execution_count": 7
    }
   ],
   "cell_type": "code",
   "source": [
    "soslyapb(ss2, 1; optimizer_constructor=optimizer_constructor, tol=1e-7, verbose=1)"
   ],
   "metadata": {},
   "execution_count": 7
  },
  {
   "cell_type": "markdown",
   "source": [
    "We use rounding to obtain good lower bounds:"
   ],
   "metadata": {}
  },
  {
   "outputs": [
    {
     "name": "stdout",
     "output_type": "stream",
     "text": [
      "  1.417008 seconds (2.92 M allocations: 162.267 MiB, 3.31% gc time, 99.06% compilation time)\n",
      "  0.327701 seconds (498.73 k allocations: 34.467 MiB, 95.66% compilation time)\n"
     ]
    },
    {
     "output_type": "execute_result",
     "data": {
      "text/plain": "PSW(0.9262308830354682, [3, 1, 3, 1, 3, 1, 2, 1, 2, 1, 2, 1, 2, 1, 2, 1, 2, 1])"
     },
     "metadata": {},
     "execution_count": 8
    }
   ],
   "cell_type": "code",
   "source": [
    "@time seq = sosbuildsequence(ss2, 1, niter=100, l=1, p_0=:Primal)\n",
    "@time psw = findsmp(seq)"
   ],
   "metadata": {},
   "execution_count": 8
  },
  {
   "cell_type": "markdown",
   "source": [
    "We now try with quartic polynomials"
   ],
   "metadata": {}
  },
  {
   "outputs": [
    {
     "name": "stdout",
     "output_type": "stream",
     "text": [
      "Lower bound: 0.9270886518320397\n",
      "Upper bound: 0.9270969438351278\n",
      "Log-diff   : 8.944091796941889e-6 ≤ 1.0e-5\n"
     ]
    },
    {
     "output_type": "execute_result",
     "data": {
      "text/plain": "(0.8220048027269916, 0.9270969438351278)"
     },
     "metadata": {},
     "execution_count": 9
    }
   ],
   "cell_type": "code",
   "source": [
    "soslyapb(ss2, 2; optimizer_constructor=optimizer_constructor, tol=1e-5, verbose=1)"
   ],
   "metadata": {},
   "execution_count": 9
  },
  {
   "cell_type": "markdown",
   "source": [
    "Use rounding:"
   ],
   "metadata": {}
  },
  {
   "outputs": [
    {
     "name": "stdout",
     "output_type": "stream",
     "text": [
      "  0.018653 seconds (205.11 k allocations: 15.407 MiB)\n",
      "  0.015092 seconds (43.68 k allocations: 10.763 MiB)\n"
     ]
    },
    {
     "output_type": "execute_result",
     "data": {
      "text/plain": "PSW(0.9262308830354682, [3, 1, 3, 1, 3, 1, 2, 1, 2, 1, 2, 1, 2, 1, 2, 1, 2, 1])"
     },
     "metadata": {},
     "execution_count": 10
    }
   ],
   "cell_type": "code",
   "source": [
    "@time seq = sosbuildsequence(ss2, 2, niter=100, l=2, p_0=:Primal)\n",
    "@time psw = findsmp(seq)"
   ],
   "metadata": {},
   "execution_count": 10
  },
  {
   "cell_type": "markdown",
   "source": [
    "Sextic:"
   ],
   "metadata": {}
  },
  {
   "outputs": [
    {
     "name": "stdout",
     "output_type": "stream",
     "text": [
      "Lower bound: 0.9262308830354682\n",
      "Upper bound: 0.9271358471872897\n",
      "Log-diff   : 0.0009765625000000139 ≤ 0.001\n"
     ]
    },
    {
     "output_type": "execute_result",
     "data": {
      "text/plain": "(0.8548461972141421, 0.9271358471872897)"
     },
     "metadata": {},
     "execution_count": 11
    }
   ],
   "cell_type": "code",
   "source": [
    "soslyapb(ss2, 3; optimizer_constructor=optimizer_constructor, tol=1e-3, verbose=1)"
   ],
   "metadata": {},
   "execution_count": 11
  },
  {
   "cell_type": "markdown",
   "source": [
    "Rounding:"
   ],
   "metadata": {}
  },
  {
   "outputs": [
    {
     "name": "stdout",
     "output_type": "stream",
     "text": [
      "  0.057647 seconds (352.65 k allocations: 32.358 MiB)\n",
      "  0.002385 seconds (8.30 k allocations: 1.591 MiB)\n"
     ]
    },
    {
     "output_type": "execute_result",
     "data": {
      "text/plain": "PSW(0.9249138169675055, [3, 1, 2, 1, 2, 1, 2, 1, 2, 1, 2, 1, 2, 1, 2, 1, 3, 1, 3, 1])"
     },
     "metadata": {},
     "execution_count": 12
    }
   ],
   "cell_type": "code",
   "source": [
    "@time seq = sosbuildsequence(ss2, 3, niter=45, l=1, p_0=:Primal)\n",
    "@time psw = findsmp(seq)"
   ],
   "metadata": {},
   "execution_count": 12
  },
  {
   "cell_type": "markdown",
   "source": [
    "# $N = 3$"
   ],
   "metadata": {}
  },
  {
   "outputs": [
    {
     "name": "stdout",
     "output_type": "stream",
     "text": [
      "Lower bound: 1.0738022226700241\n",
      "Upper bound: 1.073802286673626\n",
      "Log-diff   : 5.96046448031462e-8 ≤ 1.0e-7\n"
     ]
    },
    {
     "output_type": "execute_result",
     "data": {
      "text/plain": "(0.7917709743371962, 1.073802286673626)"
     },
     "metadata": {},
     "execution_count": 13
    }
   ],
   "cell_type": "code",
   "source": [
    "soslyapb(ss(3), 1; optimizer_constructor=optimizer_constructor, tol=1e-7, verbose=1)"
   ],
   "metadata": {},
   "execution_count": 13
  },
  {
   "cell_type": "markdown",
   "source": [
    "# $N = 4$"
   ],
   "metadata": {}
  },
  {
   "outputs": [
    {
     "name": "stdout",
     "output_type": "stream",
     "text": [
      "Lower bound: 1.096910401582472\n",
      "Upper bound: 1.0969104996539085\n",
      "Log-diff   : 8.940696706594142e-8 ≤ 1.0e-7\n"
     ]
    },
    {
     "output_type": "execute_result",
     "data": {
      "text/plain": "(0.7900725616728572, 1.0969104996539085)"
     },
     "metadata": {},
     "execution_count": 14
    }
   ],
   "cell_type": "code",
   "source": [
    "soslyapb(ss(4), 1; optimizer_constructor=optimizer_constructor, tol=1e-7, verbose=1)"
   ],
   "metadata": {},
   "execution_count": 14
  },
  {
   "cell_type": "markdown",
   "source": [
    "---\n",
    "\n",
    "*This notebook was generated using [Literate.jl](https://github.com/fredrikekre/Literate.jl).*"
   ],
   "metadata": {}
  }
 ],
 "nbformat_minor": 3,
 "metadata": {
  "language_info": {
   "file_extension": ".jl",
   "mimetype": "application/julia",
   "name": "julia",
   "version": "1.8.3"
  },
  "kernelspec": {
   "name": "julia-1.8",
   "display_name": "Julia 1.8.3",
   "language": "julia"
  }
 },
 "nbformat": 4
}
