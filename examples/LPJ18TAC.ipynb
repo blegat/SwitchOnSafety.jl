{
 "cells": [
  {
   "cell_type": "markdown",
   "metadata": {},
   "source": [
    "Code to reproduce running example of [LPJ19].\n",
    "\n",
    "[LPJ19] B. Legat, P. A. Parrilo and R. M. Jungers  **An entropy-based bound for the computational complexity of a switched system**. IEEE Transactions on Automatic Control, https://doi.org/10.1109/TAC.2019.2902625\n",
    "\n",
    "We start by defining the constrained switched system using [HybridSystems](https://github.com/blegat/HybridSystems.jl/).\n",
    "As it is one of the examples, we can just include this example. See the `PEDJ16s4.jl` file in the `examples` folder of that package for more details."
   ]
  },
  {
   "cell_type": "code",
   "execution_count": 2,
   "metadata": {},
   "outputs": [
    {
     "name": "stderr",
     "output_type": "stream",
     "text": [
      "┌ Info: Recompiling stale cache file /home/blegat/.julia/compiled/v1.1/HybridSystems/omX1S.ji for HybridSystems [2207ec0c-686c-5054-b4d2-543502888820]\n",
      "└ @ Base loading.jl:1184\n",
      "┌ Info: Precompiling SwitchOnSafety [ceb7f16a-07bf-5f4a-9354-b68f01b1610f]\n",
      "└ @ Base loading.jl:1186\n"
     ]
    }
   ],
   "source": [
    "using HybridSystems\n",
    "include(joinpath(dirname(dirname(pathof(HybridSystems))), \"examples\", \"PEDJ16s4.jl\"))"
   ]
  },
  {
   "cell_type": "markdown",
   "metadata": {},
   "source": [
    "The method presented in [LPJ19] solves a Set Program which is reformulated by [SetProg.jl](https://github.com/blegat/SetProg.jl) into Sum-of-Squares Program (SOSP) which is then reformulated by [SumOfSquares.jl](https://github.com/JuliaOpt/SumOfSquares.jl) into a SemiDefinie Program (SDP) which can then be solved through [JuMP](https://github.com/JuliaOpt/JuMP.jl) by any SDP solver implementing the [MathOptInterface](https://github.com/JuliaOpt/MathOptInterface.jl).\n",
    "The SDP solver we use in this notebook is [Mosek](https://www.mosek.com/) even if any other SDP solver may be used."
   ]
  },
  {
   "cell_type": "code",
   "execution_count": 3,
   "metadata": {},
   "outputs": [
    {
     "name": "stderr",
     "output_type": "stream",
     "text": [
      "┌ Info: Recompiling stale cache file /home/blegat/.julia/compiled/v1.1/MosekTools/UJwlm.ji for MosekTools [1ec41992-ff65-5c91-ac43-2df89e9693a4]\n",
      "└ @ Base loading.jl:1184\n"
     ]
    },
    {
     "data": {
      "text/plain": [
       "OptimizerFactory(Mosek.Optimizer, (), Base.Iterators.Pairs(:QUIET=>true))"
      ]
     },
     "execution_count": 3,
     "metadata": {},
     "output_type": "execute_result"
    }
   ],
   "source": [
    "using SwitchOnSafety\n",
    "using MosekTools\n",
    "factory = with_optimizer(Mosek.Optimizer, QUIET=true)"
   ]
  },
  {
   "cell_type": "markdown",
   "metadata": {},
   "source": [
    "To determine $\\rho_{\\text{SOS-}2d}$, we solve Program 1 using a bisection method on $\\overline{\\gamma}$.\n",
    "Around $\\rho_{\\text{SOS-}2d}$, the problem is ill-posed so the solver will have numerical difficulties.\n",
    "We use a tolerance of $3 \\times 10^{-7}$. The tolerance needs to be large enough so that the solver does not have numerical issues and small enough so that we see which entries of the infeasibility certificate are numerically zero."
   ]
  },
  {
   "cell_type": "code",
   "execution_count": 6,
   "metadata": {},
   "outputs": [
    {
     "data": {
      "text/plain": [
       "prune_lyap (generic function with 1 method)"
      ]
     },
     "execution_count": 6,
     "metadata": {},
     "output_type": "execute_result"
    }
   ],
   "source": [
    "using MultivariateMoments\n",
    "using LightGraphs\n",
    "using LinearAlgebra\n",
    "\n",
    "function prune_lyap(d, factory; tol=3e-7, threshold=2e-4)\n",
    "    # We solve Program 1 by bisection.\n",
    "    soslb, sosub = soslyapb(hs, d, factory=factory, tol=tol)\n",
    "    G = copy(hs.automaton.G)\n",
    "    # We obtain here the infeasibility certificate.\n",
    "    dual = getlyap(hs, d).dual\n",
    "    # We try here to determine which entries of the infeasibility\n",
    "    # certificate are almost zero.\n",
    "    μs = map(t -> norm(dual[t].Q.Q, Inf), transitions(hs))\n",
    "    maxμs = maximum(μs)\n",
    "    min_kept = Inf\n",
    "    max_left = 0.0\n",
    "    @show sort(μs / maxμs)\n",
    "    for (i, t) in enumerate(transitions(hs))\n",
    "        # We normalize because an infeasibility certificate\n",
    "        # is a ray so it could have any scaling.\n",
    "        x = μs[i] / maxμs\n",
    "        if x < threshold\n",
    "            max_left = max(max_left, x)\n",
    "            rem_edge!(G, t.edge)\n",
    "        else\n",
    "            min_kept = min(min_kept, x)\n",
    "        end\n",
    "    end\n",
    "    # This allows to see if the threshold was well chosen\n",
    "    println(max_left, \" < \", threshold, \" < \", min_kept)\n",
    "    return soslb, sosub, ρ(adjacency_matrix(G))\n",
    "end"
   ]
  },
  {
   "cell_type": "markdown",
   "metadata": {},
   "source": [
    "As we can see below, there is a gap between the entries of the infeasibility certificates with norms around $10^{-6}$ and those with norms around unity. The `threshold` $2 \\times 10^{-4}$ seems to appropriately select the edges with numerically zero infeasibility certificate."
   ]
  },
  {
   "cell_type": "code",
   "execution_count": 7,
   "metadata": {},
   "outputs": [
    {
     "name": "stdout",
     "output_type": "stream",
     "text": [
      "sort(μs / maxμs) = [3.82951e-7, 4.89884e-7, 6.50315e-7, 6.62128e-7, 8.16912e-7, 8.43434e-7, 0.644312, 0.942364, 1.0]\n",
      "8.43434135755067e-7 < 0.0002 < 0.6443119643325338\n",
      "sort(μs / maxμs) = [6.38436e-7, 8.13757e-7, 9.72646e-7, 1.32941e-6, 1.9136e-6, 2.74022e-6, 0.176517, 0.42859, 1.0]\n",
      "2.740218466337836e-6 < 0.0002 < 0.1765168798324311\n",
      "sort(μs / maxμs) = [1.03015e-6, 1.19841e-6, 1.42536e-6, 4.18464e-6, 0.0601089, 0.110974, 0.120978, 0.24618, 1.0]\n",
      "4.184640701603601e-6 < 0.0002 < 0.06010887320090561\n",
      "sort(μs / maxμs) = [2.58109e-7, 7.85543e-7, 1.02583e-6, 1.0358e-6, 0.0331839, 0.228945, 0.390375, 0.494206, 1.0]\n",
      "1.0357991468345856e-6 < 0.0002 < 0.03318390522289925\n",
      "sort(μs / maxμs) = [1.57022e-6, 1.72952e-6, 2.17106e-6, 2.17575e-6, 0.0164789, 0.161922, 0.305794, 0.412272, 1.0]\n",
      "2.175745402566825e-6 < 0.0002 < 0.01647893732896833\n",
      "sort(μs / maxμs) = [1.11441e-6, 3.2938e-6, 3.64918e-6, 5.23258e-6, 0.00836874, 0.127531, 0.222401, 0.334751, 1.0]\n",
      "5.232584323885028e-6 < 0.0002 < 0.008368742251479206\n"
     ]
    },
    {
     "data": {
      "text/plain": [
       "6-element Array{Tuple{Float64,Float64,Float64},1}:\n",
       " (0.7096199402330368, 1.0035543230574266, 1.618033988749895)\n",
       " (0.7753990260138268, 0.9863230324613662, 1.618033988749895)\n",
       " (0.8321070828192696, 0.9768814637887235, 1.83928675521416) \n",
       " (0.8644570590955903, 0.974968172813975, 1.83928675521416)  \n",
       " (0.8854899009453173, 0.9749474883660003, 1.83928675521416) \n",
       " (0.8997628268765168, 0.9748985479159743, 1.83928675521416) "
      ]
     },
     "execution_count": 7,
     "metadata": {},
     "output_type": "execute_result"
    }
   ],
   "source": [
    "sosb = prune_lyap.(1:6, Ref(factory))"
   ]
  },
  {
   "cell_type": "markdown",
   "metadata": {},
   "source": [
    "We can compute several different lower bounds from the upper bound found above using techniques developed in [LPJ19]."
   ]
  },
  {
   "cell_type": "code",
   "execution_count": 8,
   "metadata": {},
   "outputs": [
    {
     "name": "stdout",
     "output_type": "stream",
     "text": [
      "ρG = 2.618033988749896\n",
      "m = 9\n"
     ]
    },
    {
     "data": {
      "text/plain": [
       "6-element Array{Int64,1}:\n",
       " 2\n",
       " 3\n",
       " 4\n",
       " 5\n",
       " 6\n",
       " 7"
      ]
     },
     "execution_count": 8,
     "metadata": {},
     "output_type": "execute_result"
    }
   ],
   "source": [
    "soslb = map(x -> x[1], sosb)\n",
    "sosub = map(x -> x[2], sosb)\n",
    "ρG = ρ(adjacency_matrix(hs.automaton.G))\n",
    "@show ρG\n",
    "bi(d) = binomial(2+d-1,d)\n",
    "m = HybridSystems.ntransitions(hs)\n",
    "@show m\n",
    "# Theorem 2\n",
    "soslbρ = map(x -> x[2][2]/(ρG^(1/(2x[1]))), enumerate(sosb))\n",
    "# Theorem 3\n",
    "soslbn = map(x -> x[2][2]/(bi(x[1])^(1/(2x[1]))), enumerate(sosb))\n",
    "# Theorem 4\n",
    "sosllb = map(x -> x[2][2]/(x[2][3]^(1/(2x[1]))), enumerate(sosb))\n",
    "# Kronecker lift\n",
    "soslbm = map(x -> x[2][2]/(m^(1/(2x[1]))), enumerate(sosb))\n",
    "bi.(1:6)"
   ]
  },
  {
   "cell_type": "markdown",
   "metadata": {},
   "source": [
    "As show in Lemma 2 of [LPJ19], the $2d$-radius provides lower and upper bounds to the CJSR given in equation (12) of [LPJ19].\n",
    "We compute the $2d$-radius below with $d$ up to 6."
   ]
  },
  {
   "cell_type": "code",
   "execution_count": 23,
   "metadata": {},
   "outputs": [
    {
     "name": "stdout",
     "output_type": "stream",
     "text": [
      "  0.008467 seconds (1.40 k allocations: 133.781 KiB)\n",
      "  0.000592 seconds (2.46 k allocations: 230.672 KiB)\n",
      "  0.000815 seconds (4.14 k allocations: 391.250 KiB)\n",
      "  0.001178 seconds (6.43 k allocations: 621.203 KiB)\n",
      "  0.001856 seconds (9.43 k allocations: 932.344 KiB)\n",
      "  0.002796 seconds (13.15 k allocations: 1.294 MiB)\n"
     ]
    }
   ],
   "source": [
    "sosprl = zeros(6)\n",
    "sospru = zeros(6)\n",
    "# sospru = sosprl .* (SwitchOnSafety.ρA(hs) .^ (1 ./ (2:2:12)))\n",
    "for i in 1:6\n",
    "    @time sosprl[i], sospru[i] = pradiusb(hs, 2*i, VeroneseLift())\n",
    "end"
   ]
  },
  {
   "cell_type": "markdown",
   "metadata": {},
   "source": [
    "We display below all the values obtained:"
   ]
  },
  {
   "cell_type": "code",
   "execution_count": 24,
   "metadata": {},
   "outputs": [
    {
     "data": {
      "text/plain": [
       "8×6 Array{Float64,2}:\n",
       " 0.70962   0.775399  0.832107  0.864457  0.88549   0.899763\n",
       " 1.00355   0.986323  0.976881  0.974968  0.974947  0.974899\n",
       " 0.620231  0.775399  0.832107  0.864457  0.88549   0.899763\n",
       " 0.70962   0.749443  0.775351  0.797295  0.815016  0.828962\n",
       " 0.788946  0.874525  0.882538  0.903461  0.91731   0.926628\n",
       " 0.334518  0.569454  0.677332  0.740816  0.782631  0.811782\n",
       " 0.879075  0.893726  0.904888  0.913522  0.920342  0.925834\n",
       " 1.42237   1.13684   1.06233   1.0303    1.01332   1.00315 "
      ]
     },
     "execution_count": 24,
     "metadata": {},
     "output_type": "execute_result"
    }
   ],
   "source": [
    "[soslb'; sosub'; soslbρ'; soslbn'; sosllb'; soslbm'; sosprl'; sospru']"
   ]
  },
  {
   "cell_type": "markdown",
   "metadata": {
    "collapsed": true
   },
   "source": [
    "Values computed with Mosek v8.1.0.67 are as follows:\n",
    "\n",
    "| d      | 1        | 2        | 3        | 4        | 5        | 6        |\n",
    "|:------:|:--------:|:--------:|:--------:|:--------:|:--------:|:--------:|\n",
    "| soslb  | 0.70962  | 0.775399 | 0.832107 | 0.864457 | 0.88549  | 0.899763 |\n",
    "| sosub  | 1.00355  | 0.986323 | 0.976881 | 0.974968 | 0.974948 | 0.974901 |\n",
    "| soslbρ | 0.620231 | 0.775399 | 0.832107 | 0.864457 | 0.88549  | 0.899765 |\n",
    "| soslbn | 0.70962  | 0.749443 | 0.775351 | 0.797295 | 0.815016 | 0.828964 |\n",
    "| sosllb | 0.788946 | 0.874525 | 0.882538 | 0.903461 | 0.91731  | 0.92663  |\n",
    "| soslbm | 0.334518 | 0.569454 | 0.677332 | 0.740815 | 0.782631 | 0.811783 |\n",
    "| sosprl | 0.879075 | 0.893726 | 0.904888 | 0.913522 | 0.920342 | 0.925834 |\n",
    "| sospru | 1.422373 | 1.136836 | 1.062325 | 1.030305 | 1.013320 | 1.003147 |"
   ]
  },
  {
   "cell_type": "markdown",
   "metadata": {},
   "source": [
    "Computing the $2d$-radius would be a lot slower with Kronecker lifts than with Veronese lifts.\n",
    "This is because matrices obtained by veronese lifting are the \"symmetry-reduced version of the $d$-fold Kronecker product\" [PJ08].\n",
    "\n",
    "[PJ08] P. Parrilo and A. Jadbabaie.\n",
    "*Approximation of the joint spectral radius using sum of squares*.\n",
    "Linear Algebra and its Applications, Elsevier, **2008**, 428, 2385-2402"
   ]
  },
  {
   "cell_type": "code",
   "execution_count": 71,
   "metadata": {},
   "outputs": [
    {
     "name": "stdout",
     "output_type": "stream",
     "text": [
      " 10.127331 seconds (1.52 k allocations: 1.918 GiB, 5.91% gc time)\n"
     ]
    },
    {
     "data": {
      "text/plain": [
       "(0.9258342753832846, 1.003146883295951)"
      ]
     },
     "execution_count": 71,
     "metadata": {},
     "output_type": "execute_result"
    }
   ],
   "source": [
    "i = 6\n",
    "@time sosprl[i], sospru[i] = pradiusb(hs, 2*i, KroneckerLift())"
   ]
  },
  {
   "cell_type": "markdown",
   "metadata": {},
   "source": [
    "Using the results obtained above, we can now reproduce the Figure 3 of [LPJ19]."
   ]
  },
  {
   "cell_type": "code",
   "execution_count": 98,
   "metadata": {},
   "outputs": [
    {
     "data": {
      "text/html": [
       "<img src=\"data:image/png;base64,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\" />"
      ]
     },
     "execution_count": 98,
     "metadata": {},
     "output_type": "execute_result"
    }
   ],
   "source": [
    "using Plots\n",
    "pyplot()\n",
    "xlims = (0.9, 6.1)\n",
    "plot(size=(500, 500), xlims=xlims, ylims=(0.55, 1.15), legend=:bottomright, grid=false)\n",
    "jsr = 0.9748171979372074\n",
    "plot!(collect(xlims), [jsr, jsr], color=:grey, linewidth=.5, label=\"CJSR\")\n",
    "# colors taken from https://previews.123rf.com/images/capacitorphoto/capacitorphoto1410/capacitorphoto141000191/32438941-Graph-Icon-color-set-illustration--Stock-Vector.jpg\n",
    "red = Plots.RGBA(((0xf5, 0x92, 0x97) ./ 255)...)\n",
    "gre = Plots.RGBA(((0xcb, 0xdf, 0x80) ./ 255)...)\n",
    "blu = Plots.RGBA(((0x23, 0x94, 0xce) ./ 255)...)\n",
    "ora = Plots.RGBA(((0xfa, 0xcb, 0x95) ./ 255)...)\n",
    "yel = Plots.RGBA(((0xf2, 0xf0, 0x8b) ./ 255)...)\n",
    "pur = Plots.RGBA(((0xb7, 0xa8, 0xd1) ./ 255)...)\n",
    "eme = Plots.RGBA(((0x86, 0xcf, 0xc6) ./ 255)...)\n",
    "function _plot!(bound, col, name)\n",
    "    plot!(1:6, bound, label=name, color=col)\n",
    "    scatter!(1:6, bound, label=\"\", markerstrokewidth=0, color=col)\n",
    "end\n",
    "_plot!(sosub, eme, \"Upper Bound\")\n",
    "_plot!(soslbρ, red, \"Theorem 2\")\n",
    "_plot!(soslbn, ora, \"Theorem 3\")\n",
    "_plot!(sosllb, gre, \"Theorem 4\")\n",
    "_plot!(soslbm, yel, \"Kronecker lift\")\n",
    "_plot!(sosprl, blu, \"2d-radius\")\n",
    "_plot!(sospru, pur, \"2d-radius x 2^(h(E)/2d)\")"
   ]
  },
  {
   "cell_type": "markdown",
   "metadata": {},
   "source": [
    "We save this figure in the `results` folder on [codeocean](https://help.codeocean.com/getting-started/uploading-code-and-data/saving-files)."
   ]
  },
  {
   "cell_type": "code",
   "execution_count": null,
   "metadata": {
    "collapsed": true
   },
   "outputs": [],
   "source": [
    "Plots.savefig(\"../results/Figure_3.eps\");"
   ]
  }
 ],
 "metadata": {
  "kernelspec": {
   "display_name": "Julia 1.1.0",
   "language": "julia",
   "name": "julia-1.1"
  },
  "language_info": {
   "file_extension": ".jl",
   "mimetype": "application/julia",
   "name": "julia",
   "version": "1.1.1"
  }
 },
 "nbformat": 4,
 "nbformat_minor": 2
}
