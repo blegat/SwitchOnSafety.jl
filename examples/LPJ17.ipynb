{
 "cells": [
  {
   "cell_type": "markdown",
   "metadata": {},
   "source": [
    "Code to reproduce running example of [LJP17]. It is based on a state-feedback control that\n",
    "might undergo dropouts in its state feedback.\n",
    "\n",
    "B. Legat, R. M. Jungers, and P. A. Parrilo\n",
    "[**Certifying unstability of Switched Systems using Sum of Squares Programming**](https://arxiv.org/abs/1710.01814)"
   ]
  },
  {
   "cell_type": "code",
   "execution_count": 2,
   "metadata": {},
   "outputs": [
    {
     "name": "stdout",
     "output_type": "stream",
     "text": [
      "\u001b[32m\u001b[1m  Updating\u001b[22m\u001b[39m registry at `~/.julia/registries/General`\n",
      "\u001b[32m\u001b[1m  Updating\u001b[22m\u001b[39m git-repo `https://github.com/JuliaRegistries/General.git`\n",
      "\u001b[2K\u001b[?25h[1mFetching:\u001b[22m\u001b[39m [========================================>]  100.0 %.0 %"
     ]
    }
   ],
   "source": [
    "import Pkg\n",
    "Pkg.activate(@__DIR__)\n",
    "Pkg.instantiate()"
   ]
  },
  {
   "cell_type": "code",
   "execution_count": 3,
   "metadata": {},
   "outputs": [
    {
     "name": "stderr",
     "output_type": "stream",
     "text": [
      "┌ Info: Recompiling stale cache file /home/blegat/.julia/compiled/v1.1/SwitchOnSafety/EUPLd.ji for SwitchOnSafety [ceb7f16a-07bf-5f4a-9354-b68f01b1610f]\n",
      "└ @ Base loading.jl:1184\n"
     ]
    }
   ],
   "source": [
    "using HybridSystems\n",
    "include(joinpath(dirname(dirname(pathof(HybridSystems))), \"examples\", \"PEDJ16s4.jl\"))\n",
    "using SwitchOnSafety"
   ]
  },
  {
   "cell_type": "markdown",
   "metadata": {},
   "source": [
    "As showed in [Example 7, LJP16], the JSR is 0.9748171979372074 which is attained for the cycle\n",
    "$$(3, 1, 2), (1, 3, 1), (3, 1, 2), (1, 2, 3), (2, 3, 1), (3, 3, 1)^3$$\n",
    "which corresponds to the sequence of symbols: 21231111.\n",
    "\n",
    "[LJP16] B. Legat, R. M. Jungers and P. A. Parrilo,\n",
    "*Generating unstable trajectories for Switched Systems via Dual Sum-Of-Squares techniques.*\n",
    "Proceedings of the 19th International Conference on Hybrid Systems: Computation and Control,\n",
    "ACM, **2016**, 51-60."
   ]
  },
  {
   "cell_type": "code",
   "execution_count": 4,
   "metadata": {},
   "outputs": [
    {
     "data": {
      "text/plain": [
       "PSW(0.9748171979372074, [2, 1, 2, 3, 1, 1, 1, 1])"
      ]
     },
     "execution_count": 4,
     "metadata": {},
     "output_type": "execute_result"
    }
   ],
   "source": [
    "function t(pair::Pair)\n",
    "    edge = HybridSystems.edge_object(hs.automaton, pair.first, pair.second)\n",
    "    # As there is no multiple edges, i.e. edges with same source and target but different label,\n",
    "    # we can get the transition as follows\n",
    "    @assert isone(length(hs.automaton.Σ[edge]))\n",
    "    id = first(keys(hs.automaton.Σ[edge]))\n",
    "    return HybridSystems.LightTransition(edge, id)\n",
    "end\n",
    "smp = periodicswitching(hs, t.([3 => 1, 1 => 3, 3 => 1, 1 => 2, 2 => 3, 3 => 3, 3 => 3, 3 => 3]))"
   ]
  },
  {
   "cell_type": "markdown",
   "metadata": {},
   "source": [
    "The matrix 1 can be repeated since it is part of the self-loop (3, 3, 1) so it also provides a lower bound but it is not an s.m.p."
   ]
  },
  {
   "cell_type": "code",
   "execution_count": 5,
   "metadata": {},
   "outputs": [
    {
     "data": {
      "text/plain": [
       "PSW(0.9392550239418471, [1])"
      ]
     },
     "execution_count": 5,
     "metadata": {},
     "output_type": "execute_result"
    }
   ],
   "source": [
    "psw1 = periodicswitching(hs, t.([3 => 3]))"
   ]
  },
  {
   "cell_type": "markdown",
   "metadata": {},
   "source": [
    "The following periodic switchings have a high growth rates but are not s.m.p."
   ]
  },
  {
   "cell_type": "code",
   "execution_count": 6,
   "metadata": {},
   "outputs": [
    {
     "data": {
      "text/plain": [
       "PSW(0.9659284377734763, [2, 1, 3, 1, 1, 1, 1])"
      ]
     },
     "execution_count": 6,
     "metadata": {},
     "output_type": "execute_result"
    }
   ],
   "source": [
    "psw2 = periodicswitching(hs, t.([3 => 1, 1 => 3, 3 => 2, 2 => 3, 3 => 3, 3 => 3, 3 => 3]))"
   ]
  },
  {
   "cell_type": "code",
   "execution_count": 7,
   "metadata": {},
   "outputs": [
    {
     "data": {
      "text/plain": [
       "PSW(0.9728940109399586, [2, 1, 2, 1, 1, 1, 1, 1])"
      ]
     },
     "execution_count": 7,
     "metadata": {},
     "output_type": "execute_result"
    }
   ],
   "source": [
    "psw3 = periodicswitching(hs, t.([3 => 1, 1 => 3, 3 => 1, 1 => 3, 3 => 3, 3 => 3, 3 => 3, 3 => 3]))"
   ]
  },
  {
   "cell_type": "markdown",
   "metadata": {},
   "source": [
    "## Gripenberg\n",
    "\n",
    "With a maximum length of 6, the Gripenberg algorithm finds `psw1`."
   ]
  },
  {
   "cell_type": "code",
   "execution_count": 8,
   "metadata": {},
   "outputs": [
    {
     "name": "stdout",
     "output_type": "stream",
     "text": [
      "ρ evaluations   : 425 < 1000 = max_ρ_eval.\n",
      "norm evaluations: 1567 < 10000 = max_norm_eval.\n",
      "switch length   : \u001b[31m\u001b[1m6 ≥ 6\u001b[22m\u001b[39m = max_length.\n",
      "  1.785923 seconds (5.46 M allocations: 280.993 MiB, 5.63% gc time)\n"
     ]
    },
    {
     "data": {
      "text/plain": [
       "(PSW(0.9392550239418472, [1, 1, 1, 1, 1, 1]), 1.039593578184173)"
      ]
     },
     "execution_count": 8,
     "metadata": {},
     "output_type": "execute_result"
    }
   ],
   "source": [
    "@time psw, ub = gripenberg(hs, max_length = 6)"
   ]
  },
  {
   "cell_type": "markdown",
   "metadata": {},
   "source": [
    "With a maximum length of 7, the Gripenberg algorithm finds `psw2`."
   ]
  },
  {
   "cell_type": "code",
   "execution_count": 9,
   "metadata": {},
   "outputs": [
    {
     "name": "stdout",
     "output_type": "stream",
     "text": [
      "ρ evaluations   : 834 < 1000 = max_ρ_eval.\n",
      "norm evaluations: 3137 < 10000 = max_norm_eval.\n",
      "switch length   : \u001b[31m\u001b[1m7 ≥ 7\u001b[22m\u001b[39m = max_length.\n",
      "  0.018071 seconds (160.82 k allocations: 10.914 MiB)\n"
     ]
    },
    {
     "data": {
      "text/plain": [
       "(PSW(0.9659284377734763, [1, 1, 1, 2, 1, 3, 1]), 1.0181518243613532)"
      ]
     },
     "execution_count": 9,
     "metadata": {},
     "output_type": "execute_result"
    }
   ],
   "source": [
    "@time psw, ub = gripenberg(hs, max_length = 7)"
   ]
  },
  {
   "cell_type": "markdown",
   "metadata": {},
   "source": [
    "With a maximum length of 8, the Gripenberg algorithm finds `psw3` but the upper bound is not so good."
   ]
  },
  {
   "cell_type": "code",
   "execution_count": 10,
   "metadata": {},
   "outputs": [
    {
     "name": "stdout",
     "output_type": "stream",
     "text": [
      "ρ evaluations   : \u001b[31m\u001b[1m1134 ≥ 1000\u001b[22m\u001b[39m = max_ρ_eval.\n",
      "norm evaluations: 4296 < 10000 = max_norm_eval.\n",
      "switch length   : \u001b[31m\u001b[1m8 ≥ 8\u001b[22m\u001b[39m = max_length.\n",
      "  0.026258 seconds (219.43 k allocations: 14.940 MiB)\n"
     ]
    },
    {
     "data": {
      "text/plain": [
       "(PSW(0.9748171979372074, [1, 1, 1, 2, 1, 2, 3, 1]), 1.0011588099570934)"
      ]
     },
     "execution_count": 10,
     "metadata": {},
     "output_type": "execute_result"
    }
   ],
   "source": [
    "@time psw, ub = gripenberg(hs, max_length = 8)"
   ]
  },
  {
   "cell_type": "markdown",
   "metadata": {},
   "source": [
    "With a higher maximum length, the Gripenberg algorithm finds `psw3` and the upper bound is now exactly the lower bound + `1e-2`, the tolerance $\\delta$."
   ]
  },
  {
   "cell_type": "code",
   "execution_count": 11,
   "metadata": {},
   "outputs": [
    {
     "name": "stdout",
     "output_type": "stream",
     "text": [
      "ρ evaluations   : 1196 < 2000 = max_ρ_eval.\n",
      "norm evaluations: 4544 < 10000 = max_norm_eval.\n",
      "switch length   : 9 < 50 = max_length.\n",
      "  0.044325 seconds (245.52 k allocations: 16.567 MiB, 13.15% gc time)\n"
     ]
    },
    {
     "data": {
      "text/plain": [
       "(PSW(0.9748171979372074, [1, 1, 1, 2, 1, 2, 3, 1]), 0.9848171979372075)"
      ]
     },
     "execution_count": 11,
     "metadata": {},
     "output_type": "execute_result"
    }
   ],
   "source": [
    "@time psw, ub = gripenberg(hs, max_ρ_eval = 2000)"
   ]
  },
  {
   "cell_type": "markdown",
   "metadata": {},
   "source": [
    "We can reach an accuracy of `1e-4` without much troubles."
   ]
  },
  {
   "cell_type": "code",
   "execution_count": 13,
   "metadata": {},
   "outputs": [
    {
     "name": "stdout",
     "output_type": "stream",
     "text": [
      "ρ evaluations   : 1571 < 2000 = max_ρ_eval.\n",
      "norm evaluations: 6001 < 10000 = max_norm_eval.\n",
      "switch length   : 10 < 50 = max_length.\n",
      "  0.043460 seconds (306.12 k allocations: 20.914 MiB, 12.35% gc time)\n"
     ]
    },
    {
     "data": {
      "text/plain": [
       "(PSW(0.9748171979372074, [1, 1, 1, 2, 1, 2, 3, 1]), 0.9749171979372074)"
      ]
     },
     "execution_count": 13,
     "metadata": {},
     "output_type": "execute_result"
    }
   ],
   "source": [
    "@time psw, ub = gripenberg(hs, max_ρ_eval = 2000, δ = 1e-4)"
   ]
  },
  {
   "cell_type": "markdown",
   "metadata": {},
   "source": [
    "But for `1e-5`, we need to go up to switching length 58."
   ]
  },
  {
   "cell_type": "code",
   "execution_count": 19,
   "metadata": {},
   "outputs": [
    {
     "name": "stdout",
     "output_type": "stream",
     "text": [
      "ρ evaluations   : 4938 < 10000 = max_ρ_eval.\n",
      "norm evaluations: 18365 < 20000 = max_norm_eval.\n",
      "switch length   : 58 < 60 = max_length.\n",
      "  0.135948 seconds (960.17 k allocations: 73.438 MiB, 12.74% gc time)\n"
     ]
    },
    {
     "data": {
      "text/plain": [
       "(PSW(0.9748171979372074, [2, 1, 2, 3, 1, 1, 1, 1, 2, 1, 2, 3, 1, 1, 1, 1, 2, 1, 2, 3, 1, 1, 1, 1, 2, 1, 2, 3, 1, 1, 1, 1, 2, 1, 2, 3, 1, 1, 1, 1, 2, 1, 2, 3, 1, 1, 1, 1, 2, 1, 2, 3, 1, 1, 1, 1]), 0.9748271979372074)"
      ]
     },
     "execution_count": 19,
     "metadata": {},
     "output_type": "execute_result"
    }
   ],
   "source": [
    "@time psw, ub = gripenberg(hs, δ = 1e-5, max_ρ_eval = 10000, max_norm_eval = 20000, max_length = 60)"
   ]
  },
  {
   "cell_type": "code",
   "execution_count": 36,
   "metadata": {},
   "outputs": [
    {
     "name": "stdout",
     "output_type": "stream",
     "text": [
      "ρ evaluations   : 37476 < 40000 = max_ρ_eval.\n",
      "norm evaluations: 137845 < 200000 = max_norm_eval.\n",
      "switch length   : 522 < 600 = max_length.\n",
      "  0.960303 seconds (7.04 M allocations: 1.242 GiB, 14.94% gc time)\n"
     ]
    },
    {
     "data": {
      "text/plain": [
       "(PSW(0.9748171979372074, [2, 1, 2, 3, 1, 1, 1, 1, 2, 1, 2, 3, 1, 1, 1, 1, 2, 1, 2, 3, 1, 1, 1, 1, 2, 1, 2, 3, 1, 1, 1, 1, 2, 1, 2, 3, 1, 1, 1, 1, 2, 1, 2, 3, 1, 1, 1, 1, 2, 1, 2, 3, 1, 1, 1, 1, 2, 1, 2, 3, 1, 1, 1, 1, 2, 1, 2, 3, 1, 1, 1, 1, 2, 1, 2, 3, 1, 1, 1, 1, 2, 1, 2, 3, 1, 1, 1, 1, 2, 1, 2, 3, 1, 1, 1, 1, 2, 1, 2, 3, 1, 1, 1, 1, 2, 1, 2, 3, 1, 1, 1, 1, 2, 1, 2, 3, 1, 1, 1, 1, 2, 1, 2, 3, 1, 1, 1, 1, 2, 1, 2, 3, 1, 1, 1, 1, 2, 1, 2, 3, 1, 1, 1, 1, 2, 1, 2, 3, 1, 1, 1, 1, 2, 1, 2, 3, 1, 1, 1, 1, 2, 1, 2, 3, 1, 1, 1, 1, 2, 1, 2, 3, 1, 1, 1, 1, 2, 1, 2, 3, 1, 1, 1, 1, 2, 1, 2, 3, 1, 1, 1, 1, 2, 1, 2, 3, 1, 1, 1, 1, 2, 1, 2, 3, 1, 1, 1, 1, 2, 1, 2, 3, 1, 1, 1, 1, 2, 1, 2, 3, 1, 1, 1, 1, 2, 1, 2, 3, 1, 1, 1, 1, 2, 1, 2, 3, 1, 1, 1, 1, 2, 1, 2, 3, 1, 1, 1, 1, 2, 1, 2, 3, 1, 1, 1, 1, 2, 1, 2, 3, 1, 1, 1, 1, 2, 1, 2, 3, 1, 1, 1, 1, 2, 1, 2, 3, 1, 1, 1, 1, 2, 1, 2, 3, 1, 1, 1, 1, 2, 1, 2, 3, 1, 1, 1, 1, 2, 1, 2, 3, 1, 1, 1, 1, 2, 1, 2, 3, 1, 1, 1, 1, 2, 1, 2, 3, 1, 1, 1, 1, 2, 1, 2, 3, 1, 1, 1, 1, 2, 1, 2, 3, 1, 1, 1, 1, 2, 1, 2, 3, 1, 1, 1, 1, 2, 1, 2, 3, 1, 1, 1, 1, 2, 1, 2, 3, 1, 1, 1, 1, 2, 1, 2, 3, 1, 1, 1, 1, 2, 1, 2, 3, 1, 1, 1, 1, 2, 1, 2, 3, 1, 1, 1, 1, 2, 1, 2, 3, 1, 1, 1, 1, 2, 1, 2, 3, 1, 1, 1, 1, 2, 1, 2, 3, 1, 1, 1, 1, 2, 1, 2, 3, 1, 1, 1, 1, 2, 1, 2, 3, 1, 1, 1, 1, 2, 1, 2, 3, 1, 1, 1, 1, 2, 1, 2, 3, 1, 1, 1, 1, 2, 1, 2, 3, 1, 1, 1, 1, 2, 1, 2, 3, 1, 1, 1, 1, 2, 1, 2, 3, 1, 1, 1, 1, 2, 1, 2, 3, 1, 1, 1, 1, 2, 1, 2, 3, 1, 1, 1, 1, 2, 1, 2, 3, 1, 1, 1, 1, 2, 1, 2, 3, 1, 1, 1, 1, 2, 1, 2, 3, 1, 1, 1, 1, 2, 1, 2, 3, 1, 1, 1, 1, 2, 1, 2, 3, 1, 1, 1, 1]), 0.9748181979372075)"
      ]
     },
     "execution_count": 36,
     "metadata": {},
     "output_type": "execute_result"
    }
   ],
   "source": [
    "@time psw, ub = gripenberg(hs, δ = 1e-6, max_ρ_eval = 40000, max_norm_eval = 200000, max_length = 600)"
   ]
  },
  {
   "cell_type": "code",
   "execution_count": 53,
   "metadata": {},
   "outputs": [
    {
     "name": "stdout",
     "output_type": "stream",
     "text": [
      "ρ evaluations   : 145188 < 200000 = max_ρ_eval.\n",
      "norm evaluations: 533365 < 1000000 = max_norm_eval.\n",
      "switch length   : 2058 < 3000 = max_length.\n",
      "  6.408790 seconds (30.31 M allocations: 13.984 GiB, 25.33% gc time)\n"
     ]
    },
    {
     "data": {
      "text/plain": [
       "(PSW(0.9748171979372074, [2, 1, 2, 3, 1, 1, 1, 1, 2, 1, 2, 3, 1, 1, 1, 1, 2, 1, 2, 3, 1, 1, 1, 1, 2, 1, 2, 3, 1, 1, 1, 1, 2, 1, 2, 3, 1, 1, 1, 1, 2, 1, 2, 3, 1, 1, 1, 1, 2, 1, 2, 3, 1, 1, 1, 1, 2, 1, 2, 3, 1, 1, 1, 1, 2, 1, 2, 3, 1, 1, 1, 1, 2, 1, 2, 3, 1, 1, 1, 1, 2, 1, 2, 3, 1, 1, 1, 1, 2, 1, 2, 3, 1, 1, 1, 1, 2, 1, 2, 3, 1, 1, 1, 1, 2, 1, 2, 3, 1, 1, 1, 1, 2, 1, 2, 3, 1, 1, 1, 1, 2, 1, 2, 3, 1, 1, 1, 1, 2, 1, 2, 3, 1, 1, 1, 1, 2, 1, 2, 3, 1, 1, 1, 1, 2, 1, 2, 3, 1, 1, 1, 1, 2, 1, 2, 3, 1, 1, 1, 1, 2, 1, 2, 3, 1, 1, 1, 1, 2, 1, 2, 3, 1, 1, 1, 1, 2, 1, 2, 3, 1, 1, 1, 1, 2, 1, 2, 3, 1, 1, 1, 1, 2, 1, 2, 3, 1, 1, 1, 1, 2, 1, 2, 3, 1, 1, 1, 1, 2, 1, 2, 3, 1, 1, 1, 1, 2, 1, 2, 3, 1, 1, 1, 1, 2, 1, 2, 3, 1, 1, 1, 1, 2, 1, 2, 3, 1, 1, 1, 1, 2, 1, 2, 3, 1, 1, 1, 1, 2, 1, 2, 3, 1, 1, 1, 1, 2, 1, 2, 3, 1, 1, 1, 1, 2, 1, 2, 3, 1, 1, 1, 1, 2, 1, 2, 3, 1, 1, 1, 1, 2, 1, 2, 3, 1, 1, 1, 1, 2, 1, 2, 3, 1, 1, 1, 1, 2, 1, 2, 3, 1, 1, 1, 1, 2, 1, 2, 3, 1, 1, 1, 1, 2, 1, 2, 3, 1, 1, 1, 1, 2, 1, 2, 3, 1, 1, 1, 1, 2, 1, 2, 3, 1, 1, 1, 1, 2, 1, 2, 3, 1, 1, 1, 1, 2, 1, 2, 3, 1, 1, 1, 1, 2, 1, 2, 3, 1, 1, 1, 1, 2, 1, 2, 3, 1, 1, 1, 1, 2, 1, 2, 3, 1, 1, 1, 1, 2, 1, 2, 3, 1, 1, 1, 1, 2, 1, 2, 3, 1, 1, 1, 1, 2, 1, 2, 3, 1, 1, 1, 1, 2, 1, 2, 3, 1, 1, 1, 1, 2, 1, 2, 3, 1, 1, 1, 1, 2, 1, 2, 3, 1, 1, 1, 1, 2, 1, 2, 3, 1, 1, 1, 1, 2, 1, 2, 3, 1, 1, 1, 1, 2, 1, 2, 3, 1, 1, 1, 1, 2, 1, 2, 3, 1, 1, 1, 1, 2, 1, 2, 3, 1, 1, 1, 1, 2, 1, 2, 3, 1, 1, 1, 1, 2, 1, 2, 3, 1, 1, 1, 1, 2, 1, 2, 3, 1, 1, 1, 1, 2, 1, 2, 3, 1, 1, 1, 1, 2, 1, 2, 3, 1, 1, 1, 1, 2, 1, 2, 3, 1, 1, 1, 1, 2, 1, 2, 3, 1, 1, 1, 1, 2, 1, 2, 3, 1, 1, 1, 1, 2, 1, 2, 3, 1, 1, 1, 1, 2, 1, 2, 3, 1, 1, 1, 1, 2, 1, 2, 3, 1, 1, 1, 1, 2, 1, 2, 3, 1, 1, 1, 1, 2, 1, 2, 3, 1, 1, 1, 1, 2, 1, 2, 3, 1, 1, 1, 1, 2, 1, 2, 3, 1, 1, 1, 1, 2, 1, 2, 3, 1, 1, 1, 1, 2, 1, 2, 3, 1, 1, 1, 1, 2, 1, 2, 3, 1, 1, 1, 1, 2, 1, 2, 3, 1, 1, 1, 1, 2, 1, 2, 3, 1, 1, 1, 1, 2, 1, 2, 3, 1, 1, 1, 1, 2, 1, 2, 3, 1, 1, 1, 1, 2, 1, 2, 3, 1, 1, 1, 1, 2, 1, 2, 3, 1, 1, 1, 1, 2, 1, 2, 3, 1, 1, 1, 1, 2, 1, 2, 3, 1, 1, 1, 1, 2, 1, 2, 3, 1, 1, 1, 1, 2, 1, 2, 3, 1, 1, 1, 1, 2, 1, 2, 3, 1, 1, 1, 1, 2, 1, 2, 3, 1, 1, 1, 1, 2, 1, 2, 3, 1, 1, 1, 1, 2, 1, 2, 3, 1, 1, 1, 1, 2, 1, 2, 3, 1, 1, 1, 1, 2, 1, 2, 3, 1, 1, 1, 1, 2, 1, 2, 3, 1, 1, 1, 1, 2, 1, 2, 3, 1, 1, 1, 1, 2, 1, 2, 3, 1, 1, 1, 1, 2, 1, 2, 3, 1, 1, 1, 1, 2, 1, 2, 3, 1, 1, 1, 1, 2, 1, 2, 3, 1, 1, 1, 1, 2, 1, 2, 3, 1, 1, 1, 1, 2, 1, 2, 3, 1, 1, 1, 1, 2, 1, 2, 3, 1, 1, 1, 1, 2, 1, 2, 3, 1, 1, 1, 1, 2, 1, 2, 3, 1, 1, 1, 1, 2, 1, 2, 3, 1, 1, 1, 1, 2, 1, 2, 3, 1, 1, 1, 1, 2, 1, 2, 3, 1, 1, 1, 1, 2, 1, 2, 3, 1, 1, 1, 1, 2, 1, 2, 3, 1, 1, 1, 1, 2, 1, 2, 3, 1, 1, 1, 1, 2, 1, 2, 3, 1, 1, 1, 1, 2, 1, 2, 3, 1, 1, 1, 1, 2, 1, 2, 3, 1, 1, 1, 1, 2, 1, 2, 3, 1, 1, 1, 1, 2, 1, 2, 3, 1, 1, 1, 1, 2, 1, 2, 3, 1, 1, 1, 1, 2, 1, 2, 3, 1, 1, 1, 1, 2, 1, 2, 3, 1, 1, 1, 1, 2, 1, 2, 3, 1, 1, 1, 1, 2, 1, 2, 3, 1, 1, 1, 1, 2, 1, 2, 3, 1, 1, 1, 1, 2, 1, 2, 3, 1, 1, 1, 1, 2, 1, 2, 3, 1, 1, 1, 1, 2, 1, 2, 3, 1, 1, 1, 1, 2, 1, 2, 3, 1, 1, 1, 1, 2, 1, 2, 3, 1, 1, 1, 1, 2, 1, 2, 3, 1, 1, 1, 1, 2, 1, 2, 3, 1, 1, 1, 1, 2, 1, 2, 3, 1, 1, 1, 1, 2, 1, 2, 3, 1, 1, 1, 1, 2, 1, 2, 3, 1, 1, 1, 1, 2, 1, 2, 3, 1, 1, 1, 1, 2, 1, 2, 3, 1, 1, 1, 1, 2, 1, 2, 3, 1, 1, 1, 1, 2, 1, 2, 3, 1, 1, 1, 1, 2, 1, 2, 3, 1, 1, 1, 1, 2, 1, 2, 3, 1, 1, 1, 1, 2, 1, 2, 3, 1, 1, 1, 1, 2, 1, 2, 3, 1, 1, 1, 1, 2, 1, 2, 3, 1, 1, 1, 1, 2, 1, 2, 3, 1, 1, 1, 1, 2, 1, 2, 3, 1, 1, 1, 1, 2, 1, 2, 3, 1, 1, 1, 1, 2, 1, 2, 3, 1, 1, 1, 1, 2, 1, 2, 3, 1, 1, 1, 1, 2, 1, 2, 3, 1, 1, 1, 1, 2, 1, 2, 3, 1, 1, 1, 1, 2, 1, 2, 3, 1, 1, 1, 1, 2, 1, 2, 3, 1, 1, 1, 1, 2, 1, 2, 3, 1, 1, 1, 1, 2, 1, 2, 3, 1, 1, 1, 1, 2, 1, 2, 3, 1, 1, 1, 1, 2, 1, 2, 3, 1, 1, 1, 1, 2, 1, 2, 3, 1, 1, 1, 1, 2, 1, 2, 3, 1, 1, 1, 1, 2, 1, 2, 3, 1, 1, 1, 1, 2, 1, 2, 3, 1, 1, 1, 1, 2, 1, 2, 3, 1, 1, 1, 1, 2, 1, 2, 3, 1, 1, 1, 1, 2, 1, 2, 3, 1, 1, 1, 1, 2, 1, 2, 3, 1, 1, 1, 1, 2, 1, 2, 3, 1, 1, 1, 1, 2, 1, 2, 3, 1, 1, 1, 1, 2, 1, 2, 3, 1, 1, 1, 1, 2, 1, 2, 3, 1, 1, 1, 1, 2, 1, 2, 3, 1, 1, 1, 1, 2, 1, 2, 3, 1, 1, 1, 1, 2, 1, 2, 3, 1, 1, 1, 1, 2, 1, 2, 3, 1, 1, 1, 1, 2, 1, 2, 3, 1, 1, 1, 1, 2, 1, 2, 3, 1, 1, 1, 1, 2, 1, 2, 3, 1, 1, 1, 1, 2, 1, 2, 3, 1, 1, 1, 1, 2, 1, 2, 3, 1, 1, 1, 1, 2, 1, 2, 3, 1, 1, 1, 1, 2, 1, 2, 3, 1, 1, 1, 1, 2, 1, 2, 3, 1, 1, 1, 1, 2, 1, 2, 3, 1, 1, 1, 1, 2, 1, 2, 3, 1, 1, 1, 1, 2, 1, 2, 3, 1, 1, 1, 1, 2, 1, 2, 3, 1, 1, 1, 1, 2, 1, 2, 3, 1, 1, 1, 1, 2, 1, 2, 3, 1, 1, 1, 1, 2, 1, 2, 3, 1, 1, 1, 1, 2, 1, 2, 3, 1, 1, 1, 1, 2, 1, 2, 3, 1, 1, 1, 1, 2, 1, 2, 3, 1, 1, 1, 1, 2, 1, 2, 3, 1, 1, 1, 1, 2, 1, 2, 3, 1, 1, 1, 1, 2, 1, 2, 3, 1, 1, 1, 1, 2, 1, 2, 3, 1, 1, 1, 1, 2, 1, 2, 3, 1, 1, 1, 1, 2, 1, 2, 3, 1, 1, 1, 1, 2, 1, 2, 3, 1, 1, 1, 1, 2, 1, 2, 3, 1, 1, 1, 1, 2, 1, 2, 3, 1, 1, 1, 1, 2, 1, 2, 3, 1, 1, 1, 1, 2, 1, 2, 3, 1, 1, 1, 1, 2, 1, 2, 3, 1, 1, 1, 1, 2, 1, 2, 3, 1, 1, 1, 1, 2, 1, 2, 3, 1, 1, 1, 1, 2, 1, 2, 3, 1, 1, 1, 1, 2, 1, 2, 3, 1, 1, 1, 1, 2, 1, 2, 3, 1, 1, 1, 1, 2, 1, 2, 3, 1, 1, 1, 1, 2, 1, 2, 3, 1, 1, 1, 1, 2, 1, 2, 3, 1, 1, 1, 1, 2, 1, 2, 3, 1, 1, 1, 1, 2, 1, 2, 3, 1, 1, 1, 1, 2, 1, 2, 3, 1, 1, 1, 1, 2, 1, 2, 3, 1, 1, 1, 1, 2, 1, 2, 3, 1, 1, 1, 1, 2, 1, 2, 3, 1, 1, 1, 1, 2, 1, 2, 3, 1, 1, 1, 1, 2, 1, 2, 3, 1, 1, 1, 1, 2, 1, 2, 3, 1, 1, 1, 1, 2, 1, 2, 3, 1, 1, 1, 1, 2, 1, 2, 3, 1, 1, 1, 1, 2, 1, 2, 3, 1, 1, 1, 1, 2, 1, 2, 3, 1, 1, 1, 1, 2, 1, 2, 3, 1, 1, 1, 1, 2, 1, 2, 3, 1, 1, 1, 1, 2, 1, 2, 3, 1, 1, 1, 1, 2, 1, 2, 3, 1, 1, 1, 1, 2, 1, 2, 3, 1, 1, 1, 1, 2, 1, 2, 3, 1, 1, 1, 1, 2, 1, 2, 3, 1, 1, 1, 1, 2, 1, 2, 3, 1, 1, 1, 1, 2, 1, 2, 3, 1, 1, 1, 1, 2, 1, 2, 3, 1, 1, 1, 1, 2, 1, 2, 3, 1, 1, 1, 1, 2, 1, 2, 3, 1, 1, 1, 1, 2, 1, 2, 3, 1, 1, 1, 1, 2, 1, 2, 3, 1, 1, 1, 1, 2, 1, 2, 3, 1, 1, 1, 1, 2, 1, 2, 3, 1, 1, 1, 1, 2, 1, 2, 3, 1, 1, 1, 1, 2, 1, 2, 3, 1, 1, 1, 1, 2, 1, 2, 3, 1, 1, 1, 1, 2, 1, 2, 3, 1, 1, 1, 1, 2, 1, 2, 3, 1, 1, 1, 1, 2, 1, 2, 3, 1, 1, 1, 1, 2, 1, 2, 3, 1, 1, 1, 1, 2, 1, 2, 3, 1, 1, 1, 1, 2, 1, 2, 3, 1, 1, 1, 1, 2, 1, 2, 3, 1, 1, 1, 1, 2, 1, 2, 3, 1, 1, 1, 1, 2, 1, 2, 3, 1, 1, 1, 1, 2, 1, 2, 3, 1, 1, 1, 1, 2, 1, 2, 3, 1, 1, 1, 1, 2, 1, 2, 3, 1, 1, 1, 1, 2, 1, 2, 3, 1, 1, 1, 1, 2, 1, 2, 3, 1, 1, 1, 1, 2, 1, 2, 3, 1, 1, 1, 1, 2, 1, 2, 3, 1, 1, 1, 1, 2, 1, 2, 3, 1, 1, 1, 1, 2, 1, 2, 3, 1, 1, 1, 1, 2, 1, 2, 3, 1, 1, 1, 1]), 0.9748174479372075)"
      ]
     },
     "execution_count": 53,
     "metadata": {},
     "output_type": "execute_result"
    }
   ],
   "source": [
    "@time psw, ub = gripenberg(hs, δ = 0.25e-6, max_ρ_eval = 200000, max_norm_eval = 1000000, max_length = 3000)"
   ]
  },
  {
   "cell_type": "markdown",
   "metadata": {},
   "source": [
    "## Polytopic proof of the s.m.p."
   ]
  },
  {
   "cell_type": "code",
   "execution_count": 13,
   "metadata": {},
   "outputs": [
    {
     "name": "stdout",
     "output_type": "stream",
     "text": [
      "Depth 1: [2, 1, 5, 0] points, 8 living leaves...\n",
      "Depth 2: [6, 7, 7, 5] points, 17 living leaves...\n",
      "Depth 3: [7, 9, 9, 7] points, 7 living leaves...\n",
      "Depth 4: [8, 11, 10, 9] points, 6 living leaves...\n",
      "Depth 5: [9, 12, 11, 10] points, 4 living leaves...\n",
      "Depth 6: [10, 13, 12, 11] points, 4 living leaves...\n",
      "Depth 7: [11, 14, 13, 12] points, 4 living leaves...\n",
      "Depth 8: [12, 15, 14, 13] points, 4 living leaves...\n",
      "Depth 9: [13, 16, 15, 14] points, 4 living leaves...\n",
      "Depth 10: [14, 17, 16, 15] points, 4 living leaves...\n",
      "Depth 11: [15, 18, 17, 16] points, 4 living leaves...\n",
      "Depth 12: [16, 19, 18, 17] points, 4 living leaves...\n",
      "Depth 13: [17, 20, 19, 18] points, 4 living leaves...\n",
      "Depth 14: [18, 21, 20, 19] points, 4 living leaves...\n",
      "Depth 15: [19, 21, 20, 20] points, 2 living leaves...\n",
      "0 living leaves, PSW(0.9748171979372073, [2, 1, 2, 3, 1, 1, 1, 1]) is a \u001b[0m\u001b[1mspectral maximizing product\u001b[22m (s.m.p.)\n",
      "Use `tol` < 0.00884085255057343 to eliminate at least one more living leaf.\n",
      "Use `tol` > 0.011637616112319726 to keep at least one more dead leaf.\n",
      "Use `new_candidate_tol` < -0.13826791153095208 to consider at least one more candidate as s.m.p.\n",
      "  0.249877 seconds (629.78 k allocations: 44.588 MiB, 4.33% gc time)\n"
     ]
    }
   ],
   "source": [
    "using JuMP, MosekTools\n",
    "@time smp, done, polys = invariant_polytopes(hs, optimizer_with_attributes(Mosek.Optimizer, MOI.Silent() => true), smp,\n",
    "                                             tol=1e-2, verbose=2, max_length=40);"
   ]
  },
  {
   "cell_type": "code",
   "execution_count": 14,
   "metadata": {},
   "outputs": [
    {
     "name": "stdout",
     "output_type": "stream",
     "text": [
      "Depth 1: [0, 0, 1, 0] points, 1 living leaves...\n",
      "Depth 2: [1, 1, 1, 1] points, 3 living leaves...\n",
      "\u001b[34m\u001b[1mNew candidate s.m.p. found\u001b[22m\u001b[39m because ⟨v_1*, v⟩ - 1 = 1.1889629260138844e16 - 6.124044746116224e15im > 1.0e-6:\n",
      "PSW(0.9635728013202637, [1, 1, 1, 1, 1, 2, 1])\n",
      "Depth 1: [1, 0, 6, 0] points, 7 living leaves...\n",
      "Depth 2: [6, 7, 6, 6] points, 18 living leaves...\n",
      "\u001b[34m\u001b[1mNew candidate s.m.p. found\u001b[22m\u001b[39m because ⟨v_1*, v⟩ - 1 = 0.17314159011335306 > 1.0e-6:\n",
      "PSW(0.9689742659805629, [1, 1, 1, 1, 1, 2, 1, 1, 1, 1, 1, 1, 2, 1, 2, 1])\n",
      "Depth 1: [3, 0, 13, 0] points, 16 living leaves...\n",
      "Depth 2: [13, 15, 13, 13] points, 38 living leaves...\n",
      "\u001b[34m\u001b[1mNew candidate s.m.p. found\u001b[22m\u001b[39m because ⟨v_5*, v⟩ - 1 = -2.126040288235251 > 1.0e-6:\n",
      "\u001b[31m\u001b[1maborting\u001b[22m\u001b[39m with smp candidate PSW(0.9600913508133908, [1, 2, 1, 1, 1, 1, 1, 1, 2, 1, 2, 1, 1, 1, 1, 1, 1, 2, 1, 1, 1, 1, 1, 1, 2, 1, 2, 1, 1, 1, 1, 1, 1, 2, 1, 1, 1, 1, 1, 1, 2, 1, 2, 1, 1, 1, 1, 1, 2, 1]) of length 50 after prefixing the suffix with 3 times the current s.m.p. Increase the value of the `max_smp_length` keyword argument to go further.\n",
      "Depth 3: [14, 16, 15, 13] points, 4 living leaves...\n",
      "Depth 4: [16, 17, 16, 15] points, 6 living leaves...\n",
      "Depth 5: [17, 19, 18, 16] points, 6 living leaves...\n",
      "Depth 6: [20, 21, 21, 18] points, 10 living leaves...\n",
      "Depth 7: [23, 23, 23, 21] points, 10 living leaves...\n",
      "Depth 8: [25, 26, 26, 23] points, 10 living leaves...\n",
      "\u001b[34m\u001b[1mNew candidate s.m.p. found\u001b[22m\u001b[39m because ⟨v_5*, v⟩ - 1 = 0.0005648407837157698 > 1.0e-6:\n",
      "PSW(0.9748171979372073, [2, 1, 2, 3, 1, 1, 1, 1])\n",
      "Depth 1: [2, 1, 5, 0] points, 8 living leaves...\n",
      "Depth 2: [6, 7, 7, 5] points, 17 living leaves...\n",
      "Depth 3: [7, 9, 8, 7] points, 6 living leaves...\n",
      "Depth 4: [8, 10, 9, 8] points, 4 living leaves...\n",
      "Depth 5: [9, 11, 10, 9] points, 4 living leaves...\n",
      "Depth 6: [10, 12, 11, 10] points, 4 living leaves...\n",
      "Depth 7: [11, 12, 11, 11] points, 2 living leaves...\n",
      "0 living leaves, PSW(0.9748171979372073, [2, 1, 2, 3, 1, 1, 1, 1]) is a \u001b[0m\u001b[1mspectral maximizing product\u001b[22m (s.m.p.)\n",
      "Use `tol` < -0.002331759044368109 to eliminate at least one more living leaf.\n",
      "Use `tol` > 0.002105995598430388 to keep at least one more dead leaf.\n",
      "Use `new_candidate_tol` < -0.0195450240203362 to consider at least one more candidate as s.m.p.\n",
      "Use `new_candidate_tol` > 0.0005648407837157698 to eliminate at least one s.m.p. candidate.\n",
      "  0.413591 seconds (1.18 M allocations: 84.187 MiB, 4.61% gc time)\n"
     ]
    }
   ],
   "source": [
    "using JuMP, MosekTools\n",
    "@time smp, done, polys = invariant_polytopes(hs, optimizer_with_attributes(Mosek.Optimizer, MOI.Silent() => true), psw1, tol=1e-6);"
   ]
  },
  {
   "cell_type": "code",
   "execution_count": 26,
   "metadata": {},
   "outputs": [
    {
     "name": "stdout",
     "output_type": "stream",
     "text": [
      "PSW(0.9660273552468552, [3, 1, 1, 1, 1, 2, 1, 3, 1, 1, 1, 1, 2, 1, 3, 1, 1, 1, 1, 2, 1, 3, 1, 1, 1, 1, 2, 1, 2, 3, 1, 1, 1, 1, 2, 1, 2, 3, 1, 1, 1, 1, 1, 2, 1, 1])\n",
      "PSW(0.9748171979372074, [2, 1, 2, 3, 1, 1, 1, 1])\n",
      "0 living leaves, PSW(0.9748171979372074, [2, 1, 2, 3, 1, 1, 1, 1]) is a \u001b[0m\u001b[1mspectral maximizing product\u001b[22m (s.m.p.)\n",
      "Use `tol` < -1.1102230246251565e-16 to eliminate at least one more living leaf.\n",
      "Use `tol` > 5.133392536249559e-5 to keep at least one more dead leaf.\n",
      "Use `new_candidate_tol` < -0.0357801298422491 to consider at least one more candidate as s.m.p.\n",
      "Use `new_candidate_tol` > 0.009191530755863875 to eliminate at least one s.m.p. candidate.\n",
      "  1.123988 seconds (3.45 M allocations: 258.114 MiB, 6.81% gc time)\n"
     ]
    }
   ],
   "source": [
    "using JuMP, MosekTools\n",
    "@time smp, done, polys = invariant_polytopes(hs, optimizer_with_attributes(Mosek.Optimizer, MOI.Silent() => true), psw2,\n",
    "                                             tol=0.0, verbose=1, max_length=40);"
   ]
  },
  {
   "cell_type": "markdown",
   "metadata": {},
   "source": [
    "## Sum-of-Squares"
   ]
  },
  {
   "cell_type": "code",
   "execution_count": 4,
   "metadata": {
    "collapsed": true
   },
   "outputs": [],
   "source": [
    "using MosekTools\n",
    "using JuMP\n",
    "factory = optimizer_with_attributes(Mosek.Optimizer, MOI.Silent() => true);"
   ]
  },
  {
   "cell_type": "markdown",
   "metadata": {},
   "source": [
    "## Example 3.6"
   ]
  },
  {
   "cell_type": "code",
   "execution_count": 9,
   "metadata": {},
   "outputs": [
    {
     "data": {
      "text/plain": [
       "plot_lyap (generic function with 1 method)"
      ]
     },
     "execution_count": 9,
     "metadata": {},
     "output_type": "execute_result"
    }
   ],
   "source": [
    "using MultivariatePolynomials\n",
    "function plot_lyap(p)\n",
    "    d = mindegree(p)\n",
    "    @assert d == maxdegree(p)\n",
    "    @assert nvariables(p) == 2\n",
    "    α = linspace(0., 2π, 1000)\n",
    "    X = cos.(α)\n",
    "    Y = sin.(α)\n",
    "    λ = map(x -> p(variables(p) => x), zip(X, Y))\n",
    "    λ = λ.^(1/d)\n",
    "    plot(X ./ λ, Y ./ λ, aspect_ratio=:equal, label=\"\", grid=false, border=nothing, ticks=nothing, linewidth=3)#, grid=false, label=\"\")\n",
    "    plot!(X, Y, label=\"\", linestyle=:dash, linecolor=:black, linewidth=2)\n",
    "end"
   ]
  },
  {
   "cell_type": "code",
   "execution_count": null,
   "metadata": {
    "collapsed": true
   },
   "outputs": [],
   "source": [
    "gr()\n",
    "for d in 1:6\n",
    "    for v in 1:4\n",
    "        plot_lyap(get(s.lyaps[d]).primal[v])\n",
    "        savefig(\"PEDJ_d\" * string(d) * \"_v\" * string(v) * \".png\")\n",
    "    end\n",
    "end"
   ]
  },
  {
   "cell_type": "markdown",
   "metadata": {},
   "source": [
    "## Example 4.3"
   ]
  },
  {
   "cell_type": "code",
   "execution_count": 14,
   "metadata": {},
   "outputs": [
    {
     "name": "stdout",
     "output_type": "stream",
     "text": [
      "μ_{131} = 1.0907033942729127 * δ_{[0.917, 0.399]}\n",
      "normalize(SwitchOnSafety.dynamicforσ(hs, σ) * y) = [0.999626, -0.027334]\n",
      "μ_{312} = 1.143222101937864 * δ_{[0.875, 0.485]}\n",
      "normalize(SwitchOnSafety.dynamicforσ(hs, σ) * y) = [0.916808, 0.399328]\n",
      "μ_{331} = 1.3210537518102323 * δ_{[0.757, -0.653]}\n",
      "normalize(SwitchOnSafety.dynamicforσ(hs, σ) * y) = [0.422686, -0.906276]\n"
     ]
    }
   ],
   "source": [
    "using LinearAlgebra\n",
    "using MultivariatePolynomials\n",
    "using MultivariateMoments\n",
    "d = 1\n",
    "tol = 1e-4\n",
    "lyap = getlyap(hs, d; factory=factory, tol=tol)\n",
    "for s in states(hs)\n",
    "    for t in out_transitions(hs, s)\n",
    "        σ = symbol(hs, t)\n",
    "        ν = lyap.dual[t]\n",
    "        a = extractatoms(ν, tol)\n",
    "        if a !== nothing\n",
    "            v = target(hs, t)\n",
    "            atom = a.atoms[1]\n",
    "            x = atom.center\n",
    "            nx = norm(x, 2)\n",
    "            y = round.(x / nx, digits=3)\n",
    "            println(\"μ_{$s$v$σ} = $nx * δ_{$y}\")\n",
    "            @show normalize(SwitchOnSafety.dynamicforσ(hs, σ) * y)\n",
    "        end\n",
    "    end\n",
    "end"
   ]
  },
  {
   "cell_type": "markdown",
   "metadata": {},
   "source": [
    "## Example 4.10"
   ]
  },
  {
   "cell_type": "code",
   "execution_count": 57,
   "metadata": {},
   "outputs": [
    {
     "data": {
      "text/plain": [
       "sequencelb (generic function with 1 method)"
      ]
     },
     "execution_count": 57,
     "metadata": {},
     "output_type": "execute_result"
    }
   ],
   "source": [
    "function sequencelb(s, d, l; p_0s = [:Primal, :Random], v_0s = states(s), niter=100)\n",
    "    best = 0.\n",
    "    for p_0 in p_0s\n",
    "        for v_0 in v_0s\n",
    "            println(\"d = $d, l = $l, p_0 = $p_0, v_0 = $v_0\")\n",
    "            println(\"Build sequence\")\n",
    "            @time seq = sosbuildsequence(s, d, p_0=p_0, v_0=v_0, l=l, niter=niter)\n",
    "            println(\"Find smp\")\n",
    "            @time psw = findsmp(seq)\n",
    "            if psw.growthrate ≈ smp.growthrate\n",
    "                printstyled(psw, bold=true, color=:blue)\n",
    "                println()\n",
    "            else\n",
    "                println(psw)\n",
    "            end\n",
    "            @assert psw !== nothing\n",
    "            best = max(best, psw.growthrate)\n",
    "        end\n",
    "    end\n",
    "    return best\n",
    "end"
   ]
  },
  {
   "cell_type": "code",
   "execution_count": 58,
   "metadata": {
    "collapsed": true
   },
   "outputs": [],
   "source": [
    "soslb = zeros(6)\n",
    "sosub = zeros(6)\n",
    "sosex = zeros(6)\n",
    "seql = [zeros(6) for i in 1:3];"
   ]
  },
  {
   "cell_type": "code",
   "execution_count": 77,
   "metadata": {},
   "outputs": [
    {
     "data": {
      "text/plain": [
       "find_ub (generic function with 1 method)"
      ]
     },
     "execution_count": 77,
     "metadata": {},
     "output_type": "execute_result"
    }
   ],
   "source": [
    "function find_ub(d; tol=4e-7, reset=true)\n",
    "    sosdata(hs).lb = 0.0\n",
    "    if length(sosdata(hs).lyaps) ≥ d && reset\n",
    "        sosdata(hs).lyaps[d] = nothing\n",
    "    end\n",
    "    while length(soslb) < d\n",
    "        push!(soslb, 0.0)\n",
    "    end\n",
    "    while length(sosub) < d\n",
    "        push!(sosub, 0.0)\n",
    "    end\n",
    "    @time soslb[d], sosub[d] = soslyapb(hs, d, factory=factory, tol=tol, ranktols=[], disttols=[], verbose=2)\n",
    "end"
   ]
  },
  {
   "cell_type": "code",
   "execution_count": 83,
   "metadata": {},
   "outputs": [
    {
     "data": {
      "text/plain": [
       "full_sos (generic function with 1 method)"
      ]
     },
     "execution_count": 83,
     "metadata": {},
     "output_type": "execute_result"
    }
   ],
   "source": [
    "function full_sos(d; ls=1:3, tol=1e-2, reset=true, kwargs...)\n",
    "    sosdata(hs).smp = nothing\n",
    "    find_ub(d, tol=tol, reset=reset)\n",
    "    if hassmp(hs)\n",
    "        sosex[d] = getsmp(hs).growthrate\n",
    "    end\n",
    "    for l in ls\n",
    "        @time seql[l][d] = sequencelb(hs, d, l; kwargs...)\n",
    "    end\n",
    "end"
   ]
  },
  {
   "cell_type": "markdown",
   "metadata": {},
   "source": [
    "For $d=1$, we find the s.m.p. with $l=3$ even generating a sequence of 9 matrices."
   ]
  },
  {
   "cell_type": "code",
   "execution_count": 84,
   "metadata": {},
   "outputs": [
    {
     "name": "stdout",
     "output_type": "stream",
     "text": [
      "Lower bound: 0.0\n",
      "Upper bound: Inf\n",
      "Log-diff   : Inf > 0.01\n",
      "Lower bound: 0.0\n",
      "Upper bound: 1.2264130506891073\n",
      "Log-diff   : Inf > 0.01\n",
      "Lower bound: 0.7438571167146476\n",
      "Upper bound: 1.2264130506891073\n",
      "Log-diff   : 0.5 > 0.01\n",
      "Lower bound: 0.9551314442456673\n",
      "Upper bound: 1.2264130506891073\n",
      "Log-diff   : 0.25 > 0.01\n",
      "Lower bound: 0.9551314442456673\n",
      "Upper bound: 1.0823057185224616\n",
      "Log-diff   : 0.125 > 0.01\n",
      "Lower bound: 0.9551314442456673\n",
      "Upper bound: 1.0167321299377252\n",
      "Log-diff   : 0.06249999999999996 > 0.01\n",
      "Lower bound: 0.985450570895564\n",
      "Upper bound: 1.0167321299377252\n",
      "Log-diff   : 0.03124999999999998 > 0.01\n",
      "Lower bound: 1.0009691593126104\n",
      "Upper bound: 1.0167321299377252\n",
      "Log-diff   : 0.015624999999999972 > 0.01\n",
      "Lower bound: 1.0009691593126104\n",
      "Upper bound: 1.0088198577297558\n",
      "Log-diff   : 0.007812500000000047 ≤ 0.01\n",
      "  0.971582 seconds (417.99 k allocations: 20.456 MiB, 0.87% gc time)\n",
      "d = 1, l = 1, p_0 = Primal, v_0 = 1\n",
      "Build sequence\n",
      "  0.000380 seconds (5.25 k allocations: 305.453 KiB)\n",
      "Find smp\n",
      "  0.000087 seconds (857 allocations: 66.047 KiB)\n",
      "PSW(0.9728940109399586, [1, 1, 1, 1, 1, 2, 1, 2])\n",
      "d = 1, l = 1, p_0 = Primal, v_0 = 2\n",
      "Build sequence\n",
      "  0.000303 seconds (5.25 k allocations: 305.453 KiB)\n",
      "Find smp\n",
      "  0.000059 seconds (670 allocations: 49.453 KiB)\n",
      "PSW(0.9728940109399586, [1, 1, 1, 1, 1, 2, 1, 2])\n",
      "d = 1, l = 1, p_0 = Primal, v_0 = 3\n",
      "Build sequence\n",
      "  0.000303 seconds (5.29 k allocations: 307.734 KiB)\n",
      "Find smp\n",
      "  0.000084 seconds (961 allocations: 76.453 KiB)\n",
      "PSW(0.9728940109399586, [2, 1, 2, 1, 1, 1, 1, 1])\n",
      "d = 1, l = 1, p_0 = Primal, v_0 = 4\n",
      "Build sequence\n",
      "  0.000340 seconds (5.24 k allocations: 304.313 KiB)\n",
      "Find smp\n",
      "  0.000075 seconds (697 allocations: 53.188 KiB)\n",
      "PSW(0.9392550239418472, [1])\n",
      "d = 1, l = 1, p_0 = Random, v_0 = 1\n",
      "Build sequence\n",
      "  0.000356 seconds (5.30 k allocations: 308.578 KiB)\n",
      "Find smp\n",
      "  0.000081 seconds (819 allocations: 63.203 KiB)\n",
      "PSW(0.9728940109399586, [1, 2, 1, 1, 1, 1, 1, 2])\n",
      "d = 1, l = 1, p_0 = Random, v_0 = 2\n",
      "Build sequence\n",
      "  0.000340 seconds (5.26 k allocations: 306.297 KiB)\n",
      "Find smp\n",
      "  0.000066 seconds (661 allocations: 50.125 KiB)\n",
      "PSW(0.9392550239418472, [1])\n",
      "d = 1, l = 1, p_0 = Random, v_0 = 3\n",
      "Build sequence\n",
      "  0.000303 seconds (5.30 k allocations: 308.578 KiB)\n",
      "Find smp\n",
      "  0.000070 seconds (821 allocations: 63.344 KiB)\n",
      "PSW(0.9591026003836985, [1, 1, 1, 2, 1, 2, 1, 2, 1])\n",
      "d = 1, l = 1, p_0 = Random, v_0 = 4\n",
      "Build sequence\n",
      "  0.000305 seconds (5.28 k allocations: 307.438 KiB)\n",
      "Find smp\n",
      "  0.000063 seconds (697 allocations: 53.188 KiB)\n",
      "PSW(0.9392550239418472, [1])\n",
      "  0.006113 seconds (54.13 k allocations: 2.992 MiB)\n",
      "d = 1, l = 2, p_0 = Primal, v_0 = 1\n",
      "Build sequence\n",
      "  0.000554 seconds (8.24 k allocations: 477.016 KiB)\n",
      "Find smp\n",
      "  0.000093 seconds (1.00 k allocations: 77.531 KiB)\n",
      "PSW(0.9728940109399586, [1, 1, 1, 1, 1, 2, 1, 2])\n",
      "d = 1, l = 2, p_0 = Primal, v_0 = 2\n",
      "Build sequence\n",
      "  0.000504 seconds (8.36 k allocations: 483.859 KiB)\n",
      "Find smp\n",
      "  0.000080 seconds (904 allocations: 68.734 KiB)\n",
      "PSW(0.9728940109399586, [1, 1, 1, 1, 1, 2, 1, 2])\n",
      "d = 1, l = 2, p_0 = Primal, v_0 = 3\n",
      "Build sequence\n",
      "  0.010838 seconds (8.43 k allocations: 488.594 KiB, 78.97% gc time)\n",
      "Find smp\n",
      "  0.000142 seconds (1.26 k allocations: 100.453 KiB)\n",
      "PSW(0.9728940109399586, [2, 1, 2, 1, 1, 1, 1, 1])\n",
      "d = 1, l = 2, p_0 = Primal, v_0 = 4\n",
      "Build sequence\n",
      "  0.000556 seconds (8.21 k allocations: 474.734 KiB)\n",
      "Find smp\n",
      "  0.000085 seconds (900 allocations: 67.484 KiB)\n",
      "PSW(0.9728940109399586, [1, 1, 1, 1, 2, 1, 2, 1])\n",
      "d = 1, l = 2, p_0 = Random, v_0 = 1\n",
      "Build sequence\n",
      "  0.000530 seconds (8.29 k allocations: 480.141 KiB)\n",
      "Find smp\n",
      "  0.000091 seconds (985 allocations: 74.281 KiB)\n",
      "PSW(0.9728940109399586, [1, 1, 1, 1, 2, 1, 2, 1])\n",
      "d = 1, l = 2, p_0 = Random, v_0 = 2\n",
      "Build sequence\n",
      "  0.000517 seconds (8.24 k allocations: 476.719 KiB)\n",
      "Find smp\n",
      "  0.000099 seconds (868 allocations: 66.031 KiB)\n",
      "PSW(0.9591026003836985, [1, 1, 1, 2, 1, 2, 1, 2, 1])\n",
      "d = 1, l = 2, p_0 = Random, v_0 = 3\n",
      "Build sequence\n",
      "  0.000615 seconds (8.29 k allocations: 480.141 KiB)\n",
      "Find smp\n",
      "  0.000119 seconds (1.10 k allocations: 86.469 KiB)\n",
      "PSW(0.9591026003836987, [1, 1, 2, 1, 2, 1, 2, 1, 1])\n",
      "d = 1, l = 2, p_0 = Random, v_0 = 4\n",
      "Build sequence\n",
      "  0.000603 seconds (8.26 k allocations: 477.859 KiB)\n",
      "Find smp\n",
      "  0.000097 seconds (894 allocations: 68.266 KiB)\n",
      "PSW(0.9728940109399586, [2, 1, 1, 1, 1, 1, 2, 1])\n",
      "  0.018563 seconds (80.08 k allocations: 4.478 MiB, 46.10% gc time)\n",
      "d = 1, l = 3, p_0 = Primal, v_0 = 1\n",
      "Build sequence\n",
      "  0.000899 seconds (17.71 k allocations: 1021.797 KiB)\n",
      "Find smp\n",
      "  0.000078 seconds (819 allocations: 63.203 KiB)\n",
      "PSW(0.9728940109399586, [1, 2, 1, 1, 1, 1, 1, 2])\n",
      "d = 1, l = 3, p_0 = Primal, v_0 = 2\n",
      "Build sequence\n",
      "  0.000933 seconds (17.90 k allocations: 1.009 MiB)\n",
      "Find smp\n",
      "  0.000062 seconds (698 allocations: 51.234 KiB)\n",
      "PSW(0.9635728013202637, [1, 1, 1, 1, 1, 2, 1])\n",
      "d = 1, l = 3, p_0 = Primal, v_0 = 3\n",
      "Build sequence\n",
      "  0.001220 seconds (18.09 k allocations: 1.020 MiB)\n",
      "Find smp\n",
      "  0.000169 seconds (1.15 k allocations: 92.016 KiB)\n",
      "PSW(0.9635728013202637, [1, 2, 1, 1, 1, 1, 1])\n",
      "d = 1, l = 3, p_0 = Primal, v_0 = 4\n",
      "Build sequence\n",
      "  0.001070 seconds (17.79 k allocations: 1.002 MiB)\n",
      "Find smp\n",
      "  0.000076 seconds (653 allocations: 49.813 KiB)\n",
      "\u001b[34m\u001b[1mPSW(0.9748171979372074, [2, 3, 1, 1, 1, 1, 2, 1])\u001b[22m\u001b[39m\n",
      "d = 1, l = 3, p_0 = Random, v_0 = 1\n",
      "Build sequence\n",
      "  0.000972 seconds (17.95 k allocations: 1.012 MiB)\n",
      "Find smp\n",
      "  0.000059 seconds (568 allocations: 39.969 KiB)\n",
      "PSW(0.9635728013202637, [1, 1, 1, 1, 1, 1, 2])\n",
      "d = 1, l = 3, p_0 = Random, v_0 = 2\n",
      "Build sequence\n",
      "  0.000904 seconds (17.76 k allocations: 1.001 MiB)\n",
      "Find smp\n",
      "  0.000090 seconds (825 allocations: 65.500 KiB)\n",
      "PSW(0.9712689438654863, [1, 1, 2, 1, 4, 1, 1, 1])\n",
      "d = 1, l = 3, p_0 = Random, v_0 = 3\n",
      "Build sequence\n",
      "  0.000828 seconds (17.95 k allocations: 1.012 MiB)\n",
      "Find smp\n",
      "  0.000079 seconds (1.02 k allocations: 81.703 KiB)\n",
      "PSW(0.9728940109399586, [1, 1, 2, 1, 2, 1, 1, 1])\n",
      "d = 1, l = 3, p_0 = Random, v_0 = 4\n",
      "Build sequence\n",
      "  0.000854 seconds (17.84 k allocations: 1.005 MiB)\n",
      "Find smp\n",
      "  0.000053 seconds (653 allocations: 49.813 KiB)\n",
      "\u001b[34m\u001b[1mPSW(0.9748171979372074, [2, 3, 1, 1, 1, 1, 2, 1])\u001b[22m\u001b[39m\n",
      "  0.011128 seconds (155.16 k allocations: 8.677 MiB)\n"
     ]
    }
   ],
   "source": [
    "full_sos(1, niter=9)"
   ]
  },
  {
   "cell_type": "markdown",
   "metadata": {},
   "source": [
    "For $d = 2$ and $d = 3$, we still find the s.m.p. the same way as with $l = 3$."
   ]
  },
  {
   "cell_type": "code",
   "execution_count": 85,
   "metadata": {},
   "outputs": [
    {
     "name": "stdout",
     "output_type": "stream",
     "text": [
      "Lower bound: 0.0\n",
      "Upper bound: Inf\n",
      "Log-diff   : Inf > 0.01\n",
      "Lower bound: 0.0\n",
      "Upper bound: 1.2264130506891073\n",
      "Log-diff   : Inf > 0.01\n",
      "Lower bound: 0.7438571167146476\n",
      "Upper bound: 1.2264130506891073\n",
      "Log-diff   : 0.5 > 0.01\n",
      "Lower bound: 0.9551314442456673\n",
      "Upper bound: 1.2264130506891073\n",
      "Log-diff   : 0.25 > 0.01\n",
      "Lower bound: 0.9551314442456673\n",
      "Upper bound: 1.0823057185224616\n",
      "Log-diff   : 0.125 > 0.01\n",
      "Lower bound: 0.9551314442456673\n",
      "Upper bound: 1.0167321299377252\n",
      "Log-diff   : 0.06249999999999996 > 0.01\n",
      "Lower bound: 0.985450570895564\n",
      "Upper bound: 1.0167321299377252\n",
      "Log-diff   : 0.03124999999999998 > 0.01\n",
      "Lower bound: 0.985450570895564\n",
      "Upper bound: 1.0009691593126104\n",
      "Log-diff   : 0.015625000000000007 > 0.01\n",
      "Lower bound: 0.985450570895564\n",
      "Upper bound: 0.9931795555152475\n",
      "Log-diff   : 0.0078124999999999575 ≤ 0.01\n",
      "  0.969250 seconds (450.13 k allocations: 23.214 MiB, 0.84% gc time)\n",
      "d = 2, l = 1, p_0 = Primal, v_0 = 1\n",
      "Build sequence\n",
      "  0.003109 seconds (56.21 k allocations: 3.528 MiB)\n",
      "Find smp\n",
      "  0.024150 seconds (219.37 k allocations: 16.944 MiB, 32.86% gc time)\n",
      "PSW(0.9728940109399586, [2, 1, 2, 1, 1, 1, 1, 1])\n",
      "d = 2, l = 1, p_0 = Primal, v_0 = 2\n",
      "Build sequence\n",
      "  0.002573 seconds (56.10 k allocations: 3.520 MiB)\n",
      "Find smp\n",
      "  0.021701 seconds (209.84 k allocations: 16.104 MiB, 30.76% gc time)\n",
      "PSW(0.9728940109399586, [1, 1, 1, 1, 1, 2, 1, 2])\n",
      "d = 2, l = 1, p_0 = Primal, v_0 = 3\n",
      "Build sequence\n",
      "  0.002993 seconds (57.61 k allocations: 3.630 MiB)\n",
      "Find smp\n",
      "  0.031195 seconds (538.10 k allocations: 28.147 MiB, 39.16% gc time)\n",
      "PSW(0.9392550239418472, [1])\n",
      "d = 2, l = 1, p_0 = Primal, v_0 = 4\n",
      "Build sequence\n",
      "  0.003547 seconds (56.13 k allocations: 3.522 MiB)\n",
      "Find smp\n",
      "  0.014487 seconds (213.50 k allocations: 16.423 MiB)\n",
      "PSW(0.9728940109399586, [2, 1, 1, 1, 1, 1, 2, 1])\n",
      "d = 2, l = 1, p_0 = Random, v_0 = 1\n",
      "Build sequence\n",
      "  0.009460 seconds (56.21 k allocations: 3.528 MiB, 66.09% gc time)\n",
      "Find smp\n",
      "  0.015915 seconds (212.22 k allocations: 16.293 MiB)\n",
      "PSW(0.9728940109399586, [1, 1, 1, 1, 2, 1, 2, 1])\n",
      "d = 2, l = 1, p_0 = Random, v_0 = 2\n",
      "Build sequence\n",
      "  0.009550 seconds (56.21 k allocations: 3.528 MiB, 69.65% gc time)\n",
      "Find smp\n",
      "  0.016437 seconds (213.84 k allocations: 16.439 MiB)\n",
      "PSW(0.9728940109399586, [1, 1, 1, 2, 1, 2, 1, 1])\n",
      "d = 2, l = 1, p_0 = Random, v_0 = 3\n",
      "Build sequence\n",
      "  0.002833 seconds (56.27 k allocations: 3.532 MiB)\n",
      "Find smp\n",
      "  0.022760 seconds (219.96 k allocations: 16.924 MiB, 28.62% gc time)\n",
      "PSW(0.9728940109399586, [1, 1, 2, 1, 2, 1, 1, 1])\n",
      "d = 2, l = 1, p_0 = Random, v_0 = 4\n",
      "Build sequence\n",
      "  0.002787 seconds (56.18 k allocations: 3.526 MiB)\n",
      "Find smp\n",
      "  0.021422 seconds (213.51 k allocations: 16.493 MiB, 28.85% gc time)\n",
      "PSW(0.9728940109399586, [2, 1, 2, 1, 1, 1, 1, 1])\n",
      "  0.208288 seconds (2.50 M allocations: 172.241 MiB, 25.17% gc time)\n",
      "d = 2, l = 2, p_0 = Primal, v_0 = 1\n",
      "Build sequence\n",
      "  0.002066 seconds (41.99 k allocations: 2.643 MiB)\n",
      "Find smp\n",
      "  0.023440 seconds (224.84 k allocations: 17.498 MiB, 26.59% gc time)\n",
      "PSW(0.9728940109399586, [2, 1, 2, 1, 1, 1, 1, 1])\n",
      "d = 2, l = 2, p_0 = Primal, v_0 = 2\n",
      "Build sequence\n",
      "  0.002217 seconds (41.82 k allocations: 2.631 MiB)\n",
      "Find smp\n",
      "  0.021894 seconds (213.29 k allocations: 16.459 MiB, 30.22% gc time)\n",
      "PSW(0.9728940109399586, [2, 1, 2, 1, 1, 1, 1, 1])\n",
      "d = 2, l = 2, p_0 = Primal, v_0 = 3\n",
      "Build sequence\n",
      "  0.002431 seconds (42.08 k allocations: 2.650 MiB)\n",
      "Find smp\n",
      "  0.022426 seconds (224.79 k allocations: 17.456 MiB, 28.03% gc time)\n",
      "PSW(0.9728940109399586, [2, 1, 2, 1, 1, 1, 1, 1])\n",
      "d = 2, l = 2, p_0 = Primal, v_0 = 4\n",
      "Build sequence\n",
      "  0.002380 seconds (41.68 k allocations: 2.621 MiB)\n",
      "Find smp\n",
      "  0.021022 seconds (213.50 k allocations: 16.423 MiB, 29.10% gc time)\n",
      "PSW(0.9728940109399586, [2, 1, 1, 1, 1, 1, 2, 1])\n",
      "d = 2, l = 2, p_0 = Random, v_0 = 1\n",
      "Build sequence\n",
      "  0.002487 seconds (41.88 k allocations: 2.635 MiB)\n",
      "Find smp\n",
      "  0.022746 seconds (216.22 k allocations: 16.624 MiB, 32.44% gc time)\n",
      "PSW(0.9728940109399586, [1, 1, 2, 1, 2, 1, 1, 1])\n",
      "d = 2, l = 2, p_0 = Random, v_0 = 2\n",
      "Build sequence\n",
      "  0.003018 seconds (41.88 k allocations: 2.635 MiB)\n",
      "Find smp\n",
      "  0.014697 seconds (213.29 k allocations: 16.459 MiB)\n",
      "PSW(0.9728940109399586, [2, 1, 2, 1, 1, 1, 1, 1])\n",
      "d = 2, l = 2, p_0 = Random, v_0 = 3\n",
      "Build sequence\n",
      "  0.008897 seconds (41.88 k allocations: 2.635 MiB, 72.27% gc time)\n",
      "Find smp\n",
      "  0.015300 seconds (215.79 k allocations: 16.580 MiB)\n",
      "PSW(0.9728940109399586, [1, 1, 1, 2, 1, 2, 1, 1])\n",
      "d = 2, l = 2, p_0 = Random, v_0 = 4\n",
      "Build sequence\n",
      "  0.002006 seconds (41.74 k allocations: 2.625 MiB)\n",
      "Find smp\n",
      "  0.021428 seconds (213.50 k allocations: 16.423 MiB, 29.34% gc time)\n",
      "PSW(0.9728940109399586, [2, 1, 1, 1, 1, 1, 2, 1])\n",
      "  0.191786 seconds (2.08 M allocations: 155.151 MiB, 23.65% gc time)\n",
      "d = 2, l = 3, p_0 = Primal, v_0 = 1\n",
      "Build sequence\n",
      "  0.002732 seconds (61.17 k allocations: 3.876 MiB)\n",
      "Find smp\n",
      "  0.022509 seconds (236.04 k allocations: 18.908 MiB, 26.72% gc time)\n",
      "\u001b[34m\u001b[1mPSW(0.9748171979372074, [3, 1, 1, 1, 1, 2, 1, 2])\u001b[22m\u001b[39m\n",
      "d = 2, l = 3, p_0 = Primal, v_0 = 2\n",
      "Build sequence\n",
      "  0.004642 seconds (60.61 k allocations: 3.836 MiB)\n",
      "Find smp\n",
      "  0.035570 seconds (246.05 k allocations: 19.719 MiB, 19.60% gc time)\n",
      "\u001b[34m\u001b[1mPSW(0.9748171979372074, [3, 1, 1, 1, 1, 2, 1, 2])\u001b[22m\u001b[39m\n",
      "d = 2, l = 3, p_0 = Primal, v_0 = 3\n",
      "Build sequence\n",
      "  0.003967 seconds (60.89 k allocations: 3.856 MiB)\n",
      "Find smp\n",
      "  0.024729 seconds (251.94 k allocations: 20.239 MiB, 24.34% gc time)\n",
      "\u001b[34m\u001b[1mPSW(0.9748171979372074, [3, 1, 1, 1, 1, 2, 1, 2])\u001b[22m\u001b[39m\n",
      "d = 2, l = 3, p_0 = Primal, v_0 = 4\n",
      "Build sequence\n",
      "  0.009635 seconds (60.72 k allocations: 3.844 MiB, 64.71% gc time)\n",
      "Find smp\n",
      "  0.017280 seconds (233.51 k allocations: 18.743 MiB)\n",
      "\u001b[34m\u001b[1mPSW(0.9748171979372074, [3, 1, 1, 1, 1, 2, 1, 2])\u001b[22m\u001b[39m\n",
      "d = 2, l = 3, p_0 = Random, v_0 = 1\n",
      "Build sequence\n",
      "  0.009617 seconds (60.38 k allocations: 3.819 MiB, 64.76% gc time)\n",
      "Find smp\n",
      "  0.025741 seconds (240.58 k allocations: 19.308 MiB, 25.54% gc time)\n",
      "\u001b[34m\u001b[1mPSW(0.9748171979372074, [3, 1, 1, 1, 1, 2, 1, 2])\u001b[22m\u001b[39m\n",
      "d = 2, l = 3, p_0 = Random, v_0 = 2\n",
      "Build sequence\n",
      "  0.003956 seconds (60.94 k allocations: 3.860 MiB)\n",
      "Find smp\n",
      "  0.024861 seconds (240.19 k allocations: 19.242 MiB, 25.71% gc time)\n",
      "\u001b[34m\u001b[1mPSW(0.9748171979372074, [3, 1, 1, 1, 1, 2, 1, 2])\u001b[22m\u001b[39m\n",
      "d = 2, l = 3, p_0 = Random, v_0 = 3\n",
      "Build sequence\n",
      "  0.003829 seconds (60.94 k allocations: 3.860 MiB)\n",
      "Find smp\n",
      "  0.026340 seconds (252.77 k allocations: 20.278 MiB, 27.13% gc time)\n",
      "\u001b[34m\u001b[1mPSW(0.9748171979372074, [3, 1, 1, 1, 1, 2, 1, 2])\u001b[22m\u001b[39m\n",
      "d = 2, l = 3, p_0 = Random, v_0 = 4\n",
      "Build sequence\n",
      "  0.003344 seconds (61.05 k allocations: 3.868 MiB)\n",
      "Find smp\n",
      "  0.023558 seconds (233.81 k allocations: 18.724 MiB, 26.43% gc time)\n",
      "\u001b[34m\u001b[1mPSW(0.9748171979372074, [2, 3, 1, 1, 1, 1, 2, 1])\u001b[22m\u001b[39m\n",
      "  0.246460 seconds (2.43 M allocations: 186.172 MiB, 23.45% gc time)\n"
     ]
    }
   ],
   "source": [
    "full_sos(2)"
   ]
  },
  {
   "cell_type": "code",
   "execution_count": 86,
   "metadata": {},
   "outputs": [
    {
     "name": "stdout",
     "output_type": "stream",
     "text": [
      "Lower bound: 0.0\n",
      "Upper bound: Inf\n",
      "Log-diff   : Inf > 0.01\n",
      "Lower bound: 0.0\n",
      "Upper bound: 1.2264130506891073\n",
      "Log-diff   : Inf > 0.01\n",
      "Lower bound: 0.7438571167146476\n",
      "Upper bound: 1.2264130506891073\n",
      "Log-diff   : 0.5 > 0.01\n",
      "Lower bound: 0.9551314442456673\n",
      "Upper bound: 1.2264130506891073\n",
      "Log-diff   : 0.25 > 0.01\n",
      "Lower bound: 0.9551314442456673\n",
      "Upper bound: 1.0823057185224616\n",
      "Log-diff   : 0.125 > 0.01\n",
      "Lower bound: 0.9551314442456673\n",
      "Upper bound: 1.0167321299377252\n",
      "Log-diff   : 0.06249999999999996 > 0.01\n",
      "Lower bound: 0.9551314442456673\n",
      "Upper bound: 0.985450570895564\n",
      "Log-diff   : 0.031249999999999983 > 0.01\n",
      "Lower bound: 0.9701725758916283\n",
      "Upper bound: 0.985450570895564\n",
      "Log-diff   : 0.01562500000000005 > 0.01\n",
      "Lower bound: 0.9701725758916283\n",
      "Upper bound: 0.9777817337113764\n",
      "Log-diff   : 0.007812500000000066 ≤ 0.01\n",
      "  0.967412 seconds (501.77 k allocations: 28.118 MiB, 0.66% gc time)\n",
      "d = 3, l = 1, p_0 = Primal, v_0 = 1\n",
      "Build sequence\n",
      "  0.004653 seconds (80.77 k allocations: 5.186 MiB)\n",
      "Find smp\n",
      "  0.025383 seconds (236.46 k allocations: 18.834 MiB, 27.48% gc time)\n",
      "PSW(0.9728940109399586, [2, 1, 2, 1, 1, 1, 1, 1])\n",
      "d = 3, l = 1, p_0 = Primal, v_0 = 2\n",
      "Build sequence\n",
      "  0.003864 seconds (80.62 k allocations: 5.173 MiB)\n",
      "Find smp\n",
      "  0.022199 seconds (226.45 k allocations: 17.981 MiB, 28.08% gc time)\n",
      "PSW(0.9728940109399586, [1, 1, 1, 1, 1, 2, 1, 2])\n",
      "d = 3, l = 1, p_0 = Primal, v_0 = 3\n",
      "Build sequence\n",
      "  0.004135 seconds (82.49 k allocations: 5.323 MiB)\n",
      "Find smp\n",
      "  0.031198 seconds (538.10 k allocations: 28.147 MiB, 38.66% gc time)\n",
      "PSW(0.9392550239418472, [1])\n",
      "d = 3, l = 1, p_0 = Primal, v_0 = 4\n",
      "Build sequence\n",
      "  0.004864 seconds (80.66 k allocations: 5.176 MiB)\n",
      "Find smp\n",
      "  0.022566 seconds (230.04 k allocations: 18.310 MiB, 27.75% gc time)\n",
      "PSW(0.9728940109399586, [2, 1, 2, 1, 1, 1, 1, 1])\n",
      "d = 3, l = 1, p_0 = Random, v_0 = 1\n",
      "Build sequence\n",
      "  0.004515 seconds (80.75 k allocations: 5.183 MiB)\n",
      "Find smp\n",
      "  0.024716 seconds (232.56 k allocations: 18.491 MiB, 30.80% gc time)\n",
      "PSW(0.9728940109399586, [1, 1, 1, 1, 1, 2, 1, 2])\n",
      "d = 3, l = 1, p_0 = Random, v_0 = 2\n",
      "Build sequence\n",
      "  0.004545 seconds (80.67 k allocations: 5.177 MiB)\n",
      "Find smp\n",
      "  0.023207 seconds (225.84 k allocations: 17.951 MiB, 28.09% gc time)\n",
      "PSW(0.9728940109399586, [2, 1, 2, 1, 1, 1, 1, 1])\n",
      "d = 3, l = 1, p_0 = Random, v_0 = 3\n",
      "Build sequence\n",
      "  0.004502 seconds (80.91 k allocations: 5.196 MiB)\n",
      "Find smp\n",
      "  0.023565 seconds (237.69 k allocations: 18.890 MiB, 26.58% gc time)\n",
      "PSW(0.9728940109399586, [1, 2, 1, 2, 1, 1, 1, 1])\n",
      "d = 3, l = 1, p_0 = Random, v_0 = 4\n",
      "Build sequence\n",
      "  0.004305 seconds (80.71 k allocations: 5.180 MiB)\n",
      "Find smp\n",
      "  0.022570 seconds (230.04 k allocations: 18.310 MiB, 27.10% gc time)\n",
      "PSW(0.9728940109399586, [2, 1, 2, 1, 1, 1, 1, 1])\n",
      "  0.234223 seconds (2.81 M allocations: 198.673 MiB, 24.78% gc time)\n",
      "d = 3, l = 2, p_0 = Primal, v_0 = 1\n",
      "Build sequence\n",
      "  0.003103 seconds (60.48 k allocations: 3.935 MiB)\n",
      "Find smp\n",
      "  0.025934 seconds (236.45 k allocations: 18.834 MiB, 24.92% gc time)\n",
      "PSW(0.9728940109399586, [2, 1, 2, 1, 1, 1, 1, 1])\n",
      "d = 3, l = 2, p_0 = Primal, v_0 = 2\n",
      "Build sequence\n",
      "  0.003296 seconds (60.48 k allocations: 3.935 MiB)\n",
      "Find smp\n",
      "  0.024164 seconds (230.20 k allocations: 18.318 MiB, 27.71% gc time)\n",
      "PSW(0.9728940109399586, [2, 1, 2, 1, 1, 1, 1, 1])\n",
      "d = 3, l = 2, p_0 = Primal, v_0 = 3\n",
      "Build sequence\n",
      "  0.003226 seconds (60.59 k allocations: 3.945 MiB)\n",
      "Find smp\n",
      "  0.024588 seconds (241.84 k allocations: 19.259 MiB, 26.44% gc time)\n",
      "PSW(0.9728940109399586, [2, 1, 2, 1, 1, 1, 1, 1])\n",
      "d = 3, l = 2, p_0 = Primal, v_0 = 4\n",
      "Build sequence\n",
      "  0.003097 seconds (60.28 k allocations: 3.920 MiB)\n",
      "Find smp\n",
      "  0.023381 seconds (230.04 k allocations: 18.310 MiB, 26.14% gc time)\n",
      "PSW(0.9728940109399586, [2, 1, 2, 1, 1, 1, 1, 1])\n",
      "d = 3, l = 2, p_0 = Random, v_0 = 1\n",
      "Build sequence\n",
      "  0.003189 seconds (60.53 k allocations: 3.939 MiB)\n",
      "Find smp\n",
      "  0.025193 seconds (232.56 k allocations: 18.498 MiB, 24.87% gc time)\n",
      "PSW(0.9728940109399586, [2, 1, 2, 1, 1, 1, 1, 1])\n",
      "d = 3, l = 2, p_0 = Random, v_0 = 2\n",
      "Build sequence\n",
      "  0.003201 seconds (60.53 k allocations: 3.939 MiB)\n",
      "Find smp\n",
      "  0.024005 seconds (230.20 k allocations: 18.318 MiB, 27.06% gc time)\n",
      "PSW(0.9728940109399586, [2, 1, 2, 1, 1, 1, 1, 1])\n",
      "d = 3, l = 2, p_0 = Random, v_0 = 3\n",
      "Build sequence\n",
      "  0.003144 seconds (60.53 k allocations: 3.939 MiB)\n",
      "Find smp\n",
      "  0.023866 seconds (236.41 k allocations: 18.841 MiB, 26.59% gc time)\n",
      "PSW(0.9728940109399586, [2, 1, 2, 1, 1, 1, 1, 1])\n",
      "d = 3, l = 2, p_0 = Random, v_0 = 4\n",
      "Build sequence\n",
      "  0.002962 seconds (60.34 k allocations: 3.924 MiB)\n",
      "Find smp\n",
      "  0.022487 seconds (226.61 k allocations: 17.987 MiB, 26.94% gc time)\n",
      "PSW(0.9728940109399586, [1, 1, 1, 1, 2, 1, 2, 1])\n",
      "  0.222278 seconds (2.35 M allocations: 180.008 MiB, 22.91% gc time)\n",
      "d = 3, l = 3, p_0 = Primal, v_0 = 1\n",
      "Build sequence\n",
      "  0.010675 seconds (86.38 k allocations: 5.695 MiB, 57.42% gc time)\n",
      "Find smp\n",
      "  0.018289 seconds (231.26 k allocations: 18.476 MiB)\n",
      "PSW(0.9728940109399586, [2, 1, 2, 1, 1, 1, 1, 1])\n",
      "d = 3, l = 3, p_0 = Primal, v_0 = 2\n",
      "Build sequence\n",
      "  0.011458 seconds (85.99 k allocations: 5.664 MiB, 55.12% gc time)\n",
      "Find smp\n",
      "  0.017989 seconds (215.48 k allocations: 17.090 MiB)\n",
      "PSW(0.9728940109399586, [1, 1, 1, 1, 2, 1, 2, 1])\n",
      "d = 3, l = 3, p_0 = Primal, v_0 = 3\n",
      "Build sequence\n",
      "  0.012437 seconds (86.38 k allocations: 5.695 MiB, 55.55% gc time)\n",
      "Find smp\n",
      "  0.024698 seconds (230.71 k allocations: 18.374 MiB, 26.73% gc time)\n",
      "PSW(0.9728940109399586, [2, 1, 2, 1, 1, 1, 1, 1])\n",
      "d = 3, l = 3, p_0 = Primal, v_0 = 4\n",
      "Build sequence\n",
      "  0.005172 seconds (85.75 k allocations: 5.645 MiB)\n",
      "Find smp\n",
      "  0.023095 seconds (213.72 k allocations: 17.016 MiB, 29.01% gc time)\n",
      "\u001b[34m\u001b[1mPSW(0.9748171979372074, [2, 3, 1, 1, 1, 1, 2, 1])\u001b[22m\u001b[39m\n",
      "d = 3, l = 3, p_0 = Random, v_0 = 1\n",
      "Build sequence\n",
      "  0.004777 seconds (85.26 k allocations: 5.606 MiB)\n",
      "Find smp\n",
      "  0.021790 seconds (210.82 k allocations: 16.585 MiB, 29.28% gc time)\n",
      "PSW(0.9728940109399586, [2, 1, 2, 1, 1, 1, 1, 1])\n",
      "d = 3, l = 3, p_0 = Random, v_0 = 2\n",
      "Build sequence\n",
      "  0.005034 seconds (86.04 k allocations: 5.668 MiB)\n",
      "Find smp\n",
      "  0.022304 seconds (215.48 k allocations: 17.090 MiB, 28.39% gc time)\n",
      "PSW(0.9728940109399586, [1, 1, 1, 1, 2, 1, 2, 1])\n",
      "d = 3, l = 3, p_0 = Random, v_0 = 3\n",
      "Build sequence\n",
      "  0.004804 seconds (86.04 k allocations: 5.668 MiB)\n",
      "Find smp\n",
      "  0.022121 seconds (219.32 k allocations: 17.375 MiB, 28.20% gc time)\n",
      "PSW(0.9728940109399586, [2, 1, 2, 1, 1, 1, 1, 1])\n",
      "d = 3, l = 3, p_0 = Random, v_0 = 4\n",
      "Build sequence\n",
      "  0.004540 seconds (85.03 k allocations: 5.587 MiB)\n",
      "Find smp\n",
      "  0.022227 seconds (212.88 k allocations: 16.828 MiB, 29.95% gc time)\n",
      "PSW(0.9728940109399586, [2, 1, 2, 1, 1, 1, 1, 1])\n",
      "  0.235123 seconds (2.44 M allocations: 184.231 MiB, 24.78% gc time)\n"
     ]
    }
   ],
   "source": [
    "full_sos(3)"
   ]
  },
  {
   "cell_type": "markdown",
   "metadata": {},
   "source": [
    "For $d=4, 5, 6$, we find the s.m.p. with $l=1$ even generating a sequence of 8 matrices."
   ]
  },
  {
   "cell_type": "code",
   "execution_count": 87,
   "metadata": {},
   "outputs": [
    {
     "name": "stdout",
     "output_type": "stream",
     "text": [
      "Lower bound: 0.0\n",
      "Upper bound: Inf\n",
      "Log-diff   : Inf > 0.01\n",
      "Lower bound: 0.0\n",
      "Upper bound: 1.2264130506891073\n",
      "Log-diff   : Inf > 0.01\n",
      "Lower bound: 0.7438571167146476\n",
      "Upper bound: 1.2264130506891073\n",
      "Log-diff   : 0.5 > 0.01\n",
      "Lower bound: 0.9551314442456673\n",
      "Upper bound: 1.2264130506891073\n",
      "Log-diff   : 0.25 > 0.01\n",
      "Lower bound: 0.9551314442456673\n",
      "Upper bound: 1.0823057185224616\n",
      "Log-diff   : 0.125 > 0.01\n",
      "Lower bound: 0.9551314442456673\n",
      "Upper bound: 1.0167321299377252\n",
      "Log-diff   : 0.06249999999999996 > 0.01\n",
      "Lower bound: 0.9551314442456673\n",
      "Upper bound: 0.985450570895564\n",
      "Log-diff   : 0.031249999999999983 > 0.01\n",
      "Lower bound: 0.9701725758916283\n",
      "Upper bound: 0.985450570895564\n",
      "Log-diff   : 0.01562500000000005 > 0.01\n",
      "Lower bound: 0.9701725758916283\n",
      "Upper bound: 0.9777817337113764\n",
      "Log-diff   : 0.007812500000000066 ≤ 0.01\n",
      "  1.004379 seconds (560.35 k allocations: 34.662 MiB, 0.61% gc time)\n",
      "d = 4, l = 1, p_0 = Primal, v_0 = 1\n",
      "Build sequence\n",
      "  0.001003 seconds (15.38 k allocations: 988.969 KiB)\n",
      "Find smp\n",
      "  0.000060 seconds (530 allocations: 40.031 KiB)\n",
      "PSW(0.9644749084927888, [3, 1, 1, 1, 1, 1, 2])\n",
      "d = 4, l = 1, p_0 = Primal, v_0 = 2\n",
      "Build sequence\n",
      "  0.000924 seconds (15.38 k allocations: 988.969 KiB)\n",
      "Find smp\n",
      "  0.000047 seconds (486 allocations: 36.141 KiB)\n",
      "\u001b[34m\u001b[1mPSW(0.9748171979372074, [1, 1, 1, 1, 2, 1, 2, 3])\u001b[22m\u001b[39m\n",
      "d = 4, l = 1, p_0 = Primal, v_0 = 3\n",
      "Build sequence\n",
      "  0.000947 seconds (15.48 k allocations: 998.781 KiB)\n",
      "Find smp\n",
      "  0.000063 seconds (695 allocations: 54.219 KiB)\n",
      "PSW(0.9728940109399586, [2, 1, 2, 1, 1, 1, 1, 1])\n",
      "d = 4, l = 1, p_0 = Primal, v_0 = 4\n",
      "Build sequence\n",
      "  0.008922 seconds (15.34 k allocations: 984.906 KiB, 80.06% gc time)\n",
      "Find smp\n",
      "  0.000053 seconds (450 allocations: 33.234 KiB)\n",
      "PSW(0.9392550239418472, [1])\n",
      "d = 4, l = 1, p_0 = Random, v_0 = 1\n",
      "Build sequence\n",
      "  0.000871 seconds (15.44 k allocations: 993.859 KiB)\n",
      "Find smp\n",
      "  0.000044 seconds (513 allocations: 38.766 KiB)\n",
      "\u001b[34m\u001b[1mPSW(0.9748171979372074, [3, 1, 1, 1, 1, 2, 1, 2])\u001b[22m\u001b[39m\n",
      "d = 4, l = 1, p_0 = Random, v_0 = 2\n",
      "Build sequence\n",
      "  0.000793 seconds (15.44 k allocations: 993.859 KiB)\n",
      "Find smp\n",
      "  0.000039 seconds (486 allocations: 36.141 KiB)\n",
      "\u001b[34m\u001b[1mPSW(0.9748171979372074, [1, 1, 1, 1, 2, 1, 2, 3])\u001b[22m\u001b[39m\n",
      "d = 4, l = 1, p_0 = Random, v_0 = 3\n",
      "Build sequence\n",
      "  0.000820 seconds (15.44 k allocations: 993.859 KiB)\n",
      "Find smp\n",
      "  0.000064 seconds (610 allocations: 47.281 KiB)\n",
      "\u001b[34m\u001b[1mPSW(0.9748171979372074, [1, 1, 1, 2, 1, 2, 3, 1])\u001b[22m\u001b[39m\n",
      "d = 4, l = 1, p_0 = Random, v_0 = 4\n",
      "Build sequence\n",
      "  0.000759 seconds (15.39 k allocations: 988.953 KiB)\n",
      "Find smp\n",
      "  0.000043 seconds (444 allocations: 32.953 KiB)\n",
      "PSW(0.9392550239418472, [1])\n",
      "  0.018070 seconds (133.30 k allocations: 8.194 MiB, 39.53% gc time)\n",
      "d = 4, l = 2, p_0 = Primal, v_0 = 1\n",
      "Build sequence\n",
      "  0.001550 seconds (24.83 k allocations: 1.514 MiB)\n",
      "Find smp\n",
      "  0.000092 seconds (515 allocations: 39.016 KiB)\n",
      "\u001b[34m\u001b[1mPSW(0.9748171979372074, [1, 2, 3, 1, 1, 1, 1, 2])\u001b[22m\u001b[39m\n",
      "d = 4, l = 2, p_0 = Primal, v_0 = 2\n",
      "Build sequence\n",
      "  0.001872 seconds (24.98 k allocations: 1.529 MiB)\n",
      "Find smp\n",
      "  0.000091 seconds (540 allocations: 40.344 KiB)\n",
      "PSW(0.9392550239418472, [1])\n",
      "d = 4, l = 2, p_0 = Primal, v_0 = 3\n",
      "Build sequence\n",
      "  0.001446 seconds (25.14 k allocations: 1.543 MiB)\n",
      "Find smp\n",
      "  0.000134 seconds (792 allocations: 63.563 KiB)\n",
      "PSW(0.9728940109399586, [1, 1, 2, 1, 2, 1, 1, 1])\n",
      "d = 4, l = 2, p_0 = Primal, v_0 = 4\n",
      "Build sequence\n",
      "  0.001443 seconds (24.73 k allocations: 1.505 MiB)\n",
      "Find smp\n",
      "  0.000057 seconds (450 allocations: 33.234 KiB)\n",
      "PSW(0.9392550239418472, [1])\n",
      "d = 4, l = 2, p_0 = Random, v_0 = 1\n",
      "Build sequence\n",
      "  0.001305 seconds (24.89 k allocations: 1.519 MiB)\n",
      "Find smp\n",
      "  0.000052 seconds (515 allocations: 39.016 KiB)\n",
      "\u001b[34m\u001b[1mPSW(0.9748171979372074, [1, 2, 3, 1, 1, 1, 1, 2])\u001b[22m\u001b[39m\n",
      "d = 4, l = 2, p_0 = Random, v_0 = 2\n",
      "Build sequence\n",
      "  0.001255 seconds (25.05 k allocations: 1.533 MiB)\n",
      "Find smp\n",
      "  0.000039 seconds (486 allocations: 36.141 KiB)\n",
      "\u001b[34m\u001b[1mPSW(0.9748171979372074, [1, 1, 1, 1, 2, 1, 2, 3])\u001b[22m\u001b[39m\n",
      "d = 4, l = 2, p_0 = Random, v_0 = 3\n",
      "Build sequence\n",
      "  0.001226 seconds (24.89 k allocations: 1.519 MiB)\n",
      "Find smp\n",
      "  0.000048 seconds (610 allocations: 47.281 KiB)\n",
      "\u001b[34m\u001b[1mPSW(0.9748171979372074, [1, 1, 1, 2, 1, 2, 3, 1])\u001b[22m\u001b[39m\n",
      "d = 4, l = 2, p_0 = Random, v_0 = 4\n",
      "Build sequence\n",
      "  0.001162 seconds (24.79 k allocations: 1.509 MiB)\n",
      "Find smp\n",
      "  0.000035 seconds (450 allocations: 33.234 KiB)\n",
      "PSW(0.9392550239418472, [1])\n",
      "  0.014703 seconds (209.28 k allocations: 12.626 MiB)\n",
      "d = 4, l = 3, p_0 = Primal, v_0 = 1\n",
      "Build sequence\n",
      "  0.003076 seconds (56.19 k allocations: 3.388 MiB)\n",
      "Find smp\n",
      "  0.000080 seconds (717 allocations: 55.563 KiB)\n",
      "\u001b[34m\u001b[1mPSW(0.9748171979372074, [1, 2, 3, 1, 1, 1, 1, 2])\u001b[22m\u001b[39m\n",
      "d = 4, l = 3, p_0 = Primal, v_0 = 2\n",
      "Build sequence\n",
      "  0.011741 seconds (56.70 k allocations: 3.436 MiB, 70.40% gc time)\n",
      "Find smp\n",
      "  0.000082 seconds (665 allocations: 50.422 KiB)\n",
      "PSW(0.9605413929275209, [1, 1, 1, 1, 2, 1, 2, 1, 3])\n",
      "d = 4, l = 3, p_0 = Primal, v_0 = 3\n",
      "Build sequence\n",
      "  0.003791 seconds (57.21 k allocations: 3.484 MiB)\n",
      "Find smp\n",
      "  0.000112 seconds (961 allocations: 76.453 KiB)\n",
      "PSW(0.9728940109399586, [2, 1, 2, 1, 1, 1, 1, 1])\n",
      "d = 4, l = 3, p_0 = Primal, v_0 = 4\n",
      "Build sequence\n",
      "  0.003624 seconds (56.39 k allocations: 3.407 MiB)\n",
      "Find smp\n",
      "  0.000096 seconds (653 allocations: 49.813 KiB)\n",
      "\u001b[34m\u001b[1mPSW(0.9748171979372074, [2, 3, 1, 1, 1, 1, 2, 1])\u001b[22m\u001b[39m\n",
      "d = 4, l = 3, p_0 = Random, v_0 = 1\n",
      "Build sequence\n",
      "  0.003625 seconds (56.76 k allocations: 3.441 MiB)\n",
      "Find smp\n",
      "  0.000084 seconds (716 allocations: 55.344 KiB)\n",
      "\u001b[34m\u001b[1mPSW(0.9748171979372074, [3, 1, 1, 1, 1, 2, 1, 2])\u001b[22m\u001b[39m\n",
      "d = 4, l = 3, p_0 = Random, v_0 = 2\n",
      "Build sequence\n",
      "  0.003368 seconds (56.25 k allocations: 3.393 MiB)\n",
      "Find smp\n",
      "  0.000057 seconds (600 allocations: 44.656 KiB)\n",
      "\u001b[34m\u001b[1mPSW(0.9748171979372074, [1, 1, 1, 1, 2, 1, 2, 3])\u001b[22m\u001b[39m\n",
      "d = 4, l = 3, p_0 = Random, v_0 = 3\n",
      "Build sequence\n",
      "  0.003761 seconds (56.76 k allocations: 3.441 MiB)\n",
      "Find smp\n",
      "  0.000088 seconds (695 allocations: 53.125 KiB)\n",
      "\u001b[34m\u001b[1mPSW(0.9748171979372074, [3, 1, 1, 1, 1, 2, 1, 2])\u001b[22m\u001b[39m\n",
      "d = 4, l = 3, p_0 = Random, v_0 = 4\n",
      "Build sequence\n",
      "  0.012270 seconds (55.94 k allocations: 3.364 MiB, 69.97% gc time)\n",
      "Find smp\n",
      "  0.000086 seconds (646 allocations: 49.500 KiB)\n",
      "\u001b[34m\u001b[1mPSW(0.9748171979372074, [2, 1, 2, 3, 1, 1, 1, 1])\u001b[22m\u001b[39m\n",
      "  0.049193 seconds (463.71 k allocations: 27.919 MiB, 34.25% gc time)\n"
     ]
    }
   ],
   "source": [
    "full_sos(4, niter=8)"
   ]
  },
  {
   "cell_type": "code",
   "execution_count": 40,
   "metadata": {},
   "outputs": [
    {
     "name": "stdout",
     "output_type": "stream",
     "text": [
      "  1.595366 seconds (939.81 k allocations: 64.703 MiB, 1.26% gc time)\n",
      "d = 5, l = 1, p_0 = Primal, v_0 = 1\n",
      "Build sequence\n",
      "  0.001327 seconds (20.11 k allocations: 1.285 MiB)\n",
      "Find smp\n",
      "  0.000061 seconds (515 allocations: 39.016 KiB)\n",
      "\u001b[34m\u001b[1mPSW(0.9748171979372074, [1, 2, 3, 1, 1, 1, 1, 2])\u001b[22m\u001b[39m\n",
      "d = 5, l = 1, p_0 = Primal, v_0 = 2\n",
      "Build sequence\n",
      "  0.001348 seconds (20.11 k allocations: 1.285 MiB)\n",
      "Find smp\n",
      "  0.000052 seconds (486 allocations: 36.141 KiB)\n",
      "\u001b[34m\u001b[1mPSW(0.9748171979372074, [1, 1, 1, 1, 2, 1, 2, 3])\u001b[22m\u001b[39m\n",
      "d = 5, l = 1, p_0 = Primal, v_0 = 3\n",
      "Build sequence\n",
      "  0.001300 seconds (20.11 k allocations: 1.285 MiB)\n",
      "Find smp\n",
      "  0.000060 seconds (603 allocations: 47.047 KiB)\n",
      "\u001b[34m\u001b[1mPSW(0.9748171979372074, [2, 1, 2, 3, 1, 1, 1, 1])\u001b[22m\u001b[39m\n",
      "d = 5, l = 1, p_0 = Primal, v_0 = 4\n",
      "Build sequence\n",
      "  0.001288 seconds (20.04 k allocations: 1.279 MiB)\n",
      "Find smp\n",
      "  0.000047 seconds (450 allocations: 33.234 KiB)\n",
      "PSW(0.9392550239418472, [1])\n",
      "d = 5, l = 1, p_0 = Random, v_0 = 1\n",
      "Build sequence\n",
      "  0.001264 seconds (20.17 k allocations: 1.291 MiB)\n",
      "Find smp\n",
      "  0.000049 seconds (513 allocations: 38.766 KiB)\n",
      "\u001b[34m\u001b[1mPSW(0.9748171979372074, [3, 1, 1, 1, 1, 2, 1, 2])\u001b[22m\u001b[39m\n",
      "d = 5, l = 1, p_0 = Random, v_0 = 2\n",
      "Build sequence\n",
      "  0.001247 seconds (20.17 k allocations: 1.291 MiB)\n",
      "Find smp\n",
      "  0.000047 seconds (486 allocations: 36.141 KiB)\n",
      "\u001b[34m\u001b[1mPSW(0.9748171979372074, [1, 1, 1, 1, 2, 1, 2, 3])\u001b[22m\u001b[39m\n",
      "d = 5, l = 1, p_0 = Random, v_0 = 3\n",
      "Build sequence\n",
      "  0.008383 seconds (20.18 k allocations: 1.291 MiB, 77.31% gc time)\n",
      "Find smp\n",
      "  0.000062 seconds (656 allocations: 51.875 KiB)\n",
      "\u001b[34m\u001b[1mPSW(0.9748171979372074, [1, 1, 2, 1, 2, 3, 1, 1])\u001b[22m\u001b[39m\n",
      "d = 5, l = 1, p_0 = Random, v_0 = 4\n",
      "Build sequence\n",
      "  0.001066 seconds (20.11 k allocations: 1.284 MiB)\n",
      "Find smp\n",
      "  0.000036 seconds (450 allocations: 33.234 KiB)\n",
      "PSW(0.9392550239418472, [1])\n",
      "  0.020429 seconds (170.94 k allocations: 10.738 MiB, 31.72% gc time)\n",
      "d = 5, l = 2, p_0 = Primal, v_0 = 1\n",
      "Build sequence\n",
      "  0.001582 seconds (32.50 k allocations: 2.009 MiB)\n",
      "Find smp\n",
      "  0.000041 seconds (515 allocations: 39.016 KiB)\n",
      "\u001b[34m\u001b[1mPSW(0.9748171979372074, [1, 2, 3, 1, 1, 1, 1, 2])\u001b[22m\u001b[39m\n",
      "d = 5, l = 2, p_0 = Primal, v_0 = 2\n",
      "Build sequence\n",
      "  0.001526 seconds (32.69 k allocations: 2.029 MiB)\n",
      "Find smp\n",
      "  0.000038 seconds (486 allocations: 36.141 KiB)\n",
      "\u001b[34m\u001b[1mPSW(0.9748171979372074, [1, 1, 1, 1, 2, 1, 2, 3])\u001b[22m\u001b[39m\n",
      "d = 5, l = 2, p_0 = Primal, v_0 = 3\n",
      "Build sequence\n",
      "  0.001524 seconds (32.89 k allocations: 2.049 MiB)\n",
      "Find smp\n",
      "  0.000058 seconds (792 allocations: 63.563 KiB)\n",
      "PSW(0.9728940109399586, [1, 1, 2, 1, 2, 1, 1, 1])\n",
      "d = 5, l = 2, p_0 = Primal, v_0 = 4\n",
      "Build sequence\n",
      "  0.001514 seconds (32.36 k allocations: 1.996 MiB)\n",
      "Find smp\n",
      "  0.000035 seconds (450 allocations: 33.234 KiB)\n",
      "PSW(0.9392550239418472, [1])\n",
      "d = 5, l = 2, p_0 = Random, v_0 = 1\n",
      "Build sequence\n",
      "  0.001615 seconds (32.36 k allocations: 1.995 MiB)\n",
      "Find smp\n",
      "  0.000039 seconds (500 allocations: 37.906 KiB)\n",
      "PSW(0.9392550239418472, [1])\n",
      "d = 5, l = 2, p_0 = Random, v_0 = 2\n",
      "Build sequence\n",
      "  0.001526 seconds (32.76 k allocations: 2.035 MiB)\n",
      "Find smp\n",
      "  0.000036 seconds (486 allocations: 36.141 KiB)\n",
      "\u001b[34m\u001b[1mPSW(0.9748171979372074, [1, 1, 1, 1, 2, 1, 2, 3])\u001b[22m\u001b[39m\n",
      "d = 5, l = 2, p_0 = Random, v_0 = 3\n",
      "Build sequence\n",
      "  0.001487 seconds (32.56 k allocations: 2.015 MiB)\n",
      "Find smp\n",
      "  0.000044 seconds (610 allocations: 47.281 KiB)\n",
      "\u001b[34m\u001b[1mPSW(0.9748171979372074, [1, 1, 1, 2, 1, 2, 3, 1])\u001b[22m\u001b[39m\n",
      "d = 5, l = 2, p_0 = Random, v_0 = 4\n",
      "Build sequence\n",
      "  0.001435 seconds (32.43 k allocations: 2.001 MiB)\n",
      "Find smp\n",
      "  0.000033 seconds (450 allocations: 33.234 KiB)\n",
      "PSW(0.9392550239418472, [1])\n",
      "  0.014776 seconds (270.47 k allocations: 16.580 MiB)\n",
      "d = 5, l = 3, p_0 = Primal, v_0 = 1\n",
      "Build sequence\n",
      "  0.009753 seconds (73.55 k allocations: 4.490 MiB, 65.68% gc time)\n",
      "Find smp\n",
      "  0.000057 seconds (717 allocations: 55.563 KiB)\n",
      "\u001b[34m\u001b[1mPSW(0.9748171979372074, [1, 2, 3, 1, 1, 1, 1, 2])\u001b[22m\u001b[39m\n",
      "d = 5, l = 3, p_0 = Primal, v_0 = 2\n",
      "Build sequence\n",
      "  0.003514 seconds (74.21 k allocations: 4.557 MiB)\n",
      "Find smp\n",
      "  0.000051 seconds (665 allocations: 50.422 KiB)\n",
      "PSW(0.9605413929275209, [1, 1, 1, 1, 2, 1, 2, 1, 3])\n",
      "d = 5, l = 3, p_0 = Primal, v_0 = 3\n",
      "Build sequence\n",
      "  0.003329 seconds (74.87 k allocations: 4.624 MiB)\n",
      "Find smp\n",
      "  0.000065 seconds (961 allocations: 76.453 KiB)\n",
      "PSW(0.9728940109399586, [2, 1, 2, 1, 1, 1, 1, 1])\n",
      "d = 5, l = 3, p_0 = Primal, v_0 = 4\n",
      "Build sequence\n",
      "  0.003394 seconds (73.82 k allocations: 4.517 MiB)\n",
      "Find smp\n",
      "  0.000049 seconds (653 allocations: 49.813 KiB)\n",
      "\u001b[34m\u001b[1mPSW(0.9748171979372074, [2, 3, 1, 1, 1, 1, 2, 1])\u001b[22m\u001b[39m\n",
      "d = 5, l = 3, p_0 = Random, v_0 = 1\n",
      "Build sequence\n",
      "  0.003369 seconds (74.28 k allocations: 4.562 MiB)\n",
      "Find smp\n",
      "  0.000051 seconds (716 allocations: 55.344 KiB)\n",
      "\u001b[34m\u001b[1mPSW(0.9748171979372074, [3, 1, 1, 1, 1, 2, 1, 2])\u001b[22m\u001b[39m\n",
      "d = 5, l = 3, p_0 = Random, v_0 = 2\n",
      "Build sequence\n",
      "  0.009787 seconds (74.28 k allocations: 4.562 MiB, 63.96% gc time)\n",
      "Find smp\n",
      "  0.000057 seconds (665 allocations: 50.422 KiB)\n",
      "PSW(0.9605413929275209, [1, 1, 1, 1, 2, 1, 2, 1, 3])\n",
      "d = 5, l = 3, p_0 = Random, v_0 = 3\n",
      "Build sequence\n",
      "  0.003460 seconds (74.28 k allocations: 4.562 MiB)\n",
      "Find smp\n",
      "  0.000054 seconds (695 allocations: 53.125 KiB)\n",
      "\u001b[34m\u001b[1mPSW(0.9748171979372074, [3, 1, 1, 1, 1, 2, 1, 2])\u001b[22m\u001b[39m\n",
      "d = 5, l = 3, p_0 = Random, v_0 = 4\n",
      "Build sequence\n",
      "  0.003361 seconds (73.88 k allocations: 4.522 MiB)\n",
      "Find smp\n",
      "  0.000074 seconds (653 allocations: 49.813 KiB)\n",
      "\u001b[34m\u001b[1mPSW(0.9748171979372074, [2, 3, 1, 1, 1, 1, 2, 1])\u001b[22m\u001b[39m\n",
      "  0.042774 seconds (604.75 k allocations: 36.968 MiB, 29.61% gc time)\n"
     ]
    }
   ],
   "source": [
    "full_sos(5, niter=8)"
   ]
  },
  {
   "cell_type": "code",
   "execution_count": 54,
   "metadata": {},
   "outputs": [
    {
     "name": "stdout",
     "output_type": "stream",
     "text": [
      "  2.917041 seconds (1.82 M allocations: 136.722 MiB, 1.71% gc time)\n",
      "d = 6, l = 1, p_0 = Primal, v_0 = 1\n",
      "Build sequence\n",
      "  0.001780 seconds (25.53 k allocations: 1.688 MiB)\n",
      "Find smp\n",
      "  0.000065 seconds (515 allocations: 39.016 KiB)\n",
      "\u001b[34m\u001b[1mPSW(0.9748171979372074, [1, 2, 3, 1, 1, 1, 1, 2])\u001b[22m\u001b[39m\n",
      "d = 6, l = 1, p_0 = Primal, v_0 = 2\n",
      "Build sequence\n",
      "  0.001726 seconds (25.53 k allocations: 1.688 MiB)\n",
      "Find smp\n",
      "  0.000052 seconds (486 allocations: 36.141 KiB)\n",
      "\u001b[34m\u001b[1mPSW(0.9748171979372074, [1, 1, 1, 1, 2, 1, 2, 3])\u001b[22m\u001b[39m\n",
      "d = 6, l = 1, p_0 = Primal, v_0 = 3\n",
      "Build sequence\n",
      "  0.001647 seconds (25.53 k allocations: 1.688 MiB)\n",
      "Find smp\n",
      "  0.000057 seconds (603 allocations: 47.047 KiB)\n",
      "\u001b[34m\u001b[1mPSW(0.9748171979372074, [2, 1, 2, 3, 1, 1, 1, 1])\u001b[22m\u001b[39m\n",
      "d = 6, l = 1, p_0 = Primal, v_0 = 4\n",
      "Build sequence\n",
      "  0.001607 seconds (25.45 k allocations: 1.678 MiB)\n",
      "Find smp\n",
      "  0.000044 seconds (450 allocations: 33.234 KiB)\n",
      "PSW(0.9392550239418472, [1])\n",
      "d = 6, l = 1, p_0 = Random, v_0 = 1\n",
      "Build sequence\n",
      "  0.001571 seconds (25.59 k allocations: 1.694 MiB)\n",
      "Find smp\n",
      "  0.000048 seconds (513 allocations: 38.766 KiB)\n",
      "\u001b[34m\u001b[1mPSW(0.9748171979372074, [3, 1, 1, 1, 1, 2, 1, 2])\u001b[22m\u001b[39m\n",
      "d = 6, l = 1, p_0 = Random, v_0 = 2\n",
      "Build sequence\n",
      "  0.001566 seconds (25.59 k allocations: 1.694 MiB)\n",
      "Find smp\n",
      "  0.000036 seconds (486 allocations: 36.141 KiB)\n",
      "\u001b[34m\u001b[1mPSW(0.9748171979372074, [1, 1, 1, 1, 2, 1, 2, 3])\u001b[22m\u001b[39m\n",
      "d = 6, l = 1, p_0 = Random, v_0 = 3\n",
      "Build sequence\n",
      "  0.001246 seconds (25.76 k allocations: 1.712 MiB)\n",
      "Find smp\n",
      "  0.000044 seconds (581 allocations: 44.609 KiB)\n",
      "PSW(0.9392550239418472, [1])\n",
      "d = 6, l = 1, p_0 = Random, v_0 = 4\n",
      "Build sequence\n",
      "  0.001208 seconds (25.51 k allocations: 1.684 MiB)\n",
      "Find smp\n",
      "  0.000034 seconds (450 allocations: 33.234 KiB)\n",
      "PSW(0.9392550239418472, [1])\n",
      "  0.015410 seconds (214.23 k allocations: 13.959 MiB)\n",
      "d = 6, l = 2, p_0 = Primal, v_0 = 1\n",
      "Build sequence\n",
      "  0.001970 seconds (41.30 k allocations: 2.623 MiB)\n",
      "Find smp\n",
      "  0.000040 seconds (515 allocations: 39.016 KiB)\n",
      "\u001b[34m\u001b[1mPSW(0.9748171979372074, [1, 2, 3, 1, 1, 1, 1, 2])\u001b[22m\u001b[39m\n",
      "d = 6, l = 2, p_0 = Primal, v_0 = 2\n",
      "Build sequence\n",
      "  0.002012 seconds (41.30 k allocations: 2.623 MiB)\n",
      "Find smp\n",
      "  0.000039 seconds (495 allocations: 36.859 KiB)\n",
      "PSW(0.9392550239418472, [1])\n",
      "d = 6, l = 2, p_0 = Primal, v_0 = 3\n",
      "Build sequence\n",
      "  0.009227 seconds (41.79 k allocations: 2.680 MiB, 74.03% gc time)\n",
      "Find smp\n",
      "  0.000076 seconds (792 allocations: 63.563 KiB)\n",
      "PSW(0.9728940109399586, [1, 1, 2, 1, 2, 1, 1, 1])\n",
      "d = 6, l = 2, p_0 = Primal, v_0 = 4\n",
      "Build sequence\n",
      "  0.002132 seconds (41.14 k allocations: 2.605 MiB)\n",
      "Find smp\n",
      "  0.000037 seconds (450 allocations: 33.234 KiB)\n",
      "PSW(0.9392550239418472, [1])\n",
      "d = 6, l = 2, p_0 = Random, v_0 = 1\n",
      "Build sequence\n",
      "  0.002050 seconds (41.37 k allocations: 2.630 MiB)\n",
      "Find smp\n",
      "  0.000040 seconds (513 allocations: 38.766 KiB)\n",
      "\u001b[34m\u001b[1mPSW(0.9748171979372074, [3, 1, 1, 1, 1, 2, 1, 2])\u001b[22m\u001b[39m\n",
      "d = 6, l = 2, p_0 = Random, v_0 = 2\n",
      "Build sequence\n",
      "  0.001989 seconds (41.61 k allocations: 2.658 MiB)\n",
      "Find smp\n",
      "  0.000039 seconds (486 allocations: 36.141 KiB)\n",
      "\u001b[34m\u001b[1mPSW(0.9748171979372074, [1, 1, 1, 1, 2, 1, 2, 3])\u001b[22m\u001b[39m\n",
      "d = 6, l = 2, p_0 = Random, v_0 = 3\n",
      "Build sequence\n",
      "  0.001955 seconds (41.86 k allocations: 2.686 MiB)\n",
      "Find smp\n",
      "  0.000044 seconds (581 allocations: 44.609 KiB)\n",
      "PSW(0.9392550239418472, [1])\n",
      "d = 6, l = 2, p_0 = Random, v_0 = 4\n",
      "Build sequence\n",
      "  0.001931 seconds (41.20 k allocations: 2.611 MiB)\n",
      "Find smp\n",
      "  0.000038 seconds (450 allocations: 33.234 KiB)\n",
      "PSW(0.9392550239418472, [1])\n",
      "  0.025947 seconds (341.60 k allocations: 21.565 MiB, 26.33% gc time)\n",
      "d = 6, l = 3, p_0 = Primal, v_0 = 1\n",
      "Build sequence\n",
      "  0.011347 seconds (93.53 k allocations: 5.849 MiB, 60.81% gc time)\n",
      "Find smp\n",
      "  0.000078 seconds (717 allocations: 55.563 KiB)\n",
      "\u001b[34m\u001b[1mPSW(0.9748171979372074, [1, 2, 3, 1, 1, 1, 1, 2])\u001b[22m\u001b[39m\n",
      "d = 6, l = 3, p_0 = Primal, v_0 = 2\n",
      "Build sequence\n",
      "  0.004914 seconds (94.35 k allocations: 5.943 MiB)\n",
      "Find smp\n",
      "  0.000055 seconds (665 allocations: 50.422 KiB)\n",
      "PSW(0.9605413929275209, [1, 1, 1, 1, 2, 1, 2, 1, 3])\n",
      "d = 6, l = 3, p_0 = Primal, v_0 = 3\n",
      "Build sequence\n",
      "  0.004601 seconds (95.17 k allocations: 6.037 MiB)\n",
      "Find smp\n",
      "  0.000073 seconds (961 allocations: 76.453 KiB)\n",
      "PSW(0.9728940109399586, [2, 1, 2, 1, 1, 1, 1, 1])\n",
      "d = 6, l = 3, p_0 = Primal, v_0 = 4\n",
      "Build sequence\n",
      "  0.004356 seconds (93.86 k allocations: 5.886 MiB)\n",
      "Find smp\n",
      "  0.000052 seconds (653 allocations: 49.813 KiB)\n",
      "\u001b[34m\u001b[1mPSW(0.9748171979372074, [2, 3, 1, 1, 1, 1, 2, 1])\u001b[22m\u001b[39m\n",
      "d = 6, l = 3, p_0 = Random, v_0 = 1\n",
      "Build sequence\n",
      "  0.012099 seconds (94.41 k allocations: 5.949 MiB, 60.08% gc time)\n",
      "Find smp\n",
      "  0.000080 seconds (716 allocations: 55.344 KiB)\n",
      "\u001b[34m\u001b[1mPSW(0.9748171979372074, [3, 1, 1, 1, 1, 2, 1, 2])\u001b[22m\u001b[39m\n",
      "d = 6, l = 3, p_0 = Random, v_0 = 2\n",
      "Build sequence\n",
      "  0.005156 seconds (93.59 k allocations: 5.855 MiB)\n",
      "Find smp\n",
      "  0.000055 seconds (600 allocations: 44.656 KiB)\n",
      "\u001b[34m\u001b[1mPSW(0.9748171979372074, [1, 1, 1, 1, 2, 1, 2, 3])\u001b[22m\u001b[39m\n",
      "d = 6, l = 3, p_0 = Random, v_0 = 3\n",
      "Build sequence\n",
      "  0.004742 seconds (94.41 k allocations: 5.949 MiB)\n",
      "Find smp\n",
      "  0.000060 seconds (695 allocations: 53.125 KiB)\n",
      "\u001b[34m\u001b[1mPSW(0.9748171979372074, [3, 1, 1, 1, 1, 2, 1, 2])\u001b[22m\u001b[39m\n",
      "d = 6, l = 3, p_0 = Random, v_0 = 4\n",
      "Build sequence\n",
      "  0.005001 seconds (93.92 k allocations: 5.892 MiB)\n",
      "Find smp\n",
      "  0.000061 seconds (653 allocations: 49.813 KiB)\n",
      "\u001b[34m\u001b[1mPSW(0.9748171979372074, [2, 3, 1, 1, 1, 1, 2, 1])\u001b[22m\u001b[39m\n",
      "  0.055370 seconds (764.75 k allocations: 47.929 MiB, 25.59% gc time)\n"
     ]
    }
   ],
   "source": [
    "full_sos(6, niter=8, tol=1e-6)"
   ]
  },
  {
   "cell_type": "code",
   "execution_count": 59,
   "metadata": {},
   "outputs": [
    {
     "name": "stdout",
     "output_type": "stream",
     "text": [
      "  2.937099 seconds (1.82 M allocations: 136.722 MiB, 1.53% gc time)\n"
     ]
    },
    {
     "data": {
      "text/plain": [
       "(0.8997626162054814, 0.9748990169544798)"
      ]
     },
     "execution_count": 59,
     "metadata": {},
     "output_type": "execute_result"
    }
   ],
   "source": [
    "find_ub(6, tol=1e-6)"
   ]
  },
  {
   "cell_type": "code",
   "execution_count": 46,
   "metadata": {},
   "outputs": [
    {
     "name": "stdout",
     "output_type": "stream",
     "text": [
      "  3.594048 seconds (2.35 M allocations: 202.185 MiB, 0.83% gc time)\n"
     ]
    },
    {
     "data": {
      "text/plain": [
       "(0.9100552430286937, 0.9748174360205996)"
      ]
     },
     "execution_count": 46,
     "metadata": {},
     "output_type": "execute_result"
    }
   ],
   "source": [
    "find_ub(7, tol=4e-7)"
   ]
  },
  {
   "cell_type": "code",
   "execution_count": 42,
   "metadata": {},
   "outputs": [
    {
     "name": "stdout",
     "output_type": "stream",
     "text": [
      "  3.768884 seconds (2.63 M allocations: 275.157 MiB, 1.07% gc time)\n"
     ]
    },
    {
     "data": {
      "text/plain": [
       "(0.9179091059554079, 0.9748174360205996)"
      ]
     },
     "execution_count": 42,
     "metadata": {},
     "output_type": "execute_result"
    }
   ],
   "source": [
    "find_ub(8, tol=5e-7)"
   ]
  },
  {
   "cell_type": "code",
   "execution_count": 16,
   "metadata": {},
   "outputs": [
    {
     "data": {
      "text/plain": [
       "PSW(0.9748171979372074, [2, 1, 2, 3, 1, 1, 1, 1])"
      ]
     },
     "execution_count": 16,
     "metadata": {},
     "output_type": "execute_result"
    }
   ],
   "source": [
    "smp"
   ]
  },
  {
   "cell_type": "code",
   "execution_count": 55,
   "metadata": {},
   "outputs": [
    {
     "data": {
      "text/plain": [
       "6-element Array{Float64,1}:\n",
       " 1.0039059860382262\n",
       " 0.9864133950211533\n",
       " 0.9773044177659095\n",
       " 0.9753974829222168\n",
       " 0.9753974829222168\n",
       " 0.9748990169544798"
      ]
     },
     "execution_count": 55,
     "metadata": {},
     "output_type": "execute_result"
    }
   ],
   "source": [
    "sosub"
   ]
  },
  {
   "cell_type": "code",
   "execution_count": 105,
   "metadata": {},
   "outputs": [
    {
     "data": {
      "text/plain": [
       "Plots.PlotlyJSBackend()"
      ]
     },
     "execution_count": 105,
     "metadata": {},
     "output_type": "execute_result"
    }
   ],
   "source": [
    "using Plots\n",
    "plotlyjs()"
   ]
  },
  {
   "cell_type": "code",
   "execution_count": 106,
   "metadata": {},
   "outputs": [
    {
     "data": {
      "application/vnd.plotly.v1+json": {
       "data": [
        {
         "colorbar": {
          "title": ""
         },
         "hoverinfo": "text",
         "legendgroup": "SOS UB",
         "line": {
          "color": "rgba(0, 154, 250, 1.000)",
          "dash": "solid",
          "shape": "linear",
          "width": 3
         },
         "mode": "lines",
         "name": "SOS UB",
         "showlegend": true,
         "text": [
          null,
          null,
          null,
          null,
          null,
          null
         ],
         "type": "scatter",
         "x": [
          1,
          2,
          3,
          4,
          5,
          6
         ],
         "xaxis": "x1",
         "y": [
          1.0088198577297558,
          0.9931795555152475,
          0.9777817337113764,
          0.9777817337113764,
          0,
          0
         ],
         "yaxis": "y1",
         "zmax": 0.1,
         "zmin": -0.1
        },
        {
         "colorbar": {
          "title": ""
         },
         "hoverinfo": "text",
         "legendgroup": "Algorithm 1, l=3",
         "line": {
          "color": "rgba(227, 111, 71, 1.000)",
          "dash": "solid",
          "shape": "linear",
          "width": 3
         },
         "mode": "lines",
         "name": "Algorithm 1, l=3",
         "showlegend": true,
         "text": [
          null,
          null,
          null,
          null,
          null,
          null
         ],
         "type": "scatter",
         "x": [
          1,
          2,
          3,
          4,
          5,
          6
         ],
         "xaxis": "x1",
         "y": [
          0.9748171979372074,
          0.9748171979372074,
          0.9748171979372074,
          0.9748171979372074,
          0,
          0
         ],
         "yaxis": "y1",
         "zmax": 0.1,
         "zmin": -0.1
        },
        {
         "colorbar": {
          "title": ""
         },
         "hoverinfo": "text",
         "legendgroup": "Algorithm 1, l=1",
         "line": {
          "color": "rgba(62, 164, 78, 1.000)",
          "dash": "solid",
          "shape": "linear",
          "width": 3
         },
         "mode": "lines",
         "name": "Algorithm 1, l=1",
         "showlegend": true,
         "text": [
          null,
          null,
          null,
          null,
          null,
          null
         ],
         "type": "scatter",
         "x": [
          1,
          2,
          3,
          4,
          5,
          6
         ],
         "xaxis": "x1",
         "y": [
          0.9728940109399586,
          0.9728940109399586,
          0.9728940109399586,
          0.9748171979372074,
          0,
          0
         ],
         "yaxis": "y1",
         "zmax": 0.1,
         "zmin": -0.1
        },
        {
         "colorbar": {
          "title": ""
         },
         "hoverinfo": "text",
         "legendgroup": "Atom extraction",
         "line": {
          "color": "rgba(195, 113, 210, 1.000)",
          "dash": "solid",
          "shape": "linear",
          "width": 3
         },
         "mode": "lines",
         "name": "Atom extraction",
         "showlegend": true,
         "text": [
          null,
          null,
          null,
          null,
          null,
          null
         ],
         "type": "scatter",
         "x": [
          1,
          2,
          3,
          4,
          5,
          6
         ],
         "xaxis": "x1",
         "y": [
          0,
          0,
          0,
          0,
          0,
          0
         ],
         "yaxis": "y1",
         "zmax": 0.1,
         "zmin": -0.1
        },
        {
         "colorbar": {
          "title": ""
         },
         "hoverinfo": "text",
         "legendgroup": "SOS LB",
         "line": {
          "color": "rgba(172, 142, 24, 1.000)",
          "dash": "solid",
          "shape": "linear",
          "width": 3
         },
         "mode": "lines",
         "name": "SOS LB",
         "showlegend": true,
         "text": [
          null,
          null,
          null,
          null,
          null,
          null
         ],
         "type": "scatter",
         "x": [
          1,
          2,
          3,
          4,
          5,
          6
         ],
         "xaxis": "x1",
         "y": [
          0.7077920803085445,
          0.7747133240213869,
          0.8263926528995861,
          0.8602052406541759,
          0,
          0
         ],
         "yaxis": "y1",
         "zmax": 0.1,
         "zmin": -0.1
        }
       ],
       "layout": {
        "annotations": [],
        "height": 400,
        "legend": {
         "bgcolor": "rgba(255, 255, 255, 1.000)",
         "bordercolor": "rgba(0, 0, 0, 1.000)",
         "font": {
          "color": "rgba(0, 0, 0, 1.000)",
          "family": "sans-serif",
          "size": 17
         },
         "tracegroupgap": 0,
         "x": 1,
         "y": 1
        },
        "margin": {
         "b": 20,
         "l": 0,
         "r": 0,
         "t": 20
        },
        "paper_bgcolor": "rgba(255, 255, 255, 1.000)",
        "plot_bgcolor": "rgba(255, 255, 255, 1.000)",
        "showlegend": true,
        "width": 600,
        "xaxis": {
         "anchor": "y1",
         "domain": [
          0.0658209390492855,
          0.9934383202099738
         ],
         "gridcolor": "rgba(0, 0, 0, 0.100)",
         "gridwidth": 0.5,
         "linecolor": "rgba(0, 0, 0, 1.000)",
         "mirror": false,
         "range": [
          0.85,
          6.15
         ],
         "showgrid": true,
         "showline": true,
         "showticklabels": true,
         "tickangle": 0,
         "tickcolor": "rgb(0, 0, 0)",
         "tickfont": {
          "color": "rgba(0, 0, 0, 1.000)",
          "family": "sans-serif",
          "size": 11
         },
         "tickmode": "array",
         "ticks": "inside",
         "ticktext": [
          "1",
          "2",
          "3",
          "4",
          "5",
          "6"
         ],
         "tickvals": [
          1,
          2,
          3,
          4,
          5,
          6
         ],
         "title": "d",
         "titlefont": {
          "color": "rgba(0, 0, 0, 1.000)",
          "family": "sans-serif",
          "size": 15
         },
         "type": "-",
         "visible": true,
         "zeroline": false,
         "zerolinecolor": "rgba(0, 0, 0, 1.000)"
        },
        "yaxis": {
         "anchor": "x1",
         "domain": [
          0.07581474190726165,
          0.9901574803149606
         ],
         "gridcolor": "rgba(0, 0, 0, 0.100)",
         "gridwidth": 0.5,
         "linecolor": "rgba(0, 0, 0, 1.000)",
         "mirror": false,
         "range": [
          -0.030264595731892673,
          1.0390844534616486
         ],
         "showgrid": true,
         "showline": true,
         "showticklabels": true,
         "tickangle": 0,
         "tickcolor": "rgb(0, 0, 0)",
         "tickfont": {
          "color": "rgba(0, 0, 0, 1.000)",
          "family": "sans-serif",
          "size": 11
         },
         "tickmode": "array",
         "ticks": "inside",
         "ticktext": [
          "0.00",
          "0.25",
          "0.50",
          "0.75",
          "1.00"
         ],
         "tickvals": [
          0,
          0.25,
          0.5,
          0.75,
          1
         ],
         "title": "",
         "titlefont": {
          "color": "rgba(0, 0, 0, 1.000)",
          "family": "sans-serif",
          "size": 15
         },
         "type": "-",
         "visible": true,
         "zeroline": false,
         "zerolinecolor": "rgba(0, 0, 0, 1.000)"
        }
       }
      },
      "text/html": [
       "<div\n",
       "    class=\"webio-mountpoint\"\n",
       "    data-webio-mountpoint=\"14405598127830362625\"\n",
       ">\n",
       "    <script>\n",
       "    if (window.require && require.defined && require.defined(\"nbextensions/webio/main\")) {\n",
       "        console.log(\"Jupyter WebIO extension detected, not mounting.\");\n",
       "    } else if (window.WebIO) {\n",
       "        WebIO.mount(\n",
       "            document.querySelector('[data-webio-mountpoint=\"14405598127830362625\"]'),\n",
       "            {\"props\":{},\"nodeType\":\"Scope\",\"type\":\"node\",\"instanceArgs\":{\"imports\":{\"data\":[{\"name\":\"Plotly\",\"type\":\"js\",\"url\":\"\\/assetserver\\/a0c717c0519a1d1c5957cec8e1530ea634306199-plotly-latest.min.js\"},{\"name\":null,\"type\":\"js\",\"url\":\"\\/assetserver\\/0faea484dada25c62297cd3366b6317cb516f72e-plotly_webio.bundle.js\"}],\"type\":\"async_block\"},\"id\":\"scope-8a5284c6-7adb-42dd-b7bb-f7549a442b5b\",\"handlers\":{\"_toImage\":[\"(function (options){return this.Plotly.toImage(this.plotElem,options).then((function (data){return WebIO.setval({\\\"name\\\":\\\"image\\\",\\\"scope\\\":\\\"scope-8a5284c6-7adb-42dd-b7bb-f7549a442b5b\\\",\\\"id\\\":\\\"ob_35\\\",\\\"type\\\":\\\"observable\\\"},data)}))})\"],\"__get_gd_contents\":[\"(function (prop){prop==\\\"data\\\" ? (WebIO.setval({\\\"name\\\":\\\"__gd_contents\\\",\\\"scope\\\":\\\"scope-8a5284c6-7adb-42dd-b7bb-f7549a442b5b\\\",\\\"id\\\":\\\"ob_36\\\",\\\"type\\\":\\\"observable\\\"},this.plotElem.data)) : undefined; return prop==\\\"layout\\\" ? (WebIO.setval({\\\"name\\\":\\\"__gd_contents\\\",\\\"scope\\\":\\\"scope-8a5284c6-7adb-42dd-b7bb-f7549a442b5b\\\",\\\"id\\\":\\\"ob_36\\\",\\\"type\\\":\\\"observable\\\"},this.plotElem.layout)) : undefined})\"],\"_downloadImage\":[\"(function (options){return this.Plotly.downloadImage(this.plotElem,options)})\"],\"_commands\":[\"(function (args){var fn=args.shift(); var elem=this.plotElem; var Plotly=this.Plotly; args.unshift(elem); return Plotly[fn].apply(this,args)})\"]},\"systemjs_options\":null,\"mount_callbacks\":[\"function () {\\n    var handler = ((function (Plotly){var gd=this.dom.querySelector(\\\"#plot-1105c31b-d33f-4af9-87ea-f72c525c6a01\\\"); this.plotElem=gd; this.Plotly=Plotly; (window.Blink!==undefined) ? (gd.style.width=\\\"100%\\\", gd.style.height=\\\"100vh\\\", gd.style.marginLeft=\\\"0%\\\", gd.style.marginTop=\\\"0vh\\\") : undefined; window.onresize=(function (){return Plotly.Plots.resize(gd)}); Plotly.newPlot(gd,[],{\\\"margin\\\":{\\\"l\\\":50,\\\"b\\\":50,\\\"r\\\":50,\\\"t\\\":60}},{}); gd.on(\\\"plotly_hover\\\",(function (data){var filtered_data=WebIO.PlotlyCommands.filterEventData(gd,data,\\\"hover\\\"); return !(filtered_data.isnil) ? (WebIO.setval({\\\"name\\\":\\\"hover\\\",\\\"scope\\\":\\\"scope-8a5284c6-7adb-42dd-b7bb-f7549a442b5b\\\",\\\"id\\\":\\\"ob_31\\\",\\\"type\\\":\\\"observable\\\"},filtered_data.out)) : undefined})); gd.on(\\\"plotly_unhover\\\",(function (){return WebIO.setval({\\\"name\\\":\\\"hover\\\",\\\"scope\\\":\\\"scope-8a5284c6-7adb-42dd-b7bb-f7549a442b5b\\\",\\\"id\\\":\\\"ob_31\\\",\\\"type\\\":\\\"observable\\\"},{})})); gd.on(\\\"plotly_selected\\\",(function (data){var filtered_data=WebIO.PlotlyCommands.filterEventData(gd,data,\\\"selected\\\"); return !(filtered_data.isnil) ? (WebIO.setval({\\\"name\\\":\\\"selected\\\",\\\"scope\\\":\\\"scope-8a5284c6-7adb-42dd-b7bb-f7549a442b5b\\\",\\\"id\\\":\\\"ob_32\\\",\\\"type\\\":\\\"observable\\\"},filtered_data.out)) : undefined})); gd.on(\\\"plotly_deselect\\\",(function (){return WebIO.setval({\\\"name\\\":\\\"selected\\\",\\\"scope\\\":\\\"scope-8a5284c6-7adb-42dd-b7bb-f7549a442b5b\\\",\\\"id\\\":\\\"ob_32\\\",\\\"type\\\":\\\"observable\\\"},{})})); gd.on(\\\"plotly_relayout\\\",(function (data){var filtered_data=WebIO.PlotlyCommands.filterEventData(gd,data,\\\"relayout\\\"); return !(filtered_data.isnil) ? (WebIO.setval({\\\"name\\\":\\\"relayout\\\",\\\"scope\\\":\\\"scope-8a5284c6-7adb-42dd-b7bb-f7549a442b5b\\\",\\\"id\\\":\\\"ob_34\\\",\\\"type\\\":\\\"observable\\\"},filtered_data.out)) : undefined})); return gd.on(\\\"plotly_click\\\",(function (data){var filtered_data=WebIO.PlotlyCommands.filterEventData(gd,data,\\\"click\\\"); return !(filtered_data.isnil) ? (WebIO.setval({\\\"name\\\":\\\"click\\\",\\\"scope\\\":\\\"scope-8a5284c6-7adb-42dd-b7bb-f7549a442b5b\\\",\\\"id\\\":\\\"ob_33\\\",\\\"type\\\":\\\"observable\\\"},filtered_data.out)) : undefined}))}));\\n    (WebIO.importBlock({\\\"data\\\":[{\\\"name\\\":\\\"Plotly\\\",\\\"type\\\":\\\"js\\\",\\\"url\\\":\\\"\\/assetserver\\/a0c717c0519a1d1c5957cec8e1530ea634306199-plotly-latest.min.js\\\"},{\\\"name\\\":null,\\\"type\\\":\\\"js\\\",\\\"url\\\":\\\"\\/assetserver\\/0faea484dada25c62297cd3366b6317cb516f72e-plotly_webio.bundle.js\\\"}],\\\"type\\\":\\\"async_block\\\"})).then((imports) => handler.apply(this, imports));\\n}\\n\"],\"observables\":{\"_toImage\":{\"sync\":false,\"id\":\"ob_38\",\"value\":{}},\"hover\":{\"sync\":false,\"id\":\"ob_31\",\"value\":{}},\"selected\":{\"sync\":false,\"id\":\"ob_32\",\"value\":{}},\"__gd_contents\":{\"sync\":false,\"id\":\"ob_36\",\"value\":{}},\"click\":{\"sync\":false,\"id\":\"ob_33\",\"value\":{}},\"image\":{\"sync\":true,\"id\":\"ob_35\",\"value\":\"\"},\"__get_gd_contents\":{\"sync\":false,\"id\":\"ob_40\",\"value\":\"\"},\"_downloadImage\":{\"sync\":false,\"id\":\"ob_39\",\"value\":{}},\"relayout\":{\"sync\":false,\"id\":\"ob_34\",\"value\":{}},\"_commands\":{\"sync\":false,\"id\":\"ob_37\",\"value\":[\"relayout\",{\"showlegend\":true,\"xaxis\":{\"showticklabels\":true,\"gridwidth\":0.5,\"tickvals\":[1.0,2.0,3.0,4.0,5.0,6.0],\"visible\":true,\"ticks\":\"inside\",\"range\":[0.85,6.15],\"domain\":[0.0658209390492855,0.9934383202099738],\"tickmode\":\"array\",\"linecolor\":\"rgba(0, 0, 0, 1.000)\",\"showgrid\":true,\"title\":\"d\",\"mirror\":false,\"tickangle\":0,\"showline\":true,\"gridcolor\":\"rgba(0, 0, 0, 0.100)\",\"titlefont\":{\"color\":\"rgba(0, 0, 0, 1.000)\",\"family\":\"sans-serif\",\"size\":15},\"tickcolor\":\"rgb(0, 0, 0)\",\"ticktext\":[\"1\",\"2\",\"3\",\"4\",\"5\",\"6\"],\"zeroline\":false,\"type\":\"-\",\"tickfont\":{\"color\":\"rgba(0, 0, 0, 1.000)\",\"family\":\"sans-serif\",\"size\":11},\"zerolinecolor\":\"rgba(0, 0, 0, 1.000)\",\"anchor\":\"y1\"},\"paper_bgcolor\":\"rgba(255, 255, 255, 1.000)\",\"annotations\":[],\"height\":400,\"margin\":{\"l\":0,\"b\":20,\"r\":0,\"t\":20},\"plot_bgcolor\":\"rgba(255, 255, 255, 1.000)\",\"yaxis\":{\"showticklabels\":true,\"gridwidth\":0.5,\"tickvals\":[0.0,0.25,0.5,0.75,1.0],\"visible\":true,\"ticks\":\"inside\",\"range\":[-0.030264595731892673,1.0390844534616486],\"domain\":[0.07581474190726165,0.9901574803149606],\"tickmode\":\"array\",\"linecolor\":\"rgba(0, 0, 0, 1.000)\",\"showgrid\":true,\"title\":\"\",\"mirror\":false,\"tickangle\":0,\"showline\":true,\"gridcolor\":\"rgba(0, 0, 0, 0.100)\",\"titlefont\":{\"color\":\"rgba(0, 0, 0, 1.000)\",\"family\":\"sans-serif\",\"size\":15},\"tickcolor\":\"rgb(0, 0, 0)\",\"ticktext\":[\"0.00\",\"0.25\",\"0.50\",\"0.75\",\"1.00\"],\"zeroline\":false,\"type\":\"-\",\"tickfont\":{\"color\":\"rgba(0, 0, 0, 1.000)\",\"family\":\"sans-serif\",\"size\":11},\"zerolinecolor\":\"rgba(0, 0, 0, 1.000)\",\"anchor\":\"x1\"},\"legend\":{\"tracegroupgap\":0,\"bordercolor\":\"rgba(0, 0, 0, 1.000)\",\"bgcolor\":\"rgba(255, 255, 255, 1.000)\",\"font\":{\"color\":\"rgba(0, 0, 0, 1.000)\",\"family\":\"sans-serif\",\"size\":17},\"y\":1.0,\"x\":1.0},\"width\":600}]}}},\"children\":[{\"props\":{\"id\":\"plot-1105c31b-d33f-4af9-87ea-f72c525c6a01\"},\"nodeType\":\"DOM\",\"type\":\"node\",\"instanceArgs\":{\"namespace\":\"html\",\"tag\":\"div\"},\"children\":[]}]},\n",
       "            window,\n",
       "        );\n",
       "    } else {\n",
       "        document\n",
       "            .querySelector('[data-webio-mountpoint=\"14405598127830362625\"]')\n",
       "            .innerHTML = '<strong>WebIO not detected.</strong>';\n",
       "    }\n",
       "    </script>\n",
       "</div>\n"
      ]
     },
     "execution_count": 106,
     "metadata": {},
     "output_type": "execute_result"
    }
   ],
   "source": [
    "using FixedPointNumbers\n",
    "font = Plots.Font(\"sans-serif\",12,:hcenter,:vcenter,0.0,RGB{FixedPointNumbers.Normed{UInt8, 8}}(0.0,0.0,0.0))\n",
    "plot(1:6, xlabel = \"d\", sosub, label=\"SOS UB\", legendfont=font, linewidth=3)\n",
    "plot!(1:6, seql[3], label=\"Algorithm 1, l=3\", linewidth=3)\n",
    "plot!(1:6, seql[1], label=\"Algorithm 1, l=1\", linewidth=3)\n",
    "#plot!(1:6, seql2, label=\"Algorithm 1, l=2\")\n",
    "plot!(1:6, sosex, label=\"Atom extraction\", linewidth=3)\n",
    "plot!(1:6, soslb, label=\"SOS LB\", linewidth=3)"
   ]
  },
  {
   "cell_type": "code",
   "execution_count": 107,
   "metadata": {
    "scrolled": true
   },
   "outputs": [
    {
     "data": {
      "application/vnd.plotly.v1+json": {
       "data": [
        {
         "colorbar": {
          "title": ""
         },
         "hoverinfo": "text",
         "legendgroup": "",
         "line": {
          "color": "rgba(0, 154, 250, 1.000)",
          "dash": "solid",
          "shape": "linear",
          "width": 3
         },
         "mode": "lines",
         "name": "",
         "showlegend": false,
         "text": [
          null,
          null,
          null,
          null
         ],
         "type": "scatter",
         "x": [
          2,
          3,
          4,
          5
         ],
         "xaxis": "x1",
         "y": [
          0.9931795555152475,
          0.9777817337113764,
          0.9777817337113764,
          0
         ],
         "yaxis": "y1",
         "zmax": 0.1,
         "zmin": -0.1
        },
        {
         "colorbar": {
          "title": ""
         },
         "hoverinfo": "text",
         "legendgroup": "",
         "line": {
          "color": "rgba(227, 111, 71, 1.000)",
          "dash": "solid",
          "shape": "linear",
          "width": 3
         },
         "mode": "lines",
         "name": "",
         "showlegend": false,
         "text": [
          null,
          null,
          null,
          null
         ],
         "type": "scatter",
         "x": [
          2,
          3,
          4,
          5
         ],
         "xaxis": "x1",
         "y": [
          0.9748171979372074,
          0.9748171979372074,
          0.9748171979372074,
          0
         ],
         "yaxis": "y1",
         "zmax": 0.1,
         "zmin": -0.1
        },
        {
         "colorbar": {
          "title": ""
         },
         "hoverinfo": "text",
         "legendgroup": "",
         "line": {
          "color": "rgba(62, 164, 78, 1.000)",
          "dash": "solid",
          "shape": "linear",
          "width": 3
         },
         "mode": "lines",
         "name": "",
         "showlegend": false,
         "text": [
          null,
          null,
          null,
          null
         ],
         "type": "scatter",
         "x": [
          2,
          3,
          4,
          5
         ],
         "xaxis": "x1",
         "y": [
          0.9728940109399586,
          0.9728940109399586,
          0.9748171979372074,
          0
         ],
         "yaxis": "y1",
         "zmax": 0.1,
         "zmin": -0.1
        }
       ],
       "layout": {
        "annotations": [],
        "height": 400,
        "legend": {
         "bgcolor": "rgba(255, 255, 255, 1.000)",
         "bordercolor": "rgba(0, 0, 0, 1.000)",
         "font": {
          "color": "rgba(0, 0, 0, 1.000)",
          "family": "sans-serif",
          "size": 11
         },
         "tracegroupgap": 0,
         "x": 1,
         "y": 1
        },
        "margin": {
         "b": 20,
         "l": 0,
         "r": 0,
         "t": 20
        },
        "paper_bgcolor": "rgba(255, 255, 255, 1.000)",
        "plot_bgcolor": "rgba(255, 255, 255, 1.000)",
        "showlegend": true,
        "width": 600,
        "xaxis": {
         "anchor": "y1",
         "domain": [
          0.0658209390492855,
          0.9934383202099738
         ],
         "gridcolor": "rgba(0, 0, 0, 0.100)",
         "gridwidth": 0.5,
         "linecolor": "rgba(0, 0, 0, 1.000)",
         "mirror": false,
         "range": [
          1.91,
          5.09
         ],
         "showgrid": true,
         "showline": true,
         "showticklabels": true,
         "tickangle": 0,
         "tickcolor": "rgb(0, 0, 0)",
         "tickfont": {
          "color": "rgba(0, 0, 0, 1.000)",
          "family": "sans-serif",
          "size": 11
         },
         "tickmode": "array",
         "ticks": "inside",
         "ticktext": [
          "2",
          "3",
          "4",
          "5"
         ],
         "tickvals": [
          2,
          3,
          4,
          5
         ],
         "title": "d",
         "titlefont": {
          "color": "rgba(0, 0, 0, 1.000)",
          "family": "sans-serif",
          "size": 15
         },
         "type": "-",
         "visible": true,
         "zeroline": false,
         "zerolinecolor": "rgba(0, 0, 0, 1.000)"
        },
        "yaxis": {
         "anchor": "x1",
         "domain": [
          0.07581474190726165,
          0.9901574803149606
         ],
         "gridcolor": "rgba(0, 0, 0, 0.100)",
         "gridwidth": 0.5,
         "linecolor": "rgba(0, 0, 0, 1.000)",
         "mirror": false,
         "range": [
          -0.029795386665457425,
          1.0229749421807048
         ],
         "showgrid": true,
         "showline": true,
         "showticklabels": true,
         "tickangle": 0,
         "tickcolor": "rgb(0, 0, 0)",
         "tickfont": {
          "color": "rgba(0, 0, 0, 1.000)",
          "family": "sans-serif",
          "size": 11
         },
         "tickmode": "array",
         "ticks": "inside",
         "ticktext": [
          "0.00",
          "0.25",
          "0.50",
          "0.75",
          "1.00"
         ],
         "tickvals": [
          0,
          0.25,
          0.5,
          0.75,
          1
         ],
         "title": "",
         "titlefont": {
          "color": "rgba(0, 0, 0, 1.000)",
          "family": "sans-serif",
          "size": 15
         },
         "type": "-",
         "visible": true,
         "zeroline": false,
         "zerolinecolor": "rgba(0, 0, 0, 1.000)"
        }
       }
      },
      "text/html": [
       "<div\n",
       "    class=\"webio-mountpoint\"\n",
       "    data-webio-mountpoint=\"16181638416582601400\"\n",
       ">\n",
       "    <script>\n",
       "    if (window.require && require.defined && require.defined(\"nbextensions/webio/main\")) {\n",
       "        console.log(\"Jupyter WebIO extension detected, not mounting.\");\n",
       "    } else if (window.WebIO) {\n",
       "        WebIO.mount(\n",
       "            document.querySelector('[data-webio-mountpoint=\"16181638416582601400\"]'),\n",
       "            {\"props\":{},\"nodeType\":\"Scope\",\"type\":\"node\",\"instanceArgs\":{\"imports\":{\"data\":[{\"name\":\"Plotly\",\"type\":\"js\",\"url\":\"\\/assetserver\\/a0c717c0519a1d1c5957cec8e1530ea634306199-plotly-latest.min.js\"},{\"name\":null,\"type\":\"js\",\"url\":\"\\/assetserver\\/0faea484dada25c62297cd3366b6317cb516f72e-plotly_webio.bundle.js\"}],\"type\":\"async_block\"},\"id\":\"scope-adbf85c6-7fed-4b41-8d18-0f4f09112944\",\"handlers\":{\"_toImage\":[\"(function (options){return this.Plotly.toImage(this.plotElem,options).then((function (data){return WebIO.setval({\\\"name\\\":\\\"image\\\",\\\"scope\\\":\\\"scope-adbf85c6-7fed-4b41-8d18-0f4f09112944\\\",\\\"id\\\":\\\"ob_45\\\",\\\"type\\\":\\\"observable\\\"},data)}))})\"],\"__get_gd_contents\":[\"(function (prop){prop==\\\"data\\\" ? (WebIO.setval({\\\"name\\\":\\\"__gd_contents\\\",\\\"scope\\\":\\\"scope-adbf85c6-7fed-4b41-8d18-0f4f09112944\\\",\\\"id\\\":\\\"ob_46\\\",\\\"type\\\":\\\"observable\\\"},this.plotElem.data)) : undefined; return prop==\\\"layout\\\" ? (WebIO.setval({\\\"name\\\":\\\"__gd_contents\\\",\\\"scope\\\":\\\"scope-adbf85c6-7fed-4b41-8d18-0f4f09112944\\\",\\\"id\\\":\\\"ob_46\\\",\\\"type\\\":\\\"observable\\\"},this.plotElem.layout)) : undefined})\"],\"_downloadImage\":[\"(function (options){return this.Plotly.downloadImage(this.plotElem,options)})\"],\"_commands\":[\"(function (args){var fn=args.shift(); var elem=this.plotElem; var Plotly=this.Plotly; args.unshift(elem); return Plotly[fn].apply(this,args)})\"]},\"systemjs_options\":null,\"mount_callbacks\":[\"function () {\\n    var handler = ((function (Plotly){var gd=this.dom.querySelector(\\\"#plot-59f0a5c5-322a-44bf-b636-ad9fc2b21ec6\\\"); this.plotElem=gd; this.Plotly=Plotly; (window.Blink!==undefined) ? (gd.style.width=\\\"100%\\\", gd.style.height=\\\"100vh\\\", gd.style.marginLeft=\\\"0%\\\", gd.style.marginTop=\\\"0vh\\\") : undefined; window.onresize=(function (){return Plotly.Plots.resize(gd)}); Plotly.newPlot(gd,[],{\\\"margin\\\":{\\\"l\\\":50,\\\"b\\\":50,\\\"r\\\":50,\\\"t\\\":60}},{}); gd.on(\\\"plotly_hover\\\",(function (data){var filtered_data=WebIO.PlotlyCommands.filterEventData(gd,data,\\\"hover\\\"); return !(filtered_data.isnil) ? (WebIO.setval({\\\"name\\\":\\\"hover\\\",\\\"scope\\\":\\\"scope-adbf85c6-7fed-4b41-8d18-0f4f09112944\\\",\\\"id\\\":\\\"ob_41\\\",\\\"type\\\":\\\"observable\\\"},filtered_data.out)) : undefined})); gd.on(\\\"plotly_unhover\\\",(function (){return WebIO.setval({\\\"name\\\":\\\"hover\\\",\\\"scope\\\":\\\"scope-adbf85c6-7fed-4b41-8d18-0f4f09112944\\\",\\\"id\\\":\\\"ob_41\\\",\\\"type\\\":\\\"observable\\\"},{})})); gd.on(\\\"plotly_selected\\\",(function (data){var filtered_data=WebIO.PlotlyCommands.filterEventData(gd,data,\\\"selected\\\"); return !(filtered_data.isnil) ? (WebIO.setval({\\\"name\\\":\\\"selected\\\",\\\"scope\\\":\\\"scope-adbf85c6-7fed-4b41-8d18-0f4f09112944\\\",\\\"id\\\":\\\"ob_42\\\",\\\"type\\\":\\\"observable\\\"},filtered_data.out)) : undefined})); gd.on(\\\"plotly_deselect\\\",(function (){return WebIO.setval({\\\"name\\\":\\\"selected\\\",\\\"scope\\\":\\\"scope-adbf85c6-7fed-4b41-8d18-0f4f09112944\\\",\\\"id\\\":\\\"ob_42\\\",\\\"type\\\":\\\"observable\\\"},{})})); gd.on(\\\"plotly_relayout\\\",(function (data){var filtered_data=WebIO.PlotlyCommands.filterEventData(gd,data,\\\"relayout\\\"); return !(filtered_data.isnil) ? (WebIO.setval({\\\"name\\\":\\\"relayout\\\",\\\"scope\\\":\\\"scope-adbf85c6-7fed-4b41-8d18-0f4f09112944\\\",\\\"id\\\":\\\"ob_44\\\",\\\"type\\\":\\\"observable\\\"},filtered_data.out)) : undefined})); return gd.on(\\\"plotly_click\\\",(function (data){var filtered_data=WebIO.PlotlyCommands.filterEventData(gd,data,\\\"click\\\"); return !(filtered_data.isnil) ? (WebIO.setval({\\\"name\\\":\\\"click\\\",\\\"scope\\\":\\\"scope-adbf85c6-7fed-4b41-8d18-0f4f09112944\\\",\\\"id\\\":\\\"ob_43\\\",\\\"type\\\":\\\"observable\\\"},filtered_data.out)) : undefined}))}));\\n    (WebIO.importBlock({\\\"data\\\":[{\\\"name\\\":\\\"Plotly\\\",\\\"type\\\":\\\"js\\\",\\\"url\\\":\\\"\\/assetserver\\/a0c717c0519a1d1c5957cec8e1530ea634306199-plotly-latest.min.js\\\"},{\\\"name\\\":null,\\\"type\\\":\\\"js\\\",\\\"url\\\":\\\"\\/assetserver\\/0faea484dada25c62297cd3366b6317cb516f72e-plotly_webio.bundle.js\\\"}],\\\"type\\\":\\\"async_block\\\"})).then((imports) => handler.apply(this, imports));\\n}\\n\"],\"observables\":{\"_toImage\":{\"sync\":false,\"id\":\"ob_48\",\"value\":{}},\"hover\":{\"sync\":false,\"id\":\"ob_41\",\"value\":{}},\"selected\":{\"sync\":false,\"id\":\"ob_42\",\"value\":{}},\"__gd_contents\":{\"sync\":false,\"id\":\"ob_46\",\"value\":{}},\"click\":{\"sync\":false,\"id\":\"ob_43\",\"value\":{}},\"image\":{\"sync\":true,\"id\":\"ob_45\",\"value\":\"\"},\"__get_gd_contents\":{\"sync\":false,\"id\":\"ob_50\",\"value\":\"\"},\"_downloadImage\":{\"sync\":false,\"id\":\"ob_49\",\"value\":{}},\"relayout\":{\"sync\":false,\"id\":\"ob_44\",\"value\":{}},\"_commands\":{\"sync\":false,\"id\":\"ob_47\",\"value\":[\"relayout\",{\"showlegend\":true,\"xaxis\":{\"showticklabels\":true,\"gridwidth\":0.5,\"tickvals\":[2.0,3.0,4.0,5.0],\"visible\":true,\"ticks\":\"inside\",\"range\":[1.91,5.09],\"domain\":[0.0658209390492855,0.9934383202099738],\"tickmode\":\"array\",\"linecolor\":\"rgba(0, 0, 0, 1.000)\",\"showgrid\":true,\"title\":\"d\",\"mirror\":false,\"tickangle\":0,\"showline\":true,\"gridcolor\":\"rgba(0, 0, 0, 0.100)\",\"titlefont\":{\"color\":\"rgba(0, 0, 0, 1.000)\",\"family\":\"sans-serif\",\"size\":15},\"tickcolor\":\"rgb(0, 0, 0)\",\"ticktext\":[\"2\",\"3\",\"4\",\"5\"],\"zeroline\":false,\"type\":\"-\",\"tickfont\":{\"color\":\"rgba(0, 0, 0, 1.000)\",\"family\":\"sans-serif\",\"size\":11},\"zerolinecolor\":\"rgba(0, 0, 0, 1.000)\",\"anchor\":\"y1\"},\"paper_bgcolor\":\"rgba(255, 255, 255, 1.000)\",\"annotations\":[],\"height\":400,\"margin\":{\"l\":0,\"b\":20,\"r\":0,\"t\":20},\"plot_bgcolor\":\"rgba(255, 255, 255, 1.000)\",\"yaxis\":{\"showticklabels\":true,\"gridwidth\":0.5,\"tickvals\":[0.0,0.25,0.5,0.75,1.0],\"visible\":true,\"ticks\":\"inside\",\"range\":[-0.029795386665457425,1.0229749421807048],\"domain\":[0.07581474190726165,0.9901574803149606],\"tickmode\":\"array\",\"linecolor\":\"rgba(0, 0, 0, 1.000)\",\"showgrid\":true,\"title\":\"\",\"mirror\":false,\"tickangle\":0,\"showline\":true,\"gridcolor\":\"rgba(0, 0, 0, 0.100)\",\"titlefont\":{\"color\":\"rgba(0, 0, 0, 1.000)\",\"family\":\"sans-serif\",\"size\":15},\"tickcolor\":\"rgb(0, 0, 0)\",\"ticktext\":[\"0.00\",\"0.25\",\"0.50\",\"0.75\",\"1.00\"],\"zeroline\":false,\"type\":\"-\",\"tickfont\":{\"color\":\"rgba(0, 0, 0, 1.000)\",\"family\":\"sans-serif\",\"size\":11},\"zerolinecolor\":\"rgba(0, 0, 0, 1.000)\",\"anchor\":\"x1\"},\"legend\":{\"tracegroupgap\":0,\"bordercolor\":\"rgba(0, 0, 0, 1.000)\",\"bgcolor\":\"rgba(255, 255, 255, 1.000)\",\"font\":{\"color\":\"rgba(0, 0, 0, 1.000)\",\"family\":\"sans-serif\",\"size\":11},\"y\":1.0,\"x\":1.0},\"width\":600}]}}},\"children\":[{\"props\":{\"id\":\"plot-59f0a5c5-322a-44bf-b636-ad9fc2b21ec6\"},\"nodeType\":\"DOM\",\"type\":\"node\",\"instanceArgs\":{\"namespace\":\"html\",\"tag\":\"div\"},\"children\":[]}]},\n",
       "            window,\n",
       "        );\n",
       "    } else {\n",
       "        document\n",
       "            .querySelector('[data-webio-mountpoint=\"16181638416582601400\"]')\n",
       "            .innerHTML = '<strong>WebIO not detected.</strong>';\n",
       "    }\n",
       "    </script>\n",
       "</div>\n"
      ]
     },
     "execution_count": 107,
     "metadata": {},
     "output_type": "execute_result"
    }
   ],
   "source": [
    "plot(2:5, xlabel = \"d\", xticks=2:5, sosub[2:5], label=\"\", linewidth=3)\n",
    "plot!(2:5, seql[3][2:5], label=\"\", linewidth=3)\n",
    "plot!(2:5, seql[1][2:5], label=\"\", linewidth=3)\n",
    "#plot!(1:6, seql2, label=\"Algorithm 1, l=2\")"
   ]
  },
  {
   "cell_type": "code",
   "execution_count": null,
   "metadata": {
    "collapsed": true
   },
   "outputs": [],
   "source": []
  }
 ],
 "metadata": {
  "@webio": {
   "lastCommId": null,
   "lastKernelId": null
  },
  "kernelspec": {
   "display_name": "Julia 1.1.0",
   "language": "julia",
   "name": "julia-1.1"
  },
  "language_info": {
   "file_extension": ".jl",
   "mimetype": "application/julia",
   "name": "julia",
   "version": "1.1.1"
  }
 },
 "nbformat": 4,
 "nbformat_minor": 2
}
