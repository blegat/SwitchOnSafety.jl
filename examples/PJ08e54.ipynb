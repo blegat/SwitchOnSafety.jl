{
 "cells": [
  {
   "cell_type": "markdown",
   "metadata": {},
   "source": [
    "Example 5.4 of [PJ08]. The JSR is conjectured to be equal to $8.9149 = \\sqrt{\\rho(A_1 A_3)}$ in [PJ08] by noticing that $\\rho_{\\text{SOS-}4} \\approx \\rho_{\\text{SOS-}6} \\approx 8.92$.\n",
    "\n",
    "In this notebook, we see that the technique developped in [LPJ17] finds the cycle $(1, 3)$ for degrees 1, 2, 3 already with $l = 1$.\n",
    "The upper bound is computed with Mosek v8.1.0.61 with an log-accuracy of `4e-7` (i.e. the different of the logarithms is smaller than $4 \\times 10^{-7}$).\n",
    "We see that $\\rho_{\\text{SOS-}2} > \\sqrt{\\rho(A_1 A_3)}$ as already shown in [PJ08] but we show that $\\rho_{\\text{SOS-}4} > \\sqrt{\\rho(A_1 A_3)}$ and that $\\rho_{\\text{SOS-}6} - \\sqrt{\\rho(A_1 A_3)} < 1.53 \\times 10^{-7}$ hence conjecture that they are equal.\n",
    "\n",
    "[PJ08] P. Parrilo and A. Jadbabaie, \n",
    "*Approximation of the joint spectral radius using sum of squares*.\n",
    "Linear Algebra and its Applications, Elsevier, **2008**, 428, 2385-2402\n",
    "\n",
    "[LPJ17] Legat, B., Parrilo, P. A., & Jungers, R. M.\n",
    "*Certifying unstability of Switched Systems using Sum of Squares Programming*.\n",
    "arXiv preprint arXiv:1710.01814, **2017**."
   ]
  },
  {
   "cell_type": "code",
   "execution_count": 1,
   "metadata": {},
   "outputs": [
    {
     "data": {
      "text/plain": [
       "Hybrid System with automaton OneStateAutomaton(3)"
      ]
     },
     "execution_count": 1,
     "metadata": {},
     "output_type": "execute_result"
    }
   ],
   "source": [
    "using HybridSystems\n",
    "A1 = [ 0  1  7  4;\n",
    "       1  6 -2 -3;\n",
    "      -1 -1 -2 -6;\n",
    "       3  0  9  1]\n",
    "A2 = [-3  3  0 -2;\n",
    "      -2  1  4  9;\n",
    "       4 -3  1  1;\n",
    "       1 -5 -1 -2]\n",
    "A3 = [ 1  4  5 10;\n",
    "       0  5  1 -4;\n",
    "       0 -1  4  6;\n",
    "      -1  5  0  1]\n",
    "s = discreteswitchedsystem([A1, A2, A3])"
   ]
  },
  {
   "cell_type": "code",
   "execution_count": 4,
   "metadata": {},
   "outputs": [
    {
     "name": "stdout",
     "output_type": "stream",
     "text": [
      "  0.021897 seconds (52.28 k allocations: 5.866 MiB)\n"
     ]
    },
    {
     "data": {
      "text/plain": [
       "(PSW(8.914964, [1, 3]), 8.924964143716158)"
      ]
     },
     "execution_count": 4,
     "metadata": {},
     "output_type": "execute_result"
    }
   ],
   "source": [
    "using SwitchOnSafety\n",
    "@time psw, ub = gripenberg(s)"
   ]
  },
  {
   "cell_type": "code",
   "execution_count": 24,
   "metadata": {
    "collapsed": true
   },
   "outputs": [],
   "source": [
    "using MathOptInterfaceMosek\n",
    "using JuMP\n",
    "factory = with_optimizer(MosekOptimizer, QUIET=true);"
   ]
  },
  {
   "cell_type": "code",
   "execution_count": 25,
   "metadata": {},
   "outputs": [
    {
     "name": "stdout",
     "output_type": "stream",
     "text": [
      "Lower bound: 9.760672679071362\n",
      "Upper bound: 9.760675006197351\n",
      "Log-diff   : 2.384185791015625e-7 ≤ 4.0e-7\n",
      "  0.147786 seconds (533.48 k allocations: 41.447 MiB, 7.37% gc time)\n"
     ]
    },
    {
     "data": {
      "text/plain": [
       "(5.635326998733677, 9.760675006197351)"
      ]
     },
     "execution_count": 25,
     "metadata": {},
     "output_type": "execute_result"
    }
   ],
   "source": [
    "using SwitchOnSafety\n",
    "sosdata(s).lb = 0.0\n",
    "@time lb2, ub2 = soslyapb(s, 1, factory=factory, tol=4e-7, step=0.5, verbose=1)"
   ]
  },
  {
   "cell_type": "code",
   "execution_count": 26,
   "metadata": {},
   "outputs": [
    {
     "data": {
      "text/plain": [
       "PSW(8.914964, [3, 1])"
      ]
     },
     "execution_count": 26,
     "metadata": {},
     "output_type": "execute_result"
    }
   ],
   "source": [
    "seq = sosbuildsequence(s, 1)\n",
    "psw = findsmp(seq)"
   ]
  },
  {
   "cell_type": "markdown",
   "metadata": {},
   "source": [
    "We see below that $\\rho_{\\text{SOS-}4} > 8.919 > \\sqrt{\\rho(A_1 A_3)}$."
   ]
  },
  {
   "cell_type": "code",
   "execution_count": 27,
   "metadata": {},
   "outputs": [
    {
     "name": "stdout",
     "output_type": "stream",
     "text": [
      "Lower bound: 8.919818289286475\n",
      "Upper bound: 8.91982041593713\n",
      "Log-diff   : 2.384185791015625e-7 ≤ 4.0e-7\n",
      "  0.889108 seconds (4.77 M allocations: 409.319 MiB, 11.45% gc time)\n"
     ]
    },
    {
     "data": {
      "text/plain": [
       "(6.777596245727604, 8.91982041593713)"
      ]
     },
     "execution_count": 27,
     "metadata": {},
     "output_type": "execute_result"
    }
   ],
   "source": [
    "using SwitchOnSafety\n",
    "sosdata(s).lb = 0.0\n",
    "@time lb4, ub4 = soslyapb(s, 2, factory=factory, tol=4e-7, step=0.5, verbose=1)"
   ]
  },
  {
   "cell_type": "code",
   "execution_count": 28,
   "metadata": {},
   "outputs": [
    {
     "data": {
      "text/plain": [
       "PSW(8.914964, [3, 1])"
      ]
     },
     "execution_count": 28,
     "metadata": {},
     "output_type": "execute_result"
    }
   ],
   "source": [
    "seq = sosbuildsequence(s, 2)\n",
    "psw = findsmp(seq)"
   ]
  },
  {
   "cell_type": "code",
   "execution_count": 29,
   "metadata": {},
   "outputs": [
    {
     "name": "stdout",
     "output_type": "stream",
     "text": [
      "Lower bound: 8.914960919166427\n",
      "Upper bound: 8.914964296278484\n",
      "Log-diff   : 3.788139339988561e-7 ≤ 4.0e-7\n",
      " 10.181475 seconds (55.45 M allocations: 4.812 GiB, 11.69% gc time)\n"
     ]
    },
    {
     "data": {
      "text/plain": [
       "(7.423337986847027, 8.914964296278484)"
      ]
     },
     "execution_count": 29,
     "metadata": {},
     "output_type": "execute_result"
    }
   ],
   "source": [
    "using SwitchOnSafety\n",
    "sosdata(s).lb = 0.0\n",
    "@time lb6, ub6 = soslyapb(s, 3, factory=factory, tol=4e-7, step=0.5, verbose=1)"
   ]
  },
  {
   "cell_type": "code",
   "execution_count": 30,
   "metadata": {},
   "outputs": [
    {
     "data": {
      "text/plain": [
       "PSW(8.914964, [1, 3])"
      ]
     },
     "execution_count": 30,
     "metadata": {},
     "output_type": "execute_result"
    }
   ],
   "source": [
    "seq = sosbuildsequence(s, 3)\n",
    "psw = findsmp(seq)"
   ]
  },
  {
   "cell_type": "markdown",
   "metadata": {},
   "source": [
    "We see below that $\\rho_{\\text{SOS-}6} - \\sqrt{\\rho(A_1 A_3)} < 1.53 \\times 10^{-7}$"
   ]
  },
  {
   "cell_type": "code",
   "execution_count": 31,
   "metadata": {},
   "outputs": [
    {
     "data": {
      "text/plain": [
       "1.525623254394759e-7"
      ]
     },
     "execution_count": 31,
     "metadata": {},
     "output_type": "execute_result"
    }
   ],
   "source": [
    "ub6 - psw.growthrate"
   ]
  },
  {
   "cell_type": "code",
   "execution_count": null,
   "metadata": {
    "collapsed": true
   },
   "outputs": [],
   "source": []
  }
 ],
 "metadata": {
  "kernelspec": {
   "display_name": "Julia 1.0.3",
   "language": "julia",
   "name": "julia-1.0"
  },
  "language_info": {
   "file_extension": ".jl",
   "mimetype": "application/julia",
   "name": "julia",
   "version": "1.1.1"
  }
 },
 "nbformat": 4,
 "nbformat_minor": 2
}
