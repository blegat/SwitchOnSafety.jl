{
 "cells": [
  {
   "cell_type": "code",
   "execution_count": 1,
   "metadata": {},
   "outputs": [
    {
     "name": "stdout",
     "output_type": "stream",
     "text": [
      "\u001b[32m\u001b[1m  Updating\u001b[22m\u001b[39m registry at `~/.julia/registries/General`\n",
      "\u001b[32m\u001b[1m  Updating\u001b[22m\u001b[39m git-repo `https://github.com/JuliaRegistries/General.git`\n",
      "\u001b[2K\u001b[?25h[1mFetching:\u001b[22m\u001b[39m [========================================>]  100.0 %.0 %"
     ]
    }
   ],
   "source": [
    "import Pkg\n",
    "Pkg.activate(@__DIR__)\n",
    "Pkg.instantiate()"
   ]
  },
  {
   "cell_type": "markdown",
   "metadata": {},
   "source": [
    "This example was introduced in [BTV03] showing that there exists values of $\\alpha$ for which the finiteness conjecture does not hold, that is, there is no $w = \\sigma_1, \\ldots, \\sigma_k$ such that\n",
    "$\\sqrt[k]{\\rho(A_{\\sigma_k} \\cdots A_{\\sigma_1})}$ is equal to the JSR (such product is called a Spectral Maximizing Product (s.m.p.)).\n",
    "Let $J_w \\subseteq [0, 1]$ be the set of $\\alpha$ such that $w$ is a s.m.p.\n",
    "They show that for two words $u, v$ we have either $J_u = J_v$ (in which case $uuu\\cdots$ and $vvv\\cdots$ are identical up to a different prefix) or $J_u \\cap J_v = \\emptyset$.\n",
    "In fact, let $\\beta = \\log(\\alpha)$, since the function $h_w(\\beta) = \\log(\\sqrt[|w|]{\\rho(A_w)}) = \\frac{1}{|w|}(\\log(\\rho(A_w)) + |w|_1 \\beta)$ is affine in $\\beta$, $J_u$ and $J_v$ can only be either equal, with empty intersection or with intersection equal to one of their two boundary points.\n",
    "So [BTV03] excludes this last case.\n",
    "The authors also mention that\n",
    "$$ J_{0} = \\{0\\} \\quad \\text{ and } \\quad J_1 = \\emptyset. $$\n",
    "\n",
    "In [Section V, GZ05], the authors show that\n",
    "$$J_{10} = [4/5, 1] \\quad \\text{ and } \\quad J_{100} \\approx [0.5734, 0.7444]$$\n",
    "The s.m.p. $10$ is not dominant for $\\alpha = 4/5$ (see [Example 1, GP13]) but is dominant for $\\alpha = 9/10$ (see [Example 2, GP13]).\n",
    "\n",
    "It was then shown in [Section 6, GZ08] that for\n",
    "$$J_{10010} =\n",
    "\\left[\\frac{222924 - 23339 \\sqrt{6}}{221184}, \\frac{36864(222924 - 23339 \\sqrt{6})}{7737809375} \\right]\n",
    "\\approx [0.74940031328298342722, 0.789681582229248583974]$$\n",
    "\n",
    "It was then proved in [HMST11] that the finiteness property does not hold for\n",
    "$$\\alpha = 0.749326546330367557943961948091344672091327370236064317358024...$$\n",
    "\n",
    "[BTV03] V. D. Blondel, J. Theys and A. A. Vladimirov,\n",
    "*An elementary counterexample to the finiteness conjecture*,\n",
    "SIAM Journal on Matrix Analysis and Applications, **2003**. 24, 963-970.\n",
    "\n",
    "[GP13] N. Guglielmi and V. Protasov.\n",
    "*Exact computation of joint spectral characteristics of linear operators*.\n",
    "Foundations of Computational Mathematics 13.1, **2013**, 37-97.\n",
    "\n",
    "[GZ05] N. Guglielmi and M. Zennaro.\n",
    "*Polytope norms and related algorithms for the computation of the joint spectral radius*.\n",
    "44th IEEE Conference on Decision and Control, and European Control Conference, **2005**, pp. 3007-3012.\n",
    "\n",
    "[GZ08] N. Guglielmi and M. Zennaro.\n",
    "*An algorithm for finding extremal polytope norms of matrix families*.\n",
    "Linear Algebra and its Applications, **2008**, 428(10), 2265-2282.\n",
    "\n",
    "[HMST11] K. G. Hare, I. D Morris, N. Sidorov and J. Theys,\n",
    "*An explicit counterexample to the Lagarias–Wang finiteness conjecture*.\n",
    "Advances in Mathematics, **2011**, 226(6), 4667-4701."
   ]
  },
  {
   "cell_type": "markdown",
   "metadata": {},
   "source": [
    "# Defining the system\n",
    "\n",
    "We start by defining the system using [HybridSystems](https://github.com/blegat/HybridSystems.jl) to represent the system and [StaticArrays](https://github.com/JuliaArrays/StaticArrays.jl) for an allocation-free representation of the matrices."
   ]
  },
  {
   "cell_type": "code",
   "execution_count": 2,
   "metadata": {},
   "outputs": [
    {
     "data": {
      "text/plain": [
       "Hybrid System with automaton OneStateAutomaton(2)"
      ]
     },
     "execution_count": 2,
     "metadata": {},
     "output_type": "execute_result"
    }
   ],
   "source": [
    "using HybridSystems\n",
    "using StaticArrays\n",
    "A0 = @SMatrix [1 1; 0 1]\n",
    "A1 = @SMatrix [1 0; 1 1]\n",
    "A(α) = discreteswitchedsystem([A0, α * A1])\n",
    "s1 = A(1.0)"
   ]
  },
  {
   "cell_type": "markdown",
   "metadata": {},
   "source": [
    "We define a convenient printing function for printing the s.m.p. candidate we find. "
   ]
  },
  {
   "cell_type": "code",
   "execution_count": 3,
   "metadata": {},
   "outputs": [
    {
     "name": "stderr",
     "output_type": "stream",
     "text": [
      "┌ Info: Recompiling stale cache file /home/blegat/.julia/compiled/v1.1/SwitchOnSafety/EUPLd.ji for SwitchOnSafety [ceb7f16a-07bf-5f4a-9354-b68f01b1610f]\n",
      "└ @ Base loading.jl:1184\n"
     ]
    },
    {
     "data": {
      "text/plain": [
       "show_smp (generic function with 1 method)"
      ]
     },
     "execution_count": 3,
     "metadata": {},
     "output_type": "execute_result"
    }
   ],
   "source": [
    "using SwitchOnSafety\n",
    "strbin(s, bin::String) = periodicswitching(s, [HybridSystems.OneStateTransition(b - '0' + 1) for b in bin])\n",
    "binstr(smp::SwitchOnSafety.DiscretePeriodicSwitching) = join(map(tr -> tr.σ - 1, smp.period))\n",
    "function show_smp(smp)\n",
    "    println(\"   SMP: \", binstr(smp))\n",
    "    println(\"Length: \", length(smp.period))\n",
    "    println(\"Growth: \", smp.growthrate)\n",
    "end"
   ]
  },
  {
   "cell_type": "markdown",
   "metadata": {},
   "source": [
    "## $\\alpha = 8/10$\n",
    "\n",
    "For $\\alpha = 8/10$, 10 is not a dominant s.m.p. but as the algorithm removes path lying on the boundary of the polytope, it still converges (see [Example 1, GP13])."
   ]
  },
  {
   "cell_type": "code",
   "execution_count": 4,
   "metadata": {},
   "outputs": [
    {
     "name": "stdout",
     "output_type": "stream",
     "text": [
      "v_1 = [0.850651, 0.525731]\n",
      "v_2 = [0.470228, 0.760845]\n",
      "Depth 1: [2] points, 2 living leaves...\n",
      "Path starting starting at root 1: Int64[]:\n",
      "1 : [0.951057, 0.363271] : \u001b[32mliving leaf\u001b[39m: -0.10557280900008414 < 0.0\n",
      "\n",
      "Path starting starting at root 2: Int64[]:\n",
      "2 : [0.259936, 0.680521] : \u001b[31mdead leaf\u001b[39m: 0.11803398874989468 ≥ 0.0\n",
      "\n",
      "Depth 2: [3] points, 1 living leaves...\n",
      "Path starting starting at root 1: [1]:\n",
      "1 : [0.908178, 0.251014] : \u001b[31mdead leaf\u001b[39m: 0.04721359549995796 ≥ 0.0\n",
      "\n",
      "2 : [0.525731, 0.726543] : \u001b[31mdead leaf\u001b[39m: 0.0 ≥ 0.0\n",
      "\n",
      "0 living leaves, PSW(1.447214, [2, 1]) is a \u001b[0m\u001b[1mspectral maximizing product\u001b[22m (s.m.p.)\n",
      "Use `tol` < -0.10557280900008414 to eliminite at least one more living leaf.\n",
      "Use `tol` > 0.0 to keep at least one more dead leaf.\n"
     ]
    }
   ],
   "source": [
    "using GLPK\n",
    "using SwitchOnSafety\n",
    "s = A(0.8)\n",
    "smp, done, polys = invariant_polytopes(s, GLPK.Optimizer,\n",
    "    SwitchOnSafety.periodicswitching(s, [2, 1]), tol=0.0, verbose=2);"
   ]
  },
  {
   "cell_type": "code",
   "execution_count": 10,
   "metadata": {},
   "outputs": [
    {
     "name": "stdout",
     "output_type": "stream",
     "text": [
      "v_1 = [0.850651, 0.525731]\n",
      "v_2 = [0.470228, 0.760845]\n",
      "Depth 1: [2] points, 2 living leaves...\n",
      "Path starting starting at root 1: Int64[]:\n",
      "1 : [0.951057, 0.363271] : \u001b[32mliving leaf\u001b[39m: -0.10557280900008414 < 1.0e-15\n",
      "\n",
      "Path starting starting at root 2: Int64[]:\n",
      "2 : [0.259936, 0.680521] : \u001b[31mdead leaf\u001b[39m: 0.11803398874989468 ≥ 1.0e-15\n",
      "\n",
      "Depth 2: [3] points, 1 living leaves...\n",
      "Path starting starting at root 1: [1]:\n",
      "1 : [0.908178, 0.251014] : \u001b[31mdead leaf\u001b[39m: 0.04721359549995796 ≥ 1.0e-15\n",
      "\n",
      "2 : [0.525731, 0.726543] : \u001b[32mliving leaf\u001b[39m: 0.0 < 1.0e-15\n",
      "\n",
      "Depth 3: [4] points, 1 living leaves...\n",
      "Path starting starting at root 1: [2, 1]:\n",
      "1 : [0.8653, 0.502029] : \u001b[32mliving leaf\u001b[39m: 0.0 < 1.0e-15\n",
      "\n",
      "2 : [0.290617, 0.69224] : \u001b[31mdead leaf\u001b[39m: 0.09910635852267946 ≥ 1.0e-15\n",
      "\n",
      "Depth 4: [5] points, 1 living leaves...\n",
      "Path starting starting at root 1: [1, 2, 1]:\n",
      "1 : [0.944801, 0.346893] : \u001b[31mdead leaf\u001b[39m: 0.006621362806405129 ≥ 1.0e-15\n",
      "\n",
      "2 : [0.478326, 0.755841] : \u001b[32mliving leaf\u001b[39m: 2.220446049250313e-16 < 1.0e-15\n",
      "\n",
      "Depth 5: [6] points, 1 living leaves...\n",
      "Path starting starting at root 1: [2, 1, 2, 1]:\n",
      "1 : [0.852788, 0.522273] : \u001b[32mliving leaf\u001b[39m: -2.220446049250313e-16 < 1.0e-15\n",
      "\n",
      "2 : [0.264412, 0.68223] : \u001b[31mdead leaf\u001b[39m: 0.1152319691296948 ≥ 1.0e-15\n",
      "\n",
      "Depth 6: [7] points, 1 living leaves...\n",
      "Path starting starting at root 1: [1, 2, 1, 2, 1]:\n",
      "1 : [0.950144, 0.360882] : \u001b[31mdead leaf\u001b[39m: 0.0009606112511491016 ≥ 1.0e-15\n",
      "\n",
      "2 : [0.47141, 0.760115] : \u001b[32mliving leaf\u001b[39m: 0.0 < 1.0e-15\n",
      "\n",
      "Depth 7: [8] points, 1 living leaves...\n",
      "Path starting starting at root 1: [2, 1, 2, 1, 2, 1]:\n",
      "1 : [0.850963, 0.525227] : \u001b[32mliving leaf\u001b[39m: -1.1102230246251565e-16 < 1.0e-15\n",
      "\n",
      "2 : [0.260589, 0.68077] : \u001b[31mdead leaf\u001b[39m: 0.11762430264214907 ≥ 1.0e-15\n",
      "\n",
      "Depth 8: [9] points, 1 living leaves...\n",
      "Path starting starting at root 1: [1, 2, 1, 2, 1, 2, 1]:\n",
      "1 : [0.950923, 0.362923] : \u001b[31mdead leaf\u001b[39m: 0.00014003639848292337 ≥ 1.0e-15\n",
      "\n",
      "2 : [0.470401, 0.760739] : \u001b[32mliving leaf\u001b[39m: -3.3306690738754696e-16 < 1.0e-15\n",
      "\n",
      "Depth 9: [10] points, 1 living leaves...\n",
      "Path starting starting at root 1: [2, 1, 2, 1, 2, 1, 2, 1]:\n",
      "1 : [0.850696, 0.525658] : \u001b[32mliving leaf\u001b[39m: -5.551115123125783e-16 < 1.0e-15\n",
      "\n",
      "2 : [0.260031, 0.680557] : \u001b[31mdead leaf\u001b[39m: 0.11797419763935602 ≥ 1.0e-15\n",
      "\n",
      "Depth 10: [11] points, 1 living leaves...\n",
      "Path starting starting at root 1: [1, 2, 1, 2, 1, 2, 1, 2, 1]:\n",
      "1 : [0.951037, 0.36322] : \u001b[31mdead leaf\u001b[39m: 2.04285918226077e-5 ≥ 1.0e-15\n",
      "\n",
      "2 : [0.470253, 0.76083] : \u001b[32mliving leaf\u001b[39m: -3.3306690738754696e-16 < 1.0e-15\n",
      "\n",
      "Still 1 living leaves, \u001b[31m\u001b[1maborting\u001b[22m\u001b[39m at depth 10. Increase the `max_length` keyword argument to go further.\n",
      "Use `tol` < 2.220446049250313e-16 to eliminite at least one more living leaf.\n",
      "Use `tol` > 2.04285918226077e-5 to keep at least one more dead leaf.\n"
     ]
    }
   ],
   "source": [
    "using GLPK\n",
    "using SwitchOnSafety\n",
    "s = A(0.8)\n",
    "smp, done, polys = invariant_polytopes(s, GLPK.Optimizer,\n",
    "    SwitchOnSafety.periodicswitching(s, [2, 1]), tol=1e-15, verbose=2);"
   ]
  },
  {
   "cell_type": "code",
   "execution_count": 11,
   "metadata": {},
   "outputs": [
    {
     "name": "stdout",
     "output_type": "stream",
     "text": [
      "v_1 = [0.850651, 0.525731]\n",
      "v_2 = [0.470228, 0.760845]\n",
      "Depth 1: [2] points, 2 living leaves...\n",
      "Path starting starting at root 1: Int64[]:\n",
      "1 : [0.951057, 0.363271] : \u001b[32mliving leaf\u001b[39m: -0.10557280900008414 < 1.0e-16\n",
      "\n",
      "Path starting starting at root 2: Int64[]:\n",
      "2 : [0.259936, 0.680521] : \u001b[31mdead leaf\u001b[39m: 0.11803398874989468 ≥ 1.0e-16\n",
      "\n",
      "Depth 2: [3] points, 1 living leaves...\n",
      "Path starting starting at root 1: [1]:\n",
      "1 : [0.908178, 0.251014] : \u001b[31mdead leaf\u001b[39m: 0.04721359549995796 ≥ 1.0e-16\n",
      "\n",
      "2 : [0.525731, 0.726543] : \u001b[32mliving leaf\u001b[39m: 0.0 < 1.0e-16\n",
      "\n",
      "Depth 3: [4] points, 1 living leaves...\n",
      "Path starting starting at root 1: [2, 1]:\n",
      "1 : [0.8653, 0.502029] : \u001b[32mliving leaf\u001b[39m: 0.0 < 1.0e-16\n",
      "\n",
      "2 : [0.290617, 0.69224] : \u001b[31mdead leaf\u001b[39m: 0.09910635852267946 ≥ 1.0e-16\n",
      "\n",
      "Depth 4: [5] points, 1 living leaves...\n",
      "Path starting starting at root 1: [1, 2, 1]:\n",
      "1 : [0.944801, 0.346893] : \u001b[31mdead leaf\u001b[39m: 0.006621362806405129 ≥ 1.0e-16\n",
      "\n",
      "2 : [0.478326, 0.755841] : \u001b[31mdead leaf\u001b[39m: 2.220446049250313e-16 ≥ 1.0e-16\n",
      "\n",
      "0 living leaves, PSW(1.447214, [2, 1]) is a \u001b[0m\u001b[1mspectral maximizing product\u001b[22m (s.m.p.)\n",
      "Use `tol` < 0.0 to eliminite at least one more living leaf.\n",
      "Use `tol` > 2.220446049250313e-16 to keep at least one more dead leaf.\n"
     ]
    }
   ],
   "source": [
    "using GLPK\n",
    "using SwitchOnSafety\n",
    "s = A(0.8)\n",
    "smp, done, polys = invariant_polytopes(s, GLPK.Optimizer,\n",
    "    SwitchOnSafety.periodicswitching(s, [2, 1]), tol=1e-16, verbose=2);"
   ]
  },
  {
   "cell_type": "code",
   "execution_count": 12,
   "metadata": {},
   "outputs": [
    {
     "name": "stdout",
     "output_type": "stream",
     "text": [
      "Depth 1: [2] points, 2 living leaves...\n",
      "Depth 2: [3] points, 1 living leaves...\n",
      "0 living leaves, PSW(1.447214, [2, 1]) is a \u001b[0m\u001b[1mspectral maximizing product\u001b[22m (s.m.p.)\n",
      "Use the `tol` keyword argument to change the threshold to evaluate dead and living leaves.\n"
     ]
    }
   ],
   "source": [
    "using GLPK\n",
    "using SwitchOnSafety\n",
    "s = A(0.8)\n",
    "smp, done, polys = invariant_polytopes(s, GLPK.Optimizer, SwitchOnSafety.periodicswitching(s, [2, 1]));"
   ]
  },
  {
   "cell_type": "markdown",
   "metadata": {},
   "source": [
    "## $\\alpha = 9/10$\n",
    "\n",
    "For $\\alpha = 9/10$, 10 is a dominant s.m.p. (see [Example 2, GP13])."
   ]
  },
  {
   "cell_type": "code",
   "execution_count": 13,
   "metadata": {},
   "outputs": [
    {
     "name": "stdout",
     "output_type": "stream",
     "text": [
      "Depth 1: [2] points, 2 living leaves...\n",
      "Depth 2: [3] points, 1 living leaves...\n",
      "0 living leaves, PSW(1.535002, [2, 1]) is a \u001b[0m\u001b[1mspectral maximizing product\u001b[22m (s.m.p.)\n",
      "Use the `tol` keyword argument to change the threshold to evaluate dead and living leaves.\n"
     ]
    }
   ],
   "source": [
    "using GLPK\n",
    "using SwitchOnSafety\n",
    "s = A(0.9)\n",
    "smp, done, polys = invariant_polytopes(s, GLPK.Optimizer,\n",
    "    SwitchOnSafety.periodicswitching(s, [2, 1]));"
   ]
  },
  {
   "cell_type": "markdown",
   "metadata": {},
   "source": [
    "We can reproduce [Figure 2, GP13] below."
   ]
  },
  {
   "cell_type": "code",
   "execution_count": 4,
   "metadata": {},
   "outputs": [
    {
     "data": {
      "image/svg+xml": [
       "<?xml version=\"1.0\" encoding=\"utf-8\"?>\n",
       "<svg xmlns=\"http://www.w3.org/2000/svg\" xmlns:xlink=\"http://www.w3.org/1999/xlink\" width=\"600\" height=\"400\" viewBox=\"0 0 2400 1600\">\n",
       "<defs>\n",
       "  <clipPath id=\"clip9400\">\n",
       "    <rect x=\"0\" y=\"0\" width=\"2400\" height=\"1600\"/>\n",
       "  </clipPath>\n",
       "</defs>\n",
       "<polygon clip-path=\"url(#clip9400)\" points=\"\n",
       "0,1600 2400,1600 2400,0 0,0 \n",
       "  \" fill=\"#ffffff\" fill-rule=\"evenodd\" fill-opacity=\"1\"/>\n",
       "<defs>\n",
       "  <clipPath id=\"clip9401\">\n",
       "    <rect x=\"480\" y=\"0\" width=\"1681\" height=\"1600\"/>\n",
       "  </clipPath>\n",
       "</defs>\n",
       "<polygon clip-path=\"url(#clip9400)\" points=\"\n",
       "189.504,1503.47 2321.26,1503.47 2321.26,47.2441 189.504,47.2441 \n",
       "  \" fill=\"#ffffff\" fill-rule=\"evenodd\" fill-opacity=\"1\"/>\n",
       "<defs>\n",
       "  <clipPath id=\"clip9402\">\n",
       "    <rect x=\"189\" y=\"47\" width=\"2133\" height=\"1457\"/>\n",
       "  </clipPath>\n",
       "</defs>\n",
       "<polyline clip-path=\"url(#clip9402)\" style=\"stroke:#000000; stroke-width:2; stroke-opacity:0.1; fill:none\" points=\"\n",
       "  414.311,1503.47 414.311,47.2441 \n",
       "  \"/>\n",
       "<polyline clip-path=\"url(#clip9402)\" style=\"stroke:#000000; stroke-width:2; stroke-opacity:0.1; fill:none\" points=\"\n",
       "  694.668,1503.47 694.668,47.2441 \n",
       "  \"/>\n",
       "<polyline clip-path=\"url(#clip9402)\" style=\"stroke:#000000; stroke-width:2; stroke-opacity:0.1; fill:none\" points=\"\n",
       "  975.025,1503.47 975.025,47.2441 \n",
       "  \"/>\n",
       "<polyline clip-path=\"url(#clip9402)\" style=\"stroke:#000000; stroke-width:2; stroke-opacity:0.1; fill:none\" points=\"\n",
       "  1255.38,1503.47 1255.38,47.2441 \n",
       "  \"/>\n",
       "<polyline clip-path=\"url(#clip9402)\" style=\"stroke:#000000; stroke-width:2; stroke-opacity:0.1; fill:none\" points=\"\n",
       "  1535.74,1503.47 1535.74,47.2441 \n",
       "  \"/>\n",
       "<polyline clip-path=\"url(#clip9402)\" style=\"stroke:#000000; stroke-width:2; stroke-opacity:0.1; fill:none\" points=\"\n",
       "  1816.1,1503.47 1816.1,47.2441 \n",
       "  \"/>\n",
       "<polyline clip-path=\"url(#clip9402)\" style=\"stroke:#000000; stroke-width:2; stroke-opacity:0.1; fill:none\" points=\"\n",
       "  2096.45,1503.47 2096.45,47.2441 \n",
       "  \"/>\n",
       "<polyline clip-path=\"url(#clip9402)\" style=\"stroke:#000000; stroke-width:2; stroke-opacity:0.1; fill:none\" points=\"\n",
       "  189.504,1286.07 2321.26,1286.07 \n",
       "  \"/>\n",
       "<polyline clip-path=\"url(#clip9402)\" style=\"stroke:#000000; stroke-width:2; stroke-opacity:0.1; fill:none\" points=\"\n",
       "  189.504,1030.71 2321.26,1030.71 \n",
       "  \"/>\n",
       "<polyline clip-path=\"url(#clip9402)\" style=\"stroke:#000000; stroke-width:2; stroke-opacity:0.1; fill:none\" points=\"\n",
       "  189.504,775.359 2321.26,775.359 \n",
       "  \"/>\n",
       "<polyline clip-path=\"url(#clip9402)\" style=\"stroke:#000000; stroke-width:2; stroke-opacity:0.1; fill:none\" points=\"\n",
       "  189.504,520.005 2321.26,520.005 \n",
       "  \"/>\n",
       "<polyline clip-path=\"url(#clip9402)\" style=\"stroke:#000000; stroke-width:2; stroke-opacity:0.1; fill:none\" points=\"\n",
       "  189.504,264.651 2321.26,264.651 \n",
       "  \"/>\n",
       "<polyline clip-path=\"url(#clip9400)\" style=\"stroke:#000000; stroke-width:4; stroke-opacity:1; fill:none\" points=\"\n",
       "  189.504,1503.47 2321.26,1503.47 \n",
       "  \"/>\n",
       "<polyline clip-path=\"url(#clip9400)\" style=\"stroke:#000000; stroke-width:4; stroke-opacity:1; fill:none\" points=\"\n",
       "  189.504,1503.47 189.504,47.2441 \n",
       "  \"/>\n",
       "<polyline clip-path=\"url(#clip9400)\" style=\"stroke:#000000; stroke-width:4; stroke-opacity:1; fill:none\" points=\"\n",
       "  414.311,1503.47 414.311,1481.63 \n",
       "  \"/>\n",
       "<polyline clip-path=\"url(#clip9400)\" style=\"stroke:#000000; stroke-width:4; stroke-opacity:1; fill:none\" points=\"\n",
       "  694.668,1503.47 694.668,1481.63 \n",
       "  \"/>\n",
       "<polyline clip-path=\"url(#clip9400)\" style=\"stroke:#000000; stroke-width:4; stroke-opacity:1; fill:none\" points=\"\n",
       "  975.025,1503.47 975.025,1481.63 \n",
       "  \"/>\n",
       "<polyline clip-path=\"url(#clip9400)\" style=\"stroke:#000000; stroke-width:4; stroke-opacity:1; fill:none\" points=\"\n",
       "  1255.38,1503.47 1255.38,1481.63 \n",
       "  \"/>\n",
       "<polyline clip-path=\"url(#clip9400)\" style=\"stroke:#000000; stroke-width:4; stroke-opacity:1; fill:none\" points=\"\n",
       "  1535.74,1503.47 1535.74,1481.63 \n",
       "  \"/>\n",
       "<polyline clip-path=\"url(#clip9400)\" style=\"stroke:#000000; stroke-width:4; stroke-opacity:1; fill:none\" points=\"\n",
       "  1816.1,1503.47 1816.1,1481.63 \n",
       "  \"/>\n",
       "<polyline clip-path=\"url(#clip9400)\" style=\"stroke:#000000; stroke-width:4; stroke-opacity:1; fill:none\" points=\"\n",
       "  2096.45,1503.47 2096.45,1481.63 \n",
       "  \"/>\n",
       "<polyline clip-path=\"url(#clip9400)\" style=\"stroke:#000000; stroke-width:4; stroke-opacity:1; fill:none\" points=\"\n",
       "  189.504,1286.07 221.48,1286.07 \n",
       "  \"/>\n",
       "<polyline clip-path=\"url(#clip9400)\" style=\"stroke:#000000; stroke-width:4; stroke-opacity:1; fill:none\" points=\"\n",
       "  189.504,1030.71 221.48,1030.71 \n",
       "  \"/>\n",
       "<polyline clip-path=\"url(#clip9400)\" style=\"stroke:#000000; stroke-width:4; stroke-opacity:1; fill:none\" points=\"\n",
       "  189.504,775.359 221.48,775.359 \n",
       "  \"/>\n",
       "<polyline clip-path=\"url(#clip9400)\" style=\"stroke:#000000; stroke-width:4; stroke-opacity:1; fill:none\" points=\"\n",
       "  189.504,520.005 221.48,520.005 \n",
       "  \"/>\n",
       "<polyline clip-path=\"url(#clip9400)\" style=\"stroke:#000000; stroke-width:4; stroke-opacity:1; fill:none\" points=\"\n",
       "  189.504,264.651 221.48,264.651 \n",
       "  \"/>\n",
       "<g clip-path=\"url(#clip9400)\">\n",
       "<text style=\"fill:#000000; fill-opacity:1; font-family:Arial,Helvetica Neue,Helvetica,sans-serif; font-size:48px; text-anchor:middle;\" transform=\"rotate(0, 414.311, 1557.47)\" x=\"414.311\" y=\"1557.47\">-0.75</text>\n",
       "</g>\n",
       "<g clip-path=\"url(#clip9400)\">\n",
       "<text style=\"fill:#000000; fill-opacity:1; font-family:Arial,Helvetica Neue,Helvetica,sans-serif; font-size:48px; text-anchor:middle;\" transform=\"rotate(0, 694.668, 1557.47)\" x=\"694.668\" y=\"1557.47\">-0.50</text>\n",
       "</g>\n",
       "<g clip-path=\"url(#clip9400)\">\n",
       "<text style=\"fill:#000000; fill-opacity:1; font-family:Arial,Helvetica Neue,Helvetica,sans-serif; font-size:48px; text-anchor:middle;\" transform=\"rotate(0, 975.025, 1557.47)\" x=\"975.025\" y=\"1557.47\">-0.25</text>\n",
       "</g>\n",
       "<g clip-path=\"url(#clip9400)\">\n",
       "<text style=\"fill:#000000; fill-opacity:1; font-family:Arial,Helvetica Neue,Helvetica,sans-serif; font-size:48px; text-anchor:middle;\" transform=\"rotate(0, 1255.38, 1557.47)\" x=\"1255.38\" y=\"1557.47\">0.00</text>\n",
       "</g>\n",
       "<g clip-path=\"url(#clip9400)\">\n",
       "<text style=\"fill:#000000; fill-opacity:1; font-family:Arial,Helvetica Neue,Helvetica,sans-serif; font-size:48px; text-anchor:middle;\" transform=\"rotate(0, 1535.74, 1557.47)\" x=\"1535.74\" y=\"1557.47\">0.25</text>\n",
       "</g>\n",
       "<g clip-path=\"url(#clip9400)\">\n",
       "<text style=\"fill:#000000; fill-opacity:1; font-family:Arial,Helvetica Neue,Helvetica,sans-serif; font-size:48px; text-anchor:middle;\" transform=\"rotate(0, 1816.1, 1557.47)\" x=\"1816.1\" y=\"1557.47\">0.50</text>\n",
       "</g>\n",
       "<g clip-path=\"url(#clip9400)\">\n",
       "<text style=\"fill:#000000; fill-opacity:1; font-family:Arial,Helvetica Neue,Helvetica,sans-serif; font-size:48px; text-anchor:middle;\" transform=\"rotate(0, 2096.45, 1557.47)\" x=\"2096.45\" y=\"1557.47\">0.75</text>\n",
       "</g>\n",
       "<g clip-path=\"url(#clip9400)\">\n",
       "<text style=\"fill:#000000; fill-opacity:1; font-family:Arial,Helvetica Neue,Helvetica,sans-serif; font-size:48px; text-anchor:end;\" transform=\"rotate(0, 165.504, 1303.57)\" x=\"165.504\" y=\"1303.57\">-0.6</text>\n",
       "</g>\n",
       "<g clip-path=\"url(#clip9400)\">\n",
       "<text style=\"fill:#000000; fill-opacity:1; font-family:Arial,Helvetica Neue,Helvetica,sans-serif; font-size:48px; text-anchor:end;\" transform=\"rotate(0, 165.504, 1048.21)\" x=\"165.504\" y=\"1048.21\">-0.3</text>\n",
       "</g>\n",
       "<g clip-path=\"url(#clip9400)\">\n",
       "<text style=\"fill:#000000; fill-opacity:1; font-family:Arial,Helvetica Neue,Helvetica,sans-serif; font-size:48px; text-anchor:end;\" transform=\"rotate(0, 165.504, 792.859)\" x=\"165.504\" y=\"792.859\">0.0</text>\n",
       "</g>\n",
       "<g clip-path=\"url(#clip9400)\">\n",
       "<text style=\"fill:#000000; fill-opacity:1; font-family:Arial,Helvetica Neue,Helvetica,sans-serif; font-size:48px; text-anchor:end;\" transform=\"rotate(0, 165.504, 537.505)\" x=\"165.504\" y=\"537.505\">0.3</text>\n",
       "</g>\n",
       "<g clip-path=\"url(#clip9400)\">\n",
       "<text style=\"fill:#000000; fill-opacity:1; font-family:Arial,Helvetica Neue,Helvetica,sans-serif; font-size:48px; text-anchor:end;\" transform=\"rotate(0, 165.504, 282.151)\" x=\"165.504\" y=\"282.151\">0.6</text>\n",
       "</g>\n",
       "<polygon clip-path=\"url(#clip9402)\" points=\"\n",
       "249.837,1066.88 249.837,88.4582 1814.7,88.4582 2209.33,327.867 2260.93,483.834 2260.93,1462.26 696.067,1462.26 301.438,1222.85 249.837,1066.88 249.837,1066.88 \n",
       "  \n",
       "  \" fill=\"#009af9\" fill-rule=\"evenodd\" fill-opacity=\"1\"/>\n",
       "<polyline clip-path=\"url(#clip9402)\" style=\"stroke:#000000; stroke-width:4; stroke-opacity:1; fill:none\" points=\"\n",
       "  249.837,1066.88 249.837,88.4582 1814.7,88.4582 2209.33,327.867 2260.93,483.834 2260.93,1462.26 696.067,1462.26 301.438,1222.85 249.837,1066.88 \n",
       "  \n",
       "  \"/>\n",
       "</svg>\n"
      ]
     },
     "execution_count": 4,
     "metadata": {},
     "output_type": "execute_result"
    }
   ],
   "source": [
    "using Polyhedra\n",
    "p = polyhedron(polys[1])\n",
    "using Plots\n",
    "plot(p)"
   ]
  },
  {
   "cell_type": "markdown",
   "metadata": {},
   "source": [
    "# Getting close to non-finiteness\n",
    "\n",
    "It was shown in [HMST11] that the finiteness conjecture does not hold for $\\alpha = 0.749326546330367557943961948091344672091327370236064317358024$.\n",
    "In a double-precision floating point number, the closest value we can represent is $\\alpha = 0.7493265463303675$.\n",
    "We create the switched system corresponding for this value of $\\alpha$ and look for approximating the JSR for this value."
   ]
  },
  {
   "cell_type": "code",
   "execution_count": 5,
   "metadata": {},
   "outputs": [
    {
     "name": "stdout",
     "output_type": "stream",
     "text": [
      "significand(α∞) = 1.498653092660735\n",
      "exponent(α∞) = -1\n",
      "significand(α∞) / (1 << -(exponent(α∞))) = 0.7493265463303675\n"
     ]
    },
    {
     "data": {
      "text/plain": [
       "Hybrid System with automaton OneStateAutomaton(2)"
      ]
     },
     "execution_count": 5,
     "metadata": {},
     "output_type": "execute_result"
    }
   ],
   "source": [
    "α∞ = 0.749326546330367557943961948091344672091327370236064317358024\n",
    "@show significand(α∞)\n",
    "@show exponent(α∞)\n",
    "@show significand(α∞) / (1 << -exponent(α∞))\n",
    "s∞ = A(α∞)"
   ]
  },
  {
   "cell_type": "markdown",
   "metadata": {},
   "source": [
    "## Sum-of-Squares approach\n",
    "\n",
    "We start with the Sum-of-Squares approach to have an idea of the value of the JSR.\n",
    "We first choose an SDP solver."
   ]
  },
  {
   "cell_type": "code",
   "execution_count": 5,
   "metadata": {
    "collapsed": true
   },
   "outputs": [],
   "source": [
    "using MosekTools\n",
    "using JuMP\n",
    "factory = optimizer_with_attributes(Mosek.Optimizer, MOI.Silent() => true);"
   ]
  },
  {
   "cell_type": "code",
   "execution_count": 28,
   "metadata": {},
   "outputs": [
    {
     "data": {
      "text/plain": [
       "sos (generic function with 1 method)"
      ]
     },
     "execution_count": 28,
     "metadata": {},
     "output_type": "execute_result"
    }
   ],
   "source": [
    "using SwitchOnSafety\n",
    "sos_lb = zeros(15)\n",
    "sos_ub = zeros(15)\n",
    "function sos(d, tol; kws...)\n",
    "    # Prevents the binary search to use a lower bound found by a cycle\n",
    "    # to have to full timing of the binary search\n",
    "    sosdata(s∞).lb = 0.0\n",
    "    # Force recomputing it to have correct timing even when the function called twice with the same d\n",
    "    if length(sosdata(s∞).lyaps) >= d\n",
    "        sosdata(s∞).lyaps[d] = nothing\n",
    "    end\n",
    "    println(\"   Degree d: \", d)\n",
    "    @time sos_lb[d], sos_ub[d] = soslyapb(s∞, d; factory=factory, tol=tol, verbose=1, kws...)\n",
    "end"
   ]
  },
  {
   "cell_type": "markdown",
   "metadata": {},
   "source": [
    "We start with degree $2d = 2$, i.e. the Common Quadratic Lyapunov Function (CQLF)."
   ]
  },
  {
   "cell_type": "code",
   "execution_count": 10,
   "metadata": {},
   "outputs": [
    {
     "name": "stdout",
     "output_type": "stream",
     "text": [
      "   Degree d: 1\n",
      "Lower bound: 1.4264937578077195\n",
      "Upper bound: 1.426493800391043\n",
      "Log-diff   : 2.985174152314585e-8 ≤ 3.0e-8\n",
      "  0.482680 seconds (269.12 k allocations: 16.531 MiB, 1.60% gc time)\n"
     ]
    },
    {
     "data": {
      "text/plain": [
       "(1.008683409466119, 1.426493800391043)"
      ]
     },
     "execution_count": 10,
     "metadata": {},
     "output_type": "execute_result"
    }
   ],
   "source": [
    "sos(1, 3e-8)"
   ]
  },
  {
   "cell_type": "code",
   "execution_count": 15,
   "metadata": {},
   "outputs": [
    {
     "name": "stdout",
     "output_type": "stream",
     "text": [
      "   Degree d: 1\n",
      "Lower bound: 1.4264937524583678\n",
      "Upper bound: 1.4264938090951405\n",
      "Log-diff   : 3.9703483722952626e-8 ≤ 4.0e-8\n",
      "  0.105495 seconds (136.87 k allocations: 12.054 MiB)\n"
     ]
    },
    {
     "data": {
      "text/plain": [
       "(1.008683405683556, 1.4264938090951405)"
      ]
     },
     "execution_count": 15,
     "metadata": {},
     "output_type": "execute_result"
    }
   ],
   "source": [
    "sos(1, 4e-8)"
   ]
  },
  {
   "cell_type": "markdown",
   "metadata": {},
   "source": [
    "Using $l = 4$, the time taken to build the sequence is still neglibible to the time used to solve the SDP and the first 21 matrices of the sequence produces give a sequence of growth rate $1.4092$."
   ]
  },
  {
   "cell_type": "code",
   "execution_count": 29,
   "metadata": {},
   "outputs": [
    {
     "name": "stdout",
     "output_type": "stream",
     "text": [
      "   Degree d: 1\n",
      "Lower bound: 1.4167978996991486\n",
      "Upper bound: 1.4279099833483804\n",
      "Log-diff   : 0.007812500000000056 ≤ 0.01\n",
      "  0.121544 seconds (67.11 k allocations: 4.281 MiB)\n"
     ]
    },
    {
     "data": {
      "text/plain": [
       "(1.001827402448126, 1.4279099833483804)"
      ]
     },
     "execution_count": 29,
     "metadata": {},
     "output_type": "execute_result"
    }
   ],
   "source": [
    "sos(1, 1e-2)"
   ]
  },
  {
   "cell_type": "code",
   "execution_count": 30,
   "metadata": {},
   "outputs": [
    {
     "name": "stdout",
     "output_type": "stream",
     "text": [
      "  0.000502 seconds (7.29 k allocations: 426.719 KiB)\n",
      "  0.000671 seconds (8.34 k allocations: 752.047 KiB)\n",
      "   SMP: 010010100100101001001\n",
      "Length: 21\n",
      "Growth: 1.4092472220583487\n"
     ]
    }
   ],
   "source": [
    "@time seq = sosbuildsequence(s∞, 1, niter=21, l=4, p_0=:Primal)\n",
    "@time psw = findsmp(seq)\n",
    "show_smp(psw)"
   ]
  },
  {
   "cell_type": "markdown",
   "metadata": {},
   "source": [
    "With degree $2d = 4$, the upper bound gets closer to the lower bound given by the cycle of length 21 just found."
   ]
  },
  {
   "cell_type": "code",
   "execution_count": 40,
   "metadata": {},
   "outputs": [
    {
     "name": "stdout",
     "output_type": "stream",
     "text": [
      "   Degree d: 2\n",
      "Lower bound: 1.415875249771036\n",
      "Upper bound: 1.4158752920373792\n",
      "Log-diff   : 2.9851741911723906e-8 ≤ 3.0e-8\n",
      "  0.484901 seconds (338.67 k allocations: 22.678 MiB, 1.31% gc time)\n"
     ]
    },
    {
     "data": {
      "text/plain": [
       "(1.190604421978922, 1.4158752920373792)"
      ]
     },
     "execution_count": 40,
     "metadata": {},
     "output_type": "execute_result"
    }
   ],
   "source": [
    "sos(2, 3e-8)"
   ]
  },
  {
   "cell_type": "markdown",
   "metadata": {},
   "source": [
    "With $l=4$, we find the same cycle."
   ]
  },
  {
   "cell_type": "code",
   "execution_count": 43,
   "metadata": {},
   "outputs": [
    {
     "name": "stdout",
     "output_type": "stream",
     "text": [
      "  0.001424 seconds (11.43 k allocations: 714.375 KiB)\n",
      "  0.001404 seconds (8.35 k allocations: 752.578 KiB)\n",
      "   SMP: 010010100100101001001\n",
      "Length: 21\n",
      "Growth: 1.4092472220583487\n"
     ]
    }
   ],
   "source": [
    "@time seq = sosbuildsequence(s∞, 2, niter=21, l=4, p_0=:Primal)\n",
    "@time psw = findsmp(seq)\n",
    "show_smp(psw)"
   ]
  },
  {
   "cell_type": "markdown",
   "metadata": {},
   "source": [
    "We continue increasing the degree until $2d = 30$. The tolerance here were tuned by hand."
   ]
  },
  {
   "cell_type": "code",
   "execution_count": 44,
   "metadata": {},
   "outputs": [
    {
     "name": "stdout",
     "output_type": "stream",
     "text": [
      "   Degree d: 3\n",
      "Lower bound: 1.412829693184879\n",
      "Upper bound: 1.4128299886223639\n",
      "Log-diff   : 2.0911045078841894e-7 ≤ 3.0e-7\n",
      "  0.453285 seconds (344.09 k allocations: 23.507 MiB, 1.38% gc time)\n"
     ]
    },
    {
     "data": {
      "text/plain": [
       "(1.2586881626090174, 1.4128299886223639)"
      ]
     },
     "execution_count": 44,
     "metadata": {},
     "output_type": "execute_result"
    }
   ],
   "source": [
    "sos(3, 3e-7)"
   ]
  },
  {
   "cell_type": "code",
   "execution_count": 45,
   "metadata": {},
   "outputs": [
    {
     "name": "stdout",
     "output_type": "stream",
     "text": [
      "   Degree d: 4\n",
      "Lower bound: 1.4117969350593536\n",
      "Upper bound: 1.4117978553213555\n",
      "Log-diff   : 6.518371581387683e-7 ≤ 7.0e-7\n",
      "  0.479464 seconds (444.09 k allocations: 32.152 MiB, 2.77% gc time)\n"
     ]
    },
    {
     "data": {
      "text/plain": [
       "(1.29462349763339, 1.4117978553213555)"
      ]
     },
     "execution_count": 45,
     "metadata": {},
     "output_type": "execute_result"
    }
   ],
   "source": [
    "sos(4, 7e-7)"
   ]
  },
  {
   "cell_type": "code",
   "execution_count": 46,
   "metadata": {},
   "outputs": [
    {
     "name": "stdout",
     "output_type": "stream",
     "text": [
      "   Degree d: 5\n",
      "Lower bound: 1.410248109626937\n",
      "Upper bound: 1.4102733366296667\n",
      "Log-diff   : 1.7888183593717244e-5 ≤ 2.0e-5\n",
      "  0.695910 seconds (1.26 M allocations: 78.386 MiB, 3.33% gc time)\n",
      "sos_ub[5] - smp.growthrate = 0.0010261145713179598\n"
     ]
    },
    {
     "data": {
      "text/plain": [
       "0.0010261145713179598"
      ]
     },
     "execution_count": 46,
     "metadata": {},
     "output_type": "execute_result"
    }
   ],
   "source": [
    "sos(5, 2e-5)\n",
    "@show sos_ub[5] - smp.growthrate"
   ]
  },
  {
   "cell_type": "code",
   "execution_count": 47,
   "metadata": {},
   "outputs": [
    {
     "name": "stdout",
     "output_type": "stream",
     "text": [
      "   Degree d: 6\n",
      "Lower bound: 1.4098195639947941\n",
      "Upper bound: 1.4098879914681728\n",
      "Log-diff   : 4.8535156250140155e-5 ≤ 5.0e-5\n",
      "  0.473659 seconds (1.14 M allocations: 79.557 MiB, 5.51% gc time)\n",
      "sos_ub[6] - smp.growthrate = 0.0006407694098240491\n"
     ]
    },
    {
     "data": {
      "text/plain": [
       "0.0006407694098240491"
      ]
     },
     "execution_count": 47,
     "metadata": {},
     "output_type": "execute_result"
    }
   ],
   "source": [
    "sos(6, 5e-5)\n",
    "@show sos_ub[6] - smp.growthrate"
   ]
  },
  {
   "cell_type": "code",
   "execution_count": 48,
   "metadata": {},
   "outputs": [
    {
     "name": "stdout",
     "output_type": "stream",
     "text": [
      "   Degree d: 7\n",
      "Lower bound: 1.409797216501079\n",
      "Upper bound: 1.409836514586889\n",
      "Log-diff   : 2.787460327147162e-5 ≤ 3.0e-5\n",
      "  0.777881 seconds (1.93 M allocations: 137.653 MiB, 4.71% gc time)\n",
      "sos_ub[7] - smp.growthrate = 0.0005892925285402306\n"
     ]
    },
    {
     "data": {
      "text/plain": [
       "0.0005892925285402306"
      ]
     },
     "execution_count": 48,
     "metadata": {},
     "output_type": "execute_result"
    }
   ],
   "source": [
    "sos(7, 3e-5)\n",
    "@show sos_ub[7] - smp.growthrate"
   ]
  },
  {
   "cell_type": "code",
   "execution_count": 49,
   "metadata": {},
   "outputs": [
    {
     "name": "stdout",
     "output_type": "stream",
     "text": [
      "   Degree d: 8\n",
      "Lower bound: 1.4097677292967568\n",
      "Upper bound: 1.4098322648190718\n",
      "Log-diff   : 4.57763671875e-5 ≤ 5.0e-5\n",
      "  0.520423 seconds (2.10 M allocations: 144.471 MiB, 8.27% gc time)\n",
      "sos_ub[8] - smp.growthrate = 0.0005850427607230202\n"
     ]
    },
    {
     "data": {
      "text/plain": [
       "0.0005850427607230202"
      ]
     },
     "execution_count": 49,
     "metadata": {},
     "output_type": "execute_result"
    }
   ],
   "source": [
    "sos(8, 5e-5)\n",
    "@show sos_ub[8] - smp.growthrate"
   ]
  },
  {
   "cell_type": "code",
   "execution_count": 50,
   "metadata": {},
   "outputs": [
    {
     "name": "stdout",
     "output_type": "stream",
     "text": [
      "   Degree d: 9\n",
      "Lower bound: 1.4097423289253832\n",
      "Upper bound: 1.4098107526500547\n",
      "Log-diff   : 4.8535156250140155e-5 ≤ 5.0e-5\n",
      "  0.667288 seconds (3.23 M allocations: 213.821 MiB, 9.44% gc time)\n",
      "sos_ub[9] - smp.growthrate = 0.0005635305917059963\n"
     ]
    },
    {
     "data": {
      "text/plain": [
       "0.0005635305917059963"
      ]
     },
     "execution_count": 50,
     "metadata": {},
     "output_type": "execute_result"
    }
   ],
   "source": [
    "sos(9, 5e-5)\n",
    "@show sos_ub[9] - smp.growthrate"
   ]
  },
  {
   "cell_type": "code",
   "execution_count": 51,
   "metadata": {},
   "outputs": [
    {
     "name": "stdout",
     "output_type": "stream",
     "text": [
      "   Degree d: 10\n",
      "Lower bound: 1.40975399651882\n",
      "Upper bound: 1.409803703613914\n",
      "Log-diff   : 3.525878906240898e-5 ≤ 4.0e-5\n",
      "  0.980113 seconds (4.78 M allocations: 319.296 MiB, 8.56% gc time)\n",
      "sos_ub[10] - smp.growthrate = 0.0005564815555652025\n"
     ]
    },
    {
     "data": {
      "text/plain": [
       "0.0005564815555652025"
      ]
     },
     "execution_count": 51,
     "metadata": {},
     "output_type": "execute_result"
    }
   ],
   "source": [
    "sos(10, 4e-5)\n",
    "@show sos_ub[10] - smp.growthrate"
   ]
  },
  {
   "cell_type": "code",
   "execution_count": 52,
   "metadata": {},
   "outputs": [
    {
     "name": "stdout",
     "output_type": "stream",
     "text": [
      "   Degree d: 11\n",
      "Lower bound: 1.4097395342241223\n",
      "Upper bound: 1.4097892408092847\n",
      "Log-diff   : 3.5258789062686535e-5 ≤ 4.0e-5\n",
      "  1.116944 seconds (5.29 M allocations: 360.315 MiB, 9.07% gc time)\n",
      "sos_ub[11] - smp.growthrate = 0.0005420187509359575\n"
     ]
    },
    {
     "data": {
      "text/plain": [
       "0.0005420187509359575"
      ]
     },
     "execution_count": 52,
     "metadata": {},
     "output_type": "execute_result"
    }
   ],
   "source": [
    "sos(11, 4e-5)\n",
    "@show sos_ub[11] - smp.growthrate"
   ]
  },
  {
   "cell_type": "code",
   "execution_count": 53,
   "metadata": {},
   "outputs": [
    {
     "name": "stdout",
     "output_type": "stream",
     "text": [
      "   Degree d: 12\n",
      "Lower bound: 1.4097391693989973\n",
      "Upper bound: 1.4097888759712958\n",
      "Log-diff   : 3.525878906235347e-5 ≤ 4.0e-5\n",
      "  1.259871 seconds (7.24 M allocations: 465.759 MiB, 9.99% gc time)\n",
      "sos_ub[12] - smp.growthrate = 0.0005416539129470266\n"
     ]
    },
    {
     "data": {
      "text/plain": [
       "0.0005416539129470266"
      ]
     },
     "execution_count": 53,
     "metadata": {},
     "output_type": "execute_result"
    }
   ],
   "source": [
    "sos(12, 4e-5)\n",
    "@show sos_ub[12] - smp.growthrate"
   ]
  },
  {
   "cell_type": "code",
   "execution_count": 54,
   "metadata": {},
   "outputs": [
    {
     "name": "stdout",
     "output_type": "stream",
     "text": [
      "   Degree d: 13\n",
      "Lower bound: 1.4097388169642486\n",
      "Upper bound: 1.4097677292967568\n",
      "Log-diff   : 2.0508789062734234e-5 ≤ 2.1e-5\n",
      "  1.459461 seconds (9.93 M allocations: 600.301 MiB, 11.56% gc time)\n",
      "sos_ub[13] - smp.growthrate = 0.0005205072384080189\n"
     ]
    },
    {
     "data": {
      "text/plain": [
       "0.0005205072384080189"
      ]
     },
     "execution_count": 54,
     "metadata": {},
     "output_type": "execute_result"
    }
   ],
   "source": [
    "sos(13, 21e-6)\n",
    "@show sos_ub[13] - smp.growthrate"
   ]
  },
  {
   "cell_type": "code",
   "execution_count": 55,
   "metadata": {},
   "outputs": [
    {
     "name": "stdout",
     "output_type": "stream",
     "text": [
      "   Degree d: 14\n",
      "Lower bound: 1.4097408403676797\n",
      "Upper bound: 1.4097579921324812\n",
      "Log-diff   : 1.2166534423818653e-5 ≤ 2.1e-5\n",
      "  1.785501 seconds (10.65 M allocations: 669.105 MiB, 9.71% gc time)\n",
      "sos_ub[14] - smp.growthrate = 0.0005107700741324717\n"
     ]
    },
    {
     "data": {
      "text/plain": [
       "0.0005107700741324717"
      ]
     },
     "execution_count": 55,
     "metadata": {},
     "output_type": "execute_result"
    }
   ],
   "source": [
    "sos(14, 21e-6)\n",
    "@show sos_ub[14] - smp.growthrate"
   ]
  },
  {
   "cell_type": "code",
   "execution_count": 32,
   "metadata": {},
   "outputs": [
    {
     "name": "stdout",
     "output_type": "stream",
     "text": [
      "   Degree d: 15\n",
      "Lower bound: 1.4097368070725529\n",
      "Upper bound: 1.4097631455284172\n",
      "Log-diff   : 1.8683068847558104e-5 ≤ 2.02e-5\n",
      "  2.342687 seconds (16.02 M allocations: 993.005 MiB, 10.98% gc time)\n",
      "sos_ub[15] - smp.growthrate = 0.0005159234700684578\n"
     ]
    },
    {
     "data": {
      "text/plain": [
       "0.0005159234700684578"
      ]
     },
     "execution_count": 32,
     "metadata": {},
     "output_type": "execute_result"
    }
   ],
   "source": [
    "sos(15, 20.2e-6)\n",
    "@show sos_ub[15] - smp.growthrate"
   ]
  },
  {
   "cell_type": "markdown",
   "metadata": {},
   "source": [
    "We see the upper bounds for the different values of $d$ below:"
   ]
  },
  {
   "cell_type": "code",
   "execution_count": 24,
   "metadata": {},
   "outputs": [
    {
     "data": {
      "text/plain": [
       "15-element Array{Float64,1}:\n",
       " 1.4264938090951405\n",
       " 1.415875286727847 \n",
       " 1.412832323892235 \n",
       " 1.411809259753992 \n",
       " 1.4107575986796927\n",
       " 1.41032348554655  \n",
       " 1.4102410584040173\n",
       " 1.4099828591935328\n",
       " 1.4100300200534477\n",
       " 1.4098968032956563\n",
       " 1.4099828591935328\n",
       " 1.4098968032956563\n",
       " 1.409861556316163 \n",
       " 1.4098547819537248\n",
       " 1.4099828591935328"
      ]
     },
     "execution_count": 24,
     "metadata": {},
     "output_type": "execute_result"
    }
   ],
   "source": [
    "sos_ub"
   ]
  },
  {
   "cell_type": "markdown",
   "metadata": {},
   "source": [
    "The best one is the following (we show two equivalent ways to obtain it):"
   ]
  },
  {
   "cell_type": "code",
   "execution_count": 25,
   "metadata": {},
   "outputs": [
    {
     "data": {
      "text/plain": [
       "(1.4098547819537248, 1.4098547819537248)"
      ]
     },
     "execution_count": 25,
     "metadata": {},
     "output_type": "execute_result"
    }
   ],
   "source": [
    "minimum(sos_ub), sosdata(s∞).sos_ub"
   ]
  },
  {
   "cell_type": "markdown",
   "metadata": {},
   "source": [
    "The cycle found is till the same even with $2d = 30$ but can now be found with $l = 2$."
   ]
  },
  {
   "cell_type": "code",
   "execution_count": 84,
   "metadata": {},
   "outputs": [
    {
     "name": "stdout",
     "output_type": "stream",
     "text": [
      "   Degree d: 15\n",
      "Lower bound: 1.4057722909709325\n",
      "Upper bound: 1.4167978996991486\n",
      "Log-diff   : 0.0078125 ≤ 0.01\n",
      "  0.757571 seconds (6.38 M allocations: 349.782 MiB, 13.02% gc time)\n"
     ]
    },
    {
     "data": {
      "text/plain": [
       "(1.373664407470894, 1.4167978996991486)"
      ]
     },
     "execution_count": 84,
     "metadata": {},
     "output_type": "execute_result"
    }
   ],
   "source": [
    "sos(15, 1e-2)"
   ]
  },
  {
   "cell_type": "code",
   "execution_count": 85,
   "metadata": {},
   "outputs": [
    {
     "name": "stdout",
     "output_type": "stream",
     "text": [
      "  0.009879 seconds (93.67 k allocations: 8.403 MiB)\n",
      "  0.000532 seconds (7.00 k allocations: 629.906 KiB)\n",
      "   SMP: 010100100101001001010\n",
      "Length: 21\n",
      "Growth: 1.4092472220583487\n"
     ]
    }
   ],
   "source": [
    "@time seq = sosbuildsequence(s∞, 15, niter=21, l=2, p_0=:Primal)\n",
    "@time psw = findsmp(seq)\n",
    "show_smp(psw)"
   ]
  },
  {
   "cell_type": "markdown",
   "metadata": {},
   "source": [
    "In conclusion we know that the JSR is in the interval:"
   ]
  },
  {
   "cell_type": "code",
   "execution_count": 30,
   "metadata": {},
   "outputs": [
    {
     "name": "stdout",
     "output_type": "stream",
     "text": [
      "Lower bound: 1.4092472220583487\n",
      "Upper bound: 1.4098547819537248\n"
     ]
    }
   ],
   "source": [
    "println(\"Lower bound: \", sosdata(s∞).lb)\n",
    "println(\"Upper bound: \", sosdata(s∞).ub)"
   ]
  },
  {
   "cell_type": "markdown",
   "metadata": {},
   "source": [
    "We can plot the lyapunov functions for increasing degrees as follows:"
   ]
  },
  {
   "cell_type": "code",
   "execution_count": 32,
   "metadata": {},
   "outputs": [
    {
     "data": {
      "text/plain": [
       "plot_lyap (generic function with 1 method)"
      ]
     },
     "execution_count": 32,
     "metadata": {},
     "output_type": "execute_result"
    }
   ],
   "source": [
    "using MultivariatePolynomials\n",
    "using Plots\n",
    "function plot_lyap(p)\n",
    "    d = mindegree(p)\n",
    "    @assert d == maxdegree(p)\n",
    "    @assert nvariables(p) == 2\n",
    "    α = range(0., stop=2π, length=1000)\n",
    "    X = cos.(α)\n",
    "    Y = sin.(α)\n",
    "    λ = map(x -> p(variables(p) => x), zip(X, Y))\n",
    "    λ = λ.^(1/d)\n",
    "    plot(X ./ λ, Y ./ λ, axis=false, aspect_ratio=:equal, label=\"\", grid=false, border=nothing, ticks=nothing, linewidth=3)#, grid=false, label=\"\")\n",
    "    plot!(X, Y, label=\"\", linestyle=:dash, linecolor=:black, linewidth=2)\n",
    "end"
   ]
  },
  {
   "cell_type": "markdown",
   "metadata": {},
   "source": [
    "### Reproducing the README figure\n",
    "\n",
    "The cell below is used to plot the figure on the README with the $3 \\times 5$ sublevel sets"
   ]
  },
  {
   "cell_type": "code",
   "execution_count": 43,
   "metadata": {
    "collapsed": true
   },
   "outputs": [],
   "source": [
    "pyplot()\n",
    "lyap_plots = map(d -> begin\n",
    "    plot_lyap(sosdata(s∞).lyaps[d].primal[1])\n",
    "    #savefig(\"FinConjCounterEx_d\" * string(d) * \".pdf\")\n",
    "end, 1:15)\n",
    "plot(lyap_plots..., layout=(3, 5));\n",
    "#savefig(\"FinConjCounterEx.png\")"
   ]
  },
  {
   "cell_type": "markdown",
   "metadata": {},
   "source": [
    "## Brute-force\n",
    "\n",
    "A brute force search for a cycle with a better with length up to 32 shows that the cycle of length 21 found with $2d = 2$ is the best one up to length 32.\n",
    "It remains unknown whether the cycle is an s.m.p."
   ]
  },
  {
   "cell_type": "code",
   "execution_count": 18,
   "metadata": {},
   "outputs": [
    {
     "name": "stdout",
     "output_type": "stream",
     "text": [
      " 16.904939 seconds (326.30 M allocations: 19.173 GiB, 20.25% gc time)\n",
      "   SMP: 001001010010010100101\n",
      "Length: 21\n",
      "Growth: 1.4092472220583487\n"
     ]
    }
   ],
   "source": [
    "using SwitchOnSafety\n",
    "sosdata(s∞).smp = nothing\n",
    "@time quicklb(s∞, 1:23)\n",
    "show_smp(sosdata(s∞).smp)"
   ]
  },
  {
   "cell_type": "code",
   "execution_count": 19,
   "metadata": {},
   "outputs": [
    {
     "name": "stdout",
     "output_type": "stream",
     "text": [
      " 22.579059 seconds (505.57 M allocations: 27.854 GiB, 22.94% gc time)\n",
      "   SMP: 001001010010010100101\n",
      "Length: 21\n",
      "Growth: 1.4092472220583487\n"
     ]
    }
   ],
   "source": [
    "@time quicklb(s∞, 24)\n",
    "show_smp(sosdata(s∞).smp)"
   ]
  },
  {
   "cell_type": "code",
   "execution_count": 20,
   "metadata": {},
   "outputs": [
    {
     "name": "stdout",
     "output_type": "stream",
     "text": [
      " 37.700757 seconds (639.70 M allocations: 39.097 GiB, 21.99% gc time)\n",
      "   SMP: 001001010010010100101\n",
      "Length: 21\n",
      "Growth: 1.4092472220583487\n"
     ]
    }
   ],
   "source": [
    "@time quicklb(s∞, 25)\n",
    "show_smp(sosdata(s∞).smp)"
   ]
  },
  {
   "cell_type": "code",
   "execution_count": 21,
   "metadata": {},
   "outputs": [
    {
     "name": "stdout",
     "output_type": "stream",
     "text": [
      " 80.704443 seconds (1.45 G allocations: 86.021 GiB, 22.12% gc time)\n",
      "   SMP: 001001010010010100101\n",
      "Length: 21\n",
      "Growth: 1.4092472220583487\n"
     ]
    }
   ],
   "source": [
    "@time quicklb(s∞, 26)\n",
    "show_smp(sosdata(s∞).smp)"
   ]
  },
  {
   "cell_type": "code",
   "execution_count": 22,
   "metadata": {},
   "outputs": [
    {
     "name": "stdout",
     "output_type": "stream",
     "text": [
      "158.086423 seconds (2.86 G allocations: 169.739 GiB, 22.24% gc time)\n",
      "   SMP: 001001010010010100101\n",
      "Length: 21\n",
      "Growth: 1.4092472220583487\n"
     ]
    }
   ],
   "source": [
    "@time quicklb(s∞, 27)\n",
    "show_smp(sosdata(s∞).smp)"
   ]
  },
  {
   "cell_type": "code",
   "execution_count": 11,
   "metadata": {},
   "outputs": [
    {
     "name": "stdout",
     "output_type": "stream",
     "text": [
      "247.754003 seconds (6.93 G allocations: 393.833 GiB, 15.79% gc time)\n",
      "   SMP: 001001010010010100101\n",
      "Length: 21\n",
      "Growth: 1.4092472220583487\n"
     ]
    }
   ],
   "source": [
    "@time quicklb(s∞, 28)\n",
    "show_smp(sosdata(s∞).smp)"
   ]
  },
  {
   "cell_type": "code",
   "execution_count": 12,
   "metadata": {},
   "outputs": [
    {
     "name": "stdout",
     "output_type": "stream",
     "text": [
      "451.648584 seconds (9.13 G allocations: 576.000 GiB, 14.99% gc time)\n",
      "   SMP: 001001010010010100101\n",
      "Length: 21\n",
      "Growth: 1.4092472220583487\n"
     ]
    }
   ],
   "source": [
    "@time quicklb(s∞, 29)\n",
    "show_smp(sosdata(s∞).smp)"
   ]
  },
  {
   "cell_type": "code",
   "execution_count": 13,
   "metadata": {},
   "outputs": [
    {
     "name": "stdout",
     "output_type": "stream",
     "text": [
      "1108.237883 seconds (32.27 G allocations: 1.737 TiB, 18.45% gc time)\n",
      "   SMP: 001001010010010100101\n",
      "Length: 21\n",
      "Growth: 1.4092472220583487\n"
     ]
    }
   ],
   "source": [
    "@time quicklb(s∞, 30)\n",
    "show_smp(sosdata(s∞).smp)"
   ]
  },
  {
   "cell_type": "code",
   "execution_count": 14,
   "metadata": {},
   "outputs": [
    {
     "name": "stdout",
     "output_type": "stream",
     "text": [
      "1700.920575 seconds (36.51 G allocations: 2.375 TiB, 16.06% gc time)\n",
      "   SMP: 001001010010010100101\n",
      "Length: 21\n",
      "Growth: 1.4092472220583487\n"
     ]
    }
   ],
   "source": [
    "@time quicklb(s∞, 31)\n",
    "show_smp(sosdata(s∞).smp)"
   ]
  },
  {
   "cell_type": "code",
   "execution_count": 168,
   "metadata": {},
   "outputs": [
    {
     "name": "stdout",
     "output_type": "stream",
     "text": [
      "6920.461502 seconds (110.85 G allocations: 6.402 TiB, 30.46% gc time)\n",
      "   SMP: 010100100101001001010\n",
      "Length: 21\n",
      "Growth: 1.4092472220583487\n"
     ]
    }
   ],
   "source": [
    "@time quicklb(s∞, 32)\n",
    "show_smp(sosdata(s∞).smp)"
   ]
  },
  {
   "cell_type": "markdown",
   "metadata": {},
   "source": [
    "## Gripenberg"
   ]
  },
  {
   "cell_type": "code",
   "execution_count": 7,
   "metadata": {},
   "outputs": [
    {
     "name": "stdout",
     "output_type": "stream",
     "text": [
      "ρ evaluations   : 20 < 10000 = max_ρ_eval.\n",
      "norm evaluations: 20 < 10000 = max_norm_eval.\n",
      "switch length   : 7 < 50 = max_length.\n",
      "  0.000839 seconds (1.29 k allocations: 72.375 KiB)\n",
      "ub = 1.4192450962501781\n",
      "   SMP: 00101\n",
      "Length: 5\n",
      "Growth: 1.4092450962501781\n"
     ]
    }
   ],
   "source": [
    "@time smp, ub = gripenberg(s∞, δ=1e-2)\n",
    "@show ub\n",
    "show_smp(smp)"
   ]
  },
  {
   "cell_type": "code",
   "execution_count": 8,
   "metadata": {},
   "outputs": [
    {
     "name": "stdout",
     "output_type": "stream",
     "text": [
      "ρ evaluations   : 7532 < 10000 = max_ρ_eval.\n",
      "norm evaluations: 7532 < 10000 = max_norm_eval.\n",
      "switch length   : 53 < 1000 = max_length.\n",
      "  0.066787 seconds (363.52 k allocations: 26.096 MiB, 10.53% gc time)\n",
      "ub = 1.4102472220583486\n",
      "   SMP: 001001010010010100101\n",
      "Length: 21\n",
      "Growth: 1.4092472220583487\n"
     ]
    }
   ],
   "source": [
    "@time smp, ub = gripenberg(s∞, δ=1e-3, max_eval=10_000, max_length=1000)\n",
    "@show ub\n",
    "show_smp(smp)"
   ]
  },
  {
   "cell_type": "code",
   "execution_count": 9,
   "metadata": {},
   "outputs": [
    {
     "name": "stdout",
     "output_type": "stream",
     "text": [
      "ρ evaluations   : 218008 < 1000000 = max_ρ_eval.\n",
      "norm evaluations: 218008 < 1000000 = max_norm_eval.\n",
      "switch length   : 81 < 100 = max_length.\n",
      "  1.221414 seconds (10.11 M allocations: 766.773 MiB, 16.68% gc time)\n",
      "ub = 1.4098472220583487\n",
      "   SMP: 001001010010010100101\n",
      "Length: 21\n",
      "Growth: 1.4092472220583487\n"
     ]
    }
   ],
   "source": [
    "@time smp, ub = gripenberg(s∞, δ=6e-4, max_eval=1_000_000, max_length=100)\n",
    "@show ub\n",
    "show_smp(smp)"
   ]
  },
  {
   "cell_type": "code",
   "execution_count": 10,
   "metadata": {},
   "outputs": [
    {
     "name": "stdout",
     "output_type": "stream",
     "text": [
      "ρ evaluations   : 437502 < 10000000 = max_ρ_eval.\n",
      "norm evaluations: 437502 < 10000000 = max_norm_eval.\n",
      "switch length   : 87 < 1000 = max_length.\n",
      "  2.470424 seconds (20.32 M allocations: 1.518 GiB, 16.61% gc time)\n",
      "ub = 1.4097972220583488\n",
      "   SMP: 001001010010010100101\n",
      "Length: 21\n",
      "Growth: 1.4092472220583487\n"
     ]
    }
   ],
   "source": [
    "@time smp, ub = gripenberg(s∞, δ=55e-5, max_eval=10_000_000, max_length=1000)\n",
    "@show ub\n",
    "show_smp(smp)"
   ]
  },
  {
   "cell_type": "code",
   "execution_count": 11,
   "metadata": {},
   "outputs": [
    {
     "name": "stdout",
     "output_type": "stream",
     "text": [
      "ρ evaluations   : 510498 < 10000000 = max_ρ_eval.\n",
      "norm evaluations: 510498 < 10000000 = max_norm_eval.\n",
      "switch length   : 89 < 1000 = max_length.\n",
      "  3.296410 seconds (23.71 M allocations: 1.776 GiB, 18.66% gc time)\n",
      "ub = 1.4097872220583487\n",
      "   SMP: 001001010010010100101\n",
      "Length: 21\n",
      "Growth: 1.4092472220583487\n"
     ]
    }
   ],
   "source": [
    "@time smp, ub = gripenberg(s∞, δ=54e-5, max_eval=10_000_000, max_length=1000)\n",
    "@show ub\n",
    "show_smp(smp)"
   ]
  },
  {
   "cell_type": "code",
   "execution_count": 13,
   "metadata": {},
   "outputs": [
    {
     "name": "stdout",
     "output_type": "stream",
     "text": [
      "ρ evaluations   : 609498 < 10000000 = max_ρ_eval.\n",
      "norm evaluations: 609498 < 10000000 = max_norm_eval.\n",
      "switch length   : 91 < 1000 = max_length.\n",
      "  3.425558 seconds (28.31 M allocations: 2.128 GiB, 19.54% gc time)\n",
      "ub = 1.4097772220583487\n",
      "   SMP: 001001010010010100101\n",
      "Length: 21\n",
      "Growth: 1.4092472220583487\n"
     ]
    }
   ],
   "source": [
    "@time smp, ub = gripenberg(s∞, δ=53e-5, max_eval=10_000_000, max_length=1000)\n",
    "@show ub\n",
    "show_smp(smp)"
   ]
  },
  {
   "cell_type": "code",
   "execution_count": 14,
   "metadata": {},
   "outputs": [
    {
     "name": "stdout",
     "output_type": "stream",
     "text": [
      "ρ evaluations   : 726966 < 10000000 = max_ρ_eval.\n",
      "norm evaluations: 726966 < 10000000 = max_norm_eval.\n",
      "switch length   : 92 < 1000 = max_length.\n",
      "  4.247816 seconds (33.77 M allocations: 2.544 GiB, 18.13% gc time)\n",
      "ub = 1.4097672220583488\n",
      "   SMP: 001001010010010100101\n",
      "Length: 21\n",
      "Growth: 1.4092472220583487\n"
     ]
    }
   ],
   "source": [
    "@time smp, ub = gripenberg(s∞, δ=52e-5, max_eval=10_000_000, max_length=100)\n",
    "@show ub\n",
    "show_smp(smp)"
   ]
  },
  {
   "cell_type": "code",
   "execution_count": 10,
   "metadata": {},
   "outputs": [
    {
     "name": "stdout",
     "output_type": "stream",
     "text": [
      "ρ evaluations   : 866588 < 10000000 = max_ρ_eval.\n",
      "norm evaluations: 866588 < 10000000 = max_norm_eval.\n",
      "switch length   : 94 < 100 = max_length.\n",
      "  6.508251 seconds (40.26 M allocations: 3.041 GiB, 19.55% gc time)\n",
      "ub = 1.4097572220583487\n",
      "   SMP: 001001010010010100101\n",
      "Length: 21\n",
      "Growth: 1.4092472220583487\n"
     ]
    }
   ],
   "source": [
    "@time smp, ub = gripenberg(s∞, δ=51e-5, max_eval=10_000_000, max_length=100)\n",
    "@show ub\n",
    "show_smp(smp)"
   ]
  },
  {
   "cell_type": "code",
   "execution_count": 11,
   "metadata": {},
   "outputs": [
    {
     "name": "stdout",
     "output_type": "stream",
     "text": [
      "ρ evaluations   : 920582 < 10000000 = max_ρ_eval.\n",
      "norm evaluations: 920582 < 10000000 = max_norm_eval.\n",
      "switch length   : 94 < 100 = max_length.\n",
      "  7.008577 seconds (42.78 M allocations: 3.232 GiB, 20.75% gc time)\n",
      "ub = 1.4097522220583487\n",
      "   SMP: 001001010010010100101\n",
      "Length: 21\n",
      "Growth: 1.4092472220583487\n"
     ]
    }
   ],
   "source": [
    "@time smp, ub = gripenberg(s∞, δ=50.5e-5, max_eval=10_000_000, max_length=100)\n",
    "@show ub\n",
    "show_smp(smp)"
   ]
  },
  {
   "cell_type": "code",
   "execution_count": 12,
   "metadata": {},
   "outputs": [
    {
     "name": "stdout",
     "output_type": "stream",
     "text": [
      "ρ evaluations   : 944544 < 10000000 = max_ρ_eval.\n",
      "norm evaluations: 944544 < 10000000 = max_norm_eval.\n",
      "switch length   : 95 < 100 = max_length.\n",
      "  6.932779 seconds (43.89 M allocations: 3.317 GiB, 20.64% gc time)\n",
      "ub = 1.4097512220583488\n",
      "   SMP: 001001010010010100101\n",
      "Length: 21\n",
      "Growth: 1.4092472220583487\n"
     ]
    }
   ],
   "source": [
    "@time smp, ub = gripenberg(s∞, δ=50.4e-5, max_eval=10_000_000, max_length=100)\n",
    "@show ub\n",
    "show_smp(smp)"
   ]
  },
  {
   "cell_type": "code",
   "execution_count": 13,
   "metadata": {},
   "outputs": [
    {
     "name": "stdout",
     "output_type": "stream",
     "text": [
      "ρ evaluations   : 958702 < 10000000 = max_ρ_eval.\n",
      "norm evaluations: 958702 < 10000000 = max_norm_eval.\n",
      "switch length   : 95 < 100 = max_length.\n",
      "  6.813786 seconds (44.55 M allocations: 3.368 GiB, 19.13% gc time)\n",
      "ub = 1.4097502220583487\n",
      "   SMP: 001001010010010100101\n",
      "Length: 21\n",
      "Growth: 1.4092472220583487\n"
     ]
    }
   ],
   "source": [
    "@time smp, ub = gripenberg(s∞, δ=50.3e-5, max_eval=10_000_000, max_length=100)\n",
    "@show ub\n",
    "show_smp(smp)"
   ]
  },
  {
   "cell_type": "code",
   "execution_count": 14,
   "metadata": {},
   "outputs": [
    {
     "name": "stdout",
     "output_type": "stream",
     "text": [
      "ρ evaluations   : 978438 < 10000000 = max_ρ_eval.\n",
      "norm evaluations: 978438 < 10000000 = max_norm_eval.\n",
      "switch length   : 95 < 100 = max_length.\n",
      "  7.154747 seconds (45.47 M allocations: 3.438 GiB, 20.01% gc time)\n",
      "ub = 1.4097492220583487\n",
      "   SMP: 001001010010010100101\n",
      "Length: 21\n",
      "Growth: 1.4092472220583487\n"
     ]
    }
   ],
   "source": [
    "@time smp, ub = gripenberg(s∞, δ=50.2e-5, max_eval=10_000_000, max_length=100)\n",
    "@show ub\n",
    "show_smp(smp)"
   ]
  },
  {
   "cell_type": "code",
   "execution_count": 15,
   "metadata": {},
   "outputs": [
    {
     "name": "stdout",
     "output_type": "stream",
     "text": [
      "ρ evaluations   : 1011488 < 10000000 = max_ρ_eval.\n",
      "norm evaluations: 1011488 < 10000000 = max_norm_eval.\n",
      "switch length   : 95 < 100 = max_length.\n",
      "  7.392645 seconds (47.00 M allocations: 3.556 GiB, 19.76% gc time)\n",
      "ub = 1.4097472220583487\n",
      "   SMP: 001001010010010100101\n",
      "Length: 21\n",
      "Growth: 1.4092472220583487\n"
     ]
    }
   ],
   "source": [
    "@time smp, ub = gripenberg(s∞, δ=5e-4, max_eval=10_000_000, max_length=100)\n",
    "@show ub\n",
    "show_smp(smp)"
   ]
  },
  {
   "cell_type": "code",
   "execution_count": 16,
   "metadata": {},
   "outputs": [
    {
     "name": "stdout",
     "output_type": "stream",
     "text": [
      "ρ evaluations   : 8929584 < 10000000 = max_ρ_eval.\n",
      "norm evaluations: 8929584 < 10000000 = max_norm_eval.\n",
      "switch length   : \u001b[31m\u001b[1m100 ≥ 100\u001b[22m\u001b[39m = max_length.\n",
      " 72.191537 seconds (415.26 M allocations: 32.366 GiB, 25.06% gc time)\n",
      "ub = 1.4097109895117423\n",
      "   SMP: 001001010010010100101\n",
      "Length: 21\n",
      "Growth: 1.4092472220583487\n"
     ]
    }
   ],
   "source": [
    "@time smp, ub = gripenberg(s∞, δ=4e-4, max_eval=10_000_000, max_length=100)\n",
    "@show ub\n",
    "show_smp(smp)"
   ]
  },
  {
   "cell_type": "code",
   "execution_count": 7,
   "metadata": {},
   "outputs": [
    {
     "name": "stdout",
     "output_type": "stream",
     "text": [
      "ρ evaluations   : \u001b[31m\u001b[1m10670356 ≥ 10000000\u001b[22m\u001b[39m = max_ρ_eval.\n",
      "norm evaluations: \u001b[31m\u001b[1m10670356 ≥ 10000000\u001b[22m\u001b[39m = max_norm_eval.\n",
      "switch length   : 69 < 1000 = max_length.\n",
      "111.142191 seconds (497.84 M allocations: 37.358 GiB, 35.30% gc time)\n",
      "ub = 1.4099648749947737\n",
      "   SMP: 001001010010010100101\n",
      "Length: 21\n",
      "Growth: 1.4092472220583487\n"
     ]
    }
   ],
   "source": [
    "@time smp, ub = gripenberg(s∞, δ=5e-5, max_eval=10_000_000, max_length=1000)\n",
    "@show ub\n",
    "show_smp(smp)"
   ]
  },
  {
   "cell_type": "markdown",
   "metadata": {},
   "source": [
    "## Polytopic proof of the s.m.p."
   ]
  },
  {
   "cell_type": "code",
   "execution_count": 5,
   "metadata": {},
   "outputs": [
    {
     "data": {
      "text/plain": [
       "PSW(1.4092472220583487, [1, 2, 1, 2, 1, 1, 2, 1, 1, 2, 1, 2, 1, 1, 2, 1, 1, 2, 1, 2, 1])"
      ]
     },
     "execution_count": 5,
     "metadata": {},
     "output_type": "execute_result"
    }
   ],
   "source": [
    "smp = strbin(s∞, \"010100100101001001010\")"
   ]
  },
  {
   "cell_type": "code",
   "execution_count": 6,
   "metadata": {},
   "outputs": [
    {
     "name": "stdout",
     "output_type": "stream",
     "text": [
      "Depth 100: [176] points, 2 living leaves...\n",
      "Depth 200: [336] points, 2 living leaves...\n",
      "Depth 300: [496] points, 1 living leaves...\n",
      "0 living leaves, PSW(1.4092472220583487, [1, 2, 1, 2, 1, 1, 2, 1, 1, 2, 1, 2, 1, 1, 2, 1, 1, 2, 1, 2, 1]) is a \u001b[0m\u001b[1mspectral maximizing product\u001b[22m (s.m.p.)\n",
      "Use `tol` < 9.79216707719388e-13 to eliminate at least one more living leaf.\n",
      "Use `tol` > 1.0200729150255938e-12 to keep at least one more dead leaf.\n",
      "Use `new_candidate_tol` < 0.00231302613966311 to consider at least one more candidate as s.m.p.\n",
      " 16.138826 seconds (62.28 M allocations: 9.265 GiB, 11.32% gc time)\n"
     ]
    }
   ],
   "source": [
    "using JuMP, GLPK\n",
    "@time smp, done, polys = invariant_polytopes(s∞, GLPK.Optimizer, smp,\n",
    "    tol=1e-12, verbose=1, new_candidate_tol = 3e-3, max_length=400);"
   ]
  },
  {
   "cell_type": "code",
   "execution_count": 9,
   "metadata": {},
   "outputs": [
    {
     "name": "stdout",
     "output_type": "stream",
     "text": [
      "Depth 100: [176] points, 2 living leaves...\n",
      "Depth 200: [336] points, 2 living leaves...\n",
      "Depth 300: [496] points, 1 living leaves...\n",
      "0 living leaves, PSW(1.4092472220583487, [1, 2, 1, 2, 1, 1, 2, 1, 1, 2, 1, 2, 1, 1, 2, 1, 1, 2, 1, 2, 1]) is a \u001b[0m\u001b[1mspectral maximizing product\u001b[22m (s.m.p.)\n",
      "Use `tol` < 9.79216707719388e-13 to eliminite at least one more living leaf.\n",
      "Use `tol` > 1.0200729150255938e-12 to keep at least one more dead leaf.\n",
      "Use `new_candidate_tol` < 0.00231302613966311 to consider at least one more candidate as s.m.p.\n",
      "  4.496053 seconds (19.97 M allocations: 7.196 GiB, 29.73% gc time)\n"
     ]
    }
   ],
   "source": [
    "using JuMP, GLPK\n",
    "@time smp, done, polys = invariant_polytopes(s∞, GLPK.Optimizer, smp,\n",
    "    tol=1e-12, verbose=1, new_candidate_tol = 3e-3, max_length=400);"
   ]
  },
  {
   "cell_type": "code",
   "execution_count": 8,
   "metadata": {},
   "outputs": [
    {
     "name": "stdout",
     "output_type": "stream",
     "text": [
      "Depth 100: [211] points, 1 living leaves...\n",
      "Depth 200: [359] points, 1 living leaves...\n",
      "Depth 300: [506] points, 2 living leaves...\n",
      "0 living leaves, PSW(1.4092472220583487, [1, 2, 1, 2, 1, 1, 2, 1, 1, 2, 1, 2, 1, 1, 2, 1, 1, 2, 1, 2, 1]) is a \u001b[0m\u001b[1mspectral maximizing product\u001b[22m (s.m.p.)\n",
      "Use `tol` < 9.78994663114463e-13 to eliminate at least one more living leaf.\n",
      "Use `tol` > 1.0045297926808416e-12 to keep at least one more dead leaf.\n",
      "Use `new_candidate_tol` < 0.00231302613967177 to consider at least one more candidate as s.m.p.\n",
      "  6.641982 seconds (31.23 M allocations: 10.414 GiB, 22.21% gc time)\n"
     ]
    }
   ],
   "source": [
    "using JuMP, MosekTools\n",
    "@time smp, done, polys = invariant_polytopes(s∞, optimizer_with_attributes(Mosek.Optimizer, MOI.Silent() => true), smp,\n",
    "    tol=1e-12, verbose=1, new_candidate_tol = 3e-3, max_length=400);"
   ]
  },
  {
   "cell_type": "code",
   "execution_count": 11,
   "metadata": {},
   "outputs": [
    {
     "name": "stdout",
     "output_type": "stream",
     "text": [
      "Depth 100: [263] points, 1 living leaves...\n",
      "Depth 200: [545] points, 5 living leaves...\n",
      "Depth 300: [1256] points, 11 living leaves...\n",
      "Still 12 living leaves, \u001b[31m\u001b[1maborting\u001b[22m\u001b[39m at depth 300. Increase the `max_length` keyword argument to go further.\n",
      "Use `tol` < 9.243716903029053e-13 to eliminate at least one more living leaf.\n",
      "Use `tol` > 2.0041657222691356e-9 to keep at least one more dead leaf.\n",
      "Use `new_candidate_tol` < 9.645102583277776e-8 to consider at least one more candidate as s.m.p.\n",
      "Use `new_candidate_tol` > 0.01292009163497343 to eliminate at least one s.m.p. candidate.\n",
      " 37.298619 seconds (135.75 M allocations: 90.292 GiB, 34.88% gc time)\n"
     ]
    }
   ],
   "source": [
    "smp = periodicswitching(s∞, [2, 1, 1, 2, 1, 1, 2, 1, 2, 1, 1, 2, 1, 1, 2, 1, 2, 1, 1, 2, 1])\n",
    "@time smp, done, polys = invariant_polytopes(s∞, optimizer_with_attributes(Mosek.Optimizer, MOI.Silent() => true), smp,\n",
    "    tol=1e-12, verbose=1, max_length=300);"
   ]
  },
  {
   "cell_type": "code",
   "execution_count": 15,
   "metadata": {},
   "outputs": [
    {
     "data": {
      "text/plain": [
       "1.4092472210956486"
      ]
     },
     "execution_count": 15,
     "metadata": {},
     "output_type": "execute_result"
    }
   ],
   "source": [
    "quicklb(s∞, 1:10)"
   ]
  },
  {
   "cell_type": "code",
   "execution_count": 5,
   "metadata": {},
   "outputs": [
    {
     "data": {
      "text/plain": [
       "PSW(1.4092472210956486, [1, 1, 2, 1, 1, 2, 1, 2])"
      ]
     },
     "execution_count": 5,
     "metadata": {},
     "output_type": "execute_result"
    }
   ],
   "source": [
    "psw = strbin(s∞, \"00100101\")"
   ]
  },
  {
   "cell_type": "markdown",
   "metadata": {},
   "source": [
    "The s.m.p. is 00100101 00100101 00101 so it should should find a better s.m.p. candidate starting at 0010 and then taking 100 and then add two cycles."
   ]
  },
  {
   "cell_type": "code",
   "execution_count": 10,
   "metadata": {},
   "outputs": [
    {
     "name": "stdout",
     "output_type": "stream",
     "text": [
      "PSW(1.4092472220583485, [1, 2, 1, 2, 1, 1, 2, 1, 2, 1, 1, 2, 1, 1, 2, 1, 2, 1, 1, 2, 1])\n",
      "Depth 100: [176] points, 2 living leaves...\n",
      "Depth 200: [336] points, 2 living leaves...\n",
      "0 living leaves, PSW(1.4092472220583485, [1, 2, 1, 2, 1, 1, 2, 1, 2, 1, 1, 2, 1, 1, 2, 1, 2, 1, 1, 2, 1]) is a \u001b[0m\u001b[1mspectral maximizing product\u001b[22m (s.m.p.)\n",
      "Use `tol` < 9.85878045867139e-13 to eliminite at least one more living leaf.\n",
      "Use `tol` > 1.0269562977782698e-12 to keep at least one more dead leaf.\n",
      "Use `new_candidate_tol` < 0.0 to consider at least one more candidate as s.m.p.\n",
      "Use `new_candidate_tol` > 1.3064575199450701e-8 to eliminate at least one s.m.p. candidate.\n"
     ]
    }
   ],
   "source": [
    "using JuMP, GLPK\n",
    "psw = strbin(s∞, \"00100101\")\n",
    "smp, done, polys = invariant_polytopes(s∞, GLPK.Optimizer, psw, verbose=1, tol=1e-12,\n",
    "    max_length=1000, new_candidate_tol=1e-8, gready=true);"
   ]
  },
  {
   "cell_type": "markdown",
   "metadata": {},
   "source": [
    "The s.m.p. is 01010010 01010010 10010 so it should should find a better s.m.p. candidate starting at 10010 and then add two cycles."
   ]
  },
  {
   "cell_type": "code",
   "execution_count": 11,
   "metadata": {},
   "outputs": [
    {
     "name": "stdout",
     "output_type": "stream",
     "text": [
      "PSW(1.4092472220583443, [1, 2, 1, 2, 1, 1, 2, 1, 2, 1, 1, 2, 1])\n",
      "PSW(1.4092472220583487, [2, 1, 1, 2, 1, 1, 2, 1, 2, 1, 1, 2, 1, 1, 2, 1, 2, 1, 1, 2, 1])\n",
      "Depth 100: [176] points, 2 living leaves...\n",
      "Depth 200: [336] points, 2 living leaves...\n",
      "0 living leaves, PSW(1.4092472220583487, [2, 1, 1, 2, 1, 1, 2, 1, 2, 1, 1, 2, 1, 1, 2, 1, 2, 1, 1, 2, 1]) is a \u001b[0m\u001b[1mspectral maximizing product\u001b[22m (s.m.p.)\n",
      "Use `tol` < 9.015010959956271e-13 to eliminite at least one more living leaf.\n",
      "Use `tol` > 1.0271783423831948e-12 to keep at least one more dead leaf.\n",
      "Use `new_candidate_tol` < -7.606137941706947e-13 to consider at least one more candidate as s.m.p.\n",
      "Use `new_candidate_tol` > 1.43497476123855e-8 to eliminate at least one s.m.p. candidate.\n"
     ]
    }
   ],
   "source": [
    "using JuMP, GLPK\n",
    "smp = strbin(s∞, \"01010010\")\n",
    "smp, done, polys = invariant_polytopes(s∞, GLPK.Optimizer, smp, verbose=1, tol=1e-12,\n",
    "    new_candidate_tol=1e-8, max_cycles=5, max_length=1000);"
   ]
  },
  {
   "cell_type": "code",
   "execution_count": 7,
   "metadata": {},
   "outputs": [
    {
     "data": {
      "text/plain": [
       "PSW(1.0, [1])"
      ]
     },
     "execution_count": 7,
     "metadata": {},
     "output_type": "execute_result"
    }
   ],
   "source": [
    "periodicswitching(s∞, [1])"
   ]
  },
  {
   "cell_type": "code",
   "execution_count": 8,
   "metadata": {},
   "outputs": [
    {
     "data": {
      "text/plain": [
       "PSW(0.7493265463303675, [2])"
      ]
     },
     "execution_count": 8,
     "metadata": {},
     "output_type": "execute_result"
    }
   ],
   "source": [
    "periodicswitching(s∞, [2])"
   ]
  },
  {
   "cell_type": "code",
   "execution_count": null,
   "metadata": {},
   "outputs": [
    {
     "name": "stdout",
     "output_type": "stream",
     "text": [
      "PSW(1.4006292753492893, [1, 2])\n",
      "PSW(1.408876381693086, [2, 1, 1])\n",
      "PSW(1.409245096250178, [1, 2, 1, 2, 1])\n",
      "PSW(1.4092472210956484, [2, 1, 1, 2, 1, 1, 2, 1])\n",
      "PSW(1.4092472220583443, [1, 2, 1, 2, 1, 1, 2, 1, 2, 1, 1, 2, 1])\n",
      "PSW(1.4092472220583487, [2, 1, 1, 2, 1, 1, 2, 1, 2, 1, 1, 2, 1, 1, 2, 1, 2, 1, 1, 2, 1])\n"
     ]
    }
   ],
   "source": [
    "using JuMP, MosekTools\n",
    "psw = strbin(s∞, \"0\")\n",
    "@time smp, done, polys = invariant_polytopes(s∞, optimizer_with_attributes(Mosek.Optimizer, MOI.Silent() => true), psw, verbose=1,\n",
    "    tol=1e-8, new_candidate_tol=-2e-2, max_cycles=5, max_length=400, max_smp_length=22);"
   ]
  },
  {
   "cell_type": "code",
   "execution_count": 13,
   "metadata": {},
   "outputs": [
    {
     "name": "stdout",
     "output_type": "stream",
     "text": [
      "PSW(1.4006292753492893, [1, 2])\n",
      "PSW(1.408876381693086, [2, 1, 1])\n",
      "PSW(1.409245096250178, [1, 2, 1, 2, 1])\n",
      "PSW(1.4092472210956484, [2, 1, 1, 2, 1, 1, 2, 1])\n",
      "PSW(1.4092472220583443, [1, 2, 1, 2, 1, 1, 2, 1, 2, 1, 1, 2, 1])\n",
      "PSW(1.4092472220583487, [2, 1, 1, 2, 1, 1, 2, 1, 2, 1, 1, 2, 1, 1, 2, 1, 2, 1, 1, 2, 1])\n",
      "Depth 100: [176] points, 2 living leaves...\n",
      "Depth 200: [336] points, 2 living leaves...\n",
      "0 living leaves, PSW(1.4092472220583487, [2, 1, 1, 2, 1, 1, 2, 1, 2, 1, 1, 2, 1, 1, 2, 1, 2, 1, 1, 2, 1]) is a \u001b[0m\u001b[1mspectral maximizing product\u001b[22m (s.m.p.)\n",
      "Use `tol` < 9.015010959956271e-13 to eliminate at least one more living leaf.\n",
      "Use `tol` > 1.0271783423831948e-12 to keep at least one more dead leaf.\n",
      "Use `new_candidate_tol` < -0.029403146187415352 to consider at least one more candidate as s.m.p.\n",
      "Use `new_candidate_tol` > -0.016765752047210647 to eliminate at least one s.m.p. candidate.\n",
      "  3.110232 seconds (17.40 M allocations: 5.253 GiB, 25.04% gc time)\n"
     ]
    }
   ],
   "source": [
    "using JuMP, GLPK\n",
    "smp = strbin(s∞, \"0\")\n",
    "@time smp, done, polys = invariant_polytopes(s∞, GLPK.Optimizer, smp,\n",
    "                                             verbose=1, tol=1e-12, new_candidate_tol=-2e-2, max_length=400);"
   ]
  },
  {
   "cell_type": "code",
   "execution_count": 28,
   "metadata": {},
   "outputs": [
    {
     "name": "stdout",
     "output_type": "stream",
     "text": [
      "PSW(1.0, [1])\n",
      "PSW(1.4006292753492893, [1, 2])\n",
      "PSW(1.408876381693086, [2, 1, 1])\n",
      "PSW(1.409245096250178, [1, 2, 1, 2, 1])\n",
      "PSW(1.4092472210956484, [2, 1, 1, 2, 1, 1, 2, 1])\n",
      "PSW(1.4092472220583443, [1, 2, 1, 2, 1, 1, 2, 1, 2, 1, 1, 2, 1])\n",
      "PSW(1.4092472220583487, [2, 1, 1, 2, 1, 1, 2, 1, 2, 1, 1, 2, 1, 1, 2, 1, 2, 1, 1, 2, 1])\n",
      "0 living leaves, PSW(1.4092472220583487, [2, 1, 1, 2, 1, 1, 2, 1, 2, 1, 1, 2, 1, 1, 2, 1, 2, 1, 1, 2, 1]) is a \u001b[0m\u001b[1mspectral maximizing product\u001b[22m (s.m.p.)\n",
      "Use `tol` < -1.1102230246251565e-16 to eliminate at least one more living leaf.\n",
      "Use `tol` > 4.04121180963557e-14 to keep at least one more dead leaf.\n",
      "Use `new_candidate_tol` < -0.029403146187415352 to consider at least one more candidate as s.m.p.\n",
      "Use `new_candidate_tol` > -0.016765752047210647 to eliminate at least one s.m.p. candidate.\n",
      "  0.022091 seconds (203.11 k allocations: 16.894 MiB)\n"
     ]
    }
   ],
   "source": [
    "using JuMP, GLPK\n",
    "smp = strbin(s∞, \"1\")\n",
    "@time smp, done, polys = invariant_polytopes(s∞, GLPK.Optimizer, smp,\n",
    "                                             verbose=1, tol=0.0, new_candidate_tol=-2e-2);"
   ]
  },
  {
   "cell_type": "markdown",
   "metadata": {},
   "source": [
    "# Truncated $h$ functions\n",
    "\n",
    "In [BTV03], the authors introduce the function $h(\\beta) = \\sup_{w} h_w(\\beta)$ which is a convex continuous function.\n",
    "We consider here truncated version of the $h$ function: $h^K(\\beta) = \\sup_{|w| \\le K} h_w(\\beta)$,\n",
    "the functions $h^K$ are polyhedral function and the $J_w^K$ sets in $h^K$ are supersets of the real $J_w$ sets.\n",
    "Moreover, they are all strict supersets on both extremities (except for $J_0$ at $\\alpha=0$ or $\\beta = -\\infty$) as they cannot intersect.\n",
    "So we know that there will always be a $K' > K$ such that each vertex of $h_K$ is cut at $h_{K'}$."
   ]
  },
  {
   "cell_type": "code",
   "execution_count": 3,
   "metadata": {
    "collapsed": true
   },
   "outputs": [],
   "source": [
    "using SwitchOnSafety\n",
    "# Represents a function h_w(β)\n",
    "struct H{S}\n",
    "    smp::SwitchOnSafety.DiscretePeriodicSwitching{S, HybridSystems.OneStateTransition}\n",
    "    constant::Float64 # log(ρ(A_w))\n",
    "    coefficient::Int  # |w|_1\n",
    "    k::Int            # |w|\n",
    "end\n",
    "function H(w::Int, k)\n",
    "    smp = periodicswitching(s1, [HybridSystems.OneStateTransition(((w >> i) & 1) + 1) for i in 0:(k-1)])\n",
    "    constant = log(smp.growthrate) * k\n",
    "    coefficient = count(tr -> tr.σ == 2, smp.period)\n",
    "    H{typeof(s1)}(smp, constant, coefficient, k)\n",
    "end\n",
    "binstr(h::H) = binstr(h.smp)\n",
    "heval(h::H, β::Float64) = (h.constant + h.coefficient * β) / h.k\n",
    "# Computes the intersection point β of two functions h_{w_1} and h_{w_2},\n",
    "# that is, the β such that h_{w_1}(β) = h_{w_2}(β)\n",
    "function intersect(h1::H, h2::H)\n",
    "    if h1.coefficient/h1.k == h2.coefficient/h2.k\n",
    "        return -Inf\n",
    "    else\n",
    "        -(h1.constant/h1.k - h2.constant/h2.k) / (h1.coefficient/h1.k - h2.coefficient/h2.k)\n",
    "    end\n",
    "end\n",
    "# Returns a vector of all h_w function for |w| ≤ K\n",
    "function hs(K)\n",
    "    h = Vector{H{typeof(s1)}}(undef, (1 << (K+1)) - 2)\n",
    "    j = 0\n",
    "    for k in 1:K\n",
    "        for w in 0:((1 << k) - 1)\n",
    "            j += 1\n",
    "            h[j] = H(w, k)\n",
    "        end\n",
    "    end\n",
    "    return h\n",
    "end\n",
    "# Returns the intersection points β and the indices of active w for h^K\n",
    "function hs_β_smp(K)\n",
    "    hs = Main.hs(K)\n",
    "    smp0 = 1\n",
    "    for i in 2:length(hs)\n",
    "        if heval(hs[i], 0.0) ≈ heval(hs[smp0], 0.0)\n",
    "            if hs[i].coefficient / hs[i].k < hs[smp0].coefficient / hs[i].k\n",
    "                smp0 = i\n",
    "            end\n",
    "        else\n",
    "            if heval(hs[i], 0.0) > heval(hs[smp0], 0.0)\n",
    "                smp0 = i\n",
    "            end\n",
    "        end\n",
    "    end\n",
    "    smp = [smp0]\n",
    "    β = [0.0]\n",
    "    while smp[end] != 1\n",
    "        smpnext = 1\n",
    "        function obj(h::H)\n",
    "            i = intersect(h, hs[smp[end]])\n",
    "            if i > β[end] || i ≈ β[end]\n",
    "                return -Inf\n",
    "            end\n",
    "            return i\n",
    "        end\n",
    "        for i in 2:length(hs)\n",
    "            o = obj(hs[i])\n",
    "            if o ≈ obj(hs[smpnext])\n",
    "                if hs[i].coefficient / hs[i].k < hs[smp0].coefficient / hs[i].k\n",
    "                    smpnext = i\n",
    "                end\n",
    "            else\n",
    "                if o < obj(hs[smpnext])\n",
    "                    smpnext = i\n",
    "                end\n",
    "            end\n",
    "        end\n",
    "        j = argmax(obj.(hs))\n",
    "        push!(β, obj(hs[j]))\n",
    "        @assert β[end] < β[end-1]\n",
    "        push!(smp, j)\n",
    "    end\n",
    "    return hs, β, smp\n",
    "end\n",
    "# Represents a set J_w^k\n",
    "struct J{S}\n",
    "    h::H{S}\n",
    "    αmin::Float64\n",
    "    αmax::Float64\n",
    "end\n",
    "function js(K)\n",
    "    hs, β, smp = hs_β_smp(K)\n",
    "    @assert length(β) == length(smp)\n",
    "    return map(i -> begin\n",
    "        αmax = exp(β[i])\n",
    "        if i == length(β)\n",
    "            αmin = 0.0\n",
    "        else\n",
    "            αmin = exp(β[i+1])\n",
    "        end\n",
    "        return J(hs[smp[i]], αmin, αmax)\n",
    "    end, length(β):-1:1)\n",
    "end\n",
    "function Base.show(io::IO, j::J)\n",
    "    println(io, \" smp: \", binstr(j.h))\n",
    "    println(io, \"From: \", j.αmin)\n",
    "    println(io, \"  To: \", j.αmax)\n",
    "end"
   ]
  },
  {
   "cell_type": "code",
   "execution_count": 4,
   "metadata": {},
   "outputs": [
    {
     "data": {
      "text/plain": [
       "plot_hα (generic function with 1 method)"
      ]
     },
     "execution_count": 4,
     "metadata": {},
     "output_type": "execute_result"
    }
   ],
   "source": [
    "using Plots\n",
    "pyplot()\n",
    "# plots h^K(β)\n",
    "function plot_hβ(K)\n",
    "    hs, β, smp = hs_β_smp(K)\n",
    "    @show β\n",
    "    plot()\n",
    "    for i in 1:length(β)\n",
    "        βnext = i == length(β) ? β[i] - 1 : β[i + 1]\n",
    "        h = hs[smp[i]]\n",
    "        plot!([β[i], βnext], [heval(h, β[i]), heval(h, βnext)], label=binstr(h))\n",
    "    end\n",
    "    plot!()\n",
    "end\n",
    "# plots h^K(α)\n",
    "function plot_hα(K)\n",
    "    hs, β, smp = hs_β_smp(K)\n",
    "    @show exp.(β)\n",
    "    plot(xlim = (0.0, 1.0))\n",
    "    for i in 1:length(β)\n",
    "        βnext = i == length(β) ? β[i] - 1 : β[i + 1]\n",
    "        h = hs[smp[i]]\n",
    "        plot!([exp(β[i]), exp(βnext)], [heval(h, β[i]), heval(h, βnext)], label=binstr(h))\n",
    "    end\n",
    "    plot!()\n",
    "end"
   ]
  },
  {
   "cell_type": "markdown",
   "metadata": {},
   "source": [
    "We can see that the intervals are indeed supersets of the intervals given in [GZ05] and [GZ08]."
   ]
  },
  {
   "cell_type": "code",
   "execution_count": 8,
   "metadata": {},
   "outputs": [
    {
     "data": {
      "text/plain": [
       "6-element Array{J{HybridSystem{OneStateAutomaton,MathematicalSystems.DiscreteIdentitySystem,MathematicalSystems.LinearDiscreteSystem{Float64,SArray{Tuple{2,2},Float64,2,4}},AutonomousSwitching}},1}:\n",
       "  smp: 0\n",
       "From: 0.0\n",
       "  To: 0.1715728752538099\n",
       "                    \n",
       "  smp: 10000\n",
       "From: 0.1715728752538099\n",
       "  To: 0.45702943146534875\n",
       "\n",
       "  smp: 1000\n",
       "From: 0.45702943146534875\n",
       "  To: 0.5669785102410742\n",
       " \n",
       "  smp: 100\n",
       "From: 0.5669785102410742\n",
       "  To: 0.7463911219155626\n",
       "   \n",
       "  smp: 10100\n",
       "From: 0.7463911219155626\n",
       "  To: 0.7967176639288206\n",
       " \n",
       "  smp: 10\n",
       "From: 0.7967176639288206\n",
       "  To: 1.0\n",
       "                   "
      ]
     },
     "execution_count": 8,
     "metadata": {},
     "output_type": "execute_result"
    }
   ],
   "source": [
    "js(5)"
   ]
  },
  {
   "cell_type": "markdown",
   "metadata": {},
   "source": [
    "We can plot the function $h^K(\\beta)$ which is indeed convex and the function $h^K(\\alpha)$ which isn't."
   ]
  },
  {
   "cell_type": "code",
   "execution_count": 5,
   "metadata": {},
   "outputs": [
    {
     "name": "stdout",
     "output_type": "stream",
     "text": [
      "β = [0.0, -0.227255, -0.292506, -0.567434, -0.783007, -1.76275]\n"
     ]
    },
    {
     "data": {
      "image/png": "[encoded data removed]"
     },
     "execution_count": 5,
     "metadata": {},
     "output_type": "execute_result"
    }
   ],
   "source": [
    "plot_hβ(5)"
   ]
  },
  {
   "cell_type": "code",
   "execution_count": 7,
   "metadata": {},
   "outputs": [
    {
     "name": "stdout",
     "output_type": "stream",
     "text": [
      "exp.(β) = [1.0, 0.796718, 0.746391, 0.566979, 0.457029, 0.171573]\n"
     ]
    },
    {
     "data": {
      "image/png": "[encoded data removed]"
     },
     "execution_count": 7,
     "metadata": {},
     "output_type": "execute_result"
    }
   ],
   "source": [
    "plot_hα(5)"
   ]
  }
 ],
 "metadata": {
  "@webio": {
   "lastCommId": null,
   "lastKernelId": null
  },
  "kernelspec": {
   "display_name": "Julia 1.1.1",
   "language": "julia",
   "name": "julia-1.1"
  },
  "language_info": {
   "file_extension": ".jl",
   "mimetype": "application/julia",
   "name": "julia",
   "version": "1.1.0"
  }
 },
 "nbformat": 4,
 "nbformat_minor": 2
}
