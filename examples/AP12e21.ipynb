{
 "cells": [
  {
   "cell_type": "markdown",
   "metadata": {},
   "source": [
    "Example 2.1 of [AP12]. The JSR is 1.\n",
    "\n",
    "[AP12] A. Ahmadi, and P. Parrilo\n",
    "*Joint spectral radius of rank one matrices and the maximum cycle mean problem.*\n",
    "CDC, 731-733, **2012**."
   ]
  },
  {
   "cell_type": "code",
   "execution_count": 3,
   "metadata": {},
   "outputs": [
    {
     "data": {
      "text/plain": [
       "Hybrid System with automaton OneStateAutomaton(2)"
      ]
     },
     "execution_count": 3,
     "metadata": {},
     "output_type": "execute_result"
    }
   ],
   "source": [
    "using HybridSystems\n",
    "A1 = [0 1\n",
    "      0 0]\n",
    "A2 = [0 0\n",
    "      1 0]\n",
    "s = discreteswitchedsystem([A1, A2])"
   ]
  },
  {
   "cell_type": "markdown",
   "metadata": {},
   "source": [
    "Pick an SDP solver."
   ]
  },
  {
   "cell_type": "code",
   "execution_count": 4,
   "metadata": {
    "collapsed": true
   },
   "outputs": [],
   "source": [
    "using MosekTools\n",
    "using JuMP\n",
    "factory = optimizer_with_attributes(Mosek.Optimizer, MOI.Silent() => true);"
   ]
  },
  {
   "cell_type": "markdown",
   "metadata": {},
   "source": [
    "We can see that we obtain the value of the JSR as upper and lower bound already with a CQLF.\n",
    "This is to be expected since the problem can be reduced to a maximum cycle mean problem which is easy to solve [AP12]."
   ]
  },
  {
   "cell_type": "code",
   "execution_count": 6,
   "metadata": {},
   "outputs": [
    {
     "data": {
      "text/plain": [
       "(0.7070636241307345, 1.0)"
      ]
     },
     "execution_count": 6,
     "metadata": {},
     "output_type": "execute_result"
    }
   ],
   "source": [
    "using SwitchOnSafety\n",
    "soslyapb(s, 1, factory=factory, tol=1e-4)"
   ]
  },
  {
   "cell_type": "code",
   "execution_count": 9,
   "metadata": {},
   "outputs": [
    {
     "data": {
      "text/plain": [
       "PSW(1.0, [2, 1])"
      ]
     },
     "execution_count": 9,
     "metadata": {},
     "output_type": "execute_result"
    }
   ],
   "source": [
    "using SwitchOnSafety\n",
    "seq = sosbuildsequence(s, 1, p_0=:Primal)\n",
    "psw = findsmp(seq)"
   ]
  },
  {
   "cell_type": "markdown",
   "metadata": {},
   "source": [
    "In fact, this same maximum cycle mean problem can be used to find the lower bound certificate as the infeasibility certificate of $\\gamma$ close to 1 returned by the SDP solver contains atomic measures.\n",
    "The discrete problem formulated on the atoms is a maximum cycle means problem which gives the smp."
   ]
  },
  {
   "cell_type": "code",
   "execution_count": 13,
   "metadata": {},
   "outputs": [
    {
     "data": {
      "text/plain": [
       "PSW(1.0, [2, 1])"
      ]
     },
     "execution_count": 13,
     "metadata": {},
     "output_type": "execute_result"
    }
   ],
   "source": [
    "using SwitchOnSafety\n",
    "sosextractcycle(s, 1, ranktols=1e-4)"
   ]
  },
  {
   "cell_type": "code",
   "execution_count": null,
   "metadata": {
    "collapsed": true
   },
   "outputs": [],
   "source": []
  }
 ],
 "metadata": {
  "kernelspec": {
   "display_name": "Julia 1.0.3",
   "language": "julia",
   "name": "julia-1.0"
  },
  "language_info": {
   "file_extension": ".jl",
   "mimetype": "application/julia",
   "name": "julia",
   "version": "1.1.1"
  }
 },
 "nbformat": 4,
 "nbformat_minor": 2
}
