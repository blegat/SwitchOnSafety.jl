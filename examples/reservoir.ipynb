{
 "cells": [
  {
   "cell_type": "markdown",
   "metadata": {},
   "source": [
    "Define polytopic safe set\n",
    "\\begin{align*}\n",
    "h_{\\text{min}} & \\le h \\le h_{\\text{max}}\\\\\n",
    "v_{\\text{min}} & \\le v \\le v_{\\text{max}}\\\\\n",
    "u_{\\text{min}} & \\le u \\le u_{\\text{max}}\n",
    "\\end{align*}"
   ]
  },
  {
   "cell_type": "code",
   "execution_count": 1,
   "metadata": {
    "collapsed": true
   },
   "outputs": [],
   "source": [
    "using Polyhedra\n",
    "using CDDLib\n",
    "function interval(i, bound)\n",
    "    v = zeros(Int, 3)\n",
    "    v[i] = 1\n",
    "    HalfSpace(v, bound) ∩ HalfSpace(-v, bound)\n",
    "end\n",
    "function safeset(h, v, u)\n",
    "    hr = interval(1, h) ∩ interval(2, v) ∩ interval(3, u)\n",
    "    polyhedron(hr, CDDLibrary(:float))\n",
    "end;"
   ]
  },
  {
   "cell_type": "markdown",
   "metadata": {},
   "source": [
    "Define system\n",
    "\\begin{align*}\n",
    "h_{k+1} & = h_k + v_k \\Delta t\\\\\n",
    "v_{k+1} & = v_k + u_k \\Delta t\n",
    "\\end{align*}"
   ]
  },
  {
   "cell_type": "code",
   "execution_count": 2,
   "metadata": {},
   "outputs": [],
   "source": [
    "using MathematicalSystems\n",
    "using HybridSystems\n",
    "using FillArrays\n",
    "function reservoirsystem(p, Δt)\n",
    "    A = [1. Δt  0;\n",
    "         0   1 Δt;\n",
    "         0   0  0]\n",
    "    B = reshape([0, 0, 1.], 3, 1)\n",
    "    G = HybridSystems.OneStateAutomaton(1)\n",
    "    modes = Fill(ConstrainedDiscreteIdentitySystem(3, p), 1)\n",
    "    Re = Fill(LinearControlDiscreteSystem(A, B), 1)\n",
    "    Sw = Fill(AutonomousSwitching(), 1)\n",
    "    hs = HybridSystem(G, modes, Re, Sw)\n",
    "end;"
   ]
  },
  {
   "cell_type": "markdown",
   "metadata": {},
   "source": [
    "Analytical solution for maximal controlled invariant set"
   ]
  },
  {
   "cell_type": "code",
   "execution_count": 3,
   "metadata": {
    "collapsed": true
   },
   "outputs": [],
   "source": [
    "sym(h, v) = convexhull([h, v], [-h, -v])\n",
    "function mcis(hmax, vmax, umax, Δt)\n",
    "    @assert hmax > 0\n",
    "    @assert umax > 0\n",
    "    @assert Δt > 0\n",
    "    h = hmax\n",
    "    v = 0.0\n",
    "    vr = sym(h, v)\n",
    "    λ = 1.0\n",
    "    while λ == 1.0\n",
    "        Δv = umax * Δt\n",
    "        Δh = -(v + Δv) * Δt\n",
    "        λ = min(1.0, (-hmax - h) / Δh, (vmax - v) / Δv)\n",
    "        h += λ * Δh\n",
    "        v += λ * Δv\n",
    "        vr = convexhull(vr, sym(h, v))\n",
    "    end\n",
    "    if h + 1e-10 > -hmax\n",
    "        vr = convexhull(vr, sym(-hmax, vmax))\n",
    "    end\n",
    "    polyhedron(vr, CDDLibrary(:float))\n",
    "end;"
   ]
  },
  {
   "cell_type": "markdown",
   "metadata": {},
   "source": [
    "Get an SDP solver"
   ]
  },
  {
   "cell_type": "code",
   "execution_count": 4,
   "metadata": {
    "collapsed": true
   },
   "outputs": [],
   "source": [
    "using MosekTools\n",
    "sdpoptimizer = Mosek.Optimizer(LOG=0);",
   ]
  },
  {
   "cell_type": "markdown",
   "metadata": {},
   "source": [
    "Compute maximal volume ellipsoidal controlled invariant set"
   ]
  },
  {
   "cell_type": "code",
   "execution_count": 5,
   "metadata": {},
   "outputs": [],
   "source": [
    "using SwitchOnSafety\n",
    "const SOS = SwitchOnSafety\n",
    "const MOI = MathOptInterface\n",
    "function ellcis(hs, detcone = MOI.RootDetConeTriangle)\n",
    "    getis(hs, sdpoptimizer, Fill(SOS.CenterPoint([0, 0, 0]), 1))[1]\n",
    "end;"
   ]
  },
  {
   "cell_type": "markdown",
   "metadata": {},
   "source": [
    "Plot the projection of the 3D ellipsoidal controlled invariant sets of dimensions $(h, v, u)$ into $(h, v)$"
   ]
  },
  {
   "cell_type": "code",
   "execution_count": 52,
   "metadata": {},
   "outputs": [],
   "source": [
    "using Plots\n",
    "pyplot()\n",
    "include(\"colors.jl\")\n",
    "\n",
    "function proj(ell, I)\n",
    "    Qd = inv(ell.Q)\n",
    "    Qdproj = Qd[I, I]\n",
    "    Qproj = inv(Qdproj)\n",
    "    SOS.Ellipsoid(Qproj, ell.c[I])\n",
    "end\n",
    "function plotsets(p, S, P=nothing; I=[1, 2])\n",
    "    plot(project(p, I), color=lichen, ticks=nothing, border=nothing)\n",
    "    Plots.plot!(S, fillalpha=1.0, color=aurore)\n",
    "    if P !== nothing\n",
    "        Plots.plot!(proj(P, I), fillalpha=1.0, color=canard)\n",
    "    end\n",
    "    Plots.plot!() # return\n",
    "end;"
   ]
  },
  {
   "cell_type": "markdown",
   "metadata": {},
   "source": [
    "Put everything together"
   ]
  },
  {
   "cell_type": "code",
   "execution_count": 16,
   "metadata": {},
   "outputs": [],
   "source": [
    "function reservoir(h, v, u, Δt; ell=true, kws...)\n",
    "    p = safeset(h, v, u)\n",
    "    hs = reservoirsystem(p, Δt)\n",
    "    S = mcis(h, v, u, Δt)\n",
    "    if ell\n",
    "        P = ellcis(hs)\n",
    "        plotsets(p, S, P; kws...)\n",
    "    else\n",
    "        plotsets(p, S; kws...)\n",
    "    end\n",
    "end;"
   ]
  },
  {
   "cell_type": "code",
   "execution_count": 53,
   "metadata": {},
   "outputs": [
    {
     "data": {
      "image/png": "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"
     },
     "execution_count": 53,
     "metadata": {},
     "output_type": "execute_result"
    }
   ],
   "source": [
    "reservoir(3, 1.5, 1, 0.4, ell=false)"
   ]
  },
  {
   "cell_type": "code",
   "execution_count": 54,
   "metadata": {},
   "outputs": [
    {
     "name": "stdout",
     "output_type": "stream",
     "text": [
      "MOI.get(model, MOI.SolveTime()) = 0.002928018569946289\n",
      "JuMP.terminationstatus(model) = Success::MathOptInterface.TerminationStatusCode = 0\n",
      "JuMP.primalstatus(model) = FeasiblePoint::MathOptInterface.ResultStatusCode = 0\n",
      "JuMP.dualstatus(model) = FeasiblePoint::MathOptInterface.ResultStatusCode = 0\n",
      "JuMP.objectivevalue(model) = 2.322717873504099\n"
     ]
    },
    {
     "data": {
      "image/png": "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"
     },
     "execution_count": 54,
     "metadata": {},
     "output_type": "execute_result"
    }
   ],
   "source": [
    "reservoir(3, 1.5, 1, 0.4)"
   ]
  },
  {
   "cell_type": "code",
   "execution_count": null,
   "metadata": {
    "collapsed": true
   },
   "outputs": [],
   "source": []
  }
 ],
 "metadata": {
  "kernelspec": {
   "display_name": "Julia 0.6.3",
   "language": "julia",
   "name": "julia-0.6"
  },
  "language_info": {
   "file_extension": ".jl",
   "mimetype": "application/julia",
   "name": "julia",
   "version": "0.6.3"
  }
 },
 "nbformat": 4,
 "nbformat_minor": 2
}
