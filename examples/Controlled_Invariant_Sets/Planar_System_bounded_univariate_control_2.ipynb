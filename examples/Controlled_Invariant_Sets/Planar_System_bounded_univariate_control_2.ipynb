{
 "cells": [
  {
   "cell_type": "markdown",
   "metadata": {},
   "source": [
    "In this notebook, we compute invariant sets for the planar system with univariate input of Example ?.? of [???].\n",
    "We need to select an semidefinite programming solver to find the invariant set. A complete list of available solvers is [available here](https://www.juliaopt.org/JuMP.jl/stable/installation/#Getting-Solvers-1)."
   ]
  },
  {
   "cell_type": "code",
   "execution_count": 1,
   "metadata": {},
   "outputs": [
    {
     "data": {
      "text/plain": [
       "OptimizerFactory(Mosek.Optimizer, (), Base.Iterators.Pairs(:QUIET => 1))"
      ]
     },
     "execution_count": 1,
     "metadata": {},
     "output_type": "execute_result"
    }
   ],
   "source": [
    "using MosekTools\n",
    "using JuMP\n",
    "solver = optimizer_with_attributes(Mosek.Optimizer, MOI.Silent() => true)"
   ]
  },
  {
   "cell_type": "markdown",
   "metadata": {},
   "source": [
    "We first define the safe sets and input sets for our system using [Polyhedra](https://github.com/JuliaPolyhedra/Polyhedra.jl)."
   ]
  },
  {
   "cell_type": "code",
   "execution_count": 2,
   "metadata": {},
   "outputs": [
    {
     "data": {
      "text/plain": [
       "Polyhedron Interval{Int64,StaticArrays.SArray{Tuple{1},Int64,1,1},StaticArrays.Size{(1,)}}:\n",
       "2-element iterator of HalfSpace{Int64,StaticArrays.SArray{Tuple{1},Int64,1,1}}:\n",
       " HalfSpace([1], 2)\n",
       " HalfSpace([-1], 2):\n",
       "2-element iterator of StaticArrays.SArray{Tuple{1},Int64,1,1}:\n",
       " [2]\n",
       " [-2]"
      ]
     },
     "execution_count": 2,
     "metadata": {},
     "output_type": "execute_result"
    }
   ],
   "source": [
    "using Polyhedra\n",
    "G = [-0.7238   -0.5117\n",
    "      0.2558   -0.8091\n",
    "     -0.0528    0.7725\n",
    "     -0.1060   -0.7190\n",
    "     -0.1252    0.1868\n",
    "      0.7232   -0.9371\n",
    "      0.4235    0.6708]\n",
    "F = [0.2990;\n",
    "     0.0983;\n",
    "     0.0276;\n",
    "     0.1202;\n",
    "     0.0348;\n",
    "     0.0921;\n",
    "     0.0240]\n",
    "safe_set = polyhedron(hrep(G, F), DefaultLibrary{Float64}(solver))\n",
    "cheby_center, cheby_radius = chebyshevcenter(safe_set, solver)\n",
    "input_set = polyhedron(convexhull([-2], [2]))"
   ]
  },
  {
   "cell_type": "markdown",
   "metadata": {},
   "source": [
    "We new define the dynamic of our system and create it using [MathematicalSystems](https://github.com/JuliaReach/MathematicalSystems.jl/)."
   ]
  },
  {
   "cell_type": "code",
   "execution_count": 3,
   "metadata": {},
   "outputs": [
    {
     "data": {
      "text/plain": [
       "ConstrainedLinearControlDiscreteSystem{Float64,Array{Float64,2},Array{Float64,2},DefaultPolyhedron{Float64,MixedMatHRep{Float64,Array{Float64,2}},MixedMatVRep{Float64,Array{Float64,2}}},Interval{Int64,StaticArrays.SArray{Tuple{1},Int64,1,1},StaticArrays.Size{(1,)}}}([1.0 0.1; 0.0 1.0], [0.0; 0.05], HalfSpace([-0.7238, -0.5117], 0.299) ∩ HalfSpace([0.2558, -0.8091], 0.0983) ∩ HalfSpace([-0.0528, 0.7725], 0.0276) ∩ HalfSpace([-0.106, -0.719], 0.1202) ∩ HalfSpace([-0.1252, 0.1868], 0.0348) ∩ HalfSpace([0.7232, -0.9371], 0.0921) ∩ HalfSpace([0.4235, 0.6708], 0.024), HalfSpace([1], 2) ∩ HalfSpace([-1], 2) : convexhull([2], [-2]))"
      ]
     },
     "execution_count": 3,
     "metadata": {},
     "output_type": "execute_result"
    }
   ],
   "source": [
    "using MathematicalSystems\n",
    "A = [1 0.1\n",
    "     0 1]\n",
    "B = reshape([0, 0.05], 2, 1)\n",
    "using SwitchOnSafety\n",
    "system = ConstrainedLinearControlDiscreteSystem(A, B, safe_set, input_set)"
   ]
  },
  {
   "cell_type": "markdown",
   "metadata": {},
   "source": [
    "We now compute the invariant set by searching for any ellipsoid with a given point in its interior.\n",
    "As the system is reformulated into an algebraic system with safe set `safe_set * input_set`, the Chebyshev center is `(cheby_center, 0)` (note that `Polyhedra.chebyshevcenter(safe * input)` is currently incorrect because of https://github.com/JuliaPolyhedra/Polyhedra.jl/issues/125) where `cheby_center` is the Chebyshev center of `safe_set`.\n",
    "To avoid having to solve Bilinear Matrix Inequalities, we set the S-procedure scaling to `1.05` (found by a few trials, checking what gives the best `objective_value`)."
   ]
  },
  {
   "cell_type": "code",
   "execution_count": 4,
   "metadata": {},
   "outputs": [
    {
     "name": "stdout",
     "output_type": "stream",
     "text": [
      "MOI.get(model, MOI.SolveTime()) = 0.006247997283935547\n",
      "JuMP.termination_status(model) = MathOptInterface.OPTIMAL\n",
      "JuMP.primal_status(model) = MathOptInterface.FEASIBLE_POINT\n",
      "JuMP.dual_status(model) = MathOptInterface.FEASIBLE_POINT\n",
      "JuMP.objective_value(model) = 0.028504573732809416\n"
     ]
    },
    {
     "data": {
      "text/plain": [
       "SetProg.Sets.Translation{SetProg.Sets.Polar{Float64,SetProg.Sets.EllipsoidAtOrigin{Float64}},Float64,Array{Float64,1}}(SetProg.Sets.Polar{Float64,SetProg.Sets.EllipsoidAtOrigin{Float64}}(SetProg.Sets.EllipsoidAtOrigin{Float64}([0.011823676265802545 -0.005656250962580171; -0.005656250962580171 0.005237409068311501])), [-0.12627495752829762, -0.050786190168961506])"
      ]
     },
     "execution_count": 4,
     "metadata": {},
     "output_type": "execute_result"
    }
   ],
   "source": [
    "S_procedure_scaling = 1.05\n",
    "cheby_center, cheby_radius = chebyshevcenter(safe_set, solver)\n",
    "cheby = [cheby_center; 0.0]\n",
    "using SwitchOnSafety\n",
    "variable = Ellipsoid(point = SetProg.InteriorPoint(cheby))\n",
    "max_vol_ell = invariant_set(system, solver, variable, λ = S_procedure_scaling)"
   ]
  },
  {
   "cell_type": "markdown",
   "metadata": {},
   "source": [
    "Instead of maximizing the volume, we can maximize the L1 norm."
   ]
  },
  {
   "cell_type": "code",
   "execution_count": 5,
   "metadata": {},
   "outputs": [
    {
     "name": "stdout",
     "output_type": "stream",
     "text": [
      "MOI.get(model, MOI.SolveTime()) = 0.004029035568237305\n",
      "JuMP.termination_status(model) = MathOptInterface.OPTIMAL\n",
      "JuMP.primal_status(model) = MathOptInterface.FEASIBLE_POINT\n",
      "JuMP.dual_status(model) = MathOptInterface.FEASIBLE_POINT\n",
      "JuMP.objective_value(model) = 2.6017941640305366\n"
     ]
    },
    {
     "data": {
      "text/plain": [
       "SetProg.Sets.Translation{SetProg.Sets.Polar{Float64,SetProg.Sets.EllipsoidAtOrigin{Float64}},Float64,Array{Float64,1}}(SetProg.Sets.Polar{Float64,SetProg.Sets.EllipsoidAtOrigin{Float64}}(SetProg.Sets.EllipsoidAtOrigin{Float64}([0.006697532777042252 -0.004870215458365097; -0.004870215458365097 0.006087184494292981])), [-0.11515031330422269, -0.05450878874427739])"
      ]
     },
     "execution_count": 5,
     "metadata": {},
     "output_type": "execute_result"
    }
   ],
   "source": [
    "using SwitchOnSafety\n",
    "max_tr_ell = invariant_set(system, solver, variable, λ = S_procedure_scaling, volume_heuristic = ell -> L1_heuristic(ell, ones(3)))"
   ]
  },
  {
   "cell_type": "markdown",
   "metadata": {},
   "source": [
    "We can see that we get a larger ellipsoids for the volume maximization but not for the L1 norm as maximizing the L1 integral over the hypercube centered at the origin is not a very good heuristic. We should instaed maximize the L1 integral over the safe set but this is not implemented yet in [SetProg](https://github.com/blegat/SetProg.jl)."
   ]
  },
  {
   "cell_type": "code",
   "execution_count": 6,
   "metadata": {},
   "outputs": [
    {
     "data": {
      "image/svg+xml": [
       "<?xml version=\"1.0\" encoding=\"utf-8\"?>\n",
       "<svg xmlns=\"http://www.w3.org/2000/svg\" xmlns:xlink=\"http://www.w3.org/1999/xlink\" width=\"600\" height=\"400\" viewBox=\"0 0 2400 1600\">\n",
       "<defs>\n",
       "  <clipPath id=\"clip0000\">\n",
       "    <rect x=\"0\" y=\"0\" width=\"2400\" height=\"1600\"/>\n",
       "  </clipPath>\n",
       "</defs>\n",
       "<polygon clip-path=\"url(#clip0000)\" points=\"\n",
       "0,1600 2400,1600 2400,0 0,0 \n",
       "  \" fill=\"#ffffff\" fill-rule=\"evenodd\" fill-opacity=\"1\"/>\n",
       "<defs>\n",
       "  <clipPath id=\"clip0001\">\n",
       "    <rect x=\"480\" y=\"0\" width=\"1681\" height=\"1600\"/>\n",
       "  </clipPath>\n",
       "</defs>\n",
       "<polygon clip-path=\"url(#clip0000)\" points=\"\n",
       "208.77,1487.47 2352.76,1487.47 2352.76,47.2441 208.77,47.2441 \n",
       "  \" fill=\"#ffffff\" fill-rule=\"evenodd\" fill-opacity=\"1\"/>\n",
       "<defs>\n",
       "  <clipPath id=\"clip0002\">\n",
       "    <rect x=\"208\" y=\"47\" width=\"2145\" height=\"1441\"/>\n",
       "  </clipPath>\n",
       "</defs>\n",
       "<polyline clip-path=\"url(#clip0002)\" style=\"stroke:#000000; stroke-width:2; stroke-opacity:0.1; fill:none\" points=\"\n",
       "  572.279,1487.47 572.279,47.2441 \n",
       "  \"/>\n",
       "<polyline clip-path=\"url(#clip0002)\" style=\"stroke:#000000; stroke-width:2; stroke-opacity:0.1; fill:none\" points=\"\n",
       "  1007.07,1487.47 1007.07,47.2441 \n",
       "  \"/>\n",
       "<polyline clip-path=\"url(#clip0002)\" style=\"stroke:#000000; stroke-width:2; stroke-opacity:0.1; fill:none\" points=\"\n",
       "  1441.86,1487.47 1441.86,47.2441 \n",
       "  \"/>\n",
       "<polyline clip-path=\"url(#clip0002)\" style=\"stroke:#000000; stroke-width:2; stroke-opacity:0.1; fill:none\" points=\"\n",
       "  1876.65,1487.47 1876.65,47.2441 \n",
       "  \"/>\n",
       "<polyline clip-path=\"url(#clip0002)\" style=\"stroke:#000000; stroke-width:2; stroke-opacity:0.1; fill:none\" points=\"\n",
       "  2311.44,1487.47 2311.44,47.2441 \n",
       "  \"/>\n",
       "<polyline clip-path=\"url(#clip0002)\" style=\"stroke:#000000; stroke-width:2; stroke-opacity:0.1; fill:none\" points=\"\n",
       "  208.77,1427.61 2352.76,1427.61 \n",
       "  \"/>\n",
       "<polyline clip-path=\"url(#clip0002)\" style=\"stroke:#000000; stroke-width:2; stroke-opacity:0.1; fill:none\" points=\"\n",
       "  208.77,1066.98 2352.76,1066.98 \n",
       "  \"/>\n",
       "<polyline clip-path=\"url(#clip0002)\" style=\"stroke:#000000; stroke-width:2; stroke-opacity:0.1; fill:none\" points=\"\n",
       "  208.77,706.358 2352.76,706.358 \n",
       "  \"/>\n",
       "<polyline clip-path=\"url(#clip0002)\" style=\"stroke:#000000; stroke-width:2; stroke-opacity:0.1; fill:none\" points=\"\n",
       "  208.77,345.731 2352.76,345.731 \n",
       "  \"/>\n",
       "<polyline clip-path=\"url(#clip0000)\" style=\"stroke:#000000; stroke-width:4; stroke-opacity:1; fill:none\" points=\"\n",
       "  208.77,1487.47 2352.76,1487.47 \n",
       "  \"/>\n",
       "<polyline clip-path=\"url(#clip0000)\" style=\"stroke:#000000; stroke-width:4; stroke-opacity:1; fill:none\" points=\"\n",
       "  208.77,1487.47 208.77,47.2441 \n",
       "  \"/>\n",
       "<polyline clip-path=\"url(#clip0000)\" style=\"stroke:#000000; stroke-width:4; stroke-opacity:1; fill:none\" points=\"\n",
       "  572.279,1487.47 572.279,1465.87 \n",
       "  \"/>\n",
       "<polyline clip-path=\"url(#clip0000)\" style=\"stroke:#000000; stroke-width:4; stroke-opacity:1; fill:none\" points=\"\n",
       "  1007.07,1487.47 1007.07,1465.87 \n",
       "  \"/>\n",
       "<polyline clip-path=\"url(#clip0000)\" style=\"stroke:#000000; stroke-width:4; stroke-opacity:1; fill:none\" points=\"\n",
       "  1441.86,1487.47 1441.86,1465.87 \n",
       "  \"/>\n",
       "<polyline clip-path=\"url(#clip0000)\" style=\"stroke:#000000; stroke-width:4; stroke-opacity:1; fill:none\" points=\"\n",
       "  1876.65,1487.47 1876.65,1465.87 \n",
       "  \"/>\n",
       "<polyline clip-path=\"url(#clip0000)\" style=\"stroke:#000000; stroke-width:4; stroke-opacity:1; fill:none\" points=\"\n",
       "  2311.44,1487.47 2311.44,1465.87 \n",
       "  \"/>\n",
       "<polyline clip-path=\"url(#clip0000)\" style=\"stroke:#000000; stroke-width:4; stroke-opacity:1; fill:none\" points=\"\n",
       "  208.77,1427.61 240.93,1427.61 \n",
       "  \"/>\n",
       "<polyline clip-path=\"url(#clip0000)\" style=\"stroke:#000000; stroke-width:4; stroke-opacity:1; fill:none\" points=\"\n",
       "  208.77,1066.98 240.93,1066.98 \n",
       "  \"/>\n",
       "<polyline clip-path=\"url(#clip0000)\" style=\"stroke:#000000; stroke-width:4; stroke-opacity:1; fill:none\" points=\"\n",
       "  208.77,706.358 240.93,706.358 \n",
       "  \"/>\n",
       "<polyline clip-path=\"url(#clip0000)\" style=\"stroke:#000000; stroke-width:4; stroke-opacity:1; fill:none\" points=\"\n",
       "  208.77,345.731 240.93,345.731 \n",
       "  \"/>\n",
       "<g clip-path=\"url(#clip0000)\">\n",
       "<text style=\"fill:#000000; fill-opacity:1; font-family:Arial,Helvetica Neue,Helvetica,sans-serif; font-size:48px; text-anchor:middle;\" transform=\"rotate(0, 572.279, 1541.47)\" x=\"572.279\" y=\"1541.47\">-0.3</text>\n",
       "</g>\n",
       "<g clip-path=\"url(#clip0000)\">\n",
       "<text style=\"fill:#000000; fill-opacity:1; font-family:Arial,Helvetica Neue,Helvetica,sans-serif; font-size:48px; text-anchor:middle;\" transform=\"rotate(0, 1007.07, 1541.47)\" x=\"1007.07\" y=\"1541.47\">-0.2</text>\n",
       "</g>\n",
       "<g clip-path=\"url(#clip0000)\">\n",
       "<text style=\"fill:#000000; fill-opacity:1; font-family:Arial,Helvetica Neue,Helvetica,sans-serif; font-size:48px; text-anchor:middle;\" transform=\"rotate(0, 1441.86, 1541.47)\" x=\"1441.86\" y=\"1541.47\">-0.1</text>\n",
       "</g>\n",
       "<g clip-path=\"url(#clip0000)\">\n",
       "<text style=\"fill:#000000; fill-opacity:1; font-family:Arial,Helvetica Neue,Helvetica,sans-serif; font-size:48px; text-anchor:middle;\" transform=\"rotate(0, 1876.65, 1541.47)\" x=\"1876.65\" y=\"1541.47\">0.0</text>\n",
       "</g>\n",
       "<g clip-path=\"url(#clip0000)\">\n",
       "<text style=\"fill:#000000; fill-opacity:1; font-family:Arial,Helvetica Neue,Helvetica,sans-serif; font-size:48px; text-anchor:middle;\" transform=\"rotate(0, 2311.44, 1541.47)\" x=\"2311.44\" y=\"1541.47\">0.1</text>\n",
       "</g>\n",
       "<g clip-path=\"url(#clip0000)\">\n",
       "<text style=\"fill:#000000; fill-opacity:1; font-family:Arial,Helvetica Neue,Helvetica,sans-serif; font-size:48px; text-anchor:end;\" transform=\"rotate(0, 184.77, 1445.11)\" x=\"184.77\" y=\"1445.11\">-0.15</text>\n",
       "</g>\n",
       "<g clip-path=\"url(#clip0000)\">\n",
       "<text style=\"fill:#000000; fill-opacity:1; font-family:Arial,Helvetica Neue,Helvetica,sans-serif; font-size:48px; text-anchor:end;\" transform=\"rotate(0, 184.77, 1084.48)\" x=\"184.77\" y=\"1084.48\">-0.10</text>\n",
       "</g>\n",
       "<g clip-path=\"url(#clip0000)\">\n",
       "<text style=\"fill:#000000; fill-opacity:1; font-family:Arial,Helvetica Neue,Helvetica,sans-serif; font-size:48px; text-anchor:end;\" transform=\"rotate(0, 184.77, 723.858)\" x=\"184.77\" y=\"723.858\">-0.05</text>\n",
       "</g>\n",
       "<g clip-path=\"url(#clip0000)\">\n",
       "<text style=\"fill:#000000; fill-opacity:1; font-family:Arial,Helvetica Neue,Helvetica,sans-serif; font-size:48px; text-anchor:end;\" transform=\"rotate(0, 184.77, 363.231)\" x=\"184.77\" y=\"363.231\">0.00</text>\n",
       "</g>\n",
       "<polygon clip-path=\"url(#clip0002)\" points=\"\n",
       "269.449,788.991 788.982,211.362 1876.96,88.0053 2292.08,522.757 1655.13,1338.18 1448.18,1446.71 445.22,1201.43 269.449,788.991 269.449,788.991 \n",
       "  \" fill=\"#009af9\" fill-rule=\"evenodd\" fill-opacity=\"1\"/>\n",
       "<polyline clip-path=\"url(#clip0002)\" style=\"stroke:#000000; stroke-width:4; stroke-opacity:1; fill:none\" points=\"\n",
       "  269.449,788.991 788.982,211.362 1876.96,88.0053 2292.08,522.757 1655.13,1338.18 1448.18,1446.71 445.22,1201.43 269.449,788.991 \n",
       "  \"/>\n",
       "<polygon clip-path=\"url(#clip0002)\" points=\"\n",
       "1656.31,712.028 1623.43,663.697 1594.31,624.027 1568.44,590.846 1545.2,562.52 1524.07,537.841 1504.55,515.913 1486.25,496.062 1468.84,477.767 1452,460.619 \n",
       "  1435.46,444.284 1418.98,428.478 1402.3,412.952 1385.14,397.476 1367.21,381.829 1348.17,365.79 1327.62,349.133 1305.03,331.624 1279.77,313.029 1251.02,293.141 \n",
       "  1217.71,271.854 1178.53,249.338 1132.02,226.427 1076.99,205.431 1013.88,191.58 947.535,194.588 890.207,227.197 858.282,295.879 859.323,390.254 885.422,489.512 \n",
       "  922.927,578.494 962.214,652.328 998.925,712.028 1031.8,760.36 1060.92,800.029 1086.8,833.21 1110.03,861.537 1131.17,886.216 1150.68,908.144 1168.98,927.995 \n",
       "  1186.4,946.29 1203.24,963.437 1219.77,979.773 1236.25,995.579 1252.94,1011.11 1270.1,1026.58 1288.02,1042.23 1307.06,1058.27 1327.62,1074.92 1350.2,1092.43 \n",
       "  1375.46,1111.03 1404.22,1130.92 1437.53,1152.2 1476.7,1174.72 1523.22,1197.63 1578.24,1218.63 1641.36,1232.48 1707.7,1229.47 1765.03,1196.86 1796.95,1128.18 \n",
       "  1795.91,1033.8 1769.81,934.545 1732.31,845.563 1693.02,771.729 1656.31,712.028 \n",
       "  \" fill=\"#ffa500\" fill-rule=\"evenodd\" fill-opacity=\"1\"/>\n",
       "<polyline clip-path=\"url(#clip0002)\" style=\"stroke:#000000; stroke-width:4; stroke-opacity:1; fill:none\" points=\"\n",
       "  1656.31,712.028 1623.43,663.697 1594.31,624.027 1568.44,590.846 1545.2,562.52 1524.07,537.841 1504.55,515.913 1486.25,496.062 1468.84,477.767 1452,460.619 \n",
       "  1435.46,444.284 1418.98,428.478 1402.3,412.952 1385.14,397.476 1367.21,381.829 1348.17,365.79 1327.62,349.133 1305.03,331.624 1279.77,313.029 1251.02,293.141 \n",
       "  1217.71,271.854 1178.53,249.338 1132.02,226.427 1076.99,205.431 1013.88,191.58 947.535,194.588 890.207,227.197 858.282,295.879 859.323,390.254 885.422,489.512 \n",
       "  922.927,578.494 962.214,652.328 998.925,712.028 1031.8,760.36 1060.92,800.029 1086.8,833.21 1110.03,861.537 1131.17,886.216 1150.68,908.144 1168.98,927.995 \n",
       "  1186.4,946.29 1203.24,963.437 1219.77,979.773 1236.25,995.579 1252.94,1011.11 1270.1,1026.58 1288.02,1042.23 1307.06,1058.27 1327.62,1074.92 1350.2,1092.43 \n",
       "  1375.46,1111.03 1404.22,1130.92 1437.53,1152.2 1476.7,1174.72 1523.22,1197.63 1578.24,1218.63 1641.36,1232.48 1707.7,1229.47 1765.03,1196.86 1796.95,1128.18 \n",
       "  1795.91,1033.8 1769.81,934.545 1732.31,845.563 1693.02,771.729 1656.31,712.028 \n",
       "  \"/>\n",
       "<polygon clip-path=\"url(#clip0002)\" points=\"\n",
       "1606.1,738.878 1588.88,704.095 1573.17,673.813 1558.67,646.951 1545.09,622.68 1532.21,600.36 1519.79,579.481 1507.65,559.626 1495.61,540.443 1483.47,521.62 \n",
       "  1471.05,502.867 1458.14,483.904 1444.51,464.441 1429.88,444.173 1413.89,422.762 1396.12,399.833 1375.99,374.968 1352.76,347.73 1325.49,317.736 1292.96,284.864 \n",
       "  1253.85,249.75 1207.14,214.878 1153.49,186.498 1097.72,176.412 1050.6,199.108 1024.19,259.94 1021.78,346.27 1036.36,437.736 1058.7,520.862 1082.76,591.325 \n",
       "  1105.78,649.719 1126.85,698.173 1145.88,738.878 1163.09,773.661 1178.8,803.942 1193.3,830.805 1206.88,855.075 1219.77,877.396 1232.18,898.275 1244.32,918.13 \n",
       "  1256.36,937.313 1268.5,956.136 1280.92,974.888 1293.83,993.852 1307.46,1013.31 1322.1,1033.58 1338.08,1054.99 1355.86,1077.92 1375.99,1102.79 1399.21,1130.03 \n",
       "  1426.49,1160.02 1459.01,1192.89 1498.12,1228.01 1544.83,1262.88 1598.48,1291.26 1654.25,1301.34 1701.37,1278.65 1727.79,1217.82 1730.19,1131.49 1715.62,1040.02 \n",
       "  1693.27,956.893 1669.21,886.431 1646.19,828.036 1625.13,779.583 1606.1,738.878 \n",
       "  \" fill=\"#008000\" fill-rule=\"evenodd\" fill-opacity=\"1\"/>\n",
       "<polyline clip-path=\"url(#clip0002)\" style=\"stroke:#000000; stroke-width:4; stroke-opacity:1; fill:none\" points=\"\n",
       "  1606.1,738.878 1588.88,704.095 1573.17,673.813 1558.67,646.951 1545.09,622.68 1532.21,600.36 1519.79,579.481 1507.65,559.626 1495.61,540.443 1483.47,521.62 \n",
       "  1471.05,502.867 1458.14,483.904 1444.51,464.441 1429.88,444.173 1413.89,422.762 1396.12,399.833 1375.99,374.968 1352.76,347.73 1325.49,317.736 1292.96,284.864 \n",
       "  1253.85,249.75 1207.14,214.878 1153.49,186.498 1097.72,176.412 1050.6,199.108 1024.19,259.94 1021.78,346.27 1036.36,437.736 1058.7,520.862 1082.76,591.325 \n",
       "  1105.78,649.719 1126.85,698.173 1145.88,738.878 1163.09,773.661 1178.8,803.942 1193.3,830.805 1206.88,855.075 1219.77,877.396 1232.18,898.275 1244.32,918.13 \n",
       "  1256.36,937.313 1268.5,956.136 1280.92,974.888 1293.83,993.852 1307.46,1013.31 1322.1,1033.58 1338.08,1054.99 1355.86,1077.92 1375.99,1102.79 1399.21,1130.03 \n",
       "  1426.49,1160.02 1459.01,1192.89 1498.12,1228.01 1544.83,1262.88 1598.48,1291.26 1654.25,1301.34 1701.37,1278.65 1727.79,1217.82 1730.19,1131.49 1715.62,1040.02 \n",
       "  1693.27,956.893 1669.21,886.431 1646.19,828.036 1625.13,779.583 1606.1,738.878 \n",
       "  \"/>\n",
       "</svg>\n"
      ]
     },
     "execution_count": 6,
     "metadata": {},
     "output_type": "execute_result"
    }
   ],
   "source": [
    "using Plots\n",
    "plot(safe_set)\n",
    "plot!(project(max_vol_ell, 1:2), color=:orange)\n",
    "plot!(project(max_tr_ell, 1:2), color=:green)"
   ]
  },
  {
   "cell_type": "code",
   "execution_count": null,
   "metadata": {
    "collapsed": true
   },
   "outputs": [],
   "source": []
  }
 ],
 "metadata": {
  "kernelspec": {
   "display_name": "Julia 1.2.0",
   "language": "julia",
   "name": "julia-1.2"
  },
  "language_info": {
   "file_extension": ".jl",
   "mimetype": "application/julia",
   "name": "julia",
   "version": "1.2.0"
  }
 },
 "nbformat": 4,
 "nbformat_minor": 2
}
