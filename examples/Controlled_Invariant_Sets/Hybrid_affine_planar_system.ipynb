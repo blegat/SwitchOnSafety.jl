{
 "cells": [
  {
   "cell_type": "code",
   "execution_count": 1,
   "metadata": {},
   "outputs": [
    {
     "data": {
      "text/plain": [
       "OptimizerFactory(Mosek.Optimizer, (), Base.Iterators.Pairs(:QUIET => 1))"
      ]
     },
     "execution_count": 1,
     "metadata": {},
     "output_type": "execute_result"
    }
   ],
   "source": [
    "using MosekTools\n",
    "using JuMP\n",
    "solver = optimizer_with_attributes(Mosek.Optimizer, MOI.Silent() => true)"
   ]
  },
  {
   "cell_type": "code",
   "execution_count": 2,
   "metadata": {},
   "outputs": [
    {
     "ename": "UndefVarError",
     "evalue": "UndefVarError: algebraiclift not defined",
     "output_type": "error",
     "traceback": [
      "UndefVarError: algebraiclift not defined",
      "",
      "Stacktrace:",
      " [1] top-level scope at In[2]:4"
     ]
    }
   ],
   "source": [
    "using HybridSystems\n",
    "include(joinpath(dirname(dirname(pathof(HybridSystems))), \"examples\", \"horizontal_jump.jl\"))\n",
    "system = horizontal_jump_example(default_library(2, Float64), true)\n",
    "alg = algebraiclift(system)"
   ]
  },
  {
   "cell_type": "code",
   "execution_count": 12,
   "metadata": {},
   "outputs": [
    {
     "data": {
      "text/plain": [
       "ConstrainedLinearAlgebraicDiscreteSystem{Float64,Array{Float64,2},Array{Float64,2},DefaultPolyhedron{Float64,MixedMatHRep{Float64,Array{Float64,2}},MixedMatVRep{Float64,Array{Float64,2}}}}([1.0 0.0 1.0; 0.0 1.0 0.0], [1.0 0.0 0.0; 0.0 1.0 0.0], HalfSpace([1.0, 0.0, 0.0], 1.0) ∩ HalfSpace([0.0, 1.0, 0.0], 1.0) ∩ HalfSpace([-1.0, -0.0, 0.0], 1.0) ∩ HalfSpace([-0.0, -1.0, 0.0], 1.0) ∩ HalfSpace([0.0, 0.0, 1.0], 2.0) ∩ HalfSpace([0.0, 0.0, -1.0], -2.0))"
      ]
     },
     "execution_count": 12,
     "metadata": {},
     "output_type": "execute_result"
    }
   ],
   "source": [
    "rm1 = algebraiclift(system.resetmaps[1])"
   ]
  },
  {
   "cell_type": "code",
   "execution_count": 13,
   "metadata": {},
   "outputs": [
    {
     "data": {
      "text/plain": [
       "ConstrainedLinearAlgebraicDiscreteSystem{Float64,Array{Float64,2},Array{Float64,2},DefaultPolyhedron{Float64,MixedMatHRep{Float64,Array{Float64,2}},MixedMatVRep{Float64,Array{Float64,2}}}}([1.0 0.0 1.0; 0.0 1.0 0.0], [1.0 0.0 0.0; 0.0 1.0 0.0], HalfSpace([1.0, 0.0, 0.0], 4.0) ∩ HalfSpace([0.0, 1.0, 0.0], 2.0) ∩ HalfSpace([-1.0, -0.0, 0.0], -2.0) ∩ HalfSpace([-0.0, -1.0, 0.0], 1.0) ∩ HalfSpace([0.0, 0.0, 1.0], 2.0) ∩ HalfSpace([0.0, 0.0, -1.0], -2.0))"
      ]
     },
     "execution_count": 13,
     "metadata": {},
     "output_type": "execute_result"
    }
   ],
   "source": [
    "rm2 = algebraiclift(system.resetmaps[2])"
   ]
  },
  {
   "cell_type": "code",
   "execution_count": 3,
   "metadata": {},
   "outputs": [
    {
     "data": {
      "text/plain": [
       "Ellipsoid(InteriorPoint{Float64}([1.0]), false, 1, false, nothing)"
      ]
     },
     "execution_count": 3,
     "metadata": {},
     "output_type": "execute_result"
    }
   ],
   "source": [
    "using SetProg\n",
    "set1 = polyhedron(convexhull([-1.0], [1.0]))\n",
    "var1 = SetProg.Ellipsoid(point = InteriorPoint([0.0]))\n",
    "set2 = polyhedron(convexhull([0.0], [2.0]))\n",
    "var2 = SetProg.Ellipsoid(point = InteriorPoint([1.0]))"
   ]
  },
  {
   "cell_type": "code",
   "execution_count": 4,
   "metadata": {},
   "outputs": [
    {
     "data": {
      "text/plain": [
       "Polyhedron Interval{Float64,StaticArrays.SArray{Tuple{1},Float64,1,1},StaticArrays.Size{(1,)}}:\n",
       "2-element iterator of HalfSpace{Float64,StaticArrays.SArray{Tuple{1},Float64,1,1}}:\n",
       " HalfSpace([1.0], 2.0)\n",
       " HalfSpace([-1.0], -0.0):\n",
       "2-element iterator of StaticArrays.SArray{Tuple{1},Float64,1,1}:\n",
       " [2.0]\n",
       " [0.0]"
      ]
     },
     "execution_count": 4,
     "metadata": {},
     "output_type": "execute_result"
    }
   ],
   "source": [
    "set2"
   ]
  },
  {
   "cell_type": "code",
   "execution_count": 22,
   "metadata": {},
   "outputs": [
    {
     "name": "stdout",
     "output_type": "stream",
     "text": [
      "Sets.perspective_gauge0(li.set.set) = (β)z² + (-2 b[1])zx₁ + (Q[1,1])x₁²\n",
      "q = (β)z² + (-2 b[1])zx₁ + (Q[1,1])x₁²\n",
      "p = (β)z² + (2 β - 2 b[1])zx₁ + (β - 2 b[1] + Q[1,1])x₁²\n",
      "Sets.perspective_gauge0(li.set.set) = (0.4999999999999996 β + b[1] + 0.4999999999999999 Q[1,1])z² + (β + 2.220446049250313e-16 b[1] - Q[1,1])zx₁ + (0.4999999999999999 β - b[1] + 0.4999999999999999 Q[1,1])x₁²\n",
      "q = (0.4999999999999996 β + b[1] + 0.4999999999999999 Q[1,1])z² + (β + 2.220446049250313e-16 b[1] - Q[1,1])zx₁ + (0.4999999999999999 β - b[1] + 0.4999999999999999 Q[1,1])x₁²\n",
      "p = (0.4999999999999996 β + b[1] + 0.4999999999999999 Q[1,1])z² + (3.3306690738754696e-16 β - 1.999999999999999 b[1] - 1.9999999999999996 Q[1,1])zx₁ + (-5.551115123125783e-17 β - 4.440892098500626e-16 b[1] + 1.9999999999999996 Q[1,1])x₁²\n"
     ]
    },
    {
     "data": {
      "text/plain": [
       "OPTIMAL::TerminationStatusCode = 1"
      ]
     },
     "execution_count": 22,
     "metadata": {},
     "output_type": "execute_result"
    }
   ],
   "source": [
    "using SetProg\n",
    "model = Model(solver)\n",
    "@variable(model, ell1, var1)\n",
    "@variable(model, ell2, var2)\n",
    "@constraint(model, ell1 ⊆ set1)\n",
    "@constraint(model, ell2 ⊆ set2)\n",
    "using LinearAlgebra\n",
    "Id = Matrix(1.0I, 1, 1)\n",
    "@constraint(model, Id * ell1 + [ 1.0] ⊆ Id * ell2, S_procedure_scaling = 0.5)\n",
    "@constraint(model, Id * ell2 + [-1.0] ⊆ Id * ell1, S_procedure_scaling = 2.0)\n",
    "@objective(model, Max, L1_heuristic(volume(ell1), [1.0]))\n",
    "optimize!(model)\n",
    "termination_status(model)"
   ]
  },
  {
   "cell_type": "code",
   "execution_count": 65,
   "metadata": {},
   "outputs": [
    {
     "data": {
      "text/latex": [
       "$$ \\begin{alignat*}{1}\\max\\quad & 0.6666666666666666 Q_{1,1}\\\\\n",
       "\\text{Subject to} \\quad & 0.4999999999999992 β + 2.9999999999999982 b_{1} + 4.499999999999999 Q_{1,1} \\leq 0.0\\\\\n",
       " & 0.4999999999999999 β - b_{1} + 0.4999999999999999 Q_{1,1} \\leq 0.0\\\\\n",
       " & 0.4999999999999992 β + 2.9999999999999982 b_{1} + 4.499999999999999 Q_{1,1} \\leq 0.0\\\\\n",
       " & 0.4999999999999999 β - b_{1} + 0.4999999999999999 Q_{1,1} \\leq 0.0\\\\\n",
       " & [Q_{1,1}] \\in MathOptInterface.Nonnegatives(1)\\\\\n",
       " & [Q_{1,1}] \\in MathOptInterface.Nonnegatives(1)\\\\\n",
       " & [β + 1, b_{1}, Q_{1,1}] \\in SumOfSquares.PositiveSemidefinite2x2ConeTriangle()\\\\\n",
       " & [β + 1, b_{1}, Q_{1,1}] \\in SumOfSquares.PositiveSemidefinite2x2ConeTriangle()\\\\\n",
       " & (0.4999999999999996 β + b[1] + 0.4999999999999999 Q[1,1] - 0.4999999999999996 β - b[1] - 0.4999999999999999 Q[1,1])z^{2} + (β + 2.220446049250313e-16 b[1] - Q[1,1] - β - 2.220446049250313e-16 b[1] + Q[1,1])zx_{1} + (0.4999999999999999 β - b[1] + 0.4999999999999999 Q[1,1] - 0.4999999999999999 β + b[1] - 0.4999999999999999 Q[1,1])x_{1}^{2} \\text{ is SOS}\\\\\n",
       "\\end{alignat*}\n",
       " $$"
      ],
      "text/plain": [
       "A JuMP Model\n",
       "Maximization problem with:\n",
       "Variables: 6\n",
       "Objective function type: GenericAffExpr{Float64,VariableRef}\n",
       "`GenericAffExpr{Float64,VariableRef}`-in-`MathOptInterface.LessThan{Float64}`: 4 constraints\n",
       "`Array{VariableRef,1}`-in-`MathOptInterface.Nonnegatives`: 2 constraints\n",
       "`Array{GenericAffExpr{Float64,VariableRef},1}`-in-`SumOfSquares.PositiveSemidefinite2x2ConeTriangle`: 2 constraints\n",
       "`Array{GenericAffExpr{Float64,VariableRef},1}`-in-`SumOfSquares.SOSPolynomialSet{SemialgebraicSets.FullSpace,DynamicPolynomials.Monomial{true},DynamicPolynomials.MonomialVector{true},SumOfSquares.Certificate.Remainder{SumOfSquares.NonnegPolyInnerCone{MathOptInterface.PositiveSemidefiniteConeTriangle},PolyJuMP.MonomialBasis,Tuple{}}}`: 1 constraint\n",
       "Model mode: AUTOMATIC\n",
       "CachingOptimizer state: ATTACHED_OPTIMIZER\n",
       "Solver name: Mosek\n",
       "Names registered in the model: ell1, ell2"
      ]
     },
     "execution_count": 65,
     "metadata": {},
     "output_type": "execute_result"
    }
   ],
   "source": [
    "model"
   ]
  },
  {
   "cell_type": "code",
   "execution_count": 10,
   "metadata": {},
   "outputs": [
    {
     "data": {
      "text/latex": [
       "$$ \\begin{alignat*}{1}\\max\\quad & 0.6666666666666666 Q_{1,1}\\\\\n",
       "\\text{Subject to} \\quad & β + 2 b_{1} + Q_{1,1} \\leq 0.0\\\\\n",
       " & β - 2 b_{1} + Q_{1,1} \\leq 0.0\\\\\n",
       " & 0.4999999999999992 β + 2.9999999999999982 b_{1} + 4.499999999999999 Q_{1,1} \\leq 0.0\\\\\n",
       " & 0.4999999999999999 β - b_{1} + 0.4999999999999999 Q_{1,1} \\leq 0.0\\\\\n",
       " & [Q_{1,1}] \\in MathOptInterface.Nonnegatives(1)\\\\\n",
       " & [Q_{1,1}] \\in MathOptInterface.Nonnegatives(1)\\\\\n",
       " & [β + 1, b_{1}, Q_{1,1}] \\in SumOfSquares.PositiveSemidefinite2x2ConeTriangle()\\\\\n",
       " & [β + 1, b_{1}, Q_{1,1}] \\in SumOfSquares.PositiveSemidefinite2x2ConeTriangle()\\\\\n",
       " & (0.4999999999999996 β + b[1] + 0.4999999999999999 Q[1,1] - 2 β)z^{2} + (β + 2.220446049250313e-16 b[1] - Q[1,1] - 4 β + 4 b[1])zx_{1} + (0.4999999999999999 β - b[1] + 0.4999999999999999 Q[1,1] - 2 β + 4 b[1] - 2 Q[1,1])x_{1}^{2} \\text{ is SOS}\\\\\n",
       "\\end{alignat*}\n",
       " $$"
      ],
      "text/plain": [
       "A JuMP Model\n",
       "Maximization problem with:\n",
       "Variables: 6\n",
       "Objective function type: GenericAffExpr{Float64,VariableRef}\n",
       "`GenericAffExpr{Float64,VariableRef}`-in-`MathOptInterface.LessThan{Float64}`: 4 constraints\n",
       "`Array{VariableRef,1}`-in-`MathOptInterface.Nonnegatives`: 2 constraints\n",
       "`Array{GenericAffExpr{Float64,VariableRef},1}`-in-`SumOfSquares.PositiveSemidefinite2x2ConeTriangle`: 2 constraints\n",
       "`Array{GenericAffExpr{Float64,VariableRef},1}`-in-`SumOfSquares.SOSPolynomialSet{SemialgebraicSets.FullSpace,DynamicPolynomials.Monomial{true},DynamicPolynomials.MonomialVector{true},SumOfSquares.Certificate.Remainder{SumOfSquares.NonnegPolyInnerCone{MathOptInterface.PositiveSemidefiniteConeTriangle},PolyJuMP.MonomialBasis,Tuple{}}}`: 1 constraint\n",
       "Model mode: AUTOMATIC\n",
       "CachingOptimizer state: ATTACHED_OPTIMIZER\n",
       "Solver name: Mosek\n",
       "Names registered in the model: ell1, ell2"
      ]
     },
     "execution_count": 10,
     "metadata": {},
     "output_type": "execute_result"
    }
   ],
   "source": [
    "model"
   ]
  },
  {
   "cell_type": "code",
   "execution_count": 53,
   "metadata": {},
   "outputs": [
    {
     "data": {
      "text/latex": [
       "$$ \\begin{alignat*}{1}\\max\\quad & 0.6666666666666666 Q_{1,1}\\\\\n",
       "\\text{Subject to} \\quad & 0.4999999999999992 β + 2.9999999999999982 b_{1} + 4.499999999999999 Q_{1,1} \\leq 0.0\\\\\n",
       " & 0.4999999999999999 β - b_{1} + 0.4999999999999999 Q_{1,1} \\leq 0.0\\\\\n",
       " & β + 2 b_{1} + Q_{1,1} \\leq 0.0\\\\\n",
       " & β - 2 b_{1} + Q_{1,1} \\leq 0.0\\\\\n",
       " & [Q_{1,1}] \\in MathOptInterface.Nonnegatives(1)\\\\\n",
       " & [Q_{1,1}] \\in MathOptInterface.Nonnegatives(1)\\\\\n",
       " & [β + 1, b_{1}, Q_{1,1}] \\in SumOfSquares.PositiveSemidefinite2x2ConeTriangle()\\\\\n",
       " & [β + 1, b_{1}, Q_{1,1}] \\in SumOfSquares.PositiveSemidefinite2x2ConeTriangle()\\\\\n",
       "\\end{alignat*}\n",
       " $$"
      ],
      "text/plain": [
       "A JuMP Model\n",
       "Maximization problem with:\n",
       "Variables: 6\n",
       "Objective function type: GenericAffExpr{Float64,VariableRef}\n",
       "`GenericAffExpr{Float64,VariableRef}`-in-`MathOptInterface.LessThan{Float64}`: 4 constraints\n",
       "`Array{VariableRef,1}`-in-`MathOptInterface.Nonnegatives`: 2 constraints\n",
       "`Array{GenericAffExpr{Float64,VariableRef},1}`-in-`SumOfSquares.PositiveSemidefinite2x2ConeTriangle`: 2 constraints\n",
       "Model mode: AUTOMATIC\n",
       "CachingOptimizer state: ATTACHED_OPTIMIZER\n",
       "Solver name: Mosek\n",
       "Names registered in the model: ell1, ell2"
      ]
     },
     "execution_count": 53,
     "metadata": {},
     "output_type": "execute_result"
    }
   ],
   "source": [
    "model"
   ]
  },
  {
   "cell_type": "code",
   "execution_count": 20,
   "metadata": {},
   "outputs": [
    {
     "data": {
      "text/plain": [
       "SetProg.Sets.Translation{SetProg.Sets.EllipsoidAtOrigin{Float64},Float64,Array{Float64,1}}(SetProg.Sets.EllipsoidAtOrigin{Float64}([1.0000000012739738]), [2.1336303575307763e-9])"
      ]
     },
     "execution_count": 20,
     "metadata": {},
     "output_type": "execute_result"
    }
   ],
   "source": [
    "SetProg.Sets.ellipsoid(value(ell1))"
   ]
  },
  {
   "cell_type": "code",
   "execution_count": 21,
   "metadata": {},
   "outputs": [
    {
     "data": {
      "text/plain": [
       "SetProg.Sets.Translation{SetProg.Sets.EllipsoidAtOrigin{Float64},Float64,Array{Float64,1}}(SetProg.Sets.EllipsoidAtOrigin{Float64}([0.9999999983865282]), [1.0000000038811265])"
      ]
     },
     "execution_count": 21,
     "metadata": {},
     "output_type": "execute_result"
    }
   ],
   "source": [
    "SetProg.Sets.ellipsoid(value(ell2))"
   ]
  },
  {
   "cell_type": "code",
   "execution_count": 71,
   "metadata": {},
   "outputs": [
    {
     "data": {
      "text/plain": [
       "1-element Array{Float64,1}:\n",
       " -0.2499999994475424"
      ]
     },
     "execution_count": 71,
     "metadata": {},
     "output_type": "execute_result"
    }
   ],
   "source": [
    "value(ell1).set.set.b"
   ]
  },
  {
   "cell_type": "code",
   "execution_count": 74,
   "metadata": {},
   "outputs": [
    {
     "data": {
      "text/plain": [
       "SetProg.Sets.PerspectiveDual{Float64,SetProg.Sets.Householder{Float64,SetProg.Sets.ShiftedEllipsoid{Float64},Float64}}(SetProg.Sets.Householder{Float64,SetProg.Sets.ShiftedEllipsoid{Float64},Float64}(SetProg.Sets.ShiftedEllipsoid{Float64}([1.0000000001143214], [1.1085528099569366e-16], -0.9999999999990953), -0.9999999999990953z² - 2.217105619913873e-16zx₁ + 1.0000000001143214x₁², [0.0], z, DynamicPolynomials.PolyVar{true}[x₁]))"
      ]
     },
     "execution_count": 74,
     "metadata": {},
     "output_type": "execute_result"
    }
   ],
   "source": [
    "value(ell1)"
   ]
  },
  {
   "cell_type": "code",
   "execution_count": 29,
   "metadata": {},
   "outputs": [
    {
     "data": {
      "text/plain": [
       "SetProg.Sets.PerspectiveDual{Float64,SetProg.Sets.Householder{Float64,SetProg.Sets.ShiftedEllipsoid{Float64},Float64}}(SetProg.Sets.Householder{Float64,SetProg.Sets.ShiftedEllipsoid{Float64},Float64}(SetProg.Sets.ShiftedEllipsoid{Float64}([0.09080350261374853], [-0.09845152272267267], -0.7853174958852094), -0.4457085193584028z² - 0.8761209984989575zx₁ - 0.24880547391305766x₁², [1.0], z, DynamicPolynomials.PolyVar{true}[x₁]))"
      ]
     },
     "execution_count": 29,
     "metadata": {},
     "output_type": "execute_result"
    }
   ],
   "source": [
    "value(ell2)"
   ]
  },
  {
   "cell_type": "code",
   "execution_count": 15,
   "metadata": {},
   "outputs": [
    {
     "data": {
      "image/svg+xml": [
       "<?xml version=\"1.0\" encoding=\"utf-8\"?>\n",
       "<svg xmlns=\"http://www.w3.org/2000/svg\" xmlns:xlink=\"http://www.w3.org/1999/xlink\" width=\"600\" height=\"400\" viewBox=\"0 0 2400 1600\">\n",
       "<defs>\n",
       "  <clipPath id=\"clip2200\">\n",
       "    <rect x=\"0\" y=\"0\" width=\"2400\" height=\"1600\"/>\n",
       "  </clipPath>\n",
       "</defs>\n",
       "<polygon clip-path=\"url(#clip2200)\" points=\"\n",
       "0,1600 2400,1600 2400,0 0,0 \n",
       "  \" fill=\"#ffffff\" fill-rule=\"evenodd\" fill-opacity=\"1\"/>\n",
       "<defs>\n",
       "  <clipPath id=\"clip2201\">\n",
       "    <rect x=\"480\" y=\"0\" width=\"1681\" height=\"1600\"/>\n",
       "  </clipPath>\n",
       "</defs>\n",
       "<polygon clip-path=\"url(#clip2200)\" points=\"\n",
       "141.865,1487.47 2352.76,1487.47 2352.76,47.2441 141.865,47.2441 \n",
       "  \" fill=\"#ffffff\" fill-rule=\"evenodd\" fill-opacity=\"1\"/>\n",
       "<defs>\n",
       "  <clipPath id=\"clip2202\">\n",
       "    <rect x=\"141\" y=\"47\" width=\"2212\" height=\"1441\"/>\n",
       "  </clipPath>\n",
       "</defs>\n",
       "<polyline clip-path=\"url(#clip2202)\" style=\"stroke:#000000; stroke-width:2; stroke-opacity:0.1; fill:none\" points=\"\n",
       "  204.437,1487.47 204.437,47.2441 \n",
       "  \"/>\n",
       "<polyline clip-path=\"url(#clip2202)\" style=\"stroke:#000000; stroke-width:2; stroke-opacity:0.1; fill:none\" points=\"\n",
       "  621.586,1487.47 621.586,47.2441 \n",
       "  \"/>\n",
       "<polyline clip-path=\"url(#clip2202)\" style=\"stroke:#000000; stroke-width:2; stroke-opacity:0.1; fill:none\" points=\"\n",
       "  1038.74,1487.47 1038.74,47.2441 \n",
       "  \"/>\n",
       "<polyline clip-path=\"url(#clip2202)\" style=\"stroke:#000000; stroke-width:2; stroke-opacity:0.1; fill:none\" points=\"\n",
       "  1455.88,1487.47 1455.88,47.2441 \n",
       "  \"/>\n",
       "<polyline clip-path=\"url(#clip2202)\" style=\"stroke:#000000; stroke-width:2; stroke-opacity:0.1; fill:none\" points=\"\n",
       "  1873.03,1487.47 1873.03,47.2441 \n",
       "  \"/>\n",
       "<polyline clip-path=\"url(#clip2202)\" style=\"stroke:#000000; stroke-width:2; stroke-opacity:0.1; fill:none\" points=\"\n",
       "  2290.18,1487.47 2290.18,47.2441 \n",
       "  \"/>\n",
       "<polyline clip-path=\"url(#clip2202)\" style=\"stroke:#000000; stroke-width:2; stroke-opacity:0.1; fill:none\" points=\"\n",
       "  141.865,1393.08 2352.76,1393.08 \n",
       "  \"/>\n",
       "<polyline clip-path=\"url(#clip2202)\" style=\"stroke:#000000; stroke-width:2; stroke-opacity:0.1; fill:none\" points=\"\n",
       "  141.865,975.934 2352.76,975.934 \n",
       "  \"/>\n",
       "<polyline clip-path=\"url(#clip2202)\" style=\"stroke:#000000; stroke-width:2; stroke-opacity:0.1; fill:none\" points=\"\n",
       "  141.865,558.785 2352.76,558.785 \n",
       "  \"/>\n",
       "<polyline clip-path=\"url(#clip2202)\" style=\"stroke:#000000; stroke-width:2; stroke-opacity:0.1; fill:none\" points=\"\n",
       "  141.865,141.635 2352.76,141.635 \n",
       "  \"/>\n",
       "<polyline clip-path=\"url(#clip2200)\" style=\"stroke:#000000; stroke-width:4; stroke-opacity:1; fill:none\" points=\"\n",
       "  141.865,1487.47 2352.76,1487.47 \n",
       "  \"/>\n",
       "<polyline clip-path=\"url(#clip2200)\" style=\"stroke:#000000; stroke-width:4; stroke-opacity:1; fill:none\" points=\"\n",
       "  141.865,1487.47 141.865,47.2441 \n",
       "  \"/>\n",
       "<polyline clip-path=\"url(#clip2200)\" style=\"stroke:#000000; stroke-width:4; stroke-opacity:1; fill:none\" points=\"\n",
       "  204.437,1487.47 204.437,1465.87 \n",
       "  \"/>\n",
       "<polyline clip-path=\"url(#clip2200)\" style=\"stroke:#000000; stroke-width:4; stroke-opacity:1; fill:none\" points=\"\n",
       "  621.586,1487.47 621.586,1465.87 \n",
       "  \"/>\n",
       "<polyline clip-path=\"url(#clip2200)\" style=\"stroke:#000000; stroke-width:4; stroke-opacity:1; fill:none\" points=\"\n",
       "  1038.74,1487.47 1038.74,1465.87 \n",
       "  \"/>\n",
       "<polyline clip-path=\"url(#clip2200)\" style=\"stroke:#000000; stroke-width:4; stroke-opacity:1; fill:none\" points=\"\n",
       "  1455.88,1487.47 1455.88,1465.87 \n",
       "  \"/>\n",
       "<polyline clip-path=\"url(#clip2200)\" style=\"stroke:#000000; stroke-width:4; stroke-opacity:1; fill:none\" points=\"\n",
       "  1873.03,1487.47 1873.03,1465.87 \n",
       "  \"/>\n",
       "<polyline clip-path=\"url(#clip2200)\" style=\"stroke:#000000; stroke-width:4; stroke-opacity:1; fill:none\" points=\"\n",
       "  2290.18,1487.47 2290.18,1465.87 \n",
       "  \"/>\n",
       "<polyline clip-path=\"url(#clip2200)\" style=\"stroke:#000000; stroke-width:4; stroke-opacity:1; fill:none\" points=\"\n",
       "  141.865,1393.08 175.028,1393.08 \n",
       "  \"/>\n",
       "<polyline clip-path=\"url(#clip2200)\" style=\"stroke:#000000; stroke-width:4; stroke-opacity:1; fill:none\" points=\"\n",
       "  141.865,975.934 175.028,975.934 \n",
       "  \"/>\n",
       "<polyline clip-path=\"url(#clip2200)\" style=\"stroke:#000000; stroke-width:4; stroke-opacity:1; fill:none\" points=\"\n",
       "  141.865,558.785 175.028,558.785 \n",
       "  \"/>\n",
       "<polyline clip-path=\"url(#clip2200)\" style=\"stroke:#000000; stroke-width:4; stroke-opacity:1; fill:none\" points=\"\n",
       "  141.865,141.635 175.028,141.635 \n",
       "  \"/>\n",
       "<g clip-path=\"url(#clip2200)\">\n",
       "<text style=\"fill:#000000; fill-opacity:1; font-family:Arial,Helvetica Neue,Helvetica,sans-serif; font-size:48px; text-anchor:middle;\" transform=\"rotate(0, 204.437, 1541.47)\" x=\"204.437\" y=\"1541.47\">-1</text>\n",
       "</g>\n",
       "<g clip-path=\"url(#clip2200)\">\n",
       "<text style=\"fill:#000000; fill-opacity:1; font-family:Arial,Helvetica Neue,Helvetica,sans-serif; font-size:48px; text-anchor:middle;\" transform=\"rotate(0, 621.586, 1541.47)\" x=\"621.586\" y=\"1541.47\">0</text>\n",
       "</g>\n",
       "<g clip-path=\"url(#clip2200)\">\n",
       "<text style=\"fill:#000000; fill-opacity:1; font-family:Arial,Helvetica Neue,Helvetica,sans-serif; font-size:48px; text-anchor:middle;\" transform=\"rotate(0, 1038.74, 1541.47)\" x=\"1038.74\" y=\"1541.47\">1</text>\n",
       "</g>\n",
       "<g clip-path=\"url(#clip2200)\">\n",
       "<text style=\"fill:#000000; fill-opacity:1; font-family:Arial,Helvetica Neue,Helvetica,sans-serif; font-size:48px; text-anchor:middle;\" transform=\"rotate(0, 1455.88, 1541.47)\" x=\"1455.88\" y=\"1541.47\">2</text>\n",
       "</g>\n",
       "<g clip-path=\"url(#clip2200)\">\n",
       "<text style=\"fill:#000000; fill-opacity:1; font-family:Arial,Helvetica Neue,Helvetica,sans-serif; font-size:48px; text-anchor:middle;\" transform=\"rotate(0, 1873.03, 1541.47)\" x=\"1873.03\" y=\"1541.47\">3</text>\n",
       "</g>\n",
       "<g clip-path=\"url(#clip2200)\">\n",
       "<text style=\"fill:#000000; fill-opacity:1; font-family:Arial,Helvetica Neue,Helvetica,sans-serif; font-size:48px; text-anchor:middle;\" transform=\"rotate(0, 2290.18, 1541.47)\" x=\"2290.18\" y=\"1541.47\">4</text>\n",
       "</g>\n",
       "<g clip-path=\"url(#clip2200)\">\n",
       "<text style=\"fill:#000000; fill-opacity:1; font-family:Arial,Helvetica Neue,Helvetica,sans-serif; font-size:48px; text-anchor:end;\" transform=\"rotate(0, 117.865, 1410.58)\" x=\"117.865\" y=\"1410.58\">-1</text>\n",
       "</g>\n",
       "<g clip-path=\"url(#clip2200)\">\n",
       "<text style=\"fill:#000000; fill-opacity:1; font-family:Arial,Helvetica Neue,Helvetica,sans-serif; font-size:48px; text-anchor:end;\" transform=\"rotate(0, 117.865, 993.434)\" x=\"117.865\" y=\"993.434\">0</text>\n",
       "</g>\n",
       "<g clip-path=\"url(#clip2200)\">\n",
       "<text style=\"fill:#000000; fill-opacity:1; font-family:Arial,Helvetica Neue,Helvetica,sans-serif; font-size:48px; text-anchor:end;\" transform=\"rotate(0, 117.865, 576.285)\" x=\"117.865\" y=\"576.285\">1</text>\n",
       "</g>\n",
       "<g clip-path=\"url(#clip2200)\">\n",
       "<text style=\"fill:#000000; fill-opacity:1; font-family:Arial,Helvetica Neue,Helvetica,sans-serif; font-size:48px; text-anchor:end;\" transform=\"rotate(0, 117.865, 159.135)\" x=\"117.865\" y=\"159.135\">2</text>\n",
       "</g>\n",
       "<polygon clip-path=\"url(#clip2202)\" points=\"\n",
       "204.437,558.785 1038.74,558.785 1038.74,1393.08 204.437,1393.08 204.437,558.785 204.437,558.785 \n",
       "  \" fill=\"#009af9\" fill-rule=\"evenodd\" fill-opacity=\"1\"/>\n",
       "<polyline clip-path=\"url(#clip2202)\" style=\"stroke:#000000; stroke-width:4; stroke-opacity:1; fill:none\" points=\"\n",
       "  204.437,558.785 1038.74,558.785 1038.74,1393.08 204.437,1393.08 204.437,558.785 \n",
       "  \"/>\n",
       "<polygon clip-path=\"url(#clip2202)\" points=\"\n",
       "1038.74,975.934 1036.73,935.046 1030.72,894.552 1020.77,854.842 1006.98,816.298 989.479,779.291 968.433,744.178 944.047,711.297 916.555,680.965 886.223,653.473 \n",
       "  853.342,629.087 818.229,608.041 781.222,590.538 742.678,576.747 702.968,566.8 662.474,560.793 621.586,558.785 580.698,560.793 540.204,566.8 500.494,576.747 \n",
       "  461.95,590.538 424.943,608.041 389.831,629.087 356.95,653.473 326.617,680.965 299.125,711.297 274.739,744.178 253.693,779.291 236.191,816.298 222.399,854.842 \n",
       "  212.452,894.552 206.446,935.046 204.437,975.934 206.446,1016.82 212.452,1057.32 222.399,1097.03 236.191,1135.57 253.693,1172.58 274.739,1207.69 299.125,1240.57 \n",
       "  326.617,1270.9 356.95,1298.39 389.831,1322.78 424.943,1343.83 461.95,1361.33 500.494,1375.12 540.204,1385.07 580.698,1391.07 621.586,1393.08 662.474,1391.07 \n",
       "  702.968,1385.07 742.678,1375.12 781.222,1361.33 818.229,1343.83 853.342,1322.78 886.223,1298.39 916.555,1270.9 944.047,1240.57 968.433,1207.69 989.479,1172.58 \n",
       "  1006.98,1135.57 1020.77,1097.03 1030.72,1057.32 1036.73,1016.82 1038.74,975.934 \n",
       "  \" fill=\"#e26f46\" fill-rule=\"evenodd\" fill-opacity=\"1\"/>\n",
       "<polyline clip-path=\"url(#clip2202)\" style=\"stroke:#000000; stroke-width:4; stroke-opacity:1; fill:none\" points=\"\n",
       "  1038.74,975.934 1036.73,935.046 1030.72,894.552 1020.77,854.842 1006.98,816.298 989.479,779.291 968.433,744.178 944.047,711.297 916.555,680.965 886.223,653.473 \n",
       "  853.342,629.087 818.229,608.041 781.222,590.538 742.678,576.747 702.968,566.8 662.474,560.793 621.586,558.785 580.698,560.793 540.204,566.8 500.494,576.747 \n",
       "  461.95,590.538 424.943,608.041 389.831,629.087 356.95,653.473 326.617,680.965 299.125,711.297 274.739,744.178 253.693,779.291 236.191,816.298 222.399,854.842 \n",
       "  212.452,894.552 206.446,935.046 204.437,975.934 206.446,1016.82 212.452,1057.32 222.399,1097.03 236.191,1135.57 253.693,1172.58 274.739,1207.69 299.125,1240.57 \n",
       "  326.617,1270.9 356.95,1298.39 389.831,1322.78 424.943,1343.83 461.95,1361.33 500.494,1375.12 540.204,1385.07 580.698,1391.07 621.586,1393.08 662.474,1391.07 \n",
       "  702.968,1385.07 742.678,1375.12 781.222,1361.33 818.229,1343.83 853.342,1322.78 886.223,1298.39 916.555,1270.9 944.047,1240.57 968.433,1207.69 989.479,1172.58 \n",
       "  1006.98,1135.57 1020.77,1097.03 1030.72,1057.32 1036.73,1016.82 1038.74,975.934 \n",
       "  \"/>\n",
       "<polygon clip-path=\"url(#clip2202)\" points=\"\n",
       "1455.88,141.635 2290.18,141.635 2290.18,1393.08 1455.88,1393.08 1455.88,141.635 1455.88,141.635 \n",
       "  \" fill=\"#ff0000\" fill-rule=\"evenodd\" fill-opacity=\"1\"/>\n",
       "<polyline clip-path=\"url(#clip2202)\" style=\"stroke:#000000; stroke-width:4; stroke-opacity:1; fill:none\" points=\"\n",
       "  1455.88,141.635 2290.18,141.635 2290.18,1393.08 1455.88,1393.08 1455.88,141.635 \n",
       "  \"/>\n",
       "</svg>\n"
      ]
     },
     "execution_count": 15,
     "metadata": {},
     "output_type": "execute_result"
    }
   ],
   "source": [
    "using Plots\n",
    "plot(stateset(system, 1), ratio=1)\n",
    "plot!(project(value(ell1), 1:2))\n",
    "plot!(stateset(system, 2), color=:red)"
   ]
  },
  {
   "cell_type": "code",
   "execution_count": null,
   "metadata": {
    "collapsed": true
   },
   "outputs": [],
   "source": []
  }
 ],
 "metadata": {
  "kernelspec": {
   "display_name": "Julia 1.2.0",
   "language": "julia",
   "name": "julia-1.2"
  },
  "language_info": {
   "file_extension": ".jl",
   "mimetype": "application/julia",
   "name": "julia",
   "version": "1.2.0"
  }
 },
 "nbformat": 4,
 "nbformat_minor": 2
}
