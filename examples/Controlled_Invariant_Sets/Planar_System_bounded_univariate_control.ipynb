{
 "cells": [
  {
   "cell_type": "markdown",
   "metadata": {},
   "source": [
    "In this notebook, we compute invariant sets for the planar system with univariate input of [Example 1 of [AT19]](https://github.com/janis10/cis2m/blob/master/example2D.m).\n",
    "We need to select an semidefinite programming solver to find the invariant set. A complete list of available solvers is [available here](https://www.juliaopt.org/JuMP.jl/stable/installation/#Getting-Solvers-1).\n",
    "\n",
    "[AT19] Tzanis Anevlavis and Paulo Tabuada, \"Computing controlled invariant sets in two moves\", In 2019 IEEE Conference on Decision and Control (CDC)."
   ]
  },
  {
   "cell_type": "code",
   "execution_count": 1,
   "metadata": {},
   "outputs": [
    {
     "data": {
      "text/plain": [
       "OptimizerFactory(Mosek.Optimizer, (), Base.Iterators.Pairs(:QUIET => 1))"
      ]
     },
     "execution_count": 1,
     "metadata": {},
     "output_type": "execute_result"
    }
   ],
   "source": [
    "using MosekTools\n",
    "using JuMP\n",
    "solver = optimizer_with_attributes(Mosek.Optimizer, MOI.Silent() => true)"
   ]
  },
  {
   "cell_type": "markdown",
   "metadata": {},
   "source": [
    "We first define the safe sets and input sets for our system using [Polyhedra](https://github.com/JuliaPolyhedra/Polyhedra.jl)."
   ]
  },
  {
   "cell_type": "code",
   "execution_count": 2,
   "metadata": {},
   "outputs": [
    {
     "data": {
      "text/plain": [
       "Polyhedron Interval{Int64,StaticArrays.SArray{Tuple{1},Int64,1,1},StaticArrays.Size{(1,)}}:\n",
       "2-element iterator of HalfSpace{Int64,StaticArrays.SArray{Tuple{1},Int64,1,1}}:\n",
       " HalfSpace([1], 2)\n",
       " HalfSpace([-1], 2):\n",
       "2-element iterator of StaticArrays.SArray{Tuple{1},Int64,1,1}:\n",
       " [2]\n",
       " [-2]"
      ]
     },
     "execution_count": 2,
     "metadata": {},
     "output_type": "execute_result"
    }
   ],
   "source": [
    "using Polyhedra\n",
    "G =[ 0.9147 -0.5402\n",
    "     0.2005  0.6213\n",
    "    -0.8193  0.9769\n",
    "    -0.4895 -0.8200\n",
    "     0.7171 -0.3581\n",
    "     0.8221  0.0228\n",
    "     0.3993 -0.8788]\n",
    "F = [0.5566\n",
    "     0.8300\n",
    "     0.7890\n",
    "     0.3178\n",
    "     0.4522\n",
    "     0.7522\n",
    "     0.1099]\n",
    "safe_set = polyhedron(hrep(G, F), DefaultLibrary{Float64}(solver))\n",
    "cheby_center, cheby_radius = chebyshevcenter(safe_set, solver)\n",
    "input_set = polyhedron(convexhull([-2], [2]))"
   ]
  },
  {
   "cell_type": "markdown",
   "metadata": {},
   "source": [
    "We new define the dynamic of our system and create it using [MathematicalSystems](https://github.com/JuliaReach/MathematicalSystems.jl/)."
   ]
  },
  {
   "cell_type": "code",
   "execution_count": 3,
   "metadata": {},
   "outputs": [
    {
     "name": "stderr",
     "output_type": "stream",
     "text": [
      "┌ Info: Recompiling stale cache file /home/blegat/.julia/compiled/v1.2/SwitchOnSafety/EUPLd.ji for SwitchOnSafety [ceb7f16a-07bf-5f4a-9354-b68f01b1610f]\n",
      "└ @ Base loading.jl:1240\n"
     ]
    },
    {
     "data": {
      "text/plain": [
       "ConstrainedLinearControlDiscreteSystem{Float64,Array{Float64,2},Array{Float64,2},DefaultPolyhedron{Float64,MixedMatHRep{Float64,Array{Float64,2}},MixedMatVRep{Float64,Array{Float64,2}}},Interval{Int64,StaticArrays.SArray{Tuple{1},Int64,1,1},StaticArrays.Size{(1,)}}}([1.5 1.0; 0.0 1.0], [0.5; 0.25], HalfSpace([0.9147, -0.5402], 0.5566) ∩ HalfSpace([0.2005, 0.6213], 0.83) ∩ HalfSpace([-0.8193, 0.9769], 0.789) ∩ HalfSpace([-0.4895, -0.82], 0.3178) ∩ HalfSpace([0.7171, -0.3581], 0.4522) ∩ HalfSpace([0.8221, 0.0228], 0.7522) ∩ HalfSpace([0.3993, -0.8788], 0.1099), HalfSpace([1], 2) ∩ HalfSpace([-1], 2) : convexhull([2], [-2]))"
      ]
     },
     "execution_count": 3,
     "metadata": {},
     "output_type": "execute_result"
    }
   ],
   "source": [
    "using MathematicalSystems\n",
    "A = [1.5 1.0\n",
    "     0.0 1.0]\n",
    "B = reshape([0.5, 0.25], 2, 1)\n",
    "using SwitchOnSafety\n",
    "system = ConstrainedLinearControlDiscreteSystem(A, B, safe_set, input_set)"
   ]
  },
  {
   "cell_type": "markdown",
   "metadata": {},
   "source": [
    "We now compute the invariant set by searching for any ellipsoid with a given point in its interior.\n",
    "As the system is reformulated into an algebraic system with safe set `safe_set * input_set`, the Chebyshev center is `(cheby_center, 0)` (note that `Polyhedra.chebyshevcenter(safe * input)` is currently incorrect because of https://github.com/JuliaPolyhedra/Polyhedra.jl/issues/125) where `cheby_center` is the Chebyshev center of `safe_set`.\n",
    "To avoid having to solve Bilinear Matrix Inequalities, we set the S-procedure scaling to `1.05` (found by a few trials, checking what gives the best `objective_value`)."
   ]
  },
  {
   "cell_type": "code",
   "execution_count": 4,
   "metadata": {},
   "outputs": [
    {
     "name": "stdout",
     "output_type": "stream",
     "text": [
      "MOI.get(model, MOI.SolveTime()) = 0.00436091423034668\n",
      "JuMP.termination_status(model) = MathOptInterface.OPTIMAL\n",
      "JuMP.primal_status(model) = MathOptInterface.FEASIBLE_POINT\n",
      "JuMP.dual_status(model) = MathOptInterface.FEASIBLE_POINT\n",
      "JuMP.objective_value(model) = 0.09476732149283565\n"
     ]
    },
    {
     "data": {
      "text/plain": [
       "SetProg.Sets.Translation{SetProg.Sets.Polar{Float64,SetProg.Sets.EllipsoidAtOrigin{Float64}},Float64,Array{Float64,1}}(SetProg.Sets.Polar{Float64,SetProg.Sets.EllipsoidAtOrigin{Float64}}(SetProg.Sets.EllipsoidAtOrigin{Float64}([0.17409204611350196 0.03892787871104693; 0.03892787871104693 0.1498521775804338])), [-0.13511104266324797, 0.20139098031749464])"
      ]
     },
     "execution_count": 4,
     "metadata": {},
     "output_type": "execute_result"
    }
   ],
   "source": [
    "S_procedure_scaling = 1.254\n",
    "S_procedure_scaling = 1.1884\n",
    "cheby_center, cheby_radius = chebyshevcenter(safe_set, solver)\n",
    "cheby = [cheby_center; 0.0]\n",
    "cheby = zeros(3)\n",
    "using SwitchOnSafety\n",
    "variable = Ellipsoid(point = SetProg.InteriorPoint(cheby))\n",
    "max_vol_ell = invariant_set(system, solver, variable, λ = S_procedure_scaling)"
   ]
  },
  {
   "cell_type": "markdown",
   "metadata": {},
   "source": [
    "Instead of maximizing the volume, we can maximize the L1 norm."
   ]
  },
  {
   "cell_type": "code",
   "execution_count": 5,
   "metadata": {},
   "outputs": [
    {
     "name": "stdout",
     "output_type": "stream",
     "text": [
      "MOI.get(model, MOI.SolveTime()) = 0.0024411678314208984\n",
      "JuMP.termination_status(model) = MathOptInterface.OPTIMAL\n",
      "JuMP.primal_status(model) = MathOptInterface.FEASIBLE_POINT\n",
      "JuMP.dual_status(model) = MathOptInterface.FEASIBLE_POINT\n",
      "JuMP.objective_value(model) = 2.352694745261778\n"
     ]
    },
    {
     "data": {
      "text/plain": [
       "SetProg.Sets.Translation{SetProg.Sets.Polar{Float64,SetProg.Sets.EllipsoidAtOrigin{Float64}},Float64,Array{Float64,1}}(SetProg.Sets.Polar{Float64,SetProg.Sets.EllipsoidAtOrigin{Float64}}(SetProg.Sets.EllipsoidAtOrigin{Float64}([0.08563160251486523 0.06968318528875672; 0.06968318528875672 0.06397734650127397])), [0.022475150120452328, 0.0205519904018653])"
      ]
     },
     "execution_count": 5,
     "metadata": {},
     "output_type": "execute_result"
    }
   ],
   "source": [
    "using SwitchOnSafety\n",
    "max_tr_ell = invariant_set(system, solver, variable, λ = 1.181, volume_heuristic = ell -> L1_heuristic(ell, ones(3)))"
   ]
  },
  {
   "cell_type": "markdown",
   "metadata": {},
   "source": [
    "We can see that we get a larger ellipsoids for the volume maximization but not for the L1 norm as maximizing the L1 integral over the hypercube centered at the origin is not a very good heuristic. We should instaed maximize the L1 integral over the safe set but this is not implemented yet in [SetProg](https://github.com/blegat/SetProg.jl)."
   ]
  },
  {
   "cell_type": "code",
   "execution_count": 6,
   "metadata": {},
   "outputs": [
    {
     "data": {
      "image/svg+xml": [
       "<?xml version=\"1.0\" encoding=\"utf-8\"?>\n",
       "<svg xmlns=\"http://www.w3.org/2000/svg\" xmlns:xlink=\"http://www.w3.org/1999/xlink\" width=\"600\" height=\"400\" viewBox=\"0 0 2400 1600\">\n",
       "<defs>\n",
       "  <clipPath id=\"clip9100\">\n",
       "    <rect x=\"0\" y=\"0\" width=\"2400\" height=\"1600\"/>\n",
       "  </clipPath>\n",
       "</defs>\n",
       "<polygon clip-path=\"url(#clip9100)\" points=\"\n",
       "0,1600 2400,1600 2400,0 0,0 \n",
       "  \" fill=\"#ffffff\" fill-rule=\"evenodd\" fill-opacity=\"1\"/>\n",
       "<defs>\n",
       "  <clipPath id=\"clip9101\">\n",
       "    <rect x=\"480\" y=\"0\" width=\"1681\" height=\"1600\"/>\n",
       "  </clipPath>\n",
       "</defs>\n",
       "<polygon clip-path=\"url(#clip9100)\" points=\"\n",
       "153.898,1487.47 2352.76,1487.47 2352.76,47.2441 153.898,47.2441 \n",
       "  \" fill=\"#ffffff\" fill-rule=\"evenodd\" fill-opacity=\"1\"/>\n",
       "<defs>\n",
       "  <clipPath id=\"clip9102\">\n",
       "    <rect x=\"153\" y=\"47\" width=\"2200\" height=\"1441\"/>\n",
       "  </clipPath>\n",
       "</defs>\n",
       "<polyline clip-path=\"url(#clip9102)\" style=\"stroke:#000000; stroke-width:2; stroke-opacity:0.1; fill:none\" points=\"\n",
       "  314.958,1487.47 314.958,47.2441 \n",
       "  \"/>\n",
       "<polyline clip-path=\"url(#clip9102)\" style=\"stroke:#000000; stroke-width:2; stroke-opacity:0.1; fill:none\" points=\"\n",
       "  614.284,1487.47 614.284,47.2441 \n",
       "  \"/>\n",
       "<polyline clip-path=\"url(#clip9102)\" style=\"stroke:#000000; stroke-width:2; stroke-opacity:0.1; fill:none\" points=\"\n",
       "  913.61,1487.47 913.61,47.2441 \n",
       "  \"/>\n",
       "<polyline clip-path=\"url(#clip9102)\" style=\"stroke:#000000; stroke-width:2; stroke-opacity:0.1; fill:none\" points=\"\n",
       "  1212.94,1487.47 1212.94,47.2441 \n",
       "  \"/>\n",
       "<polyline clip-path=\"url(#clip9102)\" style=\"stroke:#000000; stroke-width:2; stroke-opacity:0.1; fill:none\" points=\"\n",
       "  1512.26,1487.47 1512.26,47.2441 \n",
       "  \"/>\n",
       "<polyline clip-path=\"url(#clip9102)\" style=\"stroke:#000000; stroke-width:2; stroke-opacity:0.1; fill:none\" points=\"\n",
       "  1811.59,1487.47 1811.59,47.2441 \n",
       "  \"/>\n",
       "<polyline clip-path=\"url(#clip9102)\" style=\"stroke:#000000; stroke-width:2; stroke-opacity:0.1; fill:none\" points=\"\n",
       "  2110.91,1487.47 2110.91,47.2441 \n",
       "  \"/>\n",
       "<polyline clip-path=\"url(#clip9102)\" style=\"stroke:#000000; stroke-width:2; stroke-opacity:0.1; fill:none\" points=\"\n",
       "  153.898,1219.72 2352.76,1219.72 \n",
       "  \"/>\n",
       "<polyline clip-path=\"url(#clip9102)\" style=\"stroke:#000000; stroke-width:2; stroke-opacity:0.1; fill:none\" points=\"\n",
       "  153.898,934.204 2352.76,934.204 \n",
       "  \"/>\n",
       "<polyline clip-path=\"url(#clip9102)\" style=\"stroke:#000000; stroke-width:2; stroke-opacity:0.1; fill:none\" points=\"\n",
       "  153.898,648.688 2352.76,648.688 \n",
       "  \"/>\n",
       "<polyline clip-path=\"url(#clip9102)\" style=\"stroke:#000000; stroke-width:2; stroke-opacity:0.1; fill:none\" points=\"\n",
       "  153.898,363.171 2352.76,363.171 \n",
       "  \"/>\n",
       "<polyline clip-path=\"url(#clip9102)\" style=\"stroke:#000000; stroke-width:2; stroke-opacity:0.1; fill:none\" points=\"\n",
       "  153.898,77.6552 2352.76,77.6552 \n",
       "  \"/>\n",
       "<polyline clip-path=\"url(#clip9100)\" style=\"stroke:#000000; stroke-width:4; stroke-opacity:1; fill:none\" points=\"\n",
       "  153.898,1487.47 2352.76,1487.47 \n",
       "  \"/>\n",
       "<polyline clip-path=\"url(#clip9100)\" style=\"stroke:#000000; stroke-width:4; stroke-opacity:1; fill:none\" points=\"\n",
       "  153.898,1487.47 153.898,47.2441 \n",
       "  \"/>\n",
       "<polyline clip-path=\"url(#clip9100)\" style=\"stroke:#000000; stroke-width:4; stroke-opacity:1; fill:none\" points=\"\n",
       "  314.958,1487.47 314.958,1465.87 \n",
       "  \"/>\n",
       "<polyline clip-path=\"url(#clip9100)\" style=\"stroke:#000000; stroke-width:4; stroke-opacity:1; fill:none\" points=\"\n",
       "  614.284,1487.47 614.284,1465.87 \n",
       "  \"/>\n",
       "<polyline clip-path=\"url(#clip9100)\" style=\"stroke:#000000; stroke-width:4; stroke-opacity:1; fill:none\" points=\"\n",
       "  913.61,1487.47 913.61,1465.87 \n",
       "  \"/>\n",
       "<polyline clip-path=\"url(#clip9100)\" style=\"stroke:#000000; stroke-width:4; stroke-opacity:1; fill:none\" points=\"\n",
       "  1212.94,1487.47 1212.94,1465.87 \n",
       "  \"/>\n",
       "<polyline clip-path=\"url(#clip9100)\" style=\"stroke:#000000; stroke-width:4; stroke-opacity:1; fill:none\" points=\"\n",
       "  1512.26,1487.47 1512.26,1465.87 \n",
       "  \"/>\n",
       "<polyline clip-path=\"url(#clip9100)\" style=\"stroke:#000000; stroke-width:4; stroke-opacity:1; fill:none\" points=\"\n",
       "  1811.59,1487.47 1811.59,1465.87 \n",
       "  \"/>\n",
       "<polyline clip-path=\"url(#clip9100)\" style=\"stroke:#000000; stroke-width:4; stroke-opacity:1; fill:none\" points=\"\n",
       "  2110.91,1487.47 2110.91,1465.87 \n",
       "  \"/>\n",
       "<polyline clip-path=\"url(#clip9100)\" style=\"stroke:#000000; stroke-width:4; stroke-opacity:1; fill:none\" points=\"\n",
       "  153.898,1219.72 186.881,1219.72 \n",
       "  \"/>\n",
       "<polyline clip-path=\"url(#clip9100)\" style=\"stroke:#000000; stroke-width:4; stroke-opacity:1; fill:none\" points=\"\n",
       "  153.898,934.204 186.881,934.204 \n",
       "  \"/>\n",
       "<polyline clip-path=\"url(#clip9100)\" style=\"stroke:#000000; stroke-width:4; stroke-opacity:1; fill:none\" points=\"\n",
       "  153.898,648.688 186.881,648.688 \n",
       "  \"/>\n",
       "<polyline clip-path=\"url(#clip9100)\" style=\"stroke:#000000; stroke-width:4; stroke-opacity:1; fill:none\" points=\"\n",
       "  153.898,363.171 186.881,363.171 \n",
       "  \"/>\n",
       "<polyline clip-path=\"url(#clip9100)\" style=\"stroke:#000000; stroke-width:4; stroke-opacity:1; fill:none\" points=\"\n",
       "  153.898,77.6552 186.881,77.6552 \n",
       "  \"/>\n",
       "<g clip-path=\"url(#clip9100)\">\n",
       "<text style=\"fill:#000000; fill-opacity:1; font-family:Arial,Helvetica Neue,Helvetica,sans-serif; font-size:48px; text-anchor:middle;\" transform=\"rotate(0, 314.958, 1541.47)\" x=\"314.958\" y=\"1541.47\">-0.75</text>\n",
       "</g>\n",
       "<g clip-path=\"url(#clip9100)\">\n",
       "<text style=\"fill:#000000; fill-opacity:1; font-family:Arial,Helvetica Neue,Helvetica,sans-serif; font-size:48px; text-anchor:middle;\" transform=\"rotate(0, 614.284, 1541.47)\" x=\"614.284\" y=\"1541.47\">-0.50</text>\n",
       "</g>\n",
       "<g clip-path=\"url(#clip9100)\">\n",
       "<text style=\"fill:#000000; fill-opacity:1; font-family:Arial,Helvetica Neue,Helvetica,sans-serif; font-size:48px; text-anchor:middle;\" transform=\"rotate(0, 913.61, 1541.47)\" x=\"913.61\" y=\"1541.47\">-0.25</text>\n",
       "</g>\n",
       "<g clip-path=\"url(#clip9100)\">\n",
       "<text style=\"fill:#000000; fill-opacity:1; font-family:Arial,Helvetica Neue,Helvetica,sans-serif; font-size:48px; text-anchor:middle;\" transform=\"rotate(0, 1212.94, 1541.47)\" x=\"1212.94\" y=\"1541.47\">0.00</text>\n",
       "</g>\n",
       "<g clip-path=\"url(#clip9100)\">\n",
       "<text style=\"fill:#000000; fill-opacity:1; font-family:Arial,Helvetica Neue,Helvetica,sans-serif; font-size:48px; text-anchor:middle;\" transform=\"rotate(0, 1512.26, 1541.47)\" x=\"1512.26\" y=\"1541.47\">0.25</text>\n",
       "</g>\n",
       "<g clip-path=\"url(#clip9100)\">\n",
       "<text style=\"fill:#000000; fill-opacity:1; font-family:Arial,Helvetica Neue,Helvetica,sans-serif; font-size:48px; text-anchor:middle;\" transform=\"rotate(0, 1811.59, 1541.47)\" x=\"1811.59\" y=\"1541.47\">0.50</text>\n",
       "</g>\n",
       "<g clip-path=\"url(#clip9100)\">\n",
       "<text style=\"fill:#000000; fill-opacity:1; font-family:Arial,Helvetica Neue,Helvetica,sans-serif; font-size:48px; text-anchor:middle;\" transform=\"rotate(0, 2110.91, 1541.47)\" x=\"2110.91\" y=\"1541.47\">0.75</text>\n",
       "</g>\n",
       "<g clip-path=\"url(#clip9100)\">\n",
       "<text style=\"fill:#000000; fill-opacity:1; font-family:Arial,Helvetica Neue,Helvetica,sans-serif; font-size:48px; text-anchor:end;\" transform=\"rotate(0, 129.898, 1237.22)\" x=\"129.898\" y=\"1237.22\">0.0</text>\n",
       "</g>\n",
       "<g clip-path=\"url(#clip9100)\">\n",
       "<text style=\"fill:#000000; fill-opacity:1; font-family:Arial,Helvetica Neue,Helvetica,sans-serif; font-size:48px; text-anchor:end;\" transform=\"rotate(0, 129.898, 951.704)\" x=\"129.898\" y=\"951.704\">0.3</text>\n",
       "</g>\n",
       "<g clip-path=\"url(#clip9100)\">\n",
       "<text style=\"fill:#000000; fill-opacity:1; font-family:Arial,Helvetica Neue,Helvetica,sans-serif; font-size:48px; text-anchor:end;\" transform=\"rotate(0, 129.898, 666.188)\" x=\"129.898\" y=\"666.188\">0.6</text>\n",
       "</g>\n",
       "<g clip-path=\"url(#clip9100)\">\n",
       "<text style=\"fill:#000000; fill-opacity:1; font-family:Arial,Helvetica Neue,Helvetica,sans-serif; font-size:48px; text-anchor:end;\" transform=\"rotate(0, 129.898, 380.671)\" x=\"129.898\" y=\"380.671\">0.9</text>\n",
       "</g>\n",
       "<g clip-path=\"url(#clip9100)\">\n",
       "<text style=\"fill:#000000; fill-opacity:1; font-family:Arial,Helvetica Neue,Helvetica,sans-serif; font-size:48px; text-anchor:end;\" transform=\"rotate(0, 129.898, 95.1552)\" x=\"129.898\" y=\"95.1552\">1.2</text>\n",
       "</g>\n",
       "<polygon clip-path=\"url(#clip9102)\" points=\"\n",
       "216.13,1115.58 1757.53,88.0053 2273.57,220.38 2290.52,706.259 2112.77,989.209 2087.85,1022.75 913.982,1446.71 216.13,1115.58 216.13,1115.58 \n",
       "  \" fill=\"#009af9\" fill-rule=\"evenodd\" fill-opacity=\"1\"/>\n",
       "<polyline clip-path=\"url(#clip9102)\" style=\"stroke:#000000; stroke-width:4; stroke-opacity:1; fill:none\" points=\"\n",
       "  216.13,1115.58 1757.53,88.0053 2273.57,220.38 2290.52,706.259 2112.77,989.209 2087.85,1022.75 913.982,1446.71 216.13,1115.58 \n",
       "  \"/>\n",
       "<polygon clip-path=\"url(#clip9102)\" points=\"\n",
       "1536.01,1028.05 1545.98,989.313 1550.55,949.094 1548.79,908.063 1539.9,867.134 1523.38,827.421 1499.11,790.138 1467.52,756.449 1429.51,727.313 1386.39,703.364 \n",
       "  1339.65,684.862 1290.78,671.718 1241.09,663.585 1191.64,659.953 1143.2,660.256 1096.28,663.936 1051.17,670.494 1007.98,679.509 966.735,690.645 927.368,703.651 \n",
       "  889.782,718.35 853.861,734.633 819.493,752.446 786.586,771.786 755.076,792.693 724.942,815.241 696.221,839.531 669.014,865.685 643.512,893.831 620.007,924.088 \n",
       "  598.915,956.545 580.789,991.226 566.326,1028.05 556.354,1066.79 551.788,1107.01 553.547,1148.04 562.43,1188.97 578.957,1228.68 603.224,1265.97 634.818,1299.66 \n",
       "  672.825,1328.79 715.944,1352.74 762.683,1371.24 811.555,1384.39 861.244,1392.52 910.692,1396.15 959.13,1395.85 1006.05,1392.17 1051.17,1385.61 1094.35,1376.6 \n",
       "  1135.6,1365.46 1174.97,1352.45 1212.55,1337.75 1248.47,1321.47 1282.84,1303.66 1315.75,1284.32 1347.26,1263.41 1377.39,1240.86 1406.11,1216.57 1433.32,1190.42 \n",
       "  1458.82,1162.27 1482.33,1132.02 1503.42,1099.56 1521.55,1064.88 1536.01,1028.05 \n",
       "  \" fill=\"#ffa500\" fill-rule=\"evenodd\" fill-opacity=\"1\"/>\n",
       "<polyline clip-path=\"url(#clip9102)\" style=\"stroke:#000000; stroke-width:4; stroke-opacity:1; fill:none\" points=\"\n",
       "  1536.01,1028.05 1545.98,989.313 1550.55,949.094 1548.79,908.063 1539.9,867.134 1523.38,827.421 1499.11,790.138 1467.52,756.449 1429.51,727.313 1386.39,703.364 \n",
       "  1339.65,684.862 1290.78,671.718 1241.09,663.585 1191.64,659.953 1143.2,660.256 1096.28,663.936 1051.17,670.494 1007.98,679.509 966.735,690.645 927.368,703.651 \n",
       "  889.782,718.35 853.861,734.633 819.493,752.446 786.586,771.786 755.076,792.693 724.942,815.241 696.221,839.531 669.014,865.685 643.512,893.831 620.007,924.088 \n",
       "  598.915,956.545 580.789,991.226 566.326,1028.05 556.354,1066.79 551.788,1107.01 553.547,1148.04 562.43,1188.97 578.957,1228.68 603.224,1265.97 634.818,1299.66 \n",
       "  672.825,1328.79 715.944,1352.74 762.683,1371.24 811.555,1384.39 861.244,1392.52 910.692,1396.15 959.13,1395.85 1006.05,1392.17 1051.17,1385.61 1094.35,1376.6 \n",
       "  1135.6,1365.46 1174.97,1352.45 1212.55,1337.75 1248.47,1321.47 1282.84,1303.66 1315.75,1284.32 1347.26,1263.41 1377.39,1240.86 1406.11,1216.57 1433.32,1190.42 \n",
       "  1458.82,1162.27 1482.33,1132.02 1503.42,1099.56 1521.55,1064.88 1536.01,1028.05 \n",
       "  \"/>\n",
       "<polygon clip-path=\"url(#clip9102)\" points=\"\n",
       "1357.97,1200.16 1372.04,1189.81 1389.91,1176.43 1413.57,1158.27 1446.31,1132.18 1492.82,1092.68 1553.28,1033.69 1590.11,971.665 1535.07,965.491 1444.57,1001.87 \n",
       "  1377.37,1036.56 1332.96,1061.69 1302.61,1079.71 1280.69,1093.13 1264.02,1103.56 1250.77,1111.97 1239.85,1119 1230.54,1125.05 1222.39,1130.39 1215.07,1135.23 \n",
       "  1208.34,1139.71 1202.04,1143.93 1196,1148 1190.11,1151.99 1184.26,1155.98 1178.35,1160.04 1172.24,1164.25 1165.83,1168.71 1158.94,1173.52 1151.41,1178.84 \n",
       "  1142.95,1184.84 1133.23,1191.81 1121.72,1200.16 1107.65,1210.51 1089.78,1223.89 1066.13,1242.05 1033.38,1268.14 986.872,1307.64 926.412,1366.63 889.579,1428.66 \n",
       "  944.622,1434.83 1035.13,1398.45 1102.32,1363.76 1146.73,1338.63 1177.08,1320.61 1199,1307.19 1215.67,1296.76 1228.92,1288.35 1239.85,1281.32 1249.15,1275.27 \n",
       "  1257.3,1269.93 1264.62,1265.09 1271.35,1260.61 1277.66,1256.39 1283.69,1252.32 1289.58,1248.33 1295.43,1244.34 1301.35,1240.28 1307.45,1236.07 1313.87,1231.61 \n",
       "  1320.75,1226.8 1328.29,1221.49 1336.74,1215.48 1346.46,1208.51 1357.97,1200.16 \n",
       "  \" fill=\"#008000\" fill-rule=\"evenodd\" fill-opacity=\"1\"/>\n",
       "<polyline clip-path=\"url(#clip9102)\" style=\"stroke:#000000; stroke-width:4; stroke-opacity:1; fill:none\" points=\"\n",
       "  1357.97,1200.16 1372.04,1189.81 1389.91,1176.43 1413.57,1158.27 1446.31,1132.18 1492.82,1092.68 1553.28,1033.69 1590.11,971.665 1535.07,965.491 1444.57,1001.87 \n",
       "  1377.37,1036.56 1332.96,1061.69 1302.61,1079.71 1280.69,1093.13 1264.02,1103.56 1250.77,1111.97 1239.85,1119 1230.54,1125.05 1222.39,1130.39 1215.07,1135.23 \n",
       "  1208.34,1139.71 1202.04,1143.93 1196,1148 1190.11,1151.99 1184.26,1155.98 1178.35,1160.04 1172.24,1164.25 1165.83,1168.71 1158.94,1173.52 1151.41,1178.84 \n",
       "  1142.95,1184.84 1133.23,1191.81 1121.72,1200.16 1107.65,1210.51 1089.78,1223.89 1066.13,1242.05 1033.38,1268.14 986.872,1307.64 926.412,1366.63 889.579,1428.66 \n",
       "  944.622,1434.83 1035.13,1398.45 1102.32,1363.76 1146.73,1338.63 1177.08,1320.61 1199,1307.19 1215.67,1296.76 1228.92,1288.35 1239.85,1281.32 1249.15,1275.27 \n",
       "  1257.3,1269.93 1264.62,1265.09 1271.35,1260.61 1277.66,1256.39 1283.69,1252.32 1289.58,1248.33 1295.43,1244.34 1301.35,1240.28 1307.45,1236.07 1313.87,1231.61 \n",
       "  1320.75,1226.8 1328.29,1221.49 1336.74,1215.48 1346.46,1208.51 1357.97,1200.16 \n",
       "  \"/>\n",
       "</svg>\n"
      ]
     },
     "execution_count": 6,
     "metadata": {},
     "output_type": "execute_result"
    }
   ],
   "source": [
    "using Plots\n",
    "plot(safe_set)\n",
    "plot!(project(max_vol_ell, 1:2), color=:orange)\n",
    "plot!(project(max_tr_ell, 1:2), color=:green)"
   ]
  },
  {
   "cell_type": "code",
   "execution_count": null,
   "metadata": {
    "collapsed": true
   },
   "outputs": [],
   "source": []
  }
 ],
 "metadata": {
  "kernelspec": {
   "display_name": "Julia 1.2.0",
   "language": "julia",
   "name": "julia-1.2"
  },
  "language_info": {
   "file_extension": ".jl",
   "mimetype": "application/julia",
   "name": "julia",
   "version": "1.2.0"
  }
 },
 "nbformat": 4,
 "nbformat_minor": 2
}
