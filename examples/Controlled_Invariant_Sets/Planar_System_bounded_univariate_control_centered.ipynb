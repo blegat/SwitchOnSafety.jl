{
 "cells": [
  {
   "cell_type": "markdown",
   "metadata": {},
   "source": [
    "In this notebook, we compute invariant sets for the planar system with univariate input of Example ?.? of [???].\n",
    "We need to select an semidefinite programming solver to find the invariant set. A complete list of available solvers is [available here](https://www.juliaopt.org/JuMP.jl/stable/installation/#Getting-Solvers-1)."
   ]
  },
  {
   "cell_type": "code",
   "execution_count": 1,
   "metadata": {},
   "outputs": [
    {
     "name": "stderr",
     "output_type": "stream",
     "text": [
      "┌ Info: Precompiling MosekTools [1ec41992-ff65-5c91-ac43-2df89e9693a4]\n",
      "└ @ Base loading.jl:1273\n",
      "┌ Info: Precompiling JuMP [4076af6c-e467-56ae-b986-b466b2749572]\n",
      "└ @ Base loading.jl:1273\n"
     ]
    },
    {
     "data": {
      "text/plain": [
       "MathOptInterface.OptimizerWithAttributes(Mosek.Optimizer, Pair{MathOptInterface.AbstractOptimizerAttribute,Any}[MathOptInterface.Silent() => true])"
      ]
     },
     "execution_count": 1,
     "metadata": {},
     "output_type": "execute_result"
    }
   ],
   "source": [
    "using MosekTools\n",
    "using JuMP\n",
    "solver = optimizer_with_attributes(Mosek.Optimizer, MOI.Silent() => true)"
   ]
  },
  {
   "cell_type": "markdown",
   "metadata": {},
   "source": [
    "We first define the safe sets and input sets for our system using [Polyhedra](https://github.com/JuliaPolyhedra/Polyhedra.jl)."
   ]
  },
  {
   "cell_type": "code",
   "execution_count": 2,
   "metadata": {},
   "outputs": [
    {
     "name": "stderr",
     "output_type": "stream",
     "text": [
      "┌ Info: Precompiling Polyhedra [67491407-f73d-577b-9b50-8179a7c68029]\n",
      "└ @ Base loading.jl:1273\n"
     ]
    },
    {
     "data": {
      "text/plain": [
       "Polyhedron Interval{Int64,StaticArrays.SArray{Tuple{1},Int64,1,1},StaticArrays.Size{(1,)}}:\n",
       "2-element iterator of HalfSpace{Int64,StaticArrays.SArray{Tuple{1},Int64,1,1}}:\n",
       " HalfSpace([1], 2)\n",
       " HalfSpace([-1], 2):\n",
       "2-element iterator of StaticArrays.SArray{Tuple{1},Int64,1,1}:\n",
       " [2]\n",
       " [-2]"
      ]
     },
     "execution_count": 2,
     "metadata": {},
     "output_type": "execute_result"
    }
   ],
   "source": [
    "using Polyhedra\n",
    "G = [-0.7238   -0.5117\n",
    "      0.2558   -0.8091\n",
    "     -0.0528    0.7725\n",
    "     -0.1060   -0.7190\n",
    "     -0.1252    0.1868\n",
    "      0.7232   -0.9371\n",
    "      0.4235    0.6708]\n",
    "F = [0.2990;\n",
    "     0.0983;\n",
    "     0.0276;\n",
    "     0.1202;\n",
    "     0.0348;\n",
    "     0.0921;\n",
    "     0.0240]\n",
    "safe_set = polyhedron(hrep(G, F), DefaultLibrary{Float64}(solver))\n",
    "# The difference between example `Planar_System_bounded_univariate_control.ipynb` is that here\n",
    "# the `safe_set` have the `chebyshevcenter` at the origin and the system is linear.\n",
    "# For the other example, the system becomes affine if we recenter it.\n",
    "cheby_center, cheby_radius = chebyshevcenter(safe_set, solver)\n",
    "safe_set = Polyhedra.translate(safe_set, -cheby_center)\n",
    "input_set = polyhedron(convexhull([-2], [2]))"
   ]
  },
  {
   "cell_type": "markdown",
   "metadata": {},
   "source": [
    "We new define the dynamic of our system and create it using [MathematicalSystems](https://github.com/JuliaReach/MathematicalSystems.jl/)."
   ]
  },
  {
   "cell_type": "code",
   "execution_count": 3,
   "metadata": {},
   "outputs": [
    {
     "name": "stderr",
     "output_type": "stream",
     "text": [
      "┌ Info: Precompiling MathematicalSystems [d14a8603-c872-5ed3-9ece-53e0e82e39da]\n",
      "└ @ Base loading.jl:1273\n"
     ]
    },
    {
     "data": {
      "text/plain": [
       "ConstrainedLinearControlDiscreteSystem{Float64,Array{Float64,2},Array{Float64,2},DefaultPolyhedron{Float64,MixedMatHRep{Float64,Array{Float64,2}},MixedMatVRep{Float64,Array{Float64,2}}},Interval{Int64,StaticArrays.SArray{Tuple{1},Int64,1,1},StaticArrays.Size{(1,)}}}([1.0 0.1; 0.0 1.0], [0.0; 0.05], HalfSpace([-0.7238, -0.5117], 0.19107440756274646) ∩ HalfSpace([0.2558, -0.8091], 0.07589831719915427) ∩ HalfSpace([-0.0528, 0.7725], 0.06925536240908901) ∩ HalfSpace([-0.106, -0.719], 0.06500410875389777) ∩ HalfSpace([-0.1252, 0.1868], 0.03296929672008322) ∩ HalfSpace([0.7232, -0.9371], 0.11135472350004738) ∩ HalfSpace([0.4235, 0.6708], 0.10986251843706862), HalfSpace([1], 2) ∩ HalfSpace([-1], 2) : convexhull([2], [-2]))"
      ]
     },
     "execution_count": 3,
     "metadata": {},
     "output_type": "execute_result"
    }
   ],
   "source": [
    "using MathematicalSystems\n",
    "A = [1 0.1\n",
    "     0 1]\n",
    "B = reshape([0, 0.05], 2, 1)\n",
    "system = ConstrainedLinearControlDiscreteSystem(A, B, safe_set, input_set)"
   ]
  },
  {
   "cell_type": "markdown",
   "metadata": {},
   "source": [
    "We now use SwitchOnSafety to compute the invariant set. We start with symmetric ellipsoid centered at the origin."
   ]
  },
  {
   "cell_type": "code",
   "execution_count": 4,
   "metadata": {},
   "outputs": [
    {
     "name": "stderr",
     "output_type": "stream",
     "text": [
      "┌ Info: Precompiling SwitchOnSafety [ceb7f16a-07bf-5f4a-9354-b68f01b1610f]\n",
      "└ @ Base loading.jl:1273\n"
     ]
    },
    {
     "name": "stdout",
     "output_type": "stream",
     "text": [
      "MOI.get(model, MOI.SolveTime()) = 0.018838882446289062\n",
      "JuMP.raw_status(model) = \"Mosek.MSK_SOL_STA_OPTIMAL\"\n",
      "JuMP.termination_status(model) = MathOptInterface.OPTIMAL\n",
      "JuMP.primal_status(model) = MathOptInterface.FEASIBLE_POINT\n",
      "JuMP.dual_status(model) = MathOptInterface.FEASIBLE_POINT\n",
      "JuMP.objective_value(model) = 0.0586697498001786\n"
     ]
    },
    {
     "data": {
      "text/plain": [
       "SetProg.Sets.Polar{Float64,SetProg.Sets.EllipsoidAtOrigin{Float64}}(SetProg.Sets.EllipsoidAtOrigin{Float64}([0.010040742772963645 -0.0003778487644907591; -0.0003778487644907591 0.007557013101736704]))"
      ]
     },
     "execution_count": 4,
     "metadata": {},
     "output_type": "execute_result"
    }
   ],
   "source": [
    "using SwitchOnSafety\n",
    "sym_variable = Ellipsoid(symmetric = true)\n",
    "max_vol_sym_ell = invariant_set(system, solver, sym_variable)"
   ]
  },
  {
   "cell_type": "markdown",
   "metadata": {},
   "source": [
    "This computes the maximal *volume* ellipsoid.\n",
    "We can instead maximize the integral of the quadratic form defining the ellipsoid over the hypercube.\n",
    "This corresponds to maximizing the sum of squares of its semi-axes instead or equivalently the trace of the positive definite matrix defining the quadratic form."
   ]
  },
  {
   "cell_type": "code",
   "execution_count": 5,
   "metadata": {},
   "outputs": [
    {
     "name": "stdout",
     "output_type": "stream",
     "text": [
      "MOI.get(model, MOI.SolveTime()) = 0.0012598037719726562\n",
      "JuMP.raw_status(model) = \"Mosek.MSK_SOL_STA_OPTIMAL\"\n",
      "JuMP.termination_status(model) = MathOptInterface.OPTIMAL\n",
      "JuMP.primal_status(model) = MathOptInterface.FEASIBLE_POINT\n",
      "JuMP.dual_status(model) = MathOptInterface.FEASIBLE_POINT\n",
      "JuMP.objective_value(model) = 2.681124554607967\n"
     ]
    },
    {
     "data": {
      "text/plain": [
       "SetProg.Sets.Polar{Float64,SetProg.Sets.EllipsoidAtOrigin{Float64}}(SetProg.Sets.EllipsoidAtOrigin{Float64}([0.019186838008019128 -0.00012499393315962943; -0.00012499393315962943 0.0025000045402244512]))"
      ]
     },
     "execution_count": 5,
     "metadata": {},
     "output_type": "execute_result"
    }
   ],
   "source": [
    "max_tr_sym_ell = invariant_set(system, solver, sym_variable, volume_heuristic = ell -> L1_heuristic(ell, ones(3)))"
   ]
  },
  {
   "cell_type": "markdown",
   "metadata": {},
   "source": [
    "We can see the result below."
   ]
  },
  {
   "cell_type": "code",
   "execution_count": 6,
   "metadata": {},
   "outputs": [
    {
     "name": "stderr",
     "output_type": "stream",
     "text": [
      "┌ Info: Precompiling Plots [91a5bcdd-55d7-5caf-9e0b-520d859cae80]\n",
      "└ @ Base loading.jl:1273\n"
     ]
    },
    {
     "data": {
      "image/svg+xml": [
       "<?xml version=\"1.0\" encoding=\"utf-8\"?>\n",
       "<svg xmlns=\"http://www.w3.org/2000/svg\" xmlns:xlink=\"http://www.w3.org/1999/xlink\" width=\"600\" height=\"400\" viewBox=\"0 0 2400 1600\">\n",
       "<defs>\n",
       "  <clipPath id=\"clip9000\">\n",
       "    <rect x=\"0\" y=\"0\" width=\"2400\" height=\"1600\"/>\n",
       "  </clipPath>\n",
       "</defs>\n",
       "<path clip-path=\"url(#clip9000)\" d=\"\n",
       "M0 1600 L2400 1600 L2400 0 L0 0  Z\n",
       "  \" fill=\"#ffffff\" fill-rule=\"evenodd\" fill-opacity=\"1\"/>\n",
       "<defs>\n",
       "  <clipPath id=\"clip9001\">\n",
       "    <rect x=\"480\" y=\"0\" width=\"1681\" height=\"1600\"/>\n",
       "  </clipPath>\n",
       "</defs>\n",
       "<path clip-path=\"url(#clip9000)\" d=\"\n",
       "M208.77 1487.47 L2352.76 1487.47 L2352.76 47.2441 L208.77 47.2441  Z\n",
       "  \" fill=\"#ffffff\" fill-rule=\"evenodd\" fill-opacity=\"1\"/>\n",
       "<defs>\n",
       "  <clipPath id=\"clip9002\">\n",
       "    <rect x=\"208\" y=\"47\" width=\"2145\" height=\"1441\"/>\n",
       "  </clipPath>\n",
       "</defs>\n",
       "<polyline clip-path=\"url(#clip9002)\" style=\"stroke:#000000; stroke-width:2; stroke-opacity:0.1; fill:none\" points=\"\n",
       "  546.746,1487.47 546.746,47.2441 \n",
       "  \"/>\n",
       "<polyline clip-path=\"url(#clip9002)\" style=\"stroke:#000000; stroke-width:2; stroke-opacity:0.1; fill:none\" points=\"\n",
       "  981.536,1487.47 981.536,47.2441 \n",
       "  \"/>\n",
       "<polyline clip-path=\"url(#clip9002)\" style=\"stroke:#000000; stroke-width:2; stroke-opacity:0.1; fill:none\" points=\"\n",
       "  1416.33,1487.47 1416.33,47.2441 \n",
       "  \"/>\n",
       "<polyline clip-path=\"url(#clip9002)\" style=\"stroke:#000000; stroke-width:2; stroke-opacity:0.1; fill:none\" points=\"\n",
       "  1851.12,1487.47 1851.12,47.2441 \n",
       "  \"/>\n",
       "<polyline clip-path=\"url(#clip9002)\" style=\"stroke:#000000; stroke-width:2; stroke-opacity:0.1; fill:none\" points=\"\n",
       "  2285.9,1487.47 2285.9,47.2441 \n",
       "  \"/>\n",
       "<polyline clip-path=\"url(#clip9002)\" style=\"stroke:#000000; stroke-width:2; stroke-opacity:0.1; fill:none\" points=\"\n",
       "  208.77,1147.47 2352.76,1147.47 \n",
       "  \"/>\n",
       "<polyline clip-path=\"url(#clip9002)\" style=\"stroke:#000000; stroke-width:2; stroke-opacity:0.1; fill:none\" points=\"\n",
       "  208.77,786.844 2352.76,786.844 \n",
       "  \"/>\n",
       "<polyline clip-path=\"url(#clip9002)\" style=\"stroke:#000000; stroke-width:2; stroke-opacity:0.1; fill:none\" points=\"\n",
       "  208.77,426.217 2352.76,426.217 \n",
       "  \"/>\n",
       "<polyline clip-path=\"url(#clip9002)\" style=\"stroke:#000000; stroke-width:2; stroke-opacity:0.1; fill:none\" points=\"\n",
       "  208.77,65.59 2352.76,65.59 \n",
       "  \"/>\n",
       "<polyline clip-path=\"url(#clip9000)\" style=\"stroke:#000000; stroke-width:4; stroke-opacity:1; fill:none\" points=\"\n",
       "  208.77,1487.47 2352.76,1487.47 \n",
       "  \"/>\n",
       "<polyline clip-path=\"url(#clip9000)\" style=\"stroke:#000000; stroke-width:4; stroke-opacity:1; fill:none\" points=\"\n",
       "  208.77,1487.47 208.77,47.2441 \n",
       "  \"/>\n",
       "<polyline clip-path=\"url(#clip9000)\" style=\"stroke:#000000; stroke-width:4; stroke-opacity:1; fill:none\" points=\"\n",
       "  546.746,1487.47 546.746,1470.19 \n",
       "  \"/>\n",
       "<polyline clip-path=\"url(#clip9000)\" style=\"stroke:#000000; stroke-width:4; stroke-opacity:1; fill:none\" points=\"\n",
       "  981.536,1487.47 981.536,1470.19 \n",
       "  \"/>\n",
       "<polyline clip-path=\"url(#clip9000)\" style=\"stroke:#000000; stroke-width:4; stroke-opacity:1; fill:none\" points=\"\n",
       "  1416.33,1487.47 1416.33,1470.19 \n",
       "  \"/>\n",
       "<polyline clip-path=\"url(#clip9000)\" style=\"stroke:#000000; stroke-width:4; stroke-opacity:1; fill:none\" points=\"\n",
       "  1851.12,1487.47 1851.12,1470.19 \n",
       "  \"/>\n",
       "<polyline clip-path=\"url(#clip9000)\" style=\"stroke:#000000; stroke-width:4; stroke-opacity:1; fill:none\" points=\"\n",
       "  2285.9,1487.47 2285.9,1470.19 \n",
       "  \"/>\n",
       "<polyline clip-path=\"url(#clip9000)\" style=\"stroke:#000000; stroke-width:4; stroke-opacity:1; fill:none\" points=\"\n",
       "  208.77,1147.47 234.498,1147.47 \n",
       "  \"/>\n",
       "<polyline clip-path=\"url(#clip9000)\" style=\"stroke:#000000; stroke-width:4; stroke-opacity:1; fill:none\" points=\"\n",
       "  208.77,786.844 234.498,786.844 \n",
       "  \"/>\n",
       "<polyline clip-path=\"url(#clip9000)\" style=\"stroke:#000000; stroke-width:4; stroke-opacity:1; fill:none\" points=\"\n",
       "  208.77,426.217 234.498,426.217 \n",
       "  \"/>\n",
       "<polyline clip-path=\"url(#clip9000)\" style=\"stroke:#000000; stroke-width:4; stroke-opacity:1; fill:none\" points=\"\n",
       "  208.77,65.59 234.498,65.59 \n",
       "  \"/>\n",
       "<g clip-path=\"url(#clip9000)\">\n",
       "<text style=\"fill:#000000; fill-opacity:1; font-family:Arial,Helvetica Neue,Helvetica,sans-serif; font-size:48px; text-anchor:middle;\" transform=\"rotate(0, 546.746, 1541.47)\" x=\"546.746\" y=\"1541.47\">-0.2</text>\n",
       "</g>\n",
       "<g clip-path=\"url(#clip9000)\">\n",
       "<text style=\"fill:#000000; fill-opacity:1; font-family:Arial,Helvetica Neue,Helvetica,sans-serif; font-size:48px; text-anchor:middle;\" transform=\"rotate(0, 981.536, 1541.47)\" x=\"981.536\" y=\"1541.47\">-0.1</text>\n",
       "</g>\n",
       "<g clip-path=\"url(#clip9000)\">\n",
       "<text style=\"fill:#000000; fill-opacity:1; font-family:Arial,Helvetica Neue,Helvetica,sans-serif; font-size:48px; text-anchor:middle;\" transform=\"rotate(0, 1416.33, 1541.47)\" x=\"1416.33\" y=\"1541.47\">0.0</text>\n",
       "</g>\n",
       "<g clip-path=\"url(#clip9000)\">\n",
       "<text style=\"fill:#000000; fill-opacity:1; font-family:Arial,Helvetica Neue,Helvetica,sans-serif; font-size:48px; text-anchor:middle;\" transform=\"rotate(0, 1851.12, 1541.47)\" x=\"1851.12\" y=\"1541.47\">0.1</text>\n",
       "</g>\n",
       "<g clip-path=\"url(#clip9000)\">\n",
       "<text style=\"fill:#000000; fill-opacity:1; font-family:Arial,Helvetica Neue,Helvetica,sans-serif; font-size:48px; text-anchor:middle;\" transform=\"rotate(0, 2285.9, 1541.47)\" x=\"2285.9\" y=\"1541.47\">0.2</text>\n",
       "</g>\n",
       "<g clip-path=\"url(#clip9000)\">\n",
       "<text style=\"fill:#000000; fill-opacity:1; font-family:Arial,Helvetica Neue,Helvetica,sans-serif; font-size:48px; text-anchor:end;\" transform=\"rotate(0, 184.77, 1164.97)\" x=\"184.77\" y=\"1164.97\">-0.05</text>\n",
       "</g>\n",
       "<g clip-path=\"url(#clip9000)\">\n",
       "<text style=\"fill:#000000; fill-opacity:1; font-family:Arial,Helvetica Neue,Helvetica,sans-serif; font-size:48px; text-anchor:end;\" transform=\"rotate(0, 184.77, 804.344)\" x=\"184.77\" y=\"804.344\">0.00</text>\n",
       "</g>\n",
       "<g clip-path=\"url(#clip9000)\">\n",
       "<text style=\"fill:#000000; fill-opacity:1; font-family:Arial,Helvetica Neue,Helvetica,sans-serif; font-size:48px; text-anchor:end;\" transform=\"rotate(0, 184.77, 443.717)\" x=\"184.77\" y=\"443.717\">0.05</text>\n",
       "</g>\n",
       "<g clip-path=\"url(#clip9000)\">\n",
       "<text style=\"fill:#000000; fill-opacity:1; font-family:Arial,Helvetica Neue,Helvetica,sans-serif; font-size:48px; text-anchor:end;\" transform=\"rotate(0, 184.77, 83.09)\" x=\"184.77\" y=\"83.09\">0.10</text>\n",
       "</g>\n",
       "<path clip-path=\"url(#clip9002)\" d=\"\n",
       "M269.449 788.991 L788.982 211.362 L1876.96 88.0053 L2292.08 522.757 L1655.13 1338.18 L1448.18 1446.71 L445.22 1201.43 L269.449 788.991 L269.449 788.991  Z\n",
       "  \" fill=\"#009af9\" fill-rule=\"evenodd\" fill-opacity=\"1\"/>\n",
       "<polyline clip-path=\"url(#clip9002)\" style=\"stroke:#000000; stroke-width:4; stroke-opacity:1; fill:none\" points=\"\n",
       "  269.449,788.991 788.982,211.362 1876.96,88.0053 2292.08,522.757 1655.13,1338.18 1448.18,1446.71 445.22,1201.43 269.449,788.991 \n",
       "  \"/>\n",
       "<path clip-path=\"url(#clip9002)\" d=\"\n",
       "M1851.59 786.844 L1846.72 716.524 L1836.63 648.158 L1821.75 582.828 L1802.65 521.389 L1779.92 464.449 L1754.15 412.39 L1725.89 365.401 L1695.62 323.527 L1663.76 286.708 \n",
       "  L1630.62 254.829 L1596.48 227.746 L1561.53 205.32 L1525.94 187.432 L1489.81 174.002 L1453.25 164.998 L1416.33 160.44 L1379.13 160.405 L1341.76 165.027 L1304.35 174.493 \n",
       "  L1267.05 189.036 L1230.11 208.918 L1193.81 234.412 L1158.54 265.77 L1124.76 303.184 L1093.05 346.735 L1064.02 396.342 L1038.36 451.707 L1016.74 512.279 L999.786 577.237 \n",
       "  L988.004 645.511 L981.721 715.837 L981.061 786.844 L985.927 857.164 L996.023 925.53 L1010.9 990.859 L1030 1052.3 L1052.73 1109.24 L1078.5 1161.3 L1106.76 1208.29 \n",
       "  L1137.03 1250.16 L1168.9 1286.98 L1202.03 1318.86 L1236.18 1345.94 L1271.12 1368.37 L1306.71 1386.26 L1342.84 1399.68 L1379.4 1408.69 L1416.33 1413.25 L1453.52 1413.28 \n",
       "  L1490.89 1408.66 L1528.3 1399.19 L1565.6 1384.65 L1602.54 1364.77 L1638.84 1339.28 L1674.11 1307.92 L1707.89 1270.5 L1739.6 1226.95 L1768.63 1177.35 L1794.3 1121.98 \n",
       "  L1815.91 1061.41 L1832.87 996.45 L1844.65 928.176 L1850.93 857.851 L1851.59 786.844  Z\n",
       "  \" fill=\"#ffa500\" fill-rule=\"evenodd\" fill-opacity=\"1\"/>\n",
       "<polyline clip-path=\"url(#clip9002)\" style=\"stroke:#000000; stroke-width:4; stroke-opacity:1; fill:none\" points=\"\n",
       "  1851.59,786.844 1846.72,716.524 1836.63,648.158 1821.75,582.828 1802.65,521.389 1779.92,464.449 1754.15,412.39 1725.89,365.401 1695.62,323.527 1663.76,286.708 \n",
       "  1630.62,254.829 1596.48,227.746 1561.53,205.32 1525.94,187.432 1489.81,174.002 1453.25,164.998 1416.33,160.44 1379.13,160.405 1341.76,165.027 1304.35,174.493 \n",
       "  1267.05,189.036 1230.11,208.918 1193.81,234.412 1158.54,265.77 1124.76,303.184 1093.05,346.735 1064.02,396.342 1038.36,451.707 1016.74,512.279 999.786,577.237 \n",
       "  988.004,645.511 981.721,715.837 981.061,786.844 985.927,857.164 996.023,925.53 1010.9,990.859 1030,1052.3 1052.73,1109.24 1078.5,1161.3 1106.76,1208.29 \n",
       "  1137.03,1250.16 1168.9,1286.98 1202.03,1318.86 1236.18,1345.94 1271.12,1368.37 1306.71,1386.26 1342.84,1399.68 1379.4,1408.69 1416.33,1413.25 1453.52,1413.28 \n",
       "  1490.89,1408.66 1528.3,1399.19 1565.6,1384.65 1602.54,1364.77 1638.84,1339.28 1674.11,1307.92 1707.89,1270.5 1739.6,1226.95 1768.63,1177.35 1794.3,1121.98 \n",
       "  1815.91,1061.41 1832.87,996.45 1844.65,928.176 1850.93,857.851 1851.59,786.844 \n",
       "  \"/>\n",
       "<path clip-path=\"url(#clip9002)\" d=\"\n",
       "M2018.48 786.844 L1994.6 692.363 L1939.73 614.136 L1873.27 556.904 L1808.45 517.409 L1750.54 490.502 L1700.4 471.975 L1657.17 458.964 L1619.61 449.632 L1586.53 442.813 \n",
       "  L1556.93 437.76 L1530.02 433.987 L1505.14 431.177 L1481.74 429.115 L1459.39 427.664 L1437.71 426.734 L1416.33 426.275 L1394.92 426.272 L1373.15 426.737 L1350.65 427.716 \n",
       "  L1327.05 429.294 L1301.86 431.61 L1274.55 434.876 L1244.44 439.414 L1210.69 445.722 L1172.26 454.573 L1127.93 467.186 L1076.47 485.499 L1017.13 512.548 L951.182 552.779 \n",
       "  L884.87 611.481 L832.724 691.493 L814.168 786.844 L838.049 881.324 L892.918 959.551 L959.379 1016.78 L1024.2 1056.28 L1082.11 1083.19 L1132.25 1101.71 L1175.48 1114.72 \n",
       "  L1213.05 1124.06 L1246.12 1130.87 L1275.72 1135.93 L1302.63 1139.7 L1327.52 1142.51 L1350.91 1144.57 L1373.26 1146.02 L1394.94 1146.95 L1416.33 1147.41 L1437.73 1147.42 \n",
       "  L1459.51 1146.95 L1482 1145.97 L1505.61 1144.39 L1530.79 1142.08 L1558.1 1138.81 L1588.21 1134.27 L1621.96 1127.96 L1660.39 1119.11 L1704.72 1106.5 L1756.18 1088.19 \n",
       "  L1815.52 1061.14 L1881.47 1020.91 L1947.78 962.206 L1999.93 882.194 L2018.48 786.844  Z\n",
       "  \" fill=\"#008000\" fill-rule=\"evenodd\" fill-opacity=\"1\"/>\n",
       "<polyline clip-path=\"url(#clip9002)\" style=\"stroke:#000000; stroke-width:4; stroke-opacity:1; fill:none\" points=\"\n",
       "  2018.48,786.844 1994.6,692.363 1939.73,614.136 1873.27,556.904 1808.45,517.409 1750.54,490.502 1700.4,471.975 1657.17,458.964 1619.61,449.632 1586.53,442.813 \n",
       "  1556.93,437.76 1530.02,433.987 1505.14,431.177 1481.74,429.115 1459.39,427.664 1437.71,426.734 1416.33,426.275 1394.92,426.272 1373.15,426.737 1350.65,427.716 \n",
       "  1327.05,429.294 1301.86,431.61 1274.55,434.876 1244.44,439.414 1210.69,445.722 1172.26,454.573 1127.93,467.186 1076.47,485.499 1017.13,512.548 951.182,552.779 \n",
       "  884.87,611.481 832.724,691.493 814.168,786.844 838.049,881.324 892.918,959.551 959.379,1016.78 1024.2,1056.28 1082.11,1083.19 1132.25,1101.71 1175.48,1114.72 \n",
       "  1213.05,1124.06 1246.12,1130.87 1275.72,1135.93 1302.63,1139.7 1327.52,1142.51 1350.91,1144.57 1373.26,1146.02 1394.94,1146.95 1416.33,1147.41 1437.73,1147.42 \n",
       "  1459.51,1146.95 1482,1145.97 1505.61,1144.39 1530.79,1142.08 1558.1,1138.81 1588.21,1134.27 1621.96,1127.96 1660.39,1119.11 1704.72,1106.5 1756.18,1088.19 \n",
       "  1815.52,1061.14 1881.47,1020.91 1947.78,962.206 1999.93,882.194 2018.48,786.844 \n",
       "  \"/>\n",
       "</svg>\n"
      ]
     },
     "execution_count": 6,
     "metadata": {},
     "output_type": "execute_result"
    }
   ],
   "source": [
    "using Plots\n",
    "plot(safe_set)\n",
    "plot!(max_vol_sym_ell, color=:orange)\n",
    "plot!(max_tr_sym_ell, color=:green)"
   ]
  },
  {
   "cell_type": "markdown",
   "metadata": {},
   "source": [
    "We can see that forcing the center of the ellipsoid to coincide with the Chebyshev center of the safe set is quite conservative.\n",
    "We can ask instead to search for any ellipsoid with the origin in its interior.\n",
    "As the system is reformulated into an algebraic system with safe set `safe_set * input_set`, the Chebyshev center is `(0, 0, 0)` (note that `Polyhedra.chebyshevcenter(safe * input)` is currently incorrect because of https://github.com/JuliaPolyhedra/Polyhedra.jl/issues/125).\n",
    "To avoid having to solve Bilinear Matrix Inequalities, we set the S-procedure scaling to `1.0`."
   ]
  },
  {
   "cell_type": "code",
   "execution_count": 7,
   "metadata": {},
   "outputs": [
    {
     "name": "stdout",
     "output_type": "stream",
     "text": [
      "MOI.get(model, MOI.SolveTime()) = 0.0038831233978271484\n",
      "JuMP.raw_status(model) = \"Mosek.MSK_SOL_STA_OPTIMAL\"\n",
      "JuMP.termination_status(model) = MathOptInterface.OPTIMAL\n",
      "JuMP.primal_status(model) = MathOptInterface.FEASIBLE_POINT\n",
      "JuMP.dual_status(model) = MathOptInterface.FEASIBLE_POINT\n",
      "JuMP.objective_value(model) = 0.06907146599476785\n"
     ]
    },
    {
     "data": {
      "text/plain": [
       "SetProg.Sets.Translation{SetProg.Sets.Polar{Float64,SetProg.Sets.EllipsoidAtOrigin{Float64}},Float64,Array{Float64,1}}(SetProg.Sets.Polar{Float64,SetProg.Sets.EllipsoidAtOrigin{Float64}}(SetProg.Sets.EllipsoidAtOrigin{Float64}([0.02647468893806818 -0.0003306085054359482; -0.0003306085054359482 0.006612820744045794])), [-0.04207212928034078, 2.427812133671514e-19])"
      ]
     },
     "execution_count": 7,
     "metadata": {},
     "output_type": "execute_result"
    }
   ],
   "source": [
    "using SwitchOnSafety\n",
    "variable = Ellipsoid(point = SetProg.InteriorPoint(zeros(3)))\n",
    "max_vol_ell = invariant_set(system, solver, variable, λ = 1.0)"
   ]
  },
  {
   "cell_type": "markdown",
   "metadata": {},
   "source": [
    "Instead of maximizing the volume, we can maximize the L1 norm as above."
   ]
  },
  {
   "cell_type": "code",
   "execution_count": 8,
   "metadata": {},
   "outputs": [
    {
     "name": "stdout",
     "output_type": "stream",
     "text": [
      "MOI.get(model, MOI.SolveTime()) = 0.002048015594482422\n",
      "JuMP.raw_status(model) = \"Mosek.MSK_SOL_STA_OPTIMAL\"\n",
      "JuMP.termination_status(model) = MathOptInterface.OPTIMAL\n",
      "JuMP.primal_status(model) = MathOptInterface.FEASIBLE_POINT\n",
      "JuMP.dual_status(model) = MathOptInterface.FEASIBLE_POINT\n",
      "JuMP.objective_value(model) = 2.6812008476199205\n"
     ]
    },
    {
     "data": {
      "text/plain": [
       "SetProg.Sets.Translation{SetProg.Sets.Polar{Float64,SetProg.Sets.EllipsoidAtOrigin{Float64}},Float64,Array{Float64,1}}(SetProg.Sets.Polar{Float64,SetProg.Sets.EllipsoidAtOrigin{Float64}}(SetProg.Sets.EllipsoidAtOrigin{Float64}([0.019417556606259004 -0.00012499247498027049; -0.00012499247498027049 0.0025000055324086437])), [-0.0007474077518349916, -1.242405690276443e-16])"
      ]
     },
     "execution_count": 8,
     "metadata": {},
     "output_type": "execute_result"
    }
   ],
   "source": [
    "using SwitchOnSafety\n",
    "max_tr_ell = invariant_set(system, solver, variable, λ = 1.0, volume_heuristic = ell -> L1_heuristic(ell, ones(3)))"
   ]
  },
  {
   "cell_type": "markdown",
   "metadata": {},
   "source": [
    "We can see that we get a larger ellipsoids for the volume maximization but not for the L1 norm as maximizing the L1 integral over the hypercube centered at the origin is not a very good heuristic. We should instaed maximize the L1 integral over the safe set but this is not implemented yet in [SetProg](https://github.com/blegat/SetProg.jl)."
   ]
  },
  {
   "cell_type": "code",
   "execution_count": 9,
   "metadata": {},
   "outputs": [
    {
     "data": {
      "image/svg+xml": [
       "<?xml version=\"1.0\" encoding=\"utf-8\"?>\n",
       "<svg xmlns=\"http://www.w3.org/2000/svg\" xmlns:xlink=\"http://www.w3.org/1999/xlink\" width=\"600\" height=\"400\" viewBox=\"0 0 2400 1600\">\n",
       "<defs>\n",
       "  <clipPath id=\"clip9400\">\n",
       "    <rect x=\"0\" y=\"0\" width=\"2400\" height=\"1600\"/>\n",
       "  </clipPath>\n",
       "</defs>\n",
       "<path clip-path=\"url(#clip9400)\" d=\"\n",
       "M0 1600 L2400 1600 L2400 0 L0 0  Z\n",
       "  \" fill=\"#ffffff\" fill-rule=\"evenodd\" fill-opacity=\"1\"/>\n",
       "<defs>\n",
       "  <clipPath id=\"clip9401\">\n",
       "    <rect x=\"480\" y=\"0\" width=\"1681\" height=\"1600\"/>\n",
       "  </clipPath>\n",
       "</defs>\n",
       "<path clip-path=\"url(#clip9400)\" d=\"\n",
       "M208.77 1487.47 L2352.76 1487.47 L2352.76 47.2441 L208.77 47.2441  Z\n",
       "  \" fill=\"#ffffff\" fill-rule=\"evenodd\" fill-opacity=\"1\"/>\n",
       "<defs>\n",
       "  <clipPath id=\"clip9402\">\n",
       "    <rect x=\"208\" y=\"47\" width=\"2145\" height=\"1441\"/>\n",
       "  </clipPath>\n",
       "</defs>\n",
       "<polyline clip-path=\"url(#clip9402)\" style=\"stroke:#000000; stroke-width:2; stroke-opacity:0.1; fill:none\" points=\"\n",
       "  546.746,1487.47 546.746,47.2441 \n",
       "  \"/>\n",
       "<polyline clip-path=\"url(#clip9402)\" style=\"stroke:#000000; stroke-width:2; stroke-opacity:0.1; fill:none\" points=\"\n",
       "  981.536,1487.47 981.536,47.2441 \n",
       "  \"/>\n",
       "<polyline clip-path=\"url(#clip9402)\" style=\"stroke:#000000; stroke-width:2; stroke-opacity:0.1; fill:none\" points=\"\n",
       "  1416.33,1487.47 1416.33,47.2441 \n",
       "  \"/>\n",
       "<polyline clip-path=\"url(#clip9402)\" style=\"stroke:#000000; stroke-width:2; stroke-opacity:0.1; fill:none\" points=\"\n",
       "  1851.12,1487.47 1851.12,47.2441 \n",
       "  \"/>\n",
       "<polyline clip-path=\"url(#clip9402)\" style=\"stroke:#000000; stroke-width:2; stroke-opacity:0.1; fill:none\" points=\"\n",
       "  2285.9,1487.47 2285.9,47.2441 \n",
       "  \"/>\n",
       "<polyline clip-path=\"url(#clip9402)\" style=\"stroke:#000000; stroke-width:2; stroke-opacity:0.1; fill:none\" points=\"\n",
       "  208.77,1147.47 2352.76,1147.47 \n",
       "  \"/>\n",
       "<polyline clip-path=\"url(#clip9402)\" style=\"stroke:#000000; stroke-width:2; stroke-opacity:0.1; fill:none\" points=\"\n",
       "  208.77,786.844 2352.76,786.844 \n",
       "  \"/>\n",
       "<polyline clip-path=\"url(#clip9402)\" style=\"stroke:#000000; stroke-width:2; stroke-opacity:0.1; fill:none\" points=\"\n",
       "  208.77,426.217 2352.76,426.217 \n",
       "  \"/>\n",
       "<polyline clip-path=\"url(#clip9402)\" style=\"stroke:#000000; stroke-width:2; stroke-opacity:0.1; fill:none\" points=\"\n",
       "  208.77,65.59 2352.76,65.59 \n",
       "  \"/>\n",
       "<polyline clip-path=\"url(#clip9400)\" style=\"stroke:#000000; stroke-width:4; stroke-opacity:1; fill:none\" points=\"\n",
       "  208.77,1487.47 2352.76,1487.47 \n",
       "  \"/>\n",
       "<polyline clip-path=\"url(#clip9400)\" style=\"stroke:#000000; stroke-width:4; stroke-opacity:1; fill:none\" points=\"\n",
       "  208.77,1487.47 208.77,47.2441 \n",
       "  \"/>\n",
       "<polyline clip-path=\"url(#clip9400)\" style=\"stroke:#000000; stroke-width:4; stroke-opacity:1; fill:none\" points=\"\n",
       "  546.746,1487.47 546.746,1470.19 \n",
       "  \"/>\n",
       "<polyline clip-path=\"url(#clip9400)\" style=\"stroke:#000000; stroke-width:4; stroke-opacity:1; fill:none\" points=\"\n",
       "  981.536,1487.47 981.536,1470.19 \n",
       "  \"/>\n",
       "<polyline clip-path=\"url(#clip9400)\" style=\"stroke:#000000; stroke-width:4; stroke-opacity:1; fill:none\" points=\"\n",
       "  1416.33,1487.47 1416.33,1470.19 \n",
       "  \"/>\n",
       "<polyline clip-path=\"url(#clip9400)\" style=\"stroke:#000000; stroke-width:4; stroke-opacity:1; fill:none\" points=\"\n",
       "  1851.12,1487.47 1851.12,1470.19 \n",
       "  \"/>\n",
       "<polyline clip-path=\"url(#clip9400)\" style=\"stroke:#000000; stroke-width:4; stroke-opacity:1; fill:none\" points=\"\n",
       "  2285.9,1487.47 2285.9,1470.19 \n",
       "  \"/>\n",
       "<polyline clip-path=\"url(#clip9400)\" style=\"stroke:#000000; stroke-width:4; stroke-opacity:1; fill:none\" points=\"\n",
       "  208.77,1147.47 234.498,1147.47 \n",
       "  \"/>\n",
       "<polyline clip-path=\"url(#clip9400)\" style=\"stroke:#000000; stroke-width:4; stroke-opacity:1; fill:none\" points=\"\n",
       "  208.77,786.844 234.498,786.844 \n",
       "  \"/>\n",
       "<polyline clip-path=\"url(#clip9400)\" style=\"stroke:#000000; stroke-width:4; stroke-opacity:1; fill:none\" points=\"\n",
       "  208.77,426.217 234.498,426.217 \n",
       "  \"/>\n",
       "<polyline clip-path=\"url(#clip9400)\" style=\"stroke:#000000; stroke-width:4; stroke-opacity:1; fill:none\" points=\"\n",
       "  208.77,65.59 234.498,65.59 \n",
       "  \"/>\n",
       "<g clip-path=\"url(#clip9400)\">\n",
       "<text style=\"fill:#000000; fill-opacity:1; font-family:Arial,Helvetica Neue,Helvetica,sans-serif; font-size:48px; text-anchor:middle;\" transform=\"rotate(0, 546.746, 1541.47)\" x=\"546.746\" y=\"1541.47\">-0.2</text>\n",
       "</g>\n",
       "<g clip-path=\"url(#clip9400)\">\n",
       "<text style=\"fill:#000000; fill-opacity:1; font-family:Arial,Helvetica Neue,Helvetica,sans-serif; font-size:48px; text-anchor:middle;\" transform=\"rotate(0, 981.536, 1541.47)\" x=\"981.536\" y=\"1541.47\">-0.1</text>\n",
       "</g>\n",
       "<g clip-path=\"url(#clip9400)\">\n",
       "<text style=\"fill:#000000; fill-opacity:1; font-family:Arial,Helvetica Neue,Helvetica,sans-serif; font-size:48px; text-anchor:middle;\" transform=\"rotate(0, 1416.33, 1541.47)\" x=\"1416.33\" y=\"1541.47\">0.0</text>\n",
       "</g>\n",
       "<g clip-path=\"url(#clip9400)\">\n",
       "<text style=\"fill:#000000; fill-opacity:1; font-family:Arial,Helvetica Neue,Helvetica,sans-serif; font-size:48px; text-anchor:middle;\" transform=\"rotate(0, 1851.12, 1541.47)\" x=\"1851.12\" y=\"1541.47\">0.1</text>\n",
       "</g>\n",
       "<g clip-path=\"url(#clip9400)\">\n",
       "<text style=\"fill:#000000; fill-opacity:1; font-family:Arial,Helvetica Neue,Helvetica,sans-serif; font-size:48px; text-anchor:middle;\" transform=\"rotate(0, 2285.9, 1541.47)\" x=\"2285.9\" y=\"1541.47\">0.2</text>\n",
       "</g>\n",
       "<g clip-path=\"url(#clip9400)\">\n",
       "<text style=\"fill:#000000; fill-opacity:1; font-family:Arial,Helvetica Neue,Helvetica,sans-serif; font-size:48px; text-anchor:end;\" transform=\"rotate(0, 184.77, 1164.97)\" x=\"184.77\" y=\"1164.97\">-0.05</text>\n",
       "</g>\n",
       "<g clip-path=\"url(#clip9400)\">\n",
       "<text style=\"fill:#000000; fill-opacity:1; font-family:Arial,Helvetica Neue,Helvetica,sans-serif; font-size:48px; text-anchor:end;\" transform=\"rotate(0, 184.77, 804.344)\" x=\"184.77\" y=\"804.344\">0.00</text>\n",
       "</g>\n",
       "<g clip-path=\"url(#clip9400)\">\n",
       "<text style=\"fill:#000000; fill-opacity:1; font-family:Arial,Helvetica Neue,Helvetica,sans-serif; font-size:48px; text-anchor:end;\" transform=\"rotate(0, 184.77, 443.717)\" x=\"184.77\" y=\"443.717\">0.05</text>\n",
       "</g>\n",
       "<g clip-path=\"url(#clip9400)\">\n",
       "<text style=\"fill:#000000; fill-opacity:1; font-family:Arial,Helvetica Neue,Helvetica,sans-serif; font-size:48px; text-anchor:end;\" transform=\"rotate(0, 184.77, 83.09)\" x=\"184.77\" y=\"83.09\">0.10</text>\n",
       "</g>\n",
       "<path clip-path=\"url(#clip9402)\" d=\"\n",
       "M269.449 788.991 L788.982 211.362 L1876.96 88.0053 L2292.08 522.757 L1655.13 1338.18 L1448.18 1446.71 L445.22 1201.43 L269.449 788.991 L269.449 788.991  Z\n",
       "  \" fill=\"#009af9\" fill-rule=\"evenodd\" fill-opacity=\"1\"/>\n",
       "<polyline clip-path=\"url(#clip9402)\" style=\"stroke:#000000; stroke-width:4; stroke-opacity:1; fill:none\" points=\"\n",
       "  269.449,788.991 788.982,211.362 1876.96,88.0053 2292.08,522.757 1655.13,1338.18 1448.18,1446.71 445.22,1201.43 269.449,788.991 \n",
       "  \"/>\n",
       "<path clip-path=\"url(#clip9402)\" d=\"\n",
       "M1940.63 786.844 L1924.02 674.009 L1884.93 571.861 L1831.39 485.932 L1771.36 417.202 L1710.51 363.802 L1652.01 322.847 L1597.23 291.529 L1546.46 267.527 L1499.45 249.063 \n",
       "  L1455.75 234.828 L1414.8 223.869 L1376.06 215.509 L1339.02 209.268 L1303.19 204.815 L1268.13 201.935 L1233.4 200.509 L1198.59 200.498 L1163.27 201.944 L1127 204.974 \n",
       "  L1089.32 209.813 L1049.73 216.81 L1007.69 226.477 L962.637 239.544 L914.023 257.043 L861.401 280.408 L804.63 311.589 L744.245 353.12 L682.069 408.013 L622.009 479.186 \n",
       "  L570.59 568.138 L536.206 672.934 L526.173 786.844 L542.785 899.679 L581.874 1001.83 L635.414 1087.76 L695.444 1156.48 L756.291 1209.89 L814.787 1250.84 L869.57 1282.16 \n",
       "  L920.343 1306.16 L967.347 1324.62 L1011.05 1338.86 L1052 1349.82 L1090.74 1358.18 L1127.78 1364.42 L1163.61 1368.87 L1198.67 1371.75 L1233.4 1373.18 L1268.21 1373.19 \n",
       "  L1303.54 1371.74 L1339.8 1368.71 L1377.48 1363.87 L1417.07 1356.88 L1459.11 1347.21 L1504.16 1334.14 L1552.78 1316.64 L1605.4 1293.28 L1662.17 1262.1 L1722.56 1220.57 \n",
       "  L1784.73 1165.67 L1844.79 1094.5 L1896.21 1005.55 L1930.59 900.753 L1940.63 786.844  Z\n",
       "  \" fill=\"#ffa500\" fill-rule=\"evenodd\" fill-opacity=\"1\"/>\n",
       "<polyline clip-path=\"url(#clip9402)\" style=\"stroke:#000000; stroke-width:4; stroke-opacity:1; fill:none\" points=\"\n",
       "  1940.63,786.844 1924.02,674.009 1884.93,571.861 1831.39,485.932 1771.36,417.202 1710.51,363.802 1652.01,322.847 1597.23,291.529 1546.46,267.527 1499.45,249.063 \n",
       "  1455.75,234.828 1414.8,223.869 1376.06,215.509 1339.02,209.268 1303.19,204.815 1268.13,201.935 1233.4,200.509 1198.59,200.498 1163.27,201.944 1127,204.974 \n",
       "  1089.32,209.813 1049.73,216.81 1007.69,226.477 962.637,239.544 914.023,257.043 861.401,280.408 804.63,311.589 744.245,353.12 682.069,408.013 622.009,479.186 \n",
       "  570.59,568.138 536.206,672.934 526.173,786.844 542.785,899.679 581.874,1001.83 635.414,1087.76 695.444,1156.48 756.291,1209.89 814.787,1250.84 869.57,1282.16 \n",
       "  920.343,1306.16 967.347,1324.62 1011.05,1338.86 1052,1349.82 1090.74,1358.18 1127.78,1364.42 1163.61,1368.87 1198.67,1371.75 1233.4,1373.18 1268.21,1373.19 \n",
       "  1303.54,1371.74 1339.8,1368.71 1377.48,1363.87 1417.07,1356.88 1459.11,1347.21 1504.16,1334.14 1552.78,1316.64 1605.4,1293.28 1662.17,1262.1 1722.56,1220.57 \n",
       "  1784.73,1165.67 1844.79,1094.5 1896.21,1005.55 1930.59,900.753 1940.63,786.844 \n",
       "  \"/>\n",
       "<path clip-path=\"url(#clip9402)\" d=\"\n",
       "M2018.84 786.844 L1994.58 691.836 L1938.9 613.34 L1871.64 556.089 L1806.23 516.699 L1747.94 489.928 L1697.55 471.529 L1654.17 458.626 L1616.51 449.38 L1583.37 442.629 \n",
       "  L1553.74 437.629 L1526.8 433.898 L1501.9 431.119 L1478.5 429.081 L1456.15 427.647 L1434.46 426.727 L1413.08 426.274 L1391.67 426.271 L1369.9 426.73 L1347.4 427.698 \n",
       "  L1323.79 429.258 L1298.59 431.547 L1271.27 434.776 L1241.12 439.266 L1207.31 445.509 L1168.79 454.274 L1124.32 466.778 L1072.61 484.957 L1012.88 511.858 L946.324 551.97 \n",
       "  L879.193 610.68 L826.221 690.961 L807.308 786.844 L831.572 881.852 L887.255 960.347 L954.509 1017.6 L1019.92 1056.99 L1078.21 1083.76 L1128.6 1102.16 L1171.99 1115.06 \n",
       "  L1209.64 1124.31 L1242.78 1131.06 L1272.41 1136.06 L1299.35 1139.79 L1324.25 1142.57 L1347.65 1144.61 L1370 1146.04 L1391.69 1146.96 L1413.08 1147.41 L1434.48 1147.42 \n",
       "  L1456.26 1146.96 L1478.75 1145.99 L1502.36 1144.43 L1527.56 1142.14 L1554.89 1138.91 L1585.03 1134.42 L1618.84 1128.18 L1657.36 1119.41 L1701.84 1106.91 L1753.55 1088.73 \n",
       "  L1813.28 1061.83 L1879.83 1021.72 L1946.96 963.008 L1999.93 882.726 L2018.84 786.844  Z\n",
       "  \" fill=\"#008000\" fill-rule=\"evenodd\" fill-opacity=\"1\"/>\n",
       "<polyline clip-path=\"url(#clip9402)\" style=\"stroke:#000000; stroke-width:4; stroke-opacity:1; fill:none\" points=\"\n",
       "  2018.84,786.844 1994.58,691.836 1938.9,613.34 1871.64,556.089 1806.23,516.699 1747.94,489.928 1697.55,471.529 1654.17,458.626 1616.51,449.38 1583.37,442.629 \n",
       "  1553.74,437.629 1526.8,433.898 1501.9,431.119 1478.5,429.081 1456.15,427.647 1434.46,426.727 1413.08,426.274 1391.67,426.271 1369.9,426.73 1347.4,427.698 \n",
       "  1323.79,429.258 1298.59,431.547 1271.27,434.776 1241.12,439.266 1207.31,445.509 1168.79,454.274 1124.32,466.778 1072.61,484.957 1012.88,511.858 946.324,551.97 \n",
       "  879.193,610.68 826.221,690.961 807.308,786.844 831.572,881.852 887.255,960.347 954.509,1017.6 1019.92,1056.99 1078.21,1083.76 1128.6,1102.16 1171.99,1115.06 \n",
       "  1209.64,1124.31 1242.78,1131.06 1272.41,1136.06 1299.35,1139.79 1324.25,1142.57 1347.65,1144.61 1370,1146.04 1391.69,1146.96 1413.08,1147.41 1434.48,1147.42 \n",
       "  1456.26,1146.96 1478.75,1145.99 1502.36,1144.43 1527.56,1142.14 1554.89,1138.91 1585.03,1134.42 1618.84,1128.18 1657.36,1119.41 1701.84,1106.91 1753.55,1088.73 \n",
       "  1813.28,1061.83 1879.83,1021.72 1946.96,963.008 1999.93,882.726 2018.84,786.844 \n",
       "  \"/>\n",
       "</svg>\n"
      ]
     },
     "execution_count": 9,
     "metadata": {},
     "output_type": "execute_result"
    }
   ],
   "source": [
    "using Plots\n",
    "plot(safe_set)\n",
    "plot!(max_vol_ell, color=:orange)\n",
    "plot!(max_tr_ell, color=:green)"
   ]
  },
  {
   "cell_type": "code",
   "execution_count": null,
   "metadata": {
    "collapsed": true
   },
   "outputs": [],
   "source": []
  }
 ],
 "metadata": {
  "kernelspec": {
   "display_name": "Julia 1.3.1",
   "language": "julia",
   "name": "julia-1.3"
  },
  "language_info": {
   "file_extension": ".jl",
   "mimetype": "application/julia",
   "name": "julia",
   "version": "1.3.1"
  }
 },
 "nbformat": 4,
 "nbformat_minor": 2
}
