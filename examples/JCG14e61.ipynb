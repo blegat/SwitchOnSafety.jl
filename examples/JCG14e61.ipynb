{
 "cells": [
  {
   "cell_type": "markdown",
   "metadata": {},
   "source": [
    "Example 6.1 of [JCG14]. The JSR is 1.7779.\n",
    "\n",
    "[JCG14] R. Jungers, A. Cicone and N. Guglielmi,\n",
    "*Lifted polytope methods for computing the joint spectral radius.*\n",
    "SIAM Journal on Matrix Analysis and Applications, SIAM, **2014**, 35, 391-410."
   ]
  },
  {
   "cell_type": "code",
   "execution_count": 2,
   "metadata": {},
   "outputs": [
    {
     "data": {
      "text/plain": [
       "Hybrid System with automaton OneStateAutomaton(2)"
      ]
     },
     "execution_count": 2,
     "metadata": {},
     "output_type": "execute_result"
    }
   ],
   "source": [
    "using HybridSystems\n",
    "A1 = [ 0 -1  1  1\n",
    "       1  0  0  0\n",
    "       0 -1  0  0\n",
    "       1 -1 -1  0]\n",
    "A2 = [ 0 -1  1  0\n",
    "      -1 -1  1  1\n",
    "      -1  0  0  0\n",
    "      -1 -1  0 -1]\n",
    "s = discreteswitchedsystem([A1, A2])"
   ]
  },
  {
   "cell_type": "markdown",
   "metadata": {},
   "source": [
    "Pick an SDP solver:"
   ]
  },
  {
   "cell_type": "code",
   "execution_count": 3,
   "metadata": {
    "collapsed": true
   },
   "outputs": [],
   "source": [
    "using MosekTools\n",
    "using JuMP\n",
    "factory = optimizer_with_attributes(Mosek.Optimizer, MOI.Silent() => true);"
   ]
  },
  {
   "cell_type": "markdown",
   "metadata": {},
   "source": [
    "We first try with CQLF."
   ]
  },
  {
   "cell_type": "code",
   "execution_count": 5,
   "metadata": {},
   "outputs": [
    {
     "name": "stdout",
     "output_type": "stream",
     "text": [
      "Lower bound: 1.785615034230903\n",
      "Upper bound: 1.7857240228495543\n",
      "Log-diff   : 6.103515624988898e-5 ≤ 0.0001\n"
     ]
    },
    {
     "data": {
      "text/plain": [
       "(1.2626204992933205, 1.7857240228495543)"
      ]
     },
     "execution_count": 5,
     "metadata": {},
     "output_type": "execute_result"
    }
   ],
   "source": [
    "using SwitchOnSafety\n",
    "soslyapb(s, 1, factory=factory, tol=1e-4, verbose=1)"
   ]
  },
  {
   "cell_type": "code",
   "execution_count": 6,
   "metadata": {},
   "outputs": [
    {
     "data": {
      "text/plain": [
       "PSW(1.777919, [2])"
      ]
     },
     "execution_count": 6,
     "metadata": {},
     "output_type": "execute_result"
    }
   ],
   "source": [
    "seq = sosbuildsequence(s, 1, p_0=:Primal)\n",
    "psw = findsmp(seq)"
   ]
  },
  {
   "cell_type": "markdown",
   "metadata": {},
   "source": [
    "Now with quartic forms the upper bound get closer."
   ]
  },
  {
   "cell_type": "code",
   "execution_count": 10,
   "metadata": {},
   "outputs": [
    {
     "name": "stdout",
     "output_type": "stream",
     "text": [
      "Lower bound: 1.7778844842000996\n",
      "Upper bound: 1.778027640916192\n",
      "Log-diff   : 8.051757812488347e-5 ≤ 0.0001\n"
     ]
    },
    {
     "data": {
      "text/plain": [
       "(1.495016689499063, 1.778027640916192)"
      ]
     },
     "execution_count": 10,
     "metadata": {},
     "output_type": "execute_result"
    }
   ],
   "source": [
    "using SwitchOnSafety\n",
    "soslyapb(s, 2, factory=factory, tol=1e-4, verbose=1)"
   ]
  },
  {
   "cell_type": "code",
   "execution_count": 11,
   "metadata": {},
   "outputs": [
    {
     "data": {
      "text/plain": [
       "PSW(1.777919, [2])"
      ]
     },
     "execution_count": 11,
     "metadata": {},
     "output_type": "execute_result"
    }
   ],
   "source": [
    "seq = sosbuildsequence(s, 2, p_0=:Primal)\n",
    "psw = findsmp(seq)"
   ]
  },
  {
   "cell_type": "code",
   "execution_count": null,
   "metadata": {
    "collapsed": true
   },
   "outputs": [],
   "source": []
  }
 ],
 "metadata": {
  "kernelspec": {
   "display_name": "Julia 1.0.3",
   "language": "julia",
   "name": "julia-1.0"
  },
  "language_info": {
   "file_extension": ".jl",
   "mimetype": "application/julia",
   "name": "julia",
   "version": "1.0.1"
  }
 },
 "nbformat": 4,
 "nbformat_minor": 2
}
