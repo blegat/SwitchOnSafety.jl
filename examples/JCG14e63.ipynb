{
 "cells": [
  {
   "cell_type": "markdown",
   "metadata": {},
   "source": [
    "Example 6.3 of [JCG14]. The JSR is 1.618033988749895.\n",
    "\n",
    "[JCG14] R. Jungers, A. Cicone and N. Guglielmi,\n",
    "*Lifted polytope methods for computing the joint spectral radius.*\n",
    "SIAM Journal on Matrix Analysis and Applications, SIAM, **2014**, 35, 391-410."
   ]
  },
  {
   "cell_type": "code",
   "execution_count": 1,
   "metadata": {},
   "outputs": [
    {
     "data": {
      "text/plain": [
       "Hybrid System with automaton OneStateAutomaton(2)"
      ]
     },
     "execution_count": 1,
     "metadata": {},
     "output_type": "execute_result"
    }
   ],
   "source": [
    "using HybridSystems\n",
    "A1 = [ 0  1  1\n",
    "       1  0  0\n",
    "       0 -1  0]\n",
    "A2 = [ 0  1  0\n",
    "      -1  0  1\n",
    "      -1  0  0]\n",
    "s = discreteswitchedsystem([A1, A2])"
   ]
  },
  {
   "cell_type": "markdown",
   "metadata": {},
   "source": [
    "Pick an SDP solver:"
   ]
  },
  {
   "cell_type": "code",
   "execution_count": 2,
   "metadata": {
    "collapsed": true
   },
   "outputs": [],
   "source": [
    "using MosekTools\n",
    "using JuMP\n",
    "factory = optimizer_with_attributes(Mosek.Optimizer, MOI.Silent() => true);"
   ]
  },
  {
   "cell_type": "markdown",
   "metadata": {},
   "source": [
    "We first try with CQLF."
   ]
  },
  {
   "cell_type": "code",
   "execution_count": 3,
   "metadata": {},
   "outputs": [
    {
     "name": "stdout",
     "output_type": "stream",
     "text": [
      "Lower bound: 1.6180297343057668\n",
      "Upper bound: 1.618033988749895\n",
      "Log-diff   : 2.629394531272755e-6 ≤ 1.0e-5\n"
     ]
    },
    {
     "data": {
      "text/plain": [
       "(1.1441197972890753, 1.618033988749895)"
      ]
     },
     "execution_count": 3,
     "metadata": {},
     "output_type": "execute_result"
    }
   ],
   "source": [
    "using SwitchOnSafety\n",
    "lb, ub = soslyapb(s, 1, factory=factory, tol=1e-5, verbose=1)"
   ]
  },
  {
   "cell_type": "code",
   "execution_count": 4,
   "metadata": {},
   "outputs": [
    {
     "data": {
      "text/plain": [
       "PSW(1.618034, [2, 1])"
      ]
     },
     "execution_count": 4,
     "metadata": {},
     "output_type": "execute_result"
    }
   ],
   "source": [
    "seq = sosbuildsequence(s, 1, p_0=:Primal)\n",
    "psw = findsmp(seq)"
   ]
  },
  {
   "cell_type": "markdown",
   "metadata": {},
   "source": [
    "The upper bound and lower bound match"
   ]
  },
  {
   "cell_type": "code",
   "execution_count": 5,
   "metadata": {},
   "outputs": [
    {
     "name": "stdout",
     "output_type": "stream",
     "text": [
      "Lower bound: 1.618033988749895\n",
      "Upper bound: 1.618033988749895\n"
     ]
    }
   ],
   "source": [
    "println(\"Lower bound: \", psw.growthrate)\n",
    "println(\"Upper bound: \", ub)"
   ]
  },
  {
   "cell_type": "code",
   "execution_count": null,
   "metadata": {
    "collapsed": true
   },
   "outputs": [],
   "source": []
  }
 ],
 "metadata": {
  "kernelspec": {
   "display_name": "Julia 1.0.1",
   "language": "julia",
   "name": "julia-1.0"
  },
  "language_info": {
   "file_extension": ".jl",
   "mimetype": "application/julia",
   "name": "julia",
   "version": "1.0.1"
  }
 },
 "nbformat": 4,
 "nbformat_minor": 2
}
