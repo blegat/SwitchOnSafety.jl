{
 "cells": [
  {
   "cell_type": "code",
   "execution_count": 1,
   "metadata": {},
   "outputs": [
    {
     "name": "stdout",
     "output_type": "stream",
     "text": [
      "\u001b[32m\u001b[1m  Updating\u001b[22m\u001b[39m registry at `~/.julia/registries/General`\n",
      "\u001b[32m\u001b[1m  Updating\u001b[22m\u001b[39m git-repo `https://github.com/JuliaRegistries/General.git`\n",
      "\u001b[2K\u001b[?25h[1mFetching:\u001b[22m\u001b[39m [========================================>]  100.0 %.0 %"
     ]
    }
   ],
   "source": [
    "import Pkg\n",
    "Pkg.activate(@__DIR__)\n",
    "Pkg.instantiate()"
   ]
  },
  {
   "cell_type": "markdown",
   "metadata": {},
   "source": [
    "This example was found in a previous collaboration with N. Guglielmi and A. Cicone (unpublished)"
   ]
  },
  {
   "cell_type": "code",
   "execution_count": 2,
   "metadata": {},
   "outputs": [
    {
     "data": {
      "text/plain": [
       "Hybrid System with automaton OneStateAutomaton(2)"
      ]
     },
     "execution_count": 2,
     "metadata": {},
     "output_type": "execute_result"
    }
   ],
   "source": [
    "A1 = [-1  1 -1\n",
    "      -1 -1  1\n",
    "       0  1  1]\n",
    " \n",
    "A2 = [-1  1 -1\n",
    "      -1 -1  0\n",
    "       0  1  1]\n",
    " \n",
    "using HybridSystems\n",
    "s = discreteswitchedsystem([A1, A2])"
   ]
  },
  {
   "cell_type": "code",
   "execution_count": 3,
   "metadata": {},
   "outputs": [
    {
     "data": {
      "text/plain": [
       "PSW(1.6841852824915513, [1, 1, 1, 2, 2, 1, 1, 2, 2, 1, 1, 2, 2, 1, 1, 2, 2, 1, 1, 2, 2, 1, 1, 2, 2, 1, 1, 2, 2, 1, 1, 2, 2, 1, 1, 2, 2, 1, 1, 1, 2])"
      ]
     },
     "execution_count": 3,
     "metadata": {},
     "output_type": "execute_result"
    }
   ],
   "source": [
    "using SwitchOnSafety\n",
    "smp = periodicswitching(s,\n",
    "[1, 1, 1, 2, 2,\n",
    " 1, 1, 2, 2,\n",
    " 1, 1, 2, 2,\n",
    " 1, 1, 2, 2,\n",
    " 1, 1, 2, 2,\n",
    " 1, 1, 2, 2,\n",
    " 1, 1, 2, 2,\n",
    " 1, 1, 2, 2,\n",
    " 1, 1, 2, 2,\n",
    " 1, 1, 1, 2])"
   ]
  },
  {
   "cell_type": "markdown",
   "metadata": {},
   "source": [
    "The matrix with highest spectral radius is $A_1$."
   ]
  },
  {
   "cell_type": "code",
   "execution_count": 4,
   "metadata": {},
   "outputs": [
    {
     "data": {
      "text/plain": [
       "PSW(1.6408972581722014, [1])"
      ]
     },
     "execution_count": 4,
     "metadata": {},
     "output_type": "execute_result"
    }
   ],
   "source": [
    "psw1 = periodicswitching(s, [1])"
   ]
  },
  {
   "cell_type": "markdown",
   "metadata": {
    "collapsed": true
   },
   "source": [
    "## Gripenberg"
   ]
  },
  {
   "cell_type": "code",
   "execution_count": 5,
   "metadata": {},
   "outputs": [
    {
     "name": "stdout",
     "output_type": "stream",
     "text": [
      "ρ evaluations   : 356 < 1000 = max_ρ_eval.\n",
      "norm evaluations: 356 < 10000 = max_norm_eval.\n",
      "switch length   : 29 < 50 = max_length.\n",
      "  0.005067 seconds (21.49 k allocations: 2.085 MiB)\n",
      "ub = 1.6918582142440248\n"
     ]
    },
    {
     "data": {
      "text/plain": [
       "PSW(1.6821372240586803, [2, 1, 1, 2, 1, 1, 1, 2, 2, 1, 1, 2, 2, 1, 1, 2, 2, 1, 1, 2, 2, 1, 1, 2, 2, 1, 1, 1, 2])"
      ]
     },
     "execution_count": 5,
     "metadata": {},
     "output_type": "execute_result"
    }
   ],
   "source": [
    "@time smp, ub = gripenberg(s, δ=1e-2)\n",
    "@show ub\n",
    "smp"
   ]
  },
  {
   "cell_type": "code",
   "execution_count": 33,
   "metadata": {},
   "outputs": [
    {
     "name": "stdout",
     "output_type": "stream",
     "text": [
      "ρ evaluations   : 26766 < 1000000 = max_ρ_eval.\n",
      "norm evaluations: 26766 < 1000000 = max_norm_eval.\n",
      "switch length   : 85 < 100 = max_length.\n",
      "  0.403873 seconds (1.56 M allocations: 162.637 MiB, 11.93% gc time)\n",
      "ub = 1.6851852824915512\n",
      "length(smp.period) = 41\n"
     ]
    },
    {
     "data": {
      "text/plain": [
       "PSW(1.6841852824915513, [1, 1, 2, 1, 1, 1, 2, 2, 1, 1, 2, 2, 1, 1, 2, 2, 1, 1, 2, 2, 1, 1, 2, 2, 1, 1, 2, 2, 1, 1, 2, 2, 1, 1, 2, 2, 1, 1, 2, 2, 1])"
      ]
     },
     "execution_count": 33,
     "metadata": {},
     "output_type": "execute_result"
    }
   ],
   "source": [
    "MAX = 1000000\n",
    "@time smp, ub = gripenberg(s, δ=1e-3, max_eval=MAX, max_length = 100)\n",
    "@show ub\n",
    "@show length(smp.period)\n",
    "smp"
   ]
  },
  {
   "cell_type": "markdown",
   "metadata": {},
   "source": [
    "## Polytopic proof of the s.m.p."
   ]
  },
  {
   "cell_type": "code",
   "execution_count": 9,
   "metadata": {},
   "outputs": [
    {
     "name": "stdout",
     "output_type": "stream",
     "text": [
      "Depth 1: [1] points, 1 living leaves...\n",
      "\u001b[34m\u001b[1mNew candidate s.m.p. found\u001b[22m\u001b[39m because ⟨v_1*, v⟩ - 1 = -7.485080498425577e15 + 2.2452343866386296e16im > 1.0e-6:\n",
      "PSW(1.6408972581721992, [1])\n",
      "Depth 1: [1] points, 1 living leaves...\n",
      "\u001b[34m\u001b[1mNew candidate s.m.p. found\u001b[22m\u001b[39m because ⟨v_1*, v⟩ - 1 = -1.4373761501713728e16 + 2.7152396265983616e16im > 1.0e-6:\n",
      "\u001b[31m\u001b[1maborting\u001b[22m\u001b[39m with smp candidate PSW(1.637656938495055, [1, 1, 1, 1, 1, 1, 1, 1, 1, 1, 2]) of length 11 after prefixing the suffix with 10 times the current s.m.p. Increase the value of the `max_cycles` keyword argument to go further.\n",
      "Depth 2: [2] points, 1 living leaves...\n",
      "\u001b[34m\u001b[1mNew candidate s.m.p. found\u001b[22m\u001b[39m because ⟨v_1*, v⟩ - 1 = 2.8616122154926736e16 - 1.117923054183351e16im > 1.0e-6:\n",
      "\u001b[31m\u001b[1maborting\u001b[22m\u001b[39m with smp candidate PSW(1.6363506091712026, [1, 1, 1, 1, 1, 1, 1, 1, 1, 1, 2, 1]) of length 12 after prefixing the suffix with 10 times the current s.m.p. Increase the value of the `max_cycles` keyword argument to go further.\n",
      "\u001b[34m\u001b[1mNew candidate s.m.p. found\u001b[22m\u001b[39m because ⟨v_1*, v⟩ - 1 = 2.1772960736767104e16 - 4.112966934493226e16im > 1.0e-6:\n",
      "PSW(1.681792830507429, [1, 1, 2, 2])\n",
      "Depth 1: [4] points, 4 living leaves...\n",
      "\u001b[34m\u001b[1mNew candidate s.m.p. found\u001b[22m\u001b[39m because ⟨v_1*, v⟩ - 1 = -2.000015073979561 > 1.0e-6:\n",
      "\u001b[31m\u001b[1maborting\u001b[22m\u001b[39m with smp candidate PSW(1.6802978975269656, [1, 1, 2, 2, 1, 1, 2, 2, 1, 1, 2, 2, 1, 1, 2, 2, 1, 1, 2, 2, 1, 1, 2, 2, 1, 1, 2, 2, 1, 1, 2, 2, 1, 1, 2, 2, 1, 1, 2, 2, 2]) of length 41 after prefixing the suffix with 10 times the current s.m.p. Increase the value of the `max_cycles` keyword argument to go further.\n",
      "Depth 2: [8] points, 4 living leaves...\n",
      "Depth 3: [13] points, 5 living leaves...\n",
      "Depth 4: [18] points, 5 living leaves...\n",
      "Depth 5: [23] points, 5 living leaves...\n",
      "Depth 6: [29] points, 6 living leaves...\n",
      "Depth 7: [37] points, 8 living leaves...\n",
      "Depth 8: [46] points, 9 living leaves...\n",
      "Depth 9: [55] points, 9 living leaves...\n",
      "Depth 10: [63] points, 8 living leaves...\n",
      "Depth 11: [70] points, 7 living leaves...\n",
      "Depth 12: [79] points, 9 living leaves...\n",
      "Depth 13: [88] points, 9 living leaves...\n",
      "Depth 14: [99] points, 11 living leaves...\n",
      "Depth 15: [112] points, 13 living leaves...\n",
      "Depth 16: [118] points, 6 living leaves...\n",
      "Depth 17: [125] points, 7 living leaves...\n",
      "Depth 18: [133] points, 8 living leaves...\n",
      "Depth 19: [143] points, 10 living leaves...\n",
      "Depth 20: [152] points, 9 living leaves...\n",
      "Depth 21: [163] points, 11 living leaves...\n",
      "\u001b[34m\u001b[1mNew candidate s.m.p. found\u001b[22m\u001b[39m because ⟨v_3*, v⟩ - 1 = 0.01601953261652289 > 1.0e-6:\n",
      "PSW(1.6821826549700005, [2, 2, 1, 1, 1, 2, 1, 1, 1, 2, 2, 1, 1, 2, 2, 1, 1, 2, 2, 1, 1, 2, 2, 1, 1])\n",
      "Depth 1: [25] points, 25 living leaves...\n",
      "\u001b[34m\u001b[1mNew candidate s.m.p. found\u001b[22m\u001b[39m because ⟨v_11*, v⟩ - 1 = -2.0089842197849195 > 1.0e-6:\n",
      "\u001b[31m\u001b[1maborting\u001b[22m\u001b[39m with smp candidate PSW(1.6232765668088314, [2, 1, 1, 2, 2, 1, 1, 2, 2, 1, 1, 2, 2, 1, 1, 2, 2, 1, 1, 1, 2, 1, 1, 1, 2, 1]) of length 26 after prefixing the suffix with 1 times the current s.m.p. Increase the value of the `max_smp_length` keyword argument to go further.\n",
      "Depth 2: [33] points, 8 living leaves...\n",
      "Depth 3: [41] points, 8 living leaves...\n",
      "Depth 4: [51] points, 10 living leaves...\n",
      "\u001b[34m\u001b[1mNew candidate s.m.p. found\u001b[22m\u001b[39m because ⟨v_5*, v⟩ - 1 = 0.035322824432211686 > 1.0e-6:\n",
      "PSW(1.6833545693183518, [1, 2, 1, 1, 1, 2, 2, 1, 1, 2, 2, 1, 1, 2, 2, 1, 1, 2, 2, 1, 1, 2, 2, 1, 1, 2, 2, 1, 1])\n",
      "Depth 1: [29] points, 29 living leaves...\n",
      "Depth 2: [48] points, 19 living leaves...\n",
      "Depth 3: [64] points, 16 living leaves...\n",
      "Depth 4: [78] points, 14 living leaves...\n",
      "\u001b[34m\u001b[1mNew candidate s.m.p. found\u001b[22m\u001b[39m because ⟨v_1*, v⟩ - 1 = -2.0111409253033043 > 1.0e-6:\n",
      "PSW(1.6838938954053915, [1, 2, 1, 1, 1, 2, 2, 1, 1, 2, 2, 1, 1, 2, 2, 1, 1, 2, 2, 1, 1, 2, 2, 1, 1, 2, 2, 1, 1, 2, 2, 1, 1])\n",
      "Depth 1: [33] points, 33 living leaves...\n",
      "Depth 2: [55] points, 22 living leaves...\n",
      "Depth 3: [76] points, 21 living leaves...\n",
      "Depth 4: [99] points, 23 living leaves...\n",
      "\u001b[34m\u001b[1mNew candidate s.m.p. found\u001b[22m\u001b[39m because ⟨v_1*, v⟩ - 1 = -2.0052375894648655 > 1.0e-6:\n",
      "PSW(1.6841203966117424, [1, 2, 1, 1, 1, 2, 2, 1, 1, 2, 2, 1, 1, 2, 2, 1, 1, 2, 2, 1, 1, 2, 2, 1, 1, 2, 2, 1, 1, 2, 2, 1, 1, 2, 2, 1, 1])\n",
      "Depth 1: [37] points, 37 living leaves...\n",
      "Depth 2: [61] points, 24 living leaves...\n",
      "Depth 3: [86] points, 25 living leaves...\n",
      "Depth 4: [116] points, 30 living leaves...\n",
      "\u001b[34m\u001b[1mNew candidate s.m.p. found\u001b[22m\u001b[39m because ⟨v_1*, v⟩ - 1 = -2.0017065188166017 > 1.0e-6:\n",
      "PSW(1.6841852824915513, [1, 2, 1, 1, 1, 2, 2, 1, 1, 2, 2, 1, 1, 2, 2, 1, 1, 2, 2, 1, 1, 2, 2, 1, 1, 2, 2, 1, 1, 2, 2, 1, 1, 2, 2, 1, 1, 2, 2, 1, 1])\n",
      "Depth 1: [41] points, 41 living leaves...\n",
      "Depth 2: [68] points, 27 living leaves...\n",
      "Depth 3: [96] points, 28 living leaves...\n",
      "Depth 4: [132] points, 36 living leaves...\n",
      "Depth 5: [170] points, 38 living leaves...\n",
      "Depth 6: [207] points, 37 living leaves...\n",
      "Depth 7: [244] points, 37 living leaves...\n",
      "Depth 8: [281] points, 37 living leaves...\n",
      "Depth 9: [314] points, 33 living leaves...\n",
      "Depth 10: [347] points, 33 living leaves...\n",
      "Depth 11: [365] points, 18 living leaves...\n",
      "Depth 12: [373] points, 8 living leaves...\n",
      "Depth 13: [381] points, 8 living leaves...\n",
      "Depth 14: [389] points, 8 living leaves...\n",
      "Depth 15: [397] points, 8 living leaves...\n",
      "0 living leaves, PSW(1.6841852824915513, [1, 2, 1, 1, 1, 2, 2, 1, 1, 2, 2, 1, 1, 2, 2, 1, 1, 2, 2, 1, 1, 2, 2, 1, 1, 2, 2, 1, 1, 2, 2, 1, 1, 2, 2, 1, 1, 2, 2, 1, 1]) is a \u001b[0m\u001b[1mspectral maximizing product\u001b[22m (s.m.p.)\n",
      "Use `tol` < -9.196059961213976e-5 to eliminate at least one more living leaf.\n",
      "Use `tol` > 0.0 to keep at least one more dead leaf.\n",
      "Use `new_candidate_tol` < -0.0003583593909899374 to consider at least one more candidate as s.m.p.\n",
      "Use `new_candidate_tol` > 1.5073979561019968e-5 to eliminate at least one s.m.p. candidate.\n",
      " 11.666290 seconds (55.69 M allocations: 8.782 GiB, 21.40% gc time)\n"
     ]
    }
   ],
   "source": [
    "using JuMP, MosekTools, SwitchOnSafety\n",
    "@time smp, done, polys = invariant_polytopes(s, optimizer_with_attributes(Mosek.Optimizer, MOI.Silent() => true),\n",
    "    periodicswitching(s, [2]), max_length=50, tol=0.0);"
   ]
  },
  {
   "cell_type": "code",
   "execution_count": 7,
   "metadata": {},
   "outputs": [
    {
     "name": "stdout",
     "output_type": "stream",
     "text": [
      "Depth 1: [1] points, 1 living leaves...\n",
      "\u001b[34m\u001b[1mNew candidate s.m.p. found\u001b[22m\u001b[39m because ⟨v_1*, v⟩ - 1 = -7.485080498425577e15 + 2.2452343866386296e16im > 1.0e-6:\n",
      "PSW(1.6408972581721992, [1])\n",
      "Depth 1: [1] points, 1 living leaves...\n",
      "\u001b[34m\u001b[1mNew candidate s.m.p. found\u001b[22m\u001b[39m because ⟨v_1*, v⟩ - 1 = -1.4373761501713728e16 + 2.7152396265983616e16im > 1.0e-6:\n",
      "\u001b[31m\u001b[1maborting\u001b[22m\u001b[39m with smp candidate PSW(1.637656938495055, [1, 1, 1, 1, 1, 1, 1, 1, 1, 1, 2]) of length 11 after prefixing the suffix with 10 times the current s.m.p. Increase the value of the `max_cycles` keyword argument to go further.\n",
      "Depth 2: [2] points, 1 living leaves...\n",
      "\u001b[34m\u001b[1mNew candidate s.m.p. found\u001b[22m\u001b[39m because ⟨v_1*, v⟩ - 1 = 2.8616122154926736e16 - 1.117923054183351e16im > 1.0e-6:\n",
      "\u001b[31m\u001b[1maborting\u001b[22m\u001b[39m with smp candidate PSW(1.6363506091712026, [1, 1, 1, 1, 1, 1, 1, 1, 1, 1, 2, 1]) of length 12 after prefixing the suffix with 10 times the current s.m.p. Increase the value of the `max_cycles` keyword argument to go further.\n",
      "\u001b[34m\u001b[1mNew candidate s.m.p. found\u001b[22m\u001b[39m because ⟨v_1*, v⟩ - 1 = 2.1772960736767104e16 - 4.112966934493226e16im > 1.0e-6:\n",
      "PSW(1.681792830507429, [1, 1, 2, 2])\n",
      "Depth 1: [4] points, 4 living leaves...\n",
      "\u001b[34m\u001b[1mNew candidate s.m.p. found\u001b[22m\u001b[39m because ⟨v_1*, v⟩ - 1 = -2.000015073979561 > 1.0e-6:\n",
      "\u001b[31m\u001b[1maborting\u001b[22m\u001b[39m with smp candidate PSW(1.6802978975269656, [1, 1, 2, 2, 1, 1, 2, 2, 1, 1, 2, 2, 1, 1, 2, 2, 1, 1, 2, 2, 1, 1, 2, 2, 1, 1, 2, 2, 1, 1, 2, 2, 1, 1, 2, 2, 1, 1, 2, 2, 2]) of length 41 after prefixing the suffix with 10 times the current s.m.p. Increase the value of the `max_cycles` keyword argument to go further.\n",
      "Depth 2: [8] points, 4 living leaves...\n",
      "Depth 3: [13] points, 5 living leaves...\n",
      "Depth 4: [18] points, 5 living leaves...\n",
      "Depth 5: [23] points, 5 living leaves...\n",
      "Depth 6: [29] points, 6 living leaves...\n",
      "Depth 7: [37] points, 8 living leaves...\n",
      "Depth 8: [46] points, 9 living leaves...\n",
      "Depth 9: [55] points, 9 living leaves...\n",
      "Depth 10: [63] points, 8 living leaves...\n",
      "Depth 11: [70] points, 7 living leaves...\n",
      "Depth 12: [79] points, 9 living leaves...\n",
      "Depth 13: [88] points, 9 living leaves...\n",
      "Depth 14: [99] points, 11 living leaves...\n",
      "Depth 15: [112] points, 13 living leaves...\n",
      "Depth 16: [118] points, 6 living leaves...\n",
      "Depth 17: [125] points, 7 living leaves...\n",
      "Depth 18: [133] points, 8 living leaves...\n",
      "Depth 19: [143] points, 10 living leaves...\n",
      "Depth 20: [152] points, 9 living leaves...\n",
      "Depth 21: [163] points, 11 living leaves...\n",
      "\u001b[34m\u001b[1mNew candidate s.m.p. found\u001b[22m\u001b[39m because ⟨v_3*, v⟩ - 1 = 0.01601953261652289 > 1.0e-6:\n",
      "PSW(1.6821826549700005, [2, 2, 1, 1, 1, 2, 1, 1, 1, 2, 2, 1, 1, 2, 2, 1, 1, 2, 2, 1, 1, 2, 2, 1, 1])\n",
      "Depth 1: [25] points, 25 living leaves...\n",
      "\u001b[34m\u001b[1mNew candidate s.m.p. found\u001b[22m\u001b[39m because ⟨v_11*, v⟩ - 1 = -2.0089842197849195 > 1.0e-6:\n",
      "\u001b[31m\u001b[1maborting\u001b[22m\u001b[39m with smp candidate PSW(1.6232765668088314, [2, 1, 1, 2, 2, 1, 1, 2, 2, 1, 1, 2, 2, 1, 1, 2, 2, 1, 1, 1, 2, 1, 1, 1, 2, 1]) of length 26 after prefixing the suffix with 1 times the current s.m.p. Increase the value of the `max_smp_length` keyword argument to go further.\n",
      "Depth 2: [33] points, 8 living leaves...\n",
      "Depth 3: [41] points, 8 living leaves...\n",
      "Depth 4: [51] points, 10 living leaves...\n",
      "\u001b[34m\u001b[1mNew candidate s.m.p. found\u001b[22m\u001b[39m because ⟨v_5*, v⟩ - 1 = 0.035322824432211686 > 1.0e-6:\n",
      "PSW(1.6833545693183518, [1, 2, 1, 1, 1, 2, 2, 1, 1, 2, 2, 1, 1, 2, 2, 1, 1, 2, 2, 1, 1, 2, 2, 1, 1, 2, 2, 1, 1])\n",
      "Depth 1: [29] points, 29 living leaves...\n",
      "Depth 2: [48] points, 19 living leaves...\n",
      "Depth 3: [64] points, 16 living leaves...\n",
      "Depth 4: [78] points, 14 living leaves...\n",
      "\u001b[34m\u001b[1mNew candidate s.m.p. found\u001b[22m\u001b[39m because ⟨v_1*, v⟩ - 1 = -2.0111409253033043 > 1.0e-6:\n",
      "PSW(1.6838938954053915, [1, 2, 1, 1, 1, 2, 2, 1, 1, 2, 2, 1, 1, 2, 2, 1, 1, 2, 2, 1, 1, 2, 2, 1, 1, 2, 2, 1, 1, 2, 2, 1, 1])\n",
      "Depth 1: [33] points, 33 living leaves...\n",
      "Depth 2: [55] points, 22 living leaves...\n",
      "Depth 3: [76] points, 21 living leaves...\n",
      "Depth 4: [99] points, 23 living leaves...\n",
      "\u001b[34m\u001b[1mNew candidate s.m.p. found\u001b[22m\u001b[39m because ⟨v_1*, v⟩ - 1 = -2.0052375894648655 > 1.0e-6:\n",
      "PSW(1.6841203966117424, [1, 2, 1, 1, 1, 2, 2, 1, 1, 2, 2, 1, 1, 2, 2, 1, 1, 2, 2, 1, 1, 2, 2, 1, 1, 2, 2, 1, 1, 2, 2, 1, 1, 2, 2, 1, 1])\n",
      "Depth 1: [37] points, 37 living leaves...\n",
      "Depth 2: [61] points, 24 living leaves...\n",
      "Depth 3: [86] points, 25 living leaves...\n",
      "Depth 4: [116] points, 30 living leaves...\n",
      "\u001b[34m\u001b[1mNew candidate s.m.p. found\u001b[22m\u001b[39m because ⟨v_1*, v⟩ - 1 = -2.0017065188166017 > 1.0e-6:\n",
      "PSW(1.6841852824915513, [1, 2, 1, 1, 1, 2, 2, 1, 1, 2, 2, 1, 1, 2, 2, 1, 1, 2, 2, 1, 1, 2, 2, 1, 1, 2, 2, 1, 1, 2, 2, 1, 1, 2, 2, 1, 1, 2, 2, 1, 1])\n",
      "Depth 1: [41] points, 41 living leaves...\n",
      "Depth 2: [68] points, 27 living leaves...\n",
      "Depth 3: [96] points, 28 living leaves...\n",
      "Depth 4: [132] points, 36 living leaves...\n",
      "Depth 5: [170] points, 38 living leaves...\n",
      "Depth 6: [207] points, 37 living leaves...\n",
      "Depth 7: [244] points, 37 living leaves...\n",
      "Depth 8: [281] points, 37 living leaves...\n",
      "Depth 9: [314] points, 33 living leaves...\n",
      "Depth 10: [347] points, 33 living leaves...\n",
      "Depth 11: [365] points, 18 living leaves...\n",
      "Depth 12: [373] points, 8 living leaves...\n",
      "Depth 13: [381] points, 8 living leaves...\n",
      "Depth 14: [389] points, 8 living leaves...\n",
      "Depth 15: [397] points, 8 living leaves...\n",
      "0 living leaves, PSW(1.6841852824915513, [1, 2, 1, 1, 1, 2, 2, 1, 1, 2, 2, 1, 1, 2, 2, 1, 1, 2, 2, 1, 1, 2, 2, 1, 1, 2, 2, 1, 1, 2, 2, 1, 1, 2, 2, 1, 1, 2, 2, 1, 1]) is a \u001b[0m\u001b[1mspectral maximizing product\u001b[22m (s.m.p.)\n",
      "Use the `tol` keyword argument to change the threshold to evaluate dead and living leaves.\n",
      "Use `new_candidate_tol` < -0.0003583593909899374 to consider at least one more candidate as s.m.p.\n",
      "Use `new_candidate_tol` > 1.5073979561019968e-5 to eliminate at least one s.m.p. candidate.\n",
      "  6.211879 seconds (25.81 M allocations: 3.882 GiB, 16.37% gc time)\n"
     ]
    }
   ],
   "source": [
    "using JuMP, MosekTools, SwitchOnSafety\n",
    "@time smp, done, polys = invariant_polytopes(s, optimizer_with_attributes(Mosek.Optimizer, MOI.Silent() => true),\n",
    "    periodicswitching(s, [2]), max_length=50);"
   ]
  },
  {
   "cell_type": "code",
   "execution_count": 15,
   "metadata": {},
   "outputs": [
    {
     "name": "stdout",
     "output_type": "stream",
     "text": [
      "Depth 1: [1] points, 1 living leaves...\n",
      "\u001b[34m\u001b[1mNew candidate s.m.p. found\u001b[22m\u001b[39m because ⟨v_1*, v⟩ - 1 = -1.4373761501713728e16 + 2.7152396265983616e16im > 1.0e-6:\n",
      "\u001b[31m\u001b[1maborting\u001b[22m\u001b[39m with smp candidate PSW(1.6376569384950546, [1, 1, 1, 1, 1, 1, 1, 1, 1, 1, 2]) of length 11 after prefixing the suffix with 10 times the current s.m.p. Increase the value of the `max_cycles` keyword argument to go further.\n",
      "Depth 2: [2] points, 1 living leaves...\n",
      "\u001b[34m\u001b[1mNew candidate s.m.p. found\u001b[22m\u001b[39m because ⟨v_1*, v⟩ - 1 = 2.8616122154926736e16 - 1.117923054183351e16im > 1.0e-6:\n",
      "\u001b[31m\u001b[1maborting\u001b[22m\u001b[39m with smp candidate PSW(1.6363506091712023, [1, 1, 1, 1, 1, 1, 1, 1, 1, 1, 2, 1]) of length 12 after prefixing the suffix with 10 times the current s.m.p. Increase the value of the `max_cycles` keyword argument to go further.\n",
      "\u001b[34m\u001b[1mNew candidate s.m.p. found\u001b[22m\u001b[39m because ⟨v_1*, v⟩ - 1 = 2.1772960736767104e16 - 4.112966934493226e16im > 1.0e-6:\n",
      "PSW(1.681792830507429, [1, 1, 2, 2])\n",
      "Depth 1: [4] points, 4 living leaves...\n",
      "\u001b[34m\u001b[1mNew candidate s.m.p. found\u001b[22m\u001b[39m because ⟨v_1*, v⟩ - 1 = -2.000015073979561 > 1.0e-6:\n",
      "\u001b[31m\u001b[1maborting\u001b[22m\u001b[39m with smp candidate PSW(1.6802978975269656, [1, 1, 2, 2, 1, 1, 2, 2, 1, 1, 2, 2, 1, 1, 2, 2, 1, 1, 2, 2, 1, 1, 2, 2, 1, 1, 2, 2, 1, 1, 2, 2, 1, 1, 2, 2, 1, 1, 2, 2, 2]) of length 41 after prefixing the suffix with 10 times the current s.m.p. Increase the value of the `max_cycles` keyword argument to go further.\n",
      "Depth 2: [8] points, 4 living leaves...\n",
      "Depth 3: [13] points, 5 living leaves...\n",
      "Depth 4: [19] points, 6 living leaves...\n",
      "Depth 5: [26] points, 7 living leaves...\n",
      "Depth 6: [35] points, 9 living leaves...\n",
      "Depth 7: [48] points, 13 living leaves...\n",
      "Depth 8: [61] points, 13 living leaves...\n",
      "Depth 9: [77] points, 16 living leaves...\n",
      "Depth 10: [91] points, 14 living leaves...\n",
      "Depth 11: [105] points, 14 living leaves...\n",
      "Depth 12: [123] points, 18 living leaves...\n",
      "Depth 13: [141] points, 18 living leaves...\n",
      "Depth 14: [162] points, 21 living leaves...\n",
      "Depth 15: [186] points, 24 living leaves...\n",
      "Depth 16: [196] points, 10 living leaves...\n",
      "Depth 17: [208] points, 12 living leaves...\n",
      "Depth 18: [222] points, 14 living leaves...\n",
      "Depth 19: [239] points, 17 living leaves...\n",
      "Depth 20: [253] points, 14 living leaves...\n",
      "Depth 21: [270] points, 17 living leaves...\n",
      "\u001b[34m\u001b[1mNew candidate s.m.p. found\u001b[22m\u001b[39m because ⟨v_3*, v⟩ - 1 = 0.01601953261652289 > 1.0e-6:\n",
      "PSW(1.6821826549700005, [2, 2, 1, 1, 1, 2, 1, 1, 1, 2, 2, 1, 1, 2, 2, 1, 1, 2, 2, 1, 1, 2, 2, 1, 1])\n",
      "Depth 1: [25] points, 25 living leaves...\n",
      "\u001b[34m\u001b[1mNew candidate s.m.p. found\u001b[22m\u001b[39m because ⟨v_11*, v⟩ - 1 = -2.0089842197849195 > 1.0e-6:\n",
      "\u001b[31m\u001b[1maborting\u001b[22m\u001b[39m with smp candidate PSW(1.6232765668088314, [2, 1, 1, 2, 2, 1, 1, 2, 2, 1, 1, 2, 2, 1, 1, 2, 2, 1, 1, 1, 2, 1, 1, 1, 2, 1]) of length 26 after prefixing the suffix with 1 times the current s.m.p. Increase the value of the `max_smp_length` keyword argument to go further.\n",
      "Depth 2: [33] points, 8 living leaves...\n",
      "Depth 3: [41] points, 8 living leaves...\n",
      "Depth 4: [51] points, 10 living leaves...\n",
      "\u001b[34m\u001b[1mNew candidate s.m.p. found\u001b[22m\u001b[39m because ⟨v_5*, v⟩ - 1 = 0.035322824432211686 > 1.0e-6:\n",
      "PSW(1.6833545693183518, [1, 2, 1, 1, 1, 2, 2, 1, 1, 2, 2, 1, 1, 2, 2, 1, 1, 2, 2, 1, 1, 2, 2, 1, 1, 2, 2, 1, 1])\n",
      "Depth 1: [29] points, 29 living leaves...\n",
      "Depth 2: [48] points, 19 living leaves...\n",
      "Depth 3: [64] points, 16 living leaves...\n",
      "Depth 4: [78] points, 14 living leaves...\n",
      "\u001b[34m\u001b[1mNew candidate s.m.p. found\u001b[22m\u001b[39m because ⟨v_1*, v⟩ - 1 = -2.0111409253033043 > 1.0e-6:\n",
      "PSW(1.6838938954053915, [1, 2, 1, 1, 1, 2, 2, 1, 1, 2, 2, 1, 1, 2, 2, 1, 1, 2, 2, 1, 1, 2, 2, 1, 1, 2, 2, 1, 1, 2, 2, 1, 1])\n",
      "Depth 1: [33] points, 33 living leaves...\n",
      "Depth 2: [55] points, 22 living leaves...\n",
      "Depth 3: [76] points, 21 living leaves...\n",
      "Depth 4: [99] points, 23 living leaves...\n",
      "\u001b[34m\u001b[1mNew candidate s.m.p. found\u001b[22m\u001b[39m because ⟨v_1*, v⟩ - 1 = -2.0052375894648655 > 1.0e-6:\n",
      "PSW(1.6841203966117424, [1, 2, 1, 1, 1, 2, 2, 1, 1, 2, 2, 1, 1, 2, 2, 1, 1, 2, 2, 1, 1, 2, 2, 1, 1, 2, 2, 1, 1, 2, 2, 1, 1, 2, 2, 1, 1])\n",
      "Depth 1: [37] points, 37 living leaves...\n",
      "Depth 2: [61] points, 24 living leaves...\n",
      "Depth 3: [86] points, 25 living leaves...\n",
      "Depth 4: [116] points, 30 living leaves...\n",
      "\u001b[34m\u001b[1mNew candidate s.m.p. found\u001b[22m\u001b[39m because ⟨v_1*, v⟩ - 1 = -2.0017065188166017 > 1.0e-6:\n",
      "PSW(1.6841852824915513, [1, 2, 1, 1, 1, 2, 2, 1, 1, 2, 2, 1, 1, 2, 2, 1, 1, 2, 2, 1, 1, 2, 2, 1, 1, 2, 2, 1, 1, 2, 2, 1, 1, 2, 2, 1, 1, 2, 2, 1, 1])\n",
      "Depth 1: [41] points, 41 living leaves...\n",
      "Depth 2: [68] points, 27 living leaves...\n",
      "Depth 3: [96] points, 28 living leaves...\n",
      "Depth 4: [132] points, 36 living leaves...\n",
      "Depth 5: [170] points, 38 living leaves...\n",
      "Depth 6: [207] points, 37 living leaves...\n",
      "Depth 7: [244] points, 37 living leaves...\n",
      "Depth 8: [281] points, 37 living leaves...\n",
      "Depth 9: [315] points, 34 living leaves...\n",
      "Depth 10: [349] points, 34 living leaves...\n",
      "Depth 11: [368] points, 19 living leaves...\n",
      "Depth 12: [376] points, 8 living leaves...\n",
      "Depth 13: [384] points, 8 living leaves...\n",
      "Depth 14: [392] points, 8 living leaves...\n",
      "Depth 15: [400] points, 8 living leaves...\n",
      "0 living leaves, PSW(1.6841852824915513, [1, 2, 1, 1, 1, 2, 2, 1, 1, 2, 2, 1, 1, 2, 2, 1, 1, 2, 2, 1, 1, 2, 2, 1, 1, 2, 2, 1, 1, 2, 2, 1, 1, 2, 2, 1, 1, 2, 2, 1, 1]) is a \u001b[0m\u001b[1mspectral maximizing product\u001b[22m (s.m.p.)\n",
      "Use `tol` < 1.3322676295501878e-15 to eliminate at least one more living leaf.\n",
      "Use `tol` > 3.8879703730065884e-5 to keep at least one more dead leaf.\n",
      "Use `new_candidate_tol` < -0.0003583593909899374 to consider at least one more candidate as s.m.p.\n",
      "Use `new_candidate_tol` > 1.5073979561019968e-5 to eliminate at least one s.m.p. candidate.\n",
      " 11.083178 seconds (67.54 M allocations: 10.679 GiB, 12.64% gc time)\n"
     ]
    }
   ],
   "source": [
    "using JuMP, MosekTools, SwitchOnSafety\n",
    "@time smp, done, polys = invariant_polytopes(s, optimizer_with_attributes(Mosek.Optimizer, MOI.Silent() => true),\n",
    "    psw1, max_length=50, tol=1e-6);"
   ]
  },
  {
   "cell_type": "markdown",
   "metadata": {},
   "source": [
    "## Sum-of-Squares approach\n",
    "\n",
    "We first choose an SDP solver."
   ]
  },
  {
   "cell_type": "code",
   "execution_count": 5,
   "metadata": {},
   "outputs": [],
   "source": [
    "using MosekTools\n",
    "using JuMP\n",
    "factory = optimizer_with_attributes(Mosek.Optimizer, MOI.Silent() => true);"
   ]
  },
  {
   "cell_type": "code",
   "execution_count": 6,
   "metadata": {},
   "outputs": [
    {
     "data": {
      "text/plain": [
       "sos (generic function with 1 method)"
      ]
     },
     "execution_count": 6,
     "metadata": {},
     "output_type": "execute_result"
    }
   ],
   "source": [
    "using SwitchOnSafety\n",
    "sos_lb = zeros(15)\n",
    "sos_ub = zeros(15)\n",
    "function sos(d, tol; kws...)\n",
    "    # Prevents the binary search to use a lower bound found by a cycle\n",
    "    # to have to full timing of the binary search\n",
    "    sosdata(s).lb = 0.0\n",
    "    # Force recomputing it to have correct timing even when the function called twice with the same d\n",
    "    if length(sosdata(s).lyaps) >= d\n",
    "        sosdata(s).lyaps[d] = nothing\n",
    "    end\n",
    "    println(\"   Degree d: \", d)\n",
    "    @time sos_lb[d], sos_ub[d] = soslyapb(s, d; factory=factory, tol=tol, verbose=1, kws...)\n",
    "end"
   ]
  },
  {
   "cell_type": "code",
   "execution_count": 7,
   "metadata": {},
   "outputs": [
    {
     "name": "stdout",
     "output_type": "stream",
     "text": [
      "   Degree d: 1\n",
      "Lower bound: 1.711219544833849\n",
      "Upper bound: 1.711234628782572\n",
      "Log-diff   : 8.814697265657756e-6 ≤ 1.0e-5\n",
      " 26.463131 seconds (64.16 M allocations: 3.149 GiB, 7.78% gc time)\n"
     ]
    },
    {
     "data": {
      "text/plain": [
       "(1.2100149442509718, 1.711234628782572)"
      ]
     },
     "execution_count": 7,
     "metadata": {},
     "output_type": "execute_result"
    }
   ],
   "source": [
    "sos(1, 1e-5)"
   ]
  },
  {
   "cell_type": "code",
   "execution_count": 8,
   "metadata": {},
   "outputs": [
    {
     "name": "stdout",
     "output_type": "stream",
     "text": [
      "  3.580698 seconds (9.51 M allocations: 486.058 MiB, 9.33% gc time)\n",
      "  0.600240 seconds (1.31 M allocations: 72.217 MiB, 8.33% gc time)\n"
     ]
    },
    {
     "data": {
      "text/plain": [
       "PSW(1.6841852824915513, [1, 1, 2, 2, 1, 1, 2, 2, 1, 1, 2, 2, 1, 1, 2, 2, 1, 1, 2, 2, 1, 1, 1, 2, 1, 1, 1, 2, 2, 1, 1, 2, 2, 1, 1, 2, 2, 1, 1, 2, 2])"
      ]
     },
     "execution_count": 8,
     "metadata": {},
     "output_type": "execute_result"
    }
   ],
   "source": [
    "@time seq = sosbuildsequence(s, 1, niter=82, l=9, p_0=:Primal)\n",
    "@time psw = findsmp(seq)"
   ]
  },
  {
   "cell_type": "code",
   "execution_count": 9,
   "metadata": {},
   "outputs": [
    {
     "name": "stdout",
     "output_type": "stream",
     "text": [
      "   Degree d: 2\n",
      "Lower bound: 1.691108826615967\n",
      "Upper bound: 1.6911217288016185\n",
      "Log-diff   : 7.62939453125e-6 ≤ 1.0e-5\n",
      "  2.520624 seconds (4.60 M allocations: 240.622 MiB, 5.95% gc time)\n"
     ]
    },
    {
     "data": {
      "text/plain": [
       "(1.4220473501052822, 1.6911217288016185)"
      ]
     },
     "execution_count": 9,
     "metadata": {},
     "output_type": "execute_result"
    }
   ],
   "source": [
    "sos(2, 1e-5)"
   ]
  },
  {
   "cell_type": "code",
   "execution_count": 11,
   "metadata": {},
   "outputs": [
    {
     "name": "stdout",
     "output_type": "stream",
     "text": [
      "  0.178294 seconds (1.24 M allocations: 111.219 MiB, 27.95% gc time)\n",
      "  0.554952 seconds (3.69 M allocations: 538.222 MiB, 22.75% gc time)\n"
     ]
    },
    {
     "data": {
      "text/plain": [
       "PSW(1.6839819618874383, [1, 1, 2, 2, 1, 1, 2, 2, 1, 1, 2, 2, 1, 1, 2, 2, 1, 1, 2, 2, 1, 1, 2, 2, 1, 1, 2, 2, 1, 1, 2, 2, 1, 1, 2, 2, 1, 1, 2, 2, 1, 1, 2, 2, 1])"
      ]
     },
     "execution_count": 11,
     "metadata": {},
     "output_type": "execute_result"
    }
   ],
   "source": [
    "@time seq = sosbuildsequence(s, 2, niter=410, l=8, p_0=:Primal)\n",
    "@time psw = findsmp(seq)"
   ]
  },
  {
   "cell_type": "code",
   "execution_count": 12,
   "metadata": {},
   "outputs": [
    {
     "name": "stdout",
     "output_type": "stream",
     "text": [
      "   Degree d: 3\n",
      "Lower bound: 1.688259856957551\n",
      "Upper bound: 1.688272737407206\n",
      "Log-diff   : 7.62939453125e-6 ≤ 1.0e-5\n",
      "  0.937777 seconds (2.20 M allocations: 164.477 MiB, 7.47% gc time)\n"
     ]
    },
    {
     "data": {
      "text/plain": [
       "(1.5040685424512747, 1.688272737407206)"
      ]
     },
     "execution_count": 12,
     "metadata": {},
     "output_type": "execute_result"
    }
   ],
   "source": [
    "sos(3, 1e-5)"
   ]
  },
  {
   "cell_type": "code",
   "execution_count": 13,
   "metadata": {},
   "outputs": [
    {
     "name": "stdout",
     "output_type": "stream",
     "text": [
      "  0.433787 seconds (548.24 k allocations: 47.430 MiB, 4.20% gc time)\n",
      "  0.604475 seconds (3.18 M allocations: 547.698 MiB, 21.84% gc time)\n"
     ]
    },
    {
     "data": {
      "text/plain": [
       "PSW(1.6839819618874383, [1, 1, 2, 2, 1, 1, 2, 2, 1, 1, 2, 2, 1, 1, 2, 2, 1, 1, 2, 2, 1, 1, 2, 2, 1, 1, 2, 2, 1, 1, 2, 2, 1, 1, 2, 2, 1, 1, 2, 2, 1, 1, 2, 2, 1])"
      ]
     },
     "execution_count": 13,
     "metadata": {},
     "output_type": "execute_result"
    }
   ],
   "source": [
    "@time seq = sosbuildsequence(s, 3, niter=410, l=3, p_0=:Random)\n",
    "@time psw = findsmp(seq)"
   ]
  },
  {
   "cell_type": "code",
   "execution_count": 14,
   "metadata": {},
   "outputs": [
    {
     "name": "stdout",
     "output_type": "stream",
     "text": [
      "   Degree d: 4\n",
      "Lower bound: 1.6870495333602489\n",
      "Upper bound: 1.6870946921948275\n",
      "Log-diff   : 2.6767578125030944e-5 ≤ 3.0e-5\n",
      "  1.895269 seconds (5.74 M allocations: 427.263 MiB, 7.80% gc time)\n"
     ]
    },
    {
     "data": {
      "text/plain": [
       "(1.547031243177902, 1.6870946921948275)"
      ]
     },
     "execution_count": 14,
     "metadata": {},
     "output_type": "execute_result"
    }
   ],
   "source": [
    "sos(4, 3e-5)"
   ]
  },
  {
   "cell_type": "code",
   "execution_count": 24,
   "metadata": {},
   "outputs": [
    {
     "name": "stdout",
     "output_type": "stream",
     "text": [
      "  0.039630 seconds (205.09 k allocations: 21.961 MiB, 13.09% gc time)\n",
      "  0.026195 seconds (152.57 k allocations: 18.190 MiB, 24.05% gc time)\n"
     ]
    },
    {
     "data": {
      "text/plain": [
       "PSW(1.6841203966117424, [1, 1, 2, 2, 1, 1, 2, 2, 1, 1, 2, 2, 1, 1, 2, 2, 1, 1, 2, 2, 1, 1, 2, 2, 1, 1, 2, 2, 1, 1, 2, 2, 1, 1, 1, 2, 1])"
      ]
     },
     "execution_count": 24,
     "metadata": {},
     "output_type": "execute_result"
    }
   ],
   "source": [
    "@time seq = sosbuildsequence(s, 4, niter=100, l=2, p_0=:Primal)\n",
    "@time psw = findsmp(seq)"
   ]
  },
  {
   "cell_type": "code",
   "execution_count": 25,
   "metadata": {},
   "outputs": [
    {
     "name": "stdout",
     "output_type": "stream",
     "text": [
      "   Degree d: 5\n",
      "Lower bound: 1.6858899639916627\n",
      "Upper bound: 1.6859357637326617\n",
      "Log-diff   : 2.716613769526699e-5 ≤ 4.0e-5\n",
      "  3.981634 seconds (19.32 M allocations: 1.395 GiB, 8.31% gc time)\n"
     ]
    },
    {
     "data": {
      "text/plain": [
       "(1.5729909565050215, 1.6859357637326617)"
      ]
     },
     "execution_count": 25,
     "metadata": {},
     "output_type": "execute_result"
    }
   ],
   "source": [
    "sos(5, 4e-5)"
   ]
  },
  {
   "cell_type": "code",
   "execution_count": 27,
   "metadata": {},
   "outputs": [
    {
     "name": "stdout",
     "output_type": "stream",
     "text": [
      "  0.463916 seconds (2.99 M allocations: 316.777 MiB, 13.53% gc time)\n",
      "  0.446900 seconds (2.90 M allocations: 537.316 MiB, 19.93% gc time)\n"
     ]
    },
    {
     "data": {
      "text/plain": [
       "PSW(1.6839819618874383, [1, 2, 2, 1, 1, 2, 2, 1, 1, 2, 2, 1, 1, 2, 2, 1, 1, 2, 2, 1, 1, 2, 2, 1, 1, 2, 2, 1, 1, 2, 2, 1, 1, 2, 2, 1, 1, 2, 2, 1, 1, 2, 2, 1, 1])"
      ]
     },
     "execution_count": 27,
     "metadata": {},
     "output_type": "execute_result"
    }
   ],
   "source": [
    "@time seq = sosbuildsequence(s, 5, niter=410, l=1, p_0=:Primal)\n",
    "@time psw = findsmp(seq)"
   ]
  },
  {
   "cell_type": "code",
   "execution_count": 28,
   "metadata": {},
   "outputs": [
    {
     "name": "stdout",
     "output_type": "stream",
     "text": [
      "   Degree d: 6\n",
      "Lower bound: 1.6850942500135768\n",
      "Upper bound: 1.6851456757936907\n",
      "Log-diff   : 3.0517578125e-5 ≤ 4.0e-5\n",
      "  7.596869 seconds (45.31 M allocations: 2.863 GiB, 11.07% gc time)\n"
     ]
    },
    {
     "data": {
      "text/plain": [
       "(1.5905171770354385, 1.6851456757936907)"
      ]
     },
     "execution_count": 28,
     "metadata": {},
     "output_type": "execute_result"
    }
   ],
   "source": [
    "sos(6, 4e-5)"
   ]
  },
  {
   "cell_type": "code",
   "execution_count": null,
   "metadata": {},
   "outputs": [],
   "source": [
    "@time seq = sosbuildsequence(s, 6, niter=410, l=1, p_0=:Primal)\n",
    "@time psw = findsmp(seq)"
   ]
  },
  {
   "cell_type": "code",
   "execution_count": 16,
   "metadata": {},
   "outputs": [
    {
     "name": "stdout",
     "output_type": "stream",
     "text": [
      "   Degree d: 7\n",
      "Lower bound: 1.684862853423281\n",
      "Upper bound: 1.6848972050666495\n",
      "Log-diff   : 2.0388183593844644e-5 ≤ 4.0e-5\n",
      " 30.532034 seconds (162.07 M allocations: 10.669 GiB, 14.59% gc time)\n"
     ]
    },
    {
     "data": {
      "text/plain": [
       "(1.6034758110905785, 1.6848972050666495)"
      ]
     },
     "execution_count": 16,
     "metadata": {},
     "output_type": "execute_result"
    }
   ],
   "source": [
    "sos(7, 4e-5)"
   ]
  },
  {
   "cell_type": "code",
   "execution_count": 17,
   "metadata": {},
   "outputs": [
    {
     "name": "stdout",
     "output_type": "stream",
     "text": [
      "   Degree d: 8\n",
      "Lower bound: 1.6847263258305365\n",
      "Upper bound: 1.68478572828791\n",
      "Log-diff   : 3.525878906240898e-5 ≤ 4.0e-5\n",
      " 85.733647 seconds (610.79 M allocations: 33.303 GiB, 16.12% gc time)\n"
     ]
    },
    {
     "data": {
      "text/plain": [
       "(1.613299456694576, 1.68478572828791)"
      ]
     },
     "execution_count": 17,
     "metadata": {},
     "output_type": "execute_result"
    }
   ],
   "source": [
    "sos(8, 4e-5)"
   ]
  },
  {
   "cell_type": "code",
   "execution_count": 18,
   "metadata": {},
   "outputs": [
    {
     "name": "stdout",
     "output_type": "stream",
     "text": [
      "   Degree d: 9\n",
      "Lower bound: 1.684528669999965\n",
      "Upper bound: 1.6845800785196834\n",
      "Log-diff   : 3.0517578125e-5 ≤ 4.0e-5\n",
      "157.826649 seconds (952.68 M allocations: 47.676 GiB, 17.86% gc time)\n"
     ]
    },
    {
     "data": {
      "text/plain": [
       "(1.6208936402055576, 1.6845800785196834)"
      ]
     },
     "execution_count": 18,
     "metadata": {},
     "output_type": "execute_result"
    }
   ],
   "source": [
    "sos(9, 4e-5)"
   ]
  },
  {
   "cell_type": "markdown",
   "metadata": {
    "collapsed": true
   },
   "source": [
    "#### Debruijn lift aka $M$-dependent lift"
   ]
  },
  {
   "cell_type": "code",
   "execution_count": null,
   "metadata": {},
   "outputs": [],
   "source": [
    "function msos(d, m, tol=1e-4)\n",
    "    s2 = mdependentlift(s, m)\n",
    "    @time lb, ub = soslyapb(s2, d; factory=interior_point_solver, tol=1e-4, verbose=1)\n",
    "    ub - smp.growthrate\n",
    "end"
   ]
  },
  {
   "cell_type": "code",
   "execution_count": null,
   "metadata": {},
   "outputs": [],
   "source": [
    "msos(1, 2)"
   ]
  },
  {
   "cell_type": "code",
   "execution_count": null,
   "metadata": {},
   "outputs": [],
   "source": [
    "msos(2, 2)"
   ]
  },
  {
   "cell_type": "code",
   "execution_count": null,
   "metadata": {},
   "outputs": [],
   "source": [
    "msos(3, 2)"
   ]
  },
  {
   "cell_type": "code",
   "execution_count": null,
   "metadata": {},
   "outputs": [],
   "source": [
    "msos(4, 2)"
   ]
  },
  {
   "cell_type": "code",
   "execution_count": null,
   "metadata": {},
   "outputs": [],
   "source": [
    "s2 = mdependentlift(s, 2)\n",
    "@time lb, ub = soslyapb(s2, 6; factory=interior_point_solver, tol=1e-4, verbose=1)\n",
    "ub - smp.growthrate"
   ]
  },
  {
   "cell_type": "code",
   "execution_count": null,
   "metadata": {},
   "outputs": [],
   "source": [
    "msos(3, 3, 1e-6)"
   ]
  },
  {
   "cell_type": "code",
   "execution_count": null,
   "metadata": {},
   "outputs": [],
   "source": [
    "msos(4, 3)"
   ]
  },
  {
   "cell_type": "code",
   "execution_count": null,
   "metadata": {},
   "outputs": [],
   "source": [
    "msos(1, 4)"
   ]
  },
  {
   "cell_type": "code",
   "execution_count": null,
   "metadata": {},
   "outputs": [],
   "source": [
    "msos(2, 4)"
   ]
  }
 ],
 "metadata": {
  "@webio": {
   "lastCommId": null,
   "lastKernelId": null
  },
  "kernelspec": {
   "display_name": "Julia 1.1.0",
   "language": "julia",
   "name": "julia-1.1"
  },
  "language_info": {
   "file_extension": ".jl",
   "mimetype": "application/julia",
   "name": "julia",
   "version": "1.1.1"
  }
 },
 "nbformat": 4,
 "nbformat_minor": 2
}
